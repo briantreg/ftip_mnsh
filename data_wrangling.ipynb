{
 "cells": [
  {
   "cell_type": "code",
   "execution_count": null,
   "metadata": {},
   "outputs": [],
   "source": [
    "import pandas as pd\n",
    "import numpy as np\n"
   ]
  },
  {
   "cell_type": "code",
   "execution_count": null,
   "metadata": {},
   "outputs": [],
   "source": [
    "def running_mean(x, N):\n",
    "    cumsum = np.cumsum(np.insert(x, 0, 0)) \n",
    "    return (cumsum[N:] - cumsum[:-N]) / float(N)\n",
    "def newMeanCol(df, col_nm, N):\n",
    "    new_col = col_nm + '_mean' + str(N)\n",
    "    x = df.loc[0:,col_nm]\n",
    "    mean_vals = list(np.insert(\n",
    "        running_mean(\n",
    "            np.array(x), N), 0, [0] * N))\n",
    "    df[new_col] = mean_vals[0:len(x)]\n",
    "    return df"
   ]
  },
  {
   "cell_type": "code",
   "execution_count": null,
   "metadata": {},
   "outputs": [],
   "source": [
    "def colLookup(data, string):\n",
    "    return data[[col for col in data.columns if string  in col]]"
   ]
  },
  {
   "cell_type": "code",
   "execution_count": null,
   "metadata": {},
   "outputs": [],
   "source": [
    "afl_DF_main = pd.read_pickle('afl_DF.pkl')"
   ]
  },
  {
   "cell_type": "code",
   "execution_count": null,
   "metadata": {},
   "outputs": [],
   "source": [
    "afl_DF = afl_DF_main[afl_DF_main['final'] == 0]"
   ]
  },
  {
   "cell_type": "code",
   "execution_count": null,
   "metadata": {},
   "outputs": [],
   "source": [
    "round_index = afl_DF.loc[0:][['year','season_round']]\n",
    "round_index = round_index.drop_duplicates(subset = ['year', 'season_round'])\n",
    "round_index = round_index.sort_values(by = ['year', 'season_round'],\n",
    "                       ascending = [True, True]).reset_index(drop=True)\n",
    "round_index['round_index'] = pd.DataFrame(list(round_index.index))\n",
    "round_index\n",
    "afl_DF = pd.merge(afl_DF,\n",
    "        round_index,\n",
    "        left_on = ['year','season_round'],\n",
    "        right_on = ['year','season_round'],\n",
    "        how = 'left')"
   ]
  },
  {
   "cell_type": "code",
   "execution_count": null,
   "metadata": {},
   "outputs": [],
   "source": [
    "game_index = afl_DF.loc[0:][['fw_game_id','date']]\n",
    "game_index = game_index.drop_duplicates(subset = ['fw_game_id','date'])\n",
    "game_index = game_index.sort_values(by = ['date', 'fw_game_id'],\n",
    "                       ascending = [True, True]\n",
    "                                   ).reset_index(drop=True)\n",
    "game_index['game_index'] = pd.DataFrame(list(game_index.index))\n",
    "afl_DF = pd.merge(afl_DF,\n",
    "        game_index,\n",
    "        left_on = ['fw_game_id','date'],\n",
    "        right_on = ['fw_game_id','date'],\n",
    "        how = 'left')"
   ]
  },
  {
   "cell_type": "code",
   "execution_count": null,
   "metadata": {},
   "outputs": [],
   "source": [
    "afl_DF = afl_DF.sort_values(by = ['team','game_index'],\n",
    "             ascending = [True, True]\n",
    "                 ).reset_index(drop=True)"
   ]
  },
  {
   "cell_type": "code",
   "execution_count": null,
   "metadata": {},
   "outputs": [],
   "source": [
    "afl_DF['ScoreTeam'] = (afl_DF['Goals_KickedTeam'] * 6) + afl_DF['Behinds_KickedTeam']\n",
    "afl_DF['ScoreOppnt'] = ScoreOppnt = (afl_DF['Goals_KickedOppnt'] * 6) + afl_DF['Behinds_KickedOppnt']\n",
    "afl_DF['Margin'] = afl_DF['ScoreTeam'] - afl_DF['ScoreOppnt']"
   ]
  },
  {
   "cell_type": "code",
   "execution_count": null,
   "metadata": {},
   "outputs": [],
   "source": [
    "afl_DF.loc[afl_DF['Margin'] == 0, 'Result'] = 0\n",
    "afl_DF.loc[afl_DF['Margin'] > 0, 'Result'] = 1\n",
    "afl_DF.loc[afl_DF['Margin'] < 0, 'Result'] = -1\n",
    "\n",
    "afl_DF.loc[afl_DF['Margin'] == 0, 'Win'] = 0\n",
    "afl_DF.loc[afl_DF['Margin'] > 0, 'Win'] = 1\n",
    "afl_DF.loc[afl_DF['Margin'] < 0, 'Win'] = 0"
   ]
  },
  {
   "cell_type": "code",
   "execution_count": null,
   "metadata": {},
   "outputs": [],
   "source": [
    "drop_cols = ['Kicks', 'Handballs','Marks', 'Tackles', 'Hitouts', 'Frees_For', 'Frees_Against',\n",
    "       'Goals_Kicked', 'Behinds_Kicked', 'Rushed_Behinds', 'Disposals_Per_Goal', 'Clearances',\n",
    "       'Clangers', 'In50s_Per_Scoring_Shot', 'Inside_50s_Per_Goal',  'In50s_Goal',\n",
    "       'Contested_Possessions', 'Uncontested_Possessions', 'Effective_Disposals', 'Contested_Marks',\n",
    "        'One_Percenters', 'Bounces',\n",
    "             #'Turnovers',\n",
    "             #'Intercepts',\n",
    "             #'Tackles_Inside_50',\n",
    "             'Kick_to_Handball_Ratio']\n",
    "drop_cols_fin = [string + 'Team' for string in drop_cols]\n",
    "drop_cols_fin.extend([string + 'Oppnt' for string in drop_cols])\n",
    "afl_DF = afl_DF.drop(drop_cols_fin, axis = 1)"
   ]
  },
  {
   "cell_type": "code",
   "execution_count": null,
   "metadata": {},
   "outputs": [],
   "source": [
    "team_array = colLookup(afl_DF, 'Team').values\n",
    "oppnt_array = colLookup(afl_DF, 'Oppnt').values\n",
    "diff_array = team_array / (team_array + oppnt_array + 0.00001)\n",
    "afl_DF[list(colLookup(afl_DF, 'Team').columns.str.replace('Team','Pcnt'))] = pd.DataFrame(diff_array)"
   ]
  },
  {
   "cell_type": "code",
   "execution_count": null,
   "metadata": {},
   "outputs": [],
   "source": [
    "#Need to check if this is doing anything\n",
    "afl_DF = afl_DF.loc[:,~afl_DF.columns.duplicated()]"
   ]
  },
  {
   "cell_type": "code",
   "execution_count": null,
   "metadata": {},
   "outputs": [],
   "source": [
    "afl_DF = afl_DF[[col for col in afl_DF.columns if 'Team' not in col and 'Oppnt' not in col]]\n",
    "#afl_DF = afl_DF[[col for col in afl_DF.columns if 'Oppnt' not in col]]\n",
    "#afl_DF = afl_DF[[col for col in afl_DF.columns if 'Team' not in col]]"
   ]
  },
  {
   "cell_type": "code",
   "execution_count": null,
   "metadata": {},
   "outputs": [],
   "source": [
    "ELO_col = ['Margin']\n",
    "ELO_mean_N = [8]\n",
    "for n in ELO_mean_N:\n",
    "    for col in ELO_col:\n",
    "        afl_DF = afl_DF.groupby('team').apply(newMeanCol, col_nm = col, N = n)"
   ]
  },
  {
   "cell_type": "code",
   "execution_count": null,
   "metadata": {},
   "outputs": [],
   "source": [
    "afl_DF.columns = afl_DF.columns.str.replace(\"_mean\",\"_T_ELO_mean\")"
   ]
  },
  {
   "cell_type": "code",
   "execution_count": null,
   "metadata": {},
   "outputs": [],
   "source": [
    "cols = ['fw_game_id', 'team']\n",
    "cols.extend([col for col in afl_DF.columns if 'ELO' in col])\n",
    "elo_DF = afl_DF[cols]\n",
    "elo_DF.columns = elo_DF.columns.str.replace('T_ELO','O_ELO')\n",
    "elo_DF.columns = elo_DF.columns.str.replace('team','opponent')"
   ]
  },
  {
   "cell_type": "code",
   "execution_count": null,
   "metadata": {},
   "outputs": [],
   "source": [
    "afl_DF = pd.merge(afl_DF,\n",
    "         elo_DF,\n",
    "         left_on = ['fw_game_id','opponent'],\n",
    "         right_on = ['fw_game_id','opponent'],\n",
    "        how = 'left')\n",
    "ELO_mean_N = [8]\n",
    "afl_DF = afl_DF[(afl_DF[\"round_index\"] > (max(ELO_mean_N) + 2))]"
   ]
  },
  {
   "cell_type": "code",
   "execution_count": null,
   "metadata": {},
   "outputs": [],
   "source": [
    "afl_DF['Margin_ELO_m8'] = pd.DataFrame(afl_DF.Margin - (afl_DF.Margin_T_ELO_mean8 - afl_DF.Margin_O_ELO_mean8))\n",
    "afl_DF = afl_DF.drop(['Margin_T_ELO_mean8','Margin_O_ELO_mean8'], axis = 1)"
   ]
  },
  {
   "cell_type": "code",
   "execution_count": null,
   "metadata": {},
   "outputs": [],
   "source": [
    "cols_to_apply = [col for col in afl_DF.columns if 'Pcnt' in col]\n",
    "cols_to_apply.extend([col for col in afl_DF.columns if 'ELO' in col])\n",
    "cols_to_apply.extend(['Win','Margin'])"
   ]
  },
  {
   "cell_type": "code",
   "execution_count": null,
   "metadata": {},
   "outputs": [],
   "source": [
    "mean_N = [8, 20]\n",
    "for N in mean_N:\n",
    "    for col in cols_to_apply:\n",
    "        afl_DF = afl_DF.groupby('team').apply(newMeanCol, col_nm = col, N = N)"
   ]
  },
  {
   "cell_type": "code",
   "execution_count": null,
   "metadata": {},
   "outputs": [],
   "source": [
    "afl_DF = afl_DF[(afl_DF[\"round_index\"] > (max(ELO_mean_N) + max(mean_N) + 2))]"
   ]
  },
  {
   "cell_type": "code",
   "execution_count": null,
   "metadata": {},
   "outputs": [],
   "source": [
    "afl_DF = afl_DF[[col for col in afl_DF.columns if 'Pcnt' not in col or 'mean' in col]]"
   ]
  },
  {
   "cell_type": "code",
   "execution_count": null,
   "metadata": {},
   "outputs": [],
   "source": [
    "feature_col = ['fw_game_id','team']\n",
    "feature_col.extend([col for col in afl_DF.columns if 'mean' in col])\n",
    "afl_DF_oppnt = afl_DF[feature_col]\n",
    "afl_DF_oppnt.columns = afl_DF_oppnt.columns.str.replace('team','opponent')\n",
    "afl_DF_oppnt.columns = afl_DF_oppnt.columns.str.replace('mean','O_mean')\n",
    "afl_DF.columns = afl_DF.columns.str.replace('mean','T_mean')"
   ]
  },
  {
   "cell_type": "code",
   "execution_count": null,
   "metadata": {},
   "outputs": [],
   "source": [
    "team_pcnt_col = [col for col in afl_DF.columns if 'mean' in col]\n",
    "oppnt_pcnt_col = [col for col in afl_DF_oppnt.columns if 'mean' in col]\n",
    "team_pcnt_col = [col for col in team_pcnt_col if 'Win_' not in col and 'Margin_' not in col]\n",
    "oppnt_pcnt_col = [col for col in oppnt_pcnt_col if 'Win_' not in col and 'Margin_' not in col]\n",
    "\n",
    "team_other_col = [col for col in afl_DF.columns if ('Win_' in col or 'Margin_' in col) and '_T_' in col]\n",
    "oppnt_other_col = [col for col in afl_DF_oppnt.columns if ('Win_' in col or 'Margin_' in col) and '_O_' in col]"
   ]
  },
  {
   "cell_type": "code",
   "execution_count": null,
   "metadata": {},
   "outputs": [],
   "source": [
    "afl_DF = pd.merge(afl_DF,\n",
    "                 afl_DF_oppnt,\n",
    "                 left_on = ['fw_game_id','opponent'],\n",
    "                 right_on = ['fw_game_id','opponent'],\n",
    "                 how='left')"
   ]
  },
  {
   "cell_type": "code",
   "execution_count": null,
   "metadata": {},
   "outputs": [],
   "source": [
    "team_pcnt_mean = afl_DF[team_pcnt_col].values\n",
    "oppnt_pcnt_mean = afl_DF[oppnt_pcnt_col].values\n",
    "diff_pcnt_mean = team_pcnt_mean / (team_pcnt_mean + oppnt_pcnt_mean + 0.000001)\n",
    "\n",
    "team_other_mean = afl_DF[team_other_col].values\n",
    "oppnt_other_mean = afl_DF[oppnt_other_col].values\n",
    "diff_other_mean = team_other_mean - oppnt_other_mean"
   ]
  },
  {
   "cell_type": "code",
   "execution_count": null,
   "metadata": {},
   "outputs": [],
   "source": [
    "afl_DF[[col.replace('T','D') for col in team_pcnt_col]] = pd.DataFrame(diff_pcnt_mean)\n",
    "afl_DF[[col.replace('T','D') for col in team_other_col]] = pd.DataFrame(diff_other_mean)"
   ]
  },
  {
   "cell_type": "code",
   "execution_count": null,
   "metadata": {},
   "outputs": [],
   "source": [
    "afl_DF = afl_DF[[col for col in afl_DF.columns if '_T_' not in col and '_O_' not in col]]"
   ]
  },
  {
   "cell_type": "code",
   "execution_count": null,
   "metadata": {},
   "outputs": [],
   "source": [
    "afl_DF = afl_DF[~(afl_DF.Result == 0)]"
   ]
  },
  {
   "cell_type": "code",
   "execution_count": null,
   "metadata": {},
   "outputs": [],
   "source": [
    "#drop_cols = ['opponent_y','season_round','round_char','date','team','opponent_x',\n",
    "#             'location','attendance','final','team_odds','oppnt_odds','team_line','oppnt_line', 'Margin']\n",
    "drop_cols = ['season_round','round_char','date','team','opponent', 'location','attendance','final',\n",
    "             'team_odds','oppnt_odds','team_line','oppnt_line', 'Margin','Result','Margin_ELO_m8','game_index']\n",
    "afl_ML = afl_DF.drop(drop_cols, axis = 1)"
   ]
  },
  {
   "cell_type": "code",
   "execution_count": null,
   "metadata": {},
   "outputs": [],
   "source": [
    "cols = list(afl_ML.columns)\n",
    "cols.remove('Win')\n",
    "cols.append('Win')\n",
    "afl_ML = afl_ML[cols]"
   ]
  },
  {
   "cell_type": "code",
   "execution_count": null,
   "metadata": {},
   "outputs": [],
   "source": [
    "afl_ML.to_pickle('afl_ML.pkl')"
   ]
  }
 ],
 "metadata": {
  "kernelspec": {
   "display_name": "Python 3",
   "language": "python",
   "name": "python3"
  },
  "language_info": {
   "codemirror_mode": {
    "name": "ipython",
    "version": 3
   },
   "file_extension": ".py",
   "mimetype": "text/x-python",
   "name": "python",
   "nbconvert_exporter": "python",
   "pygments_lexer": "ipython3",
   "version": "3.6.5"
  }
 },
 "nbformat": 4,
 "nbformat_minor": 2
}
