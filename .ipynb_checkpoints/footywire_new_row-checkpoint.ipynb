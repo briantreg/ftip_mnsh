{
 "cells": [
  {
   "cell_type": "code",
   "execution_count": 1,
   "metadata": {},
   "outputs": [
    {
     "name": "stderr",
     "output_type": "stream",
     "text": [
      "Python 3.6.5 :: Anaconda, Inc.\n"
     ]
    },
    {
     "name": "stdout",
     "output_type": "stream",
     "text": [
      "pip 10.0.1 from C:\\Users\\Brian\\Anaconda3\\lib\\site-packages\\pip (python 3.6)\n",
      "\n"
     ]
    }
   ],
   "source": [
    "!python --version\n",
    "!pip --version"
   ]
  },
  {
   "cell_type": "code",
   "execution_count": 2,
   "metadata": {},
   "outputs": [
    {
     "name": "stdout",
     "output_type": "stream",
     "text": [
      "Requirement already satisfied: beautifulsoup4 in c:\\users\\brian\\anaconda3\\lib\\site-packages (4.6.0)\n"
     ]
    },
    {
     "name": "stderr",
     "output_type": "stream",
     "text": [
      "distributed 1.21.8 requires msgpack, which is not installed.\n",
      "You are using pip version 10.0.1, however version 19.0.2 is available.\n",
      "You should consider upgrading via the 'python -m pip install --upgrade pip' command.\n"
     ]
    },
    {
     "name": "stdout",
     "output_type": "stream",
     "text": [
      "Requirement already satisfied: pandas in c:\\users\\brian\\anaconda3\\lib\\site-packages (0.23.0)\n",
      "Requirement already satisfied: pytz>=2011k in c:\\users\\brian\\anaconda3\\lib\\site-packages (from pandas) (2018.4)\n",
      "Requirement already satisfied: numpy>=1.9.0 in c:\\users\\brian\\anaconda3\\lib\\site-packages (from pandas) (1.14.3)\n",
      "Requirement already satisfied: python-dateutil>=2.5.0 in c:\\users\\brian\\anaconda3\\lib\\site-packages (from pandas) (2.7.3)\n",
      "Requirement already satisfied: six>=1.5 in c:\\users\\brian\\anaconda3\\lib\\site-packages (from python-dateutil>=2.5.0->pandas) (1.11.0)\n"
     ]
    },
    {
     "name": "stderr",
     "output_type": "stream",
     "text": [
      "distributed 1.21.8 requires msgpack, which is not installed.\n",
      "You are using pip version 10.0.1, however version 19.0.2 is available.\n",
      "You should consider upgrading via the 'python -m pip install --upgrade pip' command.\n"
     ]
    },
    {
     "name": "stdout",
     "output_type": "stream",
     "text": [
      "Requirement already satisfied: datetime in c:\\users\\brian\\anaconda3\\lib\\site-packages (4.3)\n",
      "Requirement already satisfied: pytz in c:\\users\\brian\\anaconda3\\lib\\site-packages (from datetime) (2018.4)\n",
      "Requirement already satisfied: zope.interface in c:\\users\\brian\\anaconda3\\lib\\site-packages (from datetime) (4.6.0)\n",
      "Requirement already satisfied: setuptools in c:\\users\\brian\\anaconda3\\lib\\site-packages (from zope.interface->datetime) (39.1.0)\n"
     ]
    },
    {
     "name": "stderr",
     "output_type": "stream",
     "text": [
      "distributed 1.21.8 requires msgpack, which is not installed.\n",
      "You are using pip version 10.0.1, however version 19.0.2 is available.\n",
      "You should consider upgrading via the 'python -m pip install --upgrade pip' command.\n"
     ]
    }
   ],
   "source": [
    "!pip install beautifulsoup4\n",
    "!pip install pandas\n",
    "!pip install datetime"
   ]
  },
  {
   "cell_type": "code",
   "execution_count": 9,
   "metadata": {},
   "outputs": [],
   "source": [
    "import urllib.request\n",
    "from bs4 import BeautifulSoup\n",
    "import numpy as np\n",
    "import pandas as pd\n",
    "import datetime\n",
    "import re"
   ]
  },
  {
   "cell_type": "code",
   "execution_count": 10,
   "metadata": {},
   "outputs": [],
   "source": [
    "def monthToNum(shortMonth):\n",
    "    return{\n",
    "            'January' : 1,\n",
    "            'February' : 2,\n",
    "            'March' : 3,\n",
    "            'April' : 4,\n",
    "            'May' : 5,\n",
    "            'June' : 6,\n",
    "            'July' : 7,\n",
    "            'August' : 8,\n",
    "            'September' : 9, \n",
    "            'October' : 10,\n",
    "            'November' : 11,\n",
    "            'December' : 12\n",
    "    }[shortMonth]\n",
    "def getOdds(data):\n",
    "    odds = data.str.split(',')\n",
    "    odds = odds[0][0]\n",
    "    odds = float(odds.split(': Win ')[1])\n",
    "    return odds\n",
    "def getLine(data):\n",
    "    line = data.str.split(',')[0][1]\n",
    "    line = re.sub(' @ 1.92','', re.sub(' Line ', '', line))\n",
    "    return line\n",
    "def getSoup(url):\n",
    "    html = urllib.request.urlopen(url)\n",
    "    soup = BeautifulSoup(html, 'html.parser')\n",
    "    return soup"
   ]
  },
  {
   "cell_type": "code",
   "execution_count": 11,
   "metadata": {},
   "outputs": [],
   "source": [
    "def infoTable(some_soup):\n",
    "    info_table = some_soup.find('table', border=\"0\", cellpadding=\"0\", cellspacing=\"0\", width=\"375\") #find the first table with this info\n",
    "    info_table = pd.read_html(str(info_table))\n",
    "    info_table = info_table[0]\n",
    "    return info_table\n",
    "def dateTime(the_info_table):\n",
    "    date_time = the_info_table.iloc[2]\n",
    "    date_time = date_time.str.split(',')\n",
    "    date = date_time[0][1].split(' ')\n",
    "    day = re.sub('[^0-9]','',date[1])\n",
    "    year = date[3]\n",
    "    month = monthToNum(date[2])\n",
    "    time = date_time[0][2].split(' ')\n",
    "    date = datetime.datetime(int(year), month, int(day))\n",
    "    return date\n",
    "def getGameInfo(the_info_table):\n",
    "    game_info = the_info_table.iloc[1]\n",
    "    game_info = game_info.str.split(',')\n",
    "    return game_info\n",
    "def getStatTable(some_soup):\n",
    "    info_table = some_soup.find('table', border=\"0\", cellpadding=\"0\", cellspacing=\"0\", width=\"375\") #find the first table with this info\n",
    "    stat_table = info_table.find_next('table', border=\"0\", cellpadding=\"0\", cellspacing=\"0\", width=\"375\") #find the next table same info\n",
    "    stat_table = pd.read_html(str(stat_table))[0]\n",
    "    return stat_table\n",
    "def getStats(the_stat_table, team, stat_type):\n",
    "    if team == 'home':\n",
    "        col_num = 0\n",
    "    if team == 'away':\n",
    "        col_num = 2\n",
    "    if stat_type == 'basic':\n",
    "        last_row = 27\n",
    "    if stat_type == 'advanced':\n",
    "        last_row = 22\n",
    "    stats = pd.Series(data =  the_stat_table.iloc[2:last_row,col_num]).str.replace('%','').astype('float')\n",
    "    return stats\n",
    "def replacePcnt(data):\n",
    "    data = data.str.replace('% ','').str.replace(' %','').str.replace('%','').str.replace(' ', '_')\n",
    "    return data"
   ]
  },
  {
   "cell_type": "code",
   "execution_count": 12,
   "metadata": {},
   "outputs": [],
   "source": [
    "afl_url = 'https://www.footywire.com/afl/footy/ft_match_statistics?mid=9516'\n",
    "soup = getSoup(afl_url)"
   ]
  },
  {
   "cell_type": "code",
   "execution_count": 28,
   "metadata": {},
   "outputs": [],
   "source": [
    "info_table = infoTable(soup)\n",
    "date = dateTime(info_table)\n",
    "year = date.year\n",
    "\n",
    "game_info = getGameInfo(info_table)\n",
    "season_round = int(re.sub('[^0-9]','',game_info[0][0]))\n",
    "location = game_info[0][1]\n",
    "attendance = int(re.sub(' Attendance: ', '', game_info[0][2]))\n",
    "\n",
    "home_odds = getOdds(info_table.iloc[3])\n",
    "away_odds = getOdds(info_table.iloc[4])\n",
    "home_line = getLine(info_table.iloc[3])\n",
    "away_line = getLine(info_table.iloc[4])"
   ]
  },
  {
   "cell_type": "code",
   "execution_count": 23,
   "metadata": {},
   "outputs": [],
   "source": [
    "bsc_stat_tbl = getStatTable(soup)\n",
    "bsc_home_stats = getStats(bsc_stat_tbl, 'home', 'basic')\n",
    "bsc_away_stats = getStats(bsc_stat_tbl, 'away', 'basic')\n",
    "bsc_stat_lbl = replacePcnt(pd.Series(data =  bsc_stat_tbl.iloc[2:27,1]))\n",
    "home_team = bsc_stat_tbl.iloc[1,1]\n",
    "away_team = bsc_stat_tbl.iloc[1,3]"
   ]
  },
  {
   "cell_type": "code",
   "execution_count": 24,
   "metadata": {},
   "outputs": [],
   "source": [
    "afl_adv_url = afl_url + '&advv=Y'\n",
    "advanced_soup = getSoup(afl_adv_url)"
   ]
  },
  {
   "cell_type": "code",
   "execution_count": 25,
   "metadata": {},
   "outputs": [],
   "source": [
    "adv_stat_tbl = getStatTable(advanced_soup)\n",
    "adv_home_stats = getStats(adv_stat_tbl, 'home', 'advanced')\n",
    "adv_away_stats = getStats(adv_stat_tbl, 'away', 'advanced')\n",
    "adv_stat_lbl = replacePcnt(pd.Series(data =  adv_stat_tbl.iloc[2:22,1]))"
   ]
  },
  {
   "cell_type": "code",
   "execution_count": 26,
   "metadata": {},
   "outputs": [],
   "source": [
    "header_cols = pd.Series(['season_round', 'year', 'date', 'location', 'attendance', \n",
    "           'home_odds', 'away_odds', 'home_line', 'away_line'])\n",
    "header_cols = pd.concat([header_cols,\n",
    "          bsc_stat_lbl + 'Home', adv_stat_lbl + 'Home',\n",
    "           bsc_stat_lbl + 'Away', adv_stat_lbl + 'Away'], \n",
    "         axis = 0).reset_index(drop=True)\n",
    "afl_DF = pd.DataFrame(columns = header_cols)"
   ]
  },
  {
   "cell_type": "code",
   "execution_count": 29,
   "metadata": {},
   "outputs": [],
   "source": [
    "game_meta = pd.Series([season_round, year, date, location, attendance, \n",
    "           home_odds, away_odds, home_line, away_line])\n",
    "game_stats = pd.concat([bsc_home_stats, adv_home_stats, bsc_away_stats, adv_away_stats])\n",
    "game_data = pd.concat([game_meta, game_stats])\n",
    "game_data.index = header_cols"
   ]
  },
  {
   "cell_type": "code",
   "execution_count": 30,
   "metadata": {},
   "outputs": [
    {
     "data": {
      "text/html": [
       "<div>\n",
       "<style scoped>\n",
       "    .dataframe tbody tr th:only-of-type {\n",
       "        vertical-align: middle;\n",
       "    }\n",
       "\n",
       "    .dataframe tbody tr th {\n",
       "        vertical-align: top;\n",
       "    }\n",
       "\n",
       "    .dataframe thead th {\n",
       "        text-align: right;\n",
       "    }\n",
       "</style>\n",
       "<table border=\"1\" class=\"dataframe\">\n",
       "  <thead>\n",
       "    <tr style=\"text-align: right;\">\n",
       "      <th></th>\n",
       "      <th>season_round</th>\n",
       "      <th>year</th>\n",
       "      <th>date</th>\n",
       "      <th>location</th>\n",
       "      <th>attendance</th>\n",
       "      <th>home_odds</th>\n",
       "      <th>away_odds</th>\n",
       "      <th>home_line</th>\n",
       "      <th>away_line</th>\n",
       "      <th>KicksHome</th>\n",
       "      <th>...</th>\n",
       "      <th>BouncesAway</th>\n",
       "      <th>Goal_AssistsAway</th>\n",
       "      <th>Goals_AssistedAway</th>\n",
       "      <th>Centre_ClearancesAway</th>\n",
       "      <th>Stoppage_ClearancesAway</th>\n",
       "      <th>Score_InvolvementsAway</th>\n",
       "      <th>Metres_GainedAway</th>\n",
       "      <th>TurnoversAway</th>\n",
       "      <th>InterceptsAway</th>\n",
       "      <th>Tackles_Inside_50Away</th>\n",
       "    </tr>\n",
       "  </thead>\n",
       "  <tbody>\n",
       "    <tr>\n",
       "      <th>0</th>\n",
       "      <td>1</td>\n",
       "      <td>2018</td>\n",
       "      <td>2018-03-24</td>\n",
       "      <td>Marvel Stadium</td>\n",
       "      <td>23731</td>\n",
       "      <td>1.33</td>\n",
       "      <td>3.45</td>\n",
       "      <td>-22.5</td>\n",
       "      <td>+22.5</td>\n",
       "      <td>242.0</td>\n",
       "      <td>...</td>\n",
       "      <td>3.0</td>\n",
       "      <td>8.0</td>\n",
       "      <td>66.7</td>\n",
       "      <td>17.0</td>\n",
       "      <td>27.0</td>\n",
       "      <td>89.0</td>\n",
       "      <td>5054.0</td>\n",
       "      <td>68.0</td>\n",
       "      <td>61.0</td>\n",
       "      <td>10.0</td>\n",
       "    </tr>\n",
       "  </tbody>\n",
       "</table>\n",
       "<p>1 rows × 99 columns</p>\n",
       "</div>"
      ],
      "text/plain": [
       "  season_round  year       date         location attendance  home_odds  \\\n",
       "0            1  2018 2018-03-24   Marvel Stadium      23731       1.33   \n",
       "\n",
       "   away_odds home_line away_line  KicksHome          ...            \\\n",
       "0       3.45     -22.5     +22.5      242.0          ...             \n",
       "\n",
       "   BouncesAway  Goal_AssistsAway  Goals_AssistedAway  Centre_ClearancesAway  \\\n",
       "0          3.0               8.0                66.7                   17.0   \n",
       "\n",
       "   Stoppage_ClearancesAway  Score_InvolvementsAway  Metres_GainedAway  \\\n",
       "0                     27.0                    89.0             5054.0   \n",
       "\n",
       "   TurnoversAway  InterceptsAway  Tackles_Inside_50Away  \n",
       "0           68.0            61.0                   10.0  \n",
       "\n",
       "[1 rows x 99 columns]"
      ]
     },
     "execution_count": 30,
     "metadata": {},
     "output_type": "execute_result"
    }
   ],
   "source": [
    "afl_DF = afl_DF.append(game_data, ignore_index=True)\n",
    "afl_DF"
   ]
  }
 ],
 "metadata": {
  "kernelspec": {
   "display_name": "Python 3",
   "language": "python",
   "name": "python3"
  },
  "language_info": {
   "codemirror_mode": {
    "name": "ipython",
    "version": 3
   },
   "file_extension": ".py",
   "mimetype": "text/x-python",
   "name": "python",
   "nbconvert_exporter": "python",
   "pygments_lexer": "ipython3",
   "version": "3.6.5"
  }
 },
 "nbformat": 4,
 "nbformat_minor": 2
}
