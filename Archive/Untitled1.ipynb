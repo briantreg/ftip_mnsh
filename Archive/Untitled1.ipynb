{
 "cells": [
  {
   "cell_type": "code",
   "execution_count": 2,
   "metadata": {},
   "outputs": [],
   "source": [
    "import pandas as pd"
   ]
  },
  {
   "cell_type": "code",
   "execution_count": 4,
   "metadata": {},
   "outputs": [
    {
     "name": "stdout",
     "output_type": "stream",
     "text": [
      "df1\n",
      "   a  b  c\n",
      "0  1  1  1\n",
      "1  2  2  2\n",
      "2  3  3  3\n",
      "3  4  4  4\n",
      "\n",
      "df2\n",
      "   a  c\n",
      "0  1  1\n",
      "1  2  2\n",
      "2  3  3\n",
      "3  4  4\n",
      "\n",
      "df\n",
      "   a    b  c\n",
      "0  1  NaN  1\n",
      "1  2  NaN  2\n",
      "2  3  NaN  3\n",
      "3  4  NaN  4\n",
      "0  1  1.0  1\n",
      "1  2  2.0  2\n",
      "2  3  3.0  3\n",
      "3  4  4.0  4\n"
     ]
    },
    {
     "name": "stderr",
     "output_type": "stream",
     "text": [
      "C:\\Users\\Brian\\Anaconda3\\lib\\site-packages\\ipykernel_launcher.py:4: FutureWarning: Sorting because non-concatenation axis is not aligned. A future version\n",
      "of pandas will change to not sort by default.\n",
      "\n",
      "To accept the future behavior, pass 'sort=True'.\n",
      "\n",
      "To retain the current behavior and silence the warning, pass sort=False\n",
      "\n",
      "  after removing the cwd from sys.path.\n"
     ]
    }
   ],
   "source": [
    "df1 = pd.DataFrame({'a':[1,2,3,4],'b':[1,2,3,4],'c':[1,2,3,4]})\n",
    "df2 = pd.DataFrame({'a':[1,2,3,4],'c':[1,2,3,4]})\n",
    "\n",
    "df = pd.concat([df2,df1])\n",
    "\n",
    "print('df1')\n",
    "print(df1)\n",
    "print('\\ndf2')\n",
    "print(df2)\n",
    "print('\\ndf')\n",
    "print(df)"
   ]
  }
 ],
 "metadata": {
  "kernelspec": {
   "display_name": "Python 3",
   "language": "python",
   "name": "python3"
  }
 },
 "nbformat": 4,
 "nbformat_minor": 2
}
