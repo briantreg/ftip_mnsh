{
 "cells": [
  {
   "cell_type": "code",
   "execution_count": 1,
   "metadata": {},
   "outputs": [],
   "source": [
    "import pandas as pd\n",
    "import numpy as np\n",
    "\n",
    "from boruta import BorutaPy\n",
    "\n",
    "from sklearn.model_selection import train_test_split, GridSearchCV\n",
    "from sklearn import preprocessing\n",
    "from sklearn import svm\n",
    "from sklearn.ensemble import RandomForestClassifier\n",
    "from sklearn.metrics import classification_report"
   ]
  },
  {
   "cell_type": "code",
   "execution_count": 2,
   "metadata": {},
   "outputs": [],
   "source": [
    "afl_ML = pd.read_pickle('afl_ML.pkl')\n",
    "test_ids = pd.read_pickle('test_fw_ids.pkl')\n",
    "afl_ML = afl_ML.dropna(axis = 1)"
   ]
  },
  {
   "cell_type": "code",
   "execution_count": 3,
   "metadata": {},
   "outputs": [],
   "source": [
    "afl_ML = afl_ML[afl_ML.year >= 2013]"
   ]
  },
  {
   "cell_type": "code",
   "execution_count": 4,
   "metadata": {},
   "outputs": [],
   "source": [
    "train = afl_ML[~(afl_ML.fw_game_id.isin(test_ids.fw_game_id.values))]\n",
    "test = afl_ML[afl_ML.fw_game_id.isin(test_ids.fw_game_id.values)]"
   ]
  },
  {
   "cell_type": "code",
   "execution_count": 5,
   "metadata": {},
   "outputs": [],
   "source": [
    "target = 'Win'\n",
    "M_cols = ['fw_game_id', 'year', 'round_index']\n",
    "\n",
    "M_train = train[M_cols]\n",
    "M_test = test[M_cols]\n",
    "\n",
    "Y_train = train[target]\n",
    "Y_test = test[target]\n",
    "\n",
    "M_cols.append(target)\n",
    "X_cols = [col for col in afl_ML.columns if col not in (M_cols)]\n",
    "\n",
    "X_train = train[X_cols]\n",
    "X_test = test[X_cols]"
   ]
  },
  {
   "cell_type": "code",
   "execution_count": 6,
   "metadata": {},
   "outputs": [],
   "source": [
    "train_scaler = preprocessing.StandardScaler().fit(X_train)\n",
    "X_train_scaled = train_scaler.transform(X_train)\n",
    "X_test_scaled = train_scaler.transform(X_test)"
   ]
  },
  {
   "cell_type": "code",
   "execution_count": 7,
   "metadata": {},
   "outputs": [
    {
     "name": "stdout",
     "output_type": "stream",
     "text": [
      "Iteration: \t1 / 100\n",
      "Confirmed: \t0\n",
      "Tentative: \t23\n",
      "Rejected: \t0\n",
      "Iteration: \t2 / 100\n",
      "Confirmed: \t0\n",
      "Tentative: \t23\n",
      "Rejected: \t0\n",
      "Iteration: \t3 / 100\n",
      "Confirmed: \t0\n",
      "Tentative: \t23\n",
      "Rejected: \t0\n",
      "Iteration: \t4 / 100\n",
      "Confirmed: \t0\n",
      "Tentative: \t23\n",
      "Rejected: \t0\n",
      "Iteration: \t5 / 100\n",
      "Confirmed: \t0\n",
      "Tentative: \t23\n",
      "Rejected: \t0\n",
      "Iteration: \t6 / 100\n",
      "Confirmed: \t0\n",
      "Tentative: \t23\n",
      "Rejected: \t0\n",
      "Iteration: \t7 / 100\n",
      "Confirmed: \t0\n",
      "Tentative: \t23\n",
      "Rejected: \t0\n",
      "Iteration: \t8 / 100\n",
      "Confirmed: \t14\n",
      "Tentative: \t6\n",
      "Rejected: \t3\n"
     ]
    },
    {
     "name": "stderr",
     "output_type": "stream",
     "text": [
      "C:\\Users\\Brian\\Anaconda3\\lib\\site-packages\\boruta\\boruta_py.py:418: RuntimeWarning: invalid value encountered in greater\n",
      "  hits = np.where(cur_imp[0] > imp_sha_max)[0]\n"
     ]
    },
    {
     "name": "stdout",
     "output_type": "stream",
     "text": [
      "Iteration: \t9 / 100\n",
      "Confirmed: \t14\n",
      "Tentative: \t6\n",
      "Rejected: \t3\n"
     ]
    },
    {
     "name": "stderr",
     "output_type": "stream",
     "text": [
      "C:\\Users\\Brian\\Anaconda3\\lib\\site-packages\\boruta\\boruta_py.py:418: RuntimeWarning: invalid value encountered in greater\n",
      "  hits = np.where(cur_imp[0] > imp_sha_max)[0]\n"
     ]
    },
    {
     "name": "stdout",
     "output_type": "stream",
     "text": [
      "Iteration: \t10 / 100\n",
      "Confirmed: \t14\n",
      "Tentative: \t6\n",
      "Rejected: \t3\n"
     ]
    },
    {
     "name": "stderr",
     "output_type": "stream",
     "text": [
      "C:\\Users\\Brian\\Anaconda3\\lib\\site-packages\\boruta\\boruta_py.py:418: RuntimeWarning: invalid value encountered in greater\n",
      "  hits = np.where(cur_imp[0] > imp_sha_max)[0]\n"
     ]
    },
    {
     "name": "stdout",
     "output_type": "stream",
     "text": [
      "Iteration: \t11 / 100\n",
      "Confirmed: \t14\n",
      "Tentative: \t6\n",
      "Rejected: \t3\n"
     ]
    },
    {
     "name": "stderr",
     "output_type": "stream",
     "text": [
      "C:\\Users\\Brian\\Anaconda3\\lib\\site-packages\\boruta\\boruta_py.py:418: RuntimeWarning: invalid value encountered in greater\n",
      "  hits = np.where(cur_imp[0] > imp_sha_max)[0]\n"
     ]
    },
    {
     "name": "stdout",
     "output_type": "stream",
     "text": [
      "Iteration: \t12 / 100\n",
      "Confirmed: \t14\n",
      "Tentative: \t6\n",
      "Rejected: \t3\n"
     ]
    },
    {
     "name": "stderr",
     "output_type": "stream",
     "text": [
      "C:\\Users\\Brian\\Anaconda3\\lib\\site-packages\\boruta\\boruta_py.py:418: RuntimeWarning: invalid value encountered in greater\n",
      "  hits = np.where(cur_imp[0] > imp_sha_max)[0]\n"
     ]
    },
    {
     "name": "stdout",
     "output_type": "stream",
     "text": [
      "Iteration: \t13 / 100\n",
      "Confirmed: \t14\n",
      "Tentative: \t5\n",
      "Rejected: \t4\n"
     ]
    },
    {
     "name": "stderr",
     "output_type": "stream",
     "text": [
      "C:\\Users\\Brian\\Anaconda3\\lib\\site-packages\\boruta\\boruta_py.py:418: RuntimeWarning: invalid value encountered in greater\n",
      "  hits = np.where(cur_imp[0] > imp_sha_max)[0]\n"
     ]
    },
    {
     "name": "stdout",
     "output_type": "stream",
     "text": [
      "Iteration: \t14 / 100\n",
      "Confirmed: \t14\n",
      "Tentative: \t5\n",
      "Rejected: \t4\n"
     ]
    },
    {
     "name": "stderr",
     "output_type": "stream",
     "text": [
      "C:\\Users\\Brian\\Anaconda3\\lib\\site-packages\\boruta\\boruta_py.py:418: RuntimeWarning: invalid value encountered in greater\n",
      "  hits = np.where(cur_imp[0] > imp_sha_max)[0]\n"
     ]
    },
    {
     "name": "stdout",
     "output_type": "stream",
     "text": [
      "Iteration: \t15 / 100\n",
      "Confirmed: \t14\n",
      "Tentative: \t5\n",
      "Rejected: \t4\n"
     ]
    },
    {
     "name": "stderr",
     "output_type": "stream",
     "text": [
      "C:\\Users\\Brian\\Anaconda3\\lib\\site-packages\\boruta\\boruta_py.py:418: RuntimeWarning: invalid value encountered in greater\n",
      "  hits = np.where(cur_imp[0] > imp_sha_max)[0]\n"
     ]
    },
    {
     "name": "stdout",
     "output_type": "stream",
     "text": [
      "Iteration: \t16 / 100\n",
      "Confirmed: \t14\n",
      "Tentative: \t3\n",
      "Rejected: \t6\n"
     ]
    },
    {
     "name": "stderr",
     "output_type": "stream",
     "text": [
      "C:\\Users\\Brian\\Anaconda3\\lib\\site-packages\\boruta\\boruta_py.py:418: RuntimeWarning: invalid value encountered in greater\n",
      "  hits = np.where(cur_imp[0] > imp_sha_max)[0]\n"
     ]
    },
    {
     "name": "stdout",
     "output_type": "stream",
     "text": [
      "Iteration: \t17 / 100\n",
      "Confirmed: \t14\n",
      "Tentative: \t3\n",
      "Rejected: \t6\n"
     ]
    },
    {
     "name": "stderr",
     "output_type": "stream",
     "text": [
      "C:\\Users\\Brian\\Anaconda3\\lib\\site-packages\\boruta\\boruta_py.py:418: RuntimeWarning: invalid value encountered in greater\n",
      "  hits = np.where(cur_imp[0] > imp_sha_max)[0]\n"
     ]
    },
    {
     "name": "stdout",
     "output_type": "stream",
     "text": [
      "Iteration: \t18 / 100\n",
      "Confirmed: \t14\n",
      "Tentative: \t3\n",
      "Rejected: \t6\n"
     ]
    },
    {
     "name": "stderr",
     "output_type": "stream",
     "text": [
      "C:\\Users\\Brian\\Anaconda3\\lib\\site-packages\\boruta\\boruta_py.py:418: RuntimeWarning: invalid value encountered in greater\n",
      "  hits = np.where(cur_imp[0] > imp_sha_max)[0]\n"
     ]
    },
    {
     "name": "stdout",
     "output_type": "stream",
     "text": [
      "Iteration: \t19 / 100\n",
      "Confirmed: \t14\n",
      "Tentative: \t3\n",
      "Rejected: \t6\n"
     ]
    },
    {
     "name": "stderr",
     "output_type": "stream",
     "text": [
      "C:\\Users\\Brian\\Anaconda3\\lib\\site-packages\\boruta\\boruta_py.py:418: RuntimeWarning: invalid value encountered in greater\n",
      "  hits = np.where(cur_imp[0] > imp_sha_max)[0]\n"
     ]
    },
    {
     "name": "stdout",
     "output_type": "stream",
     "text": [
      "Iteration: \t20 / 100\n",
      "Confirmed: \t14\n",
      "Tentative: \t3\n",
      "Rejected: \t6\n"
     ]
    },
    {
     "name": "stderr",
     "output_type": "stream",
     "text": [
      "C:\\Users\\Brian\\Anaconda3\\lib\\site-packages\\boruta\\boruta_py.py:418: RuntimeWarning: invalid value encountered in greater\n",
      "  hits = np.where(cur_imp[0] > imp_sha_max)[0]\n"
     ]
    },
    {
     "name": "stdout",
     "output_type": "stream",
     "text": [
      "Iteration: \t21 / 100\n",
      "Confirmed: \t14\n",
      "Tentative: \t3\n",
      "Rejected: \t6\n"
     ]
    },
    {
     "name": "stderr",
     "output_type": "stream",
     "text": [
      "C:\\Users\\Brian\\Anaconda3\\lib\\site-packages\\boruta\\boruta_py.py:418: RuntimeWarning: invalid value encountered in greater\n",
      "  hits = np.where(cur_imp[0] > imp_sha_max)[0]\n"
     ]
    },
    {
     "name": "stdout",
     "output_type": "stream",
     "text": [
      "Iteration: \t22 / 100\n",
      "Confirmed: \t14\n",
      "Tentative: \t3\n",
      "Rejected: \t6\n"
     ]
    },
    {
     "name": "stderr",
     "output_type": "stream",
     "text": [
      "C:\\Users\\Brian\\Anaconda3\\lib\\site-packages\\boruta\\boruta_py.py:418: RuntimeWarning: invalid value encountered in greater\n",
      "  hits = np.where(cur_imp[0] > imp_sha_max)[0]\n"
     ]
    },
    {
     "name": "stdout",
     "output_type": "stream",
     "text": [
      "Iteration: \t23 / 100\n",
      "Confirmed: \t14\n",
      "Tentative: \t3\n",
      "Rejected: \t6\n"
     ]
    },
    {
     "name": "stderr",
     "output_type": "stream",
     "text": [
      "C:\\Users\\Brian\\Anaconda3\\lib\\site-packages\\boruta\\boruta_py.py:418: RuntimeWarning: invalid value encountered in greater\n",
      "  hits = np.where(cur_imp[0] > imp_sha_max)[0]\n"
     ]
    },
    {
     "name": "stdout",
     "output_type": "stream",
     "text": [
      "Iteration: \t24 / 100\n",
      "Confirmed: \t14\n",
      "Tentative: \t3\n",
      "Rejected: \t6\n"
     ]
    },
    {
     "name": "stderr",
     "output_type": "stream",
     "text": [
      "C:\\Users\\Brian\\Anaconda3\\lib\\site-packages\\boruta\\boruta_py.py:418: RuntimeWarning: invalid value encountered in greater\n",
      "  hits = np.where(cur_imp[0] > imp_sha_max)[0]\n"
     ]
    },
    {
     "name": "stdout",
     "output_type": "stream",
     "text": [
      "Iteration: \t25 / 100\n",
      "Confirmed: \t14\n",
      "Tentative: \t3\n",
      "Rejected: \t6\n"
     ]
    },
    {
     "name": "stderr",
     "output_type": "stream",
     "text": [
      "C:\\Users\\Brian\\Anaconda3\\lib\\site-packages\\boruta\\boruta_py.py:418: RuntimeWarning: invalid value encountered in greater\n",
      "  hits = np.where(cur_imp[0] > imp_sha_max)[0]\n"
     ]
    },
    {
     "name": "stdout",
     "output_type": "stream",
     "text": [
      "Iteration: \t26 / 100\n",
      "Confirmed: \t14\n",
      "Tentative: \t3\n",
      "Rejected: \t6\n"
     ]
    },
    {
     "name": "stderr",
     "output_type": "stream",
     "text": [
      "C:\\Users\\Brian\\Anaconda3\\lib\\site-packages\\boruta\\boruta_py.py:418: RuntimeWarning: invalid value encountered in greater\n",
      "  hits = np.where(cur_imp[0] > imp_sha_max)[0]\n"
     ]
    },
    {
     "name": "stdout",
     "output_type": "stream",
     "text": [
      "Iteration: \t27 / 100\n",
      "Confirmed: \t14\n",
      "Tentative: \t3\n",
      "Rejected: \t6\n"
     ]
    },
    {
     "name": "stderr",
     "output_type": "stream",
     "text": [
      "C:\\Users\\Brian\\Anaconda3\\lib\\site-packages\\boruta\\boruta_py.py:418: RuntimeWarning: invalid value encountered in greater\n",
      "  hits = np.where(cur_imp[0] > imp_sha_max)[0]\n"
     ]
    },
    {
     "name": "stdout",
     "output_type": "stream",
     "text": [
      "Iteration: \t28 / 100\n",
      "Confirmed: \t14\n",
      "Tentative: \t3\n",
      "Rejected: \t6\n"
     ]
    },
    {
     "name": "stderr",
     "output_type": "stream",
     "text": [
      "C:\\Users\\Brian\\Anaconda3\\lib\\site-packages\\boruta\\boruta_py.py:418: RuntimeWarning: invalid value encountered in greater\n",
      "  hits = np.where(cur_imp[0] > imp_sha_max)[0]\n"
     ]
    },
    {
     "name": "stdout",
     "output_type": "stream",
     "text": [
      "Iteration: \t29 / 100\n",
      "Confirmed: \t14\n",
      "Tentative: \t2\n",
      "Rejected: \t7\n"
     ]
    },
    {
     "name": "stderr",
     "output_type": "stream",
     "text": [
      "C:\\Users\\Brian\\Anaconda3\\lib\\site-packages\\boruta\\boruta_py.py:418: RuntimeWarning: invalid value encountered in greater\n",
      "  hits = np.where(cur_imp[0] > imp_sha_max)[0]\n"
     ]
    },
    {
     "name": "stdout",
     "output_type": "stream",
     "text": [
      "Iteration: \t30 / 100\n",
      "Confirmed: \t14\n",
      "Tentative: \t2\n",
      "Rejected: \t7\n"
     ]
    },
    {
     "name": "stderr",
     "output_type": "stream",
     "text": [
      "C:\\Users\\Brian\\Anaconda3\\lib\\site-packages\\boruta\\boruta_py.py:418: RuntimeWarning: invalid value encountered in greater\n",
      "  hits = np.where(cur_imp[0] > imp_sha_max)[0]\n"
     ]
    },
    {
     "name": "stdout",
     "output_type": "stream",
     "text": [
      "Iteration: \t31 / 100\n",
      "Confirmed: \t14\n",
      "Tentative: \t2\n",
      "Rejected: \t7\n"
     ]
    },
    {
     "name": "stderr",
     "output_type": "stream",
     "text": [
      "C:\\Users\\Brian\\Anaconda3\\lib\\site-packages\\boruta\\boruta_py.py:418: RuntimeWarning: invalid value encountered in greater\n",
      "  hits = np.where(cur_imp[0] > imp_sha_max)[0]\n"
     ]
    },
    {
     "name": "stdout",
     "output_type": "stream",
     "text": [
      "Iteration: \t32 / 100\n",
      "Confirmed: \t14\n",
      "Tentative: \t2\n",
      "Rejected: \t7\n"
     ]
    },
    {
     "name": "stderr",
     "output_type": "stream",
     "text": [
      "C:\\Users\\Brian\\Anaconda3\\lib\\site-packages\\boruta\\boruta_py.py:418: RuntimeWarning: invalid value encountered in greater\n",
      "  hits = np.where(cur_imp[0] > imp_sha_max)[0]\n"
     ]
    },
    {
     "name": "stdout",
     "output_type": "stream",
     "text": [
      "Iteration: \t33 / 100\n",
      "Confirmed: \t14\n",
      "Tentative: \t2\n",
      "Rejected: \t7\n"
     ]
    },
    {
     "name": "stderr",
     "output_type": "stream",
     "text": [
      "C:\\Users\\Brian\\Anaconda3\\lib\\site-packages\\boruta\\boruta_py.py:418: RuntimeWarning: invalid value encountered in greater\n",
      "  hits = np.where(cur_imp[0] > imp_sha_max)[0]\n"
     ]
    },
    {
     "name": "stdout",
     "output_type": "stream",
     "text": [
      "Iteration: \t34 / 100\n",
      "Confirmed: \t14\n",
      "Tentative: \t1\n",
      "Rejected: \t8\n"
     ]
    },
    {
     "name": "stderr",
     "output_type": "stream",
     "text": [
      "C:\\Users\\Brian\\Anaconda3\\lib\\site-packages\\boruta\\boruta_py.py:418: RuntimeWarning: invalid value encountered in greater\n",
      "  hits = np.where(cur_imp[0] > imp_sha_max)[0]\n"
     ]
    },
    {
     "name": "stdout",
     "output_type": "stream",
     "text": [
      "Iteration: \t35 / 100\n",
      "Confirmed: \t14\n",
      "Tentative: \t1\n",
      "Rejected: \t8\n"
     ]
    },
    {
     "name": "stderr",
     "output_type": "stream",
     "text": [
      "C:\\Users\\Brian\\Anaconda3\\lib\\site-packages\\boruta\\boruta_py.py:418: RuntimeWarning: invalid value encountered in greater\n",
      "  hits = np.where(cur_imp[0] > imp_sha_max)[0]\n"
     ]
    },
    {
     "name": "stdout",
     "output_type": "stream",
     "text": [
      "Iteration: \t36 / 100\n",
      "Confirmed: \t14\n",
      "Tentative: \t1\n",
      "Rejected: \t8\n"
     ]
    },
    {
     "name": "stderr",
     "output_type": "stream",
     "text": [
      "C:\\Users\\Brian\\Anaconda3\\lib\\site-packages\\boruta\\boruta_py.py:418: RuntimeWarning: invalid value encountered in greater\n",
      "  hits = np.where(cur_imp[0] > imp_sha_max)[0]\n"
     ]
    },
    {
     "name": "stdout",
     "output_type": "stream",
     "text": [
      "Iteration: \t37 / 100\n",
      "Confirmed: \t14\n",
      "Tentative: \t1\n",
      "Rejected: \t8\n"
     ]
    },
    {
     "name": "stderr",
     "output_type": "stream",
     "text": [
      "C:\\Users\\Brian\\Anaconda3\\lib\\site-packages\\boruta\\boruta_py.py:418: RuntimeWarning: invalid value encountered in greater\n",
      "  hits = np.where(cur_imp[0] > imp_sha_max)[0]\n"
     ]
    },
    {
     "name": "stdout",
     "output_type": "stream",
     "text": [
      "Iteration: \t38 / 100\n",
      "Confirmed: \t14\n",
      "Tentative: \t1\n",
      "Rejected: \t8\n"
     ]
    },
    {
     "name": "stderr",
     "output_type": "stream",
     "text": [
      "C:\\Users\\Brian\\Anaconda3\\lib\\site-packages\\boruta\\boruta_py.py:418: RuntimeWarning: invalid value encountered in greater\n",
      "  hits = np.where(cur_imp[0] > imp_sha_max)[0]\n"
     ]
    },
    {
     "name": "stdout",
     "output_type": "stream",
     "text": [
      "Iteration: \t39 / 100\n",
      "Confirmed: \t14\n",
      "Tentative: \t1\n",
      "Rejected: \t8\n"
     ]
    },
    {
     "name": "stderr",
     "output_type": "stream",
     "text": [
      "C:\\Users\\Brian\\Anaconda3\\lib\\site-packages\\boruta\\boruta_py.py:418: RuntimeWarning: invalid value encountered in greater\n",
      "  hits = np.where(cur_imp[0] > imp_sha_max)[0]\n"
     ]
    },
    {
     "name": "stdout",
     "output_type": "stream",
     "text": [
      "Iteration: \t40 / 100\n",
      "Confirmed: \t14\n",
      "Tentative: \t1\n",
      "Rejected: \t8\n"
     ]
    },
    {
     "name": "stderr",
     "output_type": "stream",
     "text": [
      "C:\\Users\\Brian\\Anaconda3\\lib\\site-packages\\boruta\\boruta_py.py:418: RuntimeWarning: invalid value encountered in greater\n",
      "  hits = np.where(cur_imp[0] > imp_sha_max)[0]\n"
     ]
    },
    {
     "name": "stdout",
     "output_type": "stream",
     "text": [
      "Iteration: \t41 / 100\n",
      "Confirmed: \t14\n",
      "Tentative: \t1\n",
      "Rejected: \t8\n"
     ]
    },
    {
     "name": "stderr",
     "output_type": "stream",
     "text": [
      "C:\\Users\\Brian\\Anaconda3\\lib\\site-packages\\boruta\\boruta_py.py:418: RuntimeWarning: invalid value encountered in greater\n",
      "  hits = np.where(cur_imp[0] > imp_sha_max)[0]\n"
     ]
    },
    {
     "name": "stdout",
     "output_type": "stream",
     "text": [
      "Iteration: \t42 / 100\n",
      "Confirmed: \t14\n",
      "Tentative: \t1\n",
      "Rejected: \t8\n"
     ]
    },
    {
     "name": "stderr",
     "output_type": "stream",
     "text": [
      "C:\\Users\\Brian\\Anaconda3\\lib\\site-packages\\boruta\\boruta_py.py:418: RuntimeWarning: invalid value encountered in greater\n",
      "  hits = np.where(cur_imp[0] > imp_sha_max)[0]\n"
     ]
    },
    {
     "name": "stdout",
     "output_type": "stream",
     "text": [
      "Iteration: \t43 / 100\n",
      "Confirmed: \t14\n",
      "Tentative: \t1\n",
      "Rejected: \t8\n"
     ]
    },
    {
     "name": "stderr",
     "output_type": "stream",
     "text": [
      "C:\\Users\\Brian\\Anaconda3\\lib\\site-packages\\boruta\\boruta_py.py:418: RuntimeWarning: invalid value encountered in greater\n",
      "  hits = np.where(cur_imp[0] > imp_sha_max)[0]\n"
     ]
    },
    {
     "name": "stdout",
     "output_type": "stream",
     "text": [
      "Iteration: \t44 / 100\n",
      "Confirmed: \t14\n",
      "Tentative: \t1\n",
      "Rejected: \t8\n"
     ]
    },
    {
     "name": "stderr",
     "output_type": "stream",
     "text": [
      "C:\\Users\\Brian\\Anaconda3\\lib\\site-packages\\boruta\\boruta_py.py:418: RuntimeWarning: invalid value encountered in greater\n",
      "  hits = np.where(cur_imp[0] > imp_sha_max)[0]\n"
     ]
    },
    {
     "name": "stdout",
     "output_type": "stream",
     "text": [
      "Iteration: \t45 / 100\n",
      "Confirmed: \t14\n",
      "Tentative: \t1\n",
      "Rejected: \t8\n"
     ]
    },
    {
     "name": "stderr",
     "output_type": "stream",
     "text": [
      "C:\\Users\\Brian\\Anaconda3\\lib\\site-packages\\boruta\\boruta_py.py:418: RuntimeWarning: invalid value encountered in greater\n",
      "  hits = np.where(cur_imp[0] > imp_sha_max)[0]\n"
     ]
    },
    {
     "name": "stdout",
     "output_type": "stream",
     "text": [
      "Iteration: \t46 / 100\n",
      "Confirmed: \t14\n",
      "Tentative: \t1\n",
      "Rejected: \t8\n"
     ]
    },
    {
     "name": "stderr",
     "output_type": "stream",
     "text": [
      "C:\\Users\\Brian\\Anaconda3\\lib\\site-packages\\boruta\\boruta_py.py:418: RuntimeWarning: invalid value encountered in greater\n",
      "  hits = np.where(cur_imp[0] > imp_sha_max)[0]\n"
     ]
    },
    {
     "name": "stdout",
     "output_type": "stream",
     "text": [
      "Iteration: \t47 / 100\n",
      "Confirmed: \t14\n",
      "Tentative: \t1\n",
      "Rejected: \t8\n"
     ]
    },
    {
     "name": "stderr",
     "output_type": "stream",
     "text": [
      "C:\\Users\\Brian\\Anaconda3\\lib\\site-packages\\boruta\\boruta_py.py:418: RuntimeWarning: invalid value encountered in greater\n",
      "  hits = np.where(cur_imp[0] > imp_sha_max)[0]\n"
     ]
    },
    {
     "name": "stdout",
     "output_type": "stream",
     "text": [
      "Iteration: \t48 / 100\n",
      "Confirmed: \t14\n",
      "Tentative: \t1\n",
      "Rejected: \t8\n"
     ]
    },
    {
     "name": "stderr",
     "output_type": "stream",
     "text": [
      "C:\\Users\\Brian\\Anaconda3\\lib\\site-packages\\boruta\\boruta_py.py:418: RuntimeWarning: invalid value encountered in greater\n",
      "  hits = np.where(cur_imp[0] > imp_sha_max)[0]\n"
     ]
    },
    {
     "name": "stdout",
     "output_type": "stream",
     "text": [
      "Iteration: \t49 / 100\n",
      "Confirmed: \t14\n",
      "Tentative: \t1\n",
      "Rejected: \t8\n"
     ]
    },
    {
     "name": "stderr",
     "output_type": "stream",
     "text": [
      "C:\\Users\\Brian\\Anaconda3\\lib\\site-packages\\boruta\\boruta_py.py:418: RuntimeWarning: invalid value encountered in greater\n",
      "  hits = np.where(cur_imp[0] > imp_sha_max)[0]\n"
     ]
    },
    {
     "name": "stdout",
     "output_type": "stream",
     "text": [
      "Iteration: \t50 / 100\n",
      "Confirmed: \t14\n",
      "Tentative: \t1\n",
      "Rejected: \t8\n"
     ]
    },
    {
     "name": "stderr",
     "output_type": "stream",
     "text": [
      "C:\\Users\\Brian\\Anaconda3\\lib\\site-packages\\boruta\\boruta_py.py:418: RuntimeWarning: invalid value encountered in greater\n",
      "  hits = np.where(cur_imp[0] > imp_sha_max)[0]\n"
     ]
    },
    {
     "name": "stdout",
     "output_type": "stream",
     "text": [
      "Iteration: \t51 / 100\n",
      "Confirmed: \t14\n",
      "Tentative: \t1\n",
      "Rejected: \t8\n"
     ]
    },
    {
     "name": "stderr",
     "output_type": "stream",
     "text": [
      "C:\\Users\\Brian\\Anaconda3\\lib\\site-packages\\boruta\\boruta_py.py:418: RuntimeWarning: invalid value encountered in greater\n",
      "  hits = np.where(cur_imp[0] > imp_sha_max)[0]\n"
     ]
    },
    {
     "name": "stdout",
     "output_type": "stream",
     "text": [
      "Iteration: \t52 / 100\n",
      "Confirmed: \t14\n",
      "Tentative: \t1\n",
      "Rejected: \t8\n"
     ]
    },
    {
     "name": "stderr",
     "output_type": "stream",
     "text": [
      "C:\\Users\\Brian\\Anaconda3\\lib\\site-packages\\boruta\\boruta_py.py:418: RuntimeWarning: invalid value encountered in greater\n",
      "  hits = np.where(cur_imp[0] > imp_sha_max)[0]\n"
     ]
    },
    {
     "name": "stdout",
     "output_type": "stream",
     "text": [
      "Iteration: \t53 / 100\n",
      "Confirmed: \t14\n",
      "Tentative: \t1\n",
      "Rejected: \t8\n"
     ]
    },
    {
     "name": "stderr",
     "output_type": "stream",
     "text": [
      "C:\\Users\\Brian\\Anaconda3\\lib\\site-packages\\boruta\\boruta_py.py:418: RuntimeWarning: invalid value encountered in greater\n",
      "  hits = np.where(cur_imp[0] > imp_sha_max)[0]\n"
     ]
    },
    {
     "name": "stdout",
     "output_type": "stream",
     "text": [
      "Iteration: \t54 / 100\n",
      "Confirmed: \t14\n",
      "Tentative: \t1\n",
      "Rejected: \t8\n"
     ]
    },
    {
     "name": "stderr",
     "output_type": "stream",
     "text": [
      "C:\\Users\\Brian\\Anaconda3\\lib\\site-packages\\boruta\\boruta_py.py:418: RuntimeWarning: invalid value encountered in greater\n",
      "  hits = np.where(cur_imp[0] > imp_sha_max)[0]\n"
     ]
    },
    {
     "name": "stdout",
     "output_type": "stream",
     "text": [
      "Iteration: \t55 / 100\n",
      "Confirmed: \t14\n",
      "Tentative: \t1\n",
      "Rejected: \t8\n"
     ]
    },
    {
     "name": "stderr",
     "output_type": "stream",
     "text": [
      "C:\\Users\\Brian\\Anaconda3\\lib\\site-packages\\boruta\\boruta_py.py:418: RuntimeWarning: invalid value encountered in greater\n",
      "  hits = np.where(cur_imp[0] > imp_sha_max)[0]\n"
     ]
    },
    {
     "name": "stdout",
     "output_type": "stream",
     "text": [
      "Iteration: \t56 / 100\n",
      "Confirmed: \t14\n",
      "Tentative: \t1\n",
      "Rejected: \t8\n"
     ]
    },
    {
     "name": "stderr",
     "output_type": "stream",
     "text": [
      "C:\\Users\\Brian\\Anaconda3\\lib\\site-packages\\boruta\\boruta_py.py:418: RuntimeWarning: invalid value encountered in greater\n",
      "  hits = np.where(cur_imp[0] > imp_sha_max)[0]\n"
     ]
    },
    {
     "name": "stdout",
     "output_type": "stream",
     "text": [
      "Iteration: \t57 / 100\n",
      "Confirmed: \t14\n",
      "Tentative: \t1\n",
      "Rejected: \t8\n"
     ]
    },
    {
     "name": "stderr",
     "output_type": "stream",
     "text": [
      "C:\\Users\\Brian\\Anaconda3\\lib\\site-packages\\boruta\\boruta_py.py:418: RuntimeWarning: invalid value encountered in greater\n",
      "  hits = np.where(cur_imp[0] > imp_sha_max)[0]\n"
     ]
    },
    {
     "name": "stdout",
     "output_type": "stream",
     "text": [
      "Iteration: \t58 / 100\n",
      "Confirmed: \t14\n",
      "Tentative: \t1\n",
      "Rejected: \t8\n"
     ]
    },
    {
     "name": "stderr",
     "output_type": "stream",
     "text": [
      "C:\\Users\\Brian\\Anaconda3\\lib\\site-packages\\boruta\\boruta_py.py:418: RuntimeWarning: invalid value encountered in greater\n",
      "  hits = np.where(cur_imp[0] > imp_sha_max)[0]\n"
     ]
    },
    {
     "name": "stdout",
     "output_type": "stream",
     "text": [
      "Iteration: \t59 / 100\n",
      "Confirmed: \t14\n",
      "Tentative: \t1\n",
      "Rejected: \t8\n"
     ]
    },
    {
     "name": "stderr",
     "output_type": "stream",
     "text": [
      "C:\\Users\\Brian\\Anaconda3\\lib\\site-packages\\boruta\\boruta_py.py:418: RuntimeWarning: invalid value encountered in greater\n",
      "  hits = np.where(cur_imp[0] > imp_sha_max)[0]\n"
     ]
    },
    {
     "name": "stdout",
     "output_type": "stream",
     "text": [
      "Iteration: \t60 / 100\n",
      "Confirmed: \t14\n",
      "Tentative: \t1\n",
      "Rejected: \t8\n"
     ]
    },
    {
     "name": "stderr",
     "output_type": "stream",
     "text": [
      "C:\\Users\\Brian\\Anaconda3\\lib\\site-packages\\boruta\\boruta_py.py:418: RuntimeWarning: invalid value encountered in greater\n",
      "  hits = np.where(cur_imp[0] > imp_sha_max)[0]\n"
     ]
    },
    {
     "name": "stdout",
     "output_type": "stream",
     "text": [
      "Iteration: \t61 / 100\n",
      "Confirmed: \t14\n",
      "Tentative: \t1\n",
      "Rejected: \t8\n"
     ]
    },
    {
     "name": "stderr",
     "output_type": "stream",
     "text": [
      "C:\\Users\\Brian\\Anaconda3\\lib\\site-packages\\boruta\\boruta_py.py:418: RuntimeWarning: invalid value encountered in greater\n",
      "  hits = np.where(cur_imp[0] > imp_sha_max)[0]\n"
     ]
    },
    {
     "name": "stdout",
     "output_type": "stream",
     "text": [
      "Iteration: \t62 / 100\n",
      "Confirmed: \t14\n",
      "Tentative: \t1\n",
      "Rejected: \t8\n"
     ]
    },
    {
     "name": "stderr",
     "output_type": "stream",
     "text": [
      "C:\\Users\\Brian\\Anaconda3\\lib\\site-packages\\boruta\\boruta_py.py:418: RuntimeWarning: invalid value encountered in greater\n",
      "  hits = np.where(cur_imp[0] > imp_sha_max)[0]\n"
     ]
    },
    {
     "name": "stdout",
     "output_type": "stream",
     "text": [
      "Iteration: \t63 / 100\n",
      "Confirmed: \t14\n",
      "Tentative: \t1\n",
      "Rejected: \t8\n"
     ]
    },
    {
     "name": "stderr",
     "output_type": "stream",
     "text": [
      "C:\\Users\\Brian\\Anaconda3\\lib\\site-packages\\boruta\\boruta_py.py:418: RuntimeWarning: invalid value encountered in greater\n",
      "  hits = np.where(cur_imp[0] > imp_sha_max)[0]\n"
     ]
    },
    {
     "name": "stdout",
     "output_type": "stream",
     "text": [
      "Iteration: \t64 / 100\n",
      "Confirmed: \t14\n",
      "Tentative: \t1\n",
      "Rejected: \t8\n"
     ]
    },
    {
     "name": "stderr",
     "output_type": "stream",
     "text": [
      "C:\\Users\\Brian\\Anaconda3\\lib\\site-packages\\boruta\\boruta_py.py:418: RuntimeWarning: invalid value encountered in greater\n",
      "  hits = np.where(cur_imp[0] > imp_sha_max)[0]\n"
     ]
    },
    {
     "name": "stdout",
     "output_type": "stream",
     "text": [
      "Iteration: \t65 / 100\n",
      "Confirmed: \t14\n",
      "Tentative: \t1\n",
      "Rejected: \t8\n"
     ]
    },
    {
     "name": "stderr",
     "output_type": "stream",
     "text": [
      "C:\\Users\\Brian\\Anaconda3\\lib\\site-packages\\boruta\\boruta_py.py:418: RuntimeWarning: invalid value encountered in greater\n",
      "  hits = np.where(cur_imp[0] > imp_sha_max)[0]\n"
     ]
    },
    {
     "name": "stdout",
     "output_type": "stream",
     "text": [
      "Iteration: \t66 / 100\n",
      "Confirmed: \t14\n",
      "Tentative: \t1\n",
      "Rejected: \t8\n"
     ]
    },
    {
     "name": "stderr",
     "output_type": "stream",
     "text": [
      "C:\\Users\\Brian\\Anaconda3\\lib\\site-packages\\boruta\\boruta_py.py:418: RuntimeWarning: invalid value encountered in greater\n",
      "  hits = np.where(cur_imp[0] > imp_sha_max)[0]\n"
     ]
    },
    {
     "name": "stdout",
     "output_type": "stream",
     "text": [
      "Iteration: \t67 / 100\n",
      "Confirmed: \t14\n",
      "Tentative: \t1\n",
      "Rejected: \t8\n"
     ]
    },
    {
     "name": "stderr",
     "output_type": "stream",
     "text": [
      "C:\\Users\\Brian\\Anaconda3\\lib\\site-packages\\boruta\\boruta_py.py:418: RuntimeWarning: invalid value encountered in greater\n",
      "  hits = np.where(cur_imp[0] > imp_sha_max)[0]\n"
     ]
    },
    {
     "name": "stdout",
     "output_type": "stream",
     "text": [
      "Iteration: \t68 / 100\n",
      "Confirmed: \t14\n",
      "Tentative: \t1\n",
      "Rejected: \t8\n"
     ]
    },
    {
     "name": "stderr",
     "output_type": "stream",
     "text": [
      "C:\\Users\\Brian\\Anaconda3\\lib\\site-packages\\boruta\\boruta_py.py:418: RuntimeWarning: invalid value encountered in greater\n",
      "  hits = np.where(cur_imp[0] > imp_sha_max)[0]\n"
     ]
    },
    {
     "name": "stdout",
     "output_type": "stream",
     "text": [
      "Iteration: \t69 / 100\n",
      "Confirmed: \t14\n",
      "Tentative: \t1\n",
      "Rejected: \t8\n"
     ]
    },
    {
     "name": "stderr",
     "output_type": "stream",
     "text": [
      "C:\\Users\\Brian\\Anaconda3\\lib\\site-packages\\boruta\\boruta_py.py:418: RuntimeWarning: invalid value encountered in greater\n",
      "  hits = np.where(cur_imp[0] > imp_sha_max)[0]\n"
     ]
    },
    {
     "name": "stdout",
     "output_type": "stream",
     "text": [
      "Iteration: \t70 / 100\n",
      "Confirmed: \t14\n",
      "Tentative: \t1\n",
      "Rejected: \t8\n"
     ]
    },
    {
     "name": "stderr",
     "output_type": "stream",
     "text": [
      "C:\\Users\\Brian\\Anaconda3\\lib\\site-packages\\boruta\\boruta_py.py:418: RuntimeWarning: invalid value encountered in greater\n",
      "  hits = np.where(cur_imp[0] > imp_sha_max)[0]\n"
     ]
    },
    {
     "name": "stdout",
     "output_type": "stream",
     "text": [
      "Iteration: \t71 / 100\n",
      "Confirmed: \t14\n",
      "Tentative: \t1\n",
      "Rejected: \t8\n"
     ]
    },
    {
     "name": "stderr",
     "output_type": "stream",
     "text": [
      "C:\\Users\\Brian\\Anaconda3\\lib\\site-packages\\boruta\\boruta_py.py:418: RuntimeWarning: invalid value encountered in greater\n",
      "  hits = np.where(cur_imp[0] > imp_sha_max)[0]\n"
     ]
    },
    {
     "name": "stdout",
     "output_type": "stream",
     "text": [
      "Iteration: \t72 / 100\n",
      "Confirmed: \t14\n",
      "Tentative: \t1\n",
      "Rejected: \t8\n"
     ]
    },
    {
     "name": "stderr",
     "output_type": "stream",
     "text": [
      "C:\\Users\\Brian\\Anaconda3\\lib\\site-packages\\boruta\\boruta_py.py:418: RuntimeWarning: invalid value encountered in greater\n",
      "  hits = np.where(cur_imp[0] > imp_sha_max)[0]\n"
     ]
    },
    {
     "name": "stdout",
     "output_type": "stream",
     "text": [
      "Iteration: \t73 / 100\n",
      "Confirmed: \t14\n",
      "Tentative: \t1\n",
      "Rejected: \t8\n"
     ]
    },
    {
     "name": "stderr",
     "output_type": "stream",
     "text": [
      "C:\\Users\\Brian\\Anaconda3\\lib\\site-packages\\boruta\\boruta_py.py:418: RuntimeWarning: invalid value encountered in greater\n",
      "  hits = np.where(cur_imp[0] > imp_sha_max)[0]\n"
     ]
    },
    {
     "name": "stdout",
     "output_type": "stream",
     "text": [
      "Iteration: \t74 / 100\n",
      "Confirmed: \t14\n",
      "Tentative: \t1\n",
      "Rejected: \t8\n"
     ]
    },
    {
     "name": "stderr",
     "output_type": "stream",
     "text": [
      "C:\\Users\\Brian\\Anaconda3\\lib\\site-packages\\boruta\\boruta_py.py:418: RuntimeWarning: invalid value encountered in greater\n",
      "  hits = np.where(cur_imp[0] > imp_sha_max)[0]\n"
     ]
    },
    {
     "name": "stdout",
     "output_type": "stream",
     "text": [
      "Iteration: \t75 / 100\n",
      "Confirmed: \t14\n",
      "Tentative: \t1\n",
      "Rejected: \t8\n"
     ]
    },
    {
     "name": "stderr",
     "output_type": "stream",
     "text": [
      "C:\\Users\\Brian\\Anaconda3\\lib\\site-packages\\boruta\\boruta_py.py:418: RuntimeWarning: invalid value encountered in greater\n",
      "  hits = np.where(cur_imp[0] > imp_sha_max)[0]\n"
     ]
    },
    {
     "name": "stdout",
     "output_type": "stream",
     "text": [
      "Iteration: \t76 / 100\n",
      "Confirmed: \t14\n",
      "Tentative: \t1\n",
      "Rejected: \t8\n"
     ]
    },
    {
     "name": "stderr",
     "output_type": "stream",
     "text": [
      "C:\\Users\\Brian\\Anaconda3\\lib\\site-packages\\boruta\\boruta_py.py:418: RuntimeWarning: invalid value encountered in greater\n",
      "  hits = np.where(cur_imp[0] > imp_sha_max)[0]\n"
     ]
    },
    {
     "name": "stdout",
     "output_type": "stream",
     "text": [
      "Iteration: \t77 / 100\n",
      "Confirmed: \t14\n",
      "Tentative: \t1\n",
      "Rejected: \t8\n"
     ]
    },
    {
     "name": "stderr",
     "output_type": "stream",
     "text": [
      "C:\\Users\\Brian\\Anaconda3\\lib\\site-packages\\boruta\\boruta_py.py:418: RuntimeWarning: invalid value encountered in greater\n",
      "  hits = np.where(cur_imp[0] > imp_sha_max)[0]\n"
     ]
    },
    {
     "name": "stdout",
     "output_type": "stream",
     "text": [
      "Iteration: \t78 / 100\n",
      "Confirmed: \t14\n",
      "Tentative: \t1\n",
      "Rejected: \t8\n"
     ]
    },
    {
     "name": "stderr",
     "output_type": "stream",
     "text": [
      "C:\\Users\\Brian\\Anaconda3\\lib\\site-packages\\boruta\\boruta_py.py:418: RuntimeWarning: invalid value encountered in greater\n",
      "  hits = np.where(cur_imp[0] > imp_sha_max)[0]\n"
     ]
    },
    {
     "name": "stdout",
     "output_type": "stream",
     "text": [
      "Iteration: \t79 / 100\n",
      "Confirmed: \t14\n",
      "Tentative: \t1\n",
      "Rejected: \t8\n"
     ]
    },
    {
     "name": "stderr",
     "output_type": "stream",
     "text": [
      "C:\\Users\\Brian\\Anaconda3\\lib\\site-packages\\boruta\\boruta_py.py:418: RuntimeWarning: invalid value encountered in greater\n",
      "  hits = np.where(cur_imp[0] > imp_sha_max)[0]\n"
     ]
    },
    {
     "name": "stdout",
     "output_type": "stream",
     "text": [
      "Iteration: \t80 / 100\n",
      "Confirmed: \t14\n",
      "Tentative: \t1\n",
      "Rejected: \t8\n"
     ]
    },
    {
     "name": "stderr",
     "output_type": "stream",
     "text": [
      "C:\\Users\\Brian\\Anaconda3\\lib\\site-packages\\boruta\\boruta_py.py:418: RuntimeWarning: invalid value encountered in greater\n",
      "  hits = np.where(cur_imp[0] > imp_sha_max)[0]\n"
     ]
    },
    {
     "name": "stdout",
     "output_type": "stream",
     "text": [
      "Iteration: \t81 / 100\n",
      "Confirmed: \t14\n",
      "Tentative: \t1\n",
      "Rejected: \t8\n"
     ]
    },
    {
     "name": "stderr",
     "output_type": "stream",
     "text": [
      "C:\\Users\\Brian\\Anaconda3\\lib\\site-packages\\boruta\\boruta_py.py:418: RuntimeWarning: invalid value encountered in greater\n",
      "  hits = np.where(cur_imp[0] > imp_sha_max)[0]\n"
     ]
    },
    {
     "name": "stdout",
     "output_type": "stream",
     "text": [
      "Iteration: \t82 / 100\n",
      "Confirmed: \t14\n",
      "Tentative: \t1\n",
      "Rejected: \t8\n"
     ]
    },
    {
     "name": "stderr",
     "output_type": "stream",
     "text": [
      "C:\\Users\\Brian\\Anaconda3\\lib\\site-packages\\boruta\\boruta_py.py:418: RuntimeWarning: invalid value encountered in greater\n",
      "  hits = np.where(cur_imp[0] > imp_sha_max)[0]\n"
     ]
    },
    {
     "name": "stdout",
     "output_type": "stream",
     "text": [
      "Iteration: \t83 / 100\n",
      "Confirmed: \t14\n",
      "Tentative: \t1\n",
      "Rejected: \t8\n"
     ]
    },
    {
     "name": "stderr",
     "output_type": "stream",
     "text": [
      "C:\\Users\\Brian\\Anaconda3\\lib\\site-packages\\boruta\\boruta_py.py:418: RuntimeWarning: invalid value encountered in greater\n",
      "  hits = np.where(cur_imp[0] > imp_sha_max)[0]\n"
     ]
    },
    {
     "name": "stdout",
     "output_type": "stream",
     "text": [
      "Iteration: \t84 / 100\n",
      "Confirmed: \t14\n",
      "Tentative: \t1\n",
      "Rejected: \t8\n"
     ]
    },
    {
     "name": "stderr",
     "output_type": "stream",
     "text": [
      "C:\\Users\\Brian\\Anaconda3\\lib\\site-packages\\boruta\\boruta_py.py:418: RuntimeWarning: invalid value encountered in greater\n",
      "  hits = np.where(cur_imp[0] > imp_sha_max)[0]\n"
     ]
    },
    {
     "name": "stdout",
     "output_type": "stream",
     "text": [
      "Iteration: \t85 / 100\n",
      "Confirmed: \t14\n",
      "Tentative: \t1\n",
      "Rejected: \t8\n"
     ]
    },
    {
     "name": "stderr",
     "output_type": "stream",
     "text": [
      "C:\\Users\\Brian\\Anaconda3\\lib\\site-packages\\boruta\\boruta_py.py:418: RuntimeWarning: invalid value encountered in greater\n",
      "  hits = np.where(cur_imp[0] > imp_sha_max)[0]\n"
     ]
    },
    {
     "name": "stdout",
     "output_type": "stream",
     "text": [
      "Iteration: \t86 / 100\n",
      "Confirmed: \t14\n",
      "Tentative: \t1\n",
      "Rejected: \t8\n"
     ]
    },
    {
     "name": "stderr",
     "output_type": "stream",
     "text": [
      "C:\\Users\\Brian\\Anaconda3\\lib\\site-packages\\boruta\\boruta_py.py:418: RuntimeWarning: invalid value encountered in greater\n",
      "  hits = np.where(cur_imp[0] > imp_sha_max)[0]\n"
     ]
    },
    {
     "name": "stdout",
     "output_type": "stream",
     "text": [
      "Iteration: \t87 / 100\n",
      "Confirmed: \t14\n",
      "Tentative: \t1\n",
      "Rejected: \t8\n"
     ]
    },
    {
     "name": "stderr",
     "output_type": "stream",
     "text": [
      "C:\\Users\\Brian\\Anaconda3\\lib\\site-packages\\boruta\\boruta_py.py:418: RuntimeWarning: invalid value encountered in greater\n",
      "  hits = np.where(cur_imp[0] > imp_sha_max)[0]\n"
     ]
    },
    {
     "name": "stdout",
     "output_type": "stream",
     "text": [
      "Iteration: \t88 / 100\n",
      "Confirmed: \t14\n",
      "Tentative: \t1\n",
      "Rejected: \t8\n"
     ]
    },
    {
     "name": "stderr",
     "output_type": "stream",
     "text": [
      "C:\\Users\\Brian\\Anaconda3\\lib\\site-packages\\boruta\\boruta_py.py:418: RuntimeWarning: invalid value encountered in greater\n",
      "  hits = np.where(cur_imp[0] > imp_sha_max)[0]\n"
     ]
    },
    {
     "name": "stdout",
     "output_type": "stream",
     "text": [
      "Iteration: \t89 / 100\n",
      "Confirmed: \t14\n",
      "Tentative: \t1\n",
      "Rejected: \t8\n"
     ]
    },
    {
     "name": "stderr",
     "output_type": "stream",
     "text": [
      "C:\\Users\\Brian\\Anaconda3\\lib\\site-packages\\boruta\\boruta_py.py:418: RuntimeWarning: invalid value encountered in greater\n",
      "  hits = np.where(cur_imp[0] > imp_sha_max)[0]\n"
     ]
    },
    {
     "name": "stdout",
     "output_type": "stream",
     "text": [
      "Iteration: \t90 / 100\n",
      "Confirmed: \t14\n",
      "Tentative: \t1\n",
      "Rejected: \t8\n"
     ]
    },
    {
     "name": "stderr",
     "output_type": "stream",
     "text": [
      "C:\\Users\\Brian\\Anaconda3\\lib\\site-packages\\boruta\\boruta_py.py:418: RuntimeWarning: invalid value encountered in greater\n",
      "  hits = np.where(cur_imp[0] > imp_sha_max)[0]\n"
     ]
    },
    {
     "name": "stdout",
     "output_type": "stream",
     "text": [
      "Iteration: \t91 / 100\n",
      "Confirmed: \t14\n",
      "Tentative: \t1\n",
      "Rejected: \t8\n"
     ]
    },
    {
     "name": "stderr",
     "output_type": "stream",
     "text": [
      "C:\\Users\\Brian\\Anaconda3\\lib\\site-packages\\boruta\\boruta_py.py:418: RuntimeWarning: invalid value encountered in greater\n",
      "  hits = np.where(cur_imp[0] > imp_sha_max)[0]\n"
     ]
    },
    {
     "name": "stdout",
     "output_type": "stream",
     "text": [
      "Iteration: \t92 / 100\n",
      "Confirmed: \t14\n",
      "Tentative: \t1\n",
      "Rejected: \t8\n"
     ]
    },
    {
     "name": "stderr",
     "output_type": "stream",
     "text": [
      "C:\\Users\\Brian\\Anaconda3\\lib\\site-packages\\boruta\\boruta_py.py:418: RuntimeWarning: invalid value encountered in greater\n",
      "  hits = np.where(cur_imp[0] > imp_sha_max)[0]\n"
     ]
    },
    {
     "name": "stdout",
     "output_type": "stream",
     "text": [
      "Iteration: \t93 / 100\n",
      "Confirmed: \t14\n",
      "Tentative: \t1\n",
      "Rejected: \t8\n"
     ]
    },
    {
     "name": "stderr",
     "output_type": "stream",
     "text": [
      "C:\\Users\\Brian\\Anaconda3\\lib\\site-packages\\boruta\\boruta_py.py:418: RuntimeWarning: invalid value encountered in greater\n",
      "  hits = np.where(cur_imp[0] > imp_sha_max)[0]\n"
     ]
    },
    {
     "name": "stdout",
     "output_type": "stream",
     "text": [
      "Iteration: \t94 / 100\n",
      "Confirmed: \t14\n",
      "Tentative: \t1\n",
      "Rejected: \t8\n"
     ]
    },
    {
     "name": "stderr",
     "output_type": "stream",
     "text": [
      "C:\\Users\\Brian\\Anaconda3\\lib\\site-packages\\boruta\\boruta_py.py:418: RuntimeWarning: invalid value encountered in greater\n",
      "  hits = np.where(cur_imp[0] > imp_sha_max)[0]\n"
     ]
    },
    {
     "name": "stdout",
     "output_type": "stream",
     "text": [
      "Iteration: \t95 / 100\n",
      "Confirmed: \t14\n",
      "Tentative: \t1\n",
      "Rejected: \t8\n"
     ]
    },
    {
     "name": "stderr",
     "output_type": "stream",
     "text": [
      "C:\\Users\\Brian\\Anaconda3\\lib\\site-packages\\boruta\\boruta_py.py:418: RuntimeWarning: invalid value encountered in greater\n",
      "  hits = np.where(cur_imp[0] > imp_sha_max)[0]\n"
     ]
    },
    {
     "name": "stdout",
     "output_type": "stream",
     "text": [
      "Iteration: \t96 / 100\n",
      "Confirmed: \t14\n",
      "Tentative: \t1\n",
      "Rejected: \t8\n"
     ]
    },
    {
     "name": "stderr",
     "output_type": "stream",
     "text": [
      "C:\\Users\\Brian\\Anaconda3\\lib\\site-packages\\boruta\\boruta_py.py:418: RuntimeWarning: invalid value encountered in greater\n",
      "  hits = np.where(cur_imp[0] > imp_sha_max)[0]\n"
     ]
    },
    {
     "name": "stdout",
     "output_type": "stream",
     "text": [
      "Iteration: \t97 / 100\n",
      "Confirmed: \t14\n",
      "Tentative: \t1\n",
      "Rejected: \t8\n"
     ]
    },
    {
     "name": "stderr",
     "output_type": "stream",
     "text": [
      "C:\\Users\\Brian\\Anaconda3\\lib\\site-packages\\boruta\\boruta_py.py:418: RuntimeWarning: invalid value encountered in greater\n",
      "  hits = np.where(cur_imp[0] > imp_sha_max)[0]\n"
     ]
    },
    {
     "name": "stdout",
     "output_type": "stream",
     "text": [
      "Iteration: \t98 / 100\n",
      "Confirmed: \t14\n",
      "Tentative: \t1\n",
      "Rejected: \t8\n",
      "Iteration: \t99 / 100\n",
      "Confirmed: \t14\n",
      "Tentative: \t1\n",
      "Rejected: \t8\n",
      "\n",
      "\n",
      "BorutaPy finished running.\n",
      "\n",
      "Iteration: \t100 / 100\n",
      "Confirmed: \t14\n",
      "Tentative: \t0\n",
      "Rejected: \t8\n"
     ]
    },
    {
     "name": "stderr",
     "output_type": "stream",
     "text": [
      "C:\\Users\\Brian\\Anaconda3\\lib\\site-packages\\boruta\\boruta_py.py:418: RuntimeWarning: invalid value encountered in greater\n",
      "  hits = np.where(cur_imp[0] > imp_sha_max)[0]\n"
     ]
    },
    {
     "data": {
      "text/plain": [
       "BorutaPy(alpha=0.05,\n",
       "     estimator=RandomForestClassifier(bootstrap=True, class_weight='balanced',\n",
       "            criterion='gini', max_depth=5, max_features='auto',\n",
       "            max_leaf_nodes=None, min_impurity_decrease=0.0,\n",
       "            min_impurity_split=None, min_samples_leaf=1,\n",
       "            min_samples_split=2, min_weight_fraction_leaf=0.0,\n",
       "            n_estimators=109, n_jobs=-1, oob_score=False,\n",
       "            random_state=<mtrand.RandomState object at 0x000000886B817240>,\n",
       "            verbose=0, warm_start=False),\n",
       "     max_iter=100, n_estimators='auto', perc=100,\n",
       "     random_state=<mtrand.RandomState object at 0x000000886B817240>,\n",
       "     two_step=True, verbose=2)"
      ]
     },
     "execution_count": 7,
     "metadata": {},
     "output_type": "execute_result"
    }
   ],
   "source": [
    "# define random forest classifier, with utilising all cores and\n",
    "# sampling in proportion to y labels\n",
    "rf = RandomForestClassifier(n_jobs=-1, class_weight='balanced', max_depth=5)\n",
    "\n",
    "# define Boruta feature selection method\n",
    "feat_selector = BorutaPy(rf, n_estimators='auto', verbose=2, random_state=1)\n",
    "Y_trainval = Y_train.values\n",
    "np.random.seed(80085)\n",
    "feat_selector.fit(X_train_scaled, Y_trainval)"
   ]
  },
  {
   "cell_type": "code",
   "execution_count": 8,
   "metadata": {},
   "outputs": [],
   "source": [
    "criteria = pd.Series(feat_selector.support_)\n",
    "X_train_boruta = feat_selector.transform(X_train_scaled)\n",
    "X_train_boruta = pd.DataFrame(X_train_boruta, index = X_train.index, columns = X_train.columns[criteria].values)"
   ]
  },
  {
   "cell_type": "code",
   "execution_count": 9,
   "metadata": {},
   "outputs": [],
   "source": [
    "criteria = pd.Series(feat_selector.support_)\n",
    "X_test_boruta = feat_selector.transform(X_test_scaled)\n",
    "X_test_boruta = pd.DataFrame(X_test_boruta, index = X_test.index, columns = X_test.columns[criteria].values)"
   ]
  },
  {
   "cell_type": "code",
   "execution_count": 10,
   "metadata": {},
   "outputs": [
    {
     "data": {
      "text/plain": [
       "Index(['Disps_Per_Scoring_ShotPcnt_D_mean8', 'Goal_AssistsPcnt_D_mean8',\n",
       "       'Inside_50sPcnt_D_mean8', 'Scoring_ShotsPcnt_D_mean8',\n",
       "       'ScorePcnt_D_mean8', 'Disps_Per_Scoring_ShotPcnt_D_mean20',\n",
       "       'Goal_AssistsPcnt_D_mean20', 'In50s_ScorePcnt_D_mean20',\n",
       "       'Inside_50sPcnt_D_mean20', 'Scoring_ShotsPcnt_D_mean20',\n",
       "       'ScorePcnt_D_mean20', 'Margin_D_mean8', 'Win_D_mean20',\n",
       "       'Margin_D_mean20'],\n",
       "      dtype='object')"
      ]
     },
     "execution_count": 10,
     "metadata": {},
     "output_type": "execute_result"
    }
   ],
   "source": [
    "X_test_boruta.columns"
   ]
  },
  {
   "cell_type": "code",
   "execution_count": 11,
   "metadata": {},
   "outputs": [],
   "source": [
    "param_set = [{'C':[0.1, 0.5, 1, 5, 10, 100, 1000], 'kernel': ['linear']},\n",
    "             {'C': [0.1, 0.5, 1, 5, 10, 100, 1000], 'gamma': [1, 0.1, 0.01, 0.001, 0.0001], 'kernel': ['rbf']}]\n",
    "score = 'neg_log_loss'"
   ]
  },
  {
   "cell_type": "code",
   "execution_count": 12,
   "metadata": {},
   "outputs": [],
   "source": [
    "SVC_clf = GridSearchCV(svm.SVC(probability = True),\n",
    "            param_grid = param_set,\n",
    "            scoring = score,\n",
    "            cv = 5,\n",
    "            verbose = 3)"
   ]
  },
  {
   "cell_type": "code",
   "execution_count": 13,
   "metadata": {},
   "outputs": [
    {
     "name": "stdout",
     "output_type": "stream",
     "text": [
      "Fitting 5 folds for each of 42 candidates, totalling 210 fits\n",
      "[CV] C=0.1, kernel=linear ............................................\n",
      "[CV] .. C=0.1, kernel=linear, score=-0.5783049513603332, total=   0.8s\n",
      "[CV] C=0.1, kernel=linear ............................................\n"
     ]
    },
    {
     "name": "stderr",
     "output_type": "stream",
     "text": [
      "[Parallel(n_jobs=1)]: Done   1 out of   1 | elapsed:    0.8s remaining:    0.0s\n"
     ]
    },
    {
     "name": "stdout",
     "output_type": "stream",
     "text": [
      "[CV] ... C=0.1, kernel=linear, score=-0.570478794799436, total=   0.8s\n",
      "[CV] C=0.1, kernel=linear ............................................\n"
     ]
    },
    {
     "name": "stderr",
     "output_type": "stream",
     "text": [
      "[Parallel(n_jobs=1)]: Done   2 out of   2 | elapsed:    1.8s remaining:    0.0s\n"
     ]
    },
    {
     "name": "stdout",
     "output_type": "stream",
     "text": [
      "[CV] .. C=0.1, kernel=linear, score=-0.6324627634277612, total=   0.7s\n",
      "[CV] C=0.1, kernel=linear ............................................\n",
      "[CV] .. C=0.1, kernel=linear, score=-0.6217701763445432, total=   0.7s\n",
      "[CV] C=0.1, kernel=linear ............................................\n",
      "[CV] .. C=0.1, kernel=linear, score=-0.5636920684106195, total=   0.7s\n",
      "[CV] C=0.5, kernel=linear ............................................\n",
      "[CV] .. C=0.5, kernel=linear, score=-0.5785004895005851, total=   1.2s\n",
      "[CV] C=0.5, kernel=linear ............................................\n",
      "[CV] .. C=0.5, kernel=linear, score=-0.5684027752651958, total=   1.2s\n",
      "[CV] C=0.5, kernel=linear ............................................\n",
      "[CV] .. C=0.5, kernel=linear, score=-0.6380275798148736, total=   1.1s\n",
      "[CV] C=0.5, kernel=linear ............................................\n",
      "[CV] .. C=0.5, kernel=linear, score=-0.6203420216791522, total=   1.1s\n",
      "[CV] C=0.5, kernel=linear ............................................\n",
      "[CV] .. C=0.5, kernel=linear, score=-0.5684284480121151, total=   1.3s\n",
      "[CV] C=1, kernel=linear ..............................................\n",
      "[CV] .... C=1, kernel=linear, score=-0.5783643961424632, total=   1.6s\n",
      "[CV] C=1, kernel=linear ..............................................\n",
      "[CV] .... C=1, kernel=linear, score=-0.5666182530495297, total=   1.6s\n",
      "[CV] C=1, kernel=linear ..............................................\n",
      "[CV] .... C=1, kernel=linear, score=-0.6411423618912213, total=   1.6s\n",
      "[CV] C=1, kernel=linear ..............................................\n",
      "[CV] .... C=1, kernel=linear, score=-0.6193442437221192, total=   1.5s\n",
      "[CV] C=1, kernel=linear ..............................................\n",
      "[CV] .... C=1, kernel=linear, score=-0.5685054318267985, total=   1.6s\n",
      "[CV] C=5, kernel=linear ..............................................\n",
      "[CV] .... C=5, kernel=linear, score=-0.5779491685238075, total=   4.1s\n",
      "[CV] C=5, kernel=linear ..............................................\n",
      "[CV] .... C=5, kernel=linear, score=-0.5691384210331867, total=   4.2s\n",
      "[CV] C=5, kernel=linear ..............................................\n",
      "[CV] .... C=5, kernel=linear, score=-0.6418741150069659, total=   3.8s\n",
      "[CV] C=5, kernel=linear ..............................................\n",
      "[CV] ..... C=5, kernel=linear, score=-0.619040618826566, total=   3.8s\n",
      "[CV] C=5, kernel=linear ..............................................\n",
      "[CV] .... C=5, kernel=linear, score=-0.5707077696350585, total=   4.0s\n",
      "[CV] C=10, kernel=linear .............................................\n",
      "[CV] ... C=10, kernel=linear, score=-0.5772271771972485, total=   6.3s\n",
      "[CV] C=10, kernel=linear .............................................\n",
      "[CV] ... C=10, kernel=linear, score=-0.5693313845378566, total=   6.8s\n",
      "[CV] C=10, kernel=linear .............................................\n",
      "[CV] ... C=10, kernel=linear, score=-0.6432811495548652, total=   6.2s\n",
      "[CV] C=10, kernel=linear .............................................\n",
      "[CV] ... C=10, kernel=linear, score=-0.6182846420055745, total=   6.2s\n",
      "[CV] C=10, kernel=linear .............................................\n",
      "[CV] ... C=10, kernel=linear, score=-0.5712811991167017, total=   6.9s\n",
      "[CV] C=100, kernel=linear ............................................\n",
      "[CV] .. C=100, kernel=linear, score=-0.5774048915342452, total= 1.0min\n",
      "[CV] C=100, kernel=linear ............................................\n",
      "[CV] ... C=100, kernel=linear, score=-0.569106157418349, total=  45.4s\n",
      "[CV] C=100, kernel=linear ............................................\n",
      "[CV] ... C=100, kernel=linear, score=-0.645259333811482, total=  43.3s\n",
      "[CV] C=100, kernel=linear ............................................\n",
      "[CV] .. C=100, kernel=linear, score=-0.6179564434148134, total=  38.7s\n",
      "[CV] C=100, kernel=linear ............................................\n",
      "[CV] .. C=100, kernel=linear, score=-0.5705403928187696, total=  46.4s\n",
      "[CV] C=1000, kernel=linear ...........................................\n",
      "[CV] . C=1000, kernel=linear, score=-0.5773536841350572, total= 6.2min\n",
      "[CV] C=1000, kernel=linear ...........................................\n",
      "[CV] . C=1000, kernel=linear, score=-0.5689693715975443, total= 6.4min\n",
      "[CV] C=1000, kernel=linear ...........................................\n",
      "[CV] . C=1000, kernel=linear, score=-0.6452679342565797, total= 6.9min\n",
      "[CV] C=1000, kernel=linear ...........................................\n",
      "[CV] . C=1000, kernel=linear, score=-0.6175155047684929, total= 6.3min\n",
      "[CV] C=1000, kernel=linear ...........................................\n",
      "[CV] . C=1000, kernel=linear, score=-0.5695945778537349, total= 6.7min\n",
      "[CV] C=0.1, gamma=1, kernel=rbf ......................................\n",
      "[CV]  C=0.1, gamma=1, kernel=rbf, score=-0.6482596984043698, total=   1.4s\n",
      "[CV] C=0.1, gamma=1, kernel=rbf ......................................\n",
      "[CV]  C=0.1, gamma=1, kernel=rbf, score=-0.6149998393982161, total=   1.4s\n",
      "[CV] C=0.1, gamma=1, kernel=rbf ......................................\n",
      "[CV]  C=0.1, gamma=1, kernel=rbf, score=-0.6543285641365094, total=   1.4s\n",
      "[CV] C=0.1, gamma=1, kernel=rbf ......................................\n",
      "[CV]  C=0.1, gamma=1, kernel=rbf, score=-0.6650274644506299, total=   1.4s\n",
      "[CV] C=0.1, gamma=1, kernel=rbf ......................................\n",
      "[CV]  C=0.1, gamma=1, kernel=rbf, score=-0.602371420351786, total=   1.4s\n",
      "[CV] C=0.1, gamma=0.1, kernel=rbf ....................................\n",
      "[CV]  C=0.1, gamma=0.1, kernel=rbf, score=-0.6213422514811914, total=   1.0s\n",
      "[CV] C=0.1, gamma=0.1, kernel=rbf ....................................\n",
      "[CV]  C=0.1, gamma=0.1, kernel=rbf, score=-0.5827513739619654, total=   1.1s\n",
      "[CV] C=0.1, gamma=0.1, kernel=rbf ....................................\n",
      "[CV]  C=0.1, gamma=0.1, kernel=rbf, score=-0.6350504681331056, total=   1.1s\n",
      "[CV] C=0.1, gamma=0.1, kernel=rbf ....................................\n",
      "[CV]  C=0.1, gamma=0.1, kernel=rbf, score=-0.6405588609448989, total=   1.0s\n",
      "[CV] C=0.1, gamma=0.1, kernel=rbf ....................................\n",
      "[CV]  C=0.1, gamma=0.1, kernel=rbf, score=-0.5669027444123625, total=   1.1s\n",
      "[CV] C=0.1, gamma=0.01, kernel=rbf ...................................\n",
      "[CV]  C=0.1, gamma=0.01, kernel=rbf, score=-0.5926905067907707, total=   1.1s\n",
      "[CV] C=0.1, gamma=0.01, kernel=rbf ...................................\n",
      "[CV]  C=0.1, gamma=0.01, kernel=rbf, score=-0.5583601147065412, total=   1.0s\n",
      "[CV] C=0.1, gamma=0.01, kernel=rbf ...................................\n",
      "[CV]  C=0.1, gamma=0.01, kernel=rbf, score=-0.6255411309135829, total=   1.0s\n",
      "[CV] C=0.1, gamma=0.01, kernel=rbf ...................................\n",
      "[CV]  C=0.1, gamma=0.01, kernel=rbf, score=-0.6301554710215035, total=   1.0s\n",
      "[CV] C=0.1, gamma=0.01, kernel=rbf ...................................\n",
      "[CV]  C=0.1, gamma=0.01, kernel=rbf, score=-0.5502103562879012, total=   1.0s\n",
      "[CV] C=0.1, gamma=0.001, kernel=rbf ..................................\n",
      "[CV]  C=0.1, gamma=0.001, kernel=rbf, score=-0.5836946108320719, total=   1.2s\n",
      "[CV] C=0.1, gamma=0.001, kernel=rbf ..................................\n",
      "[CV]  C=0.1, gamma=0.001, kernel=rbf, score=-0.5490078251791789, total=   1.2s\n",
      "[CV] C=0.1, gamma=0.001, kernel=rbf ..................................\n",
      "[CV]  C=0.1, gamma=0.001, kernel=rbf, score=-0.6186302937018004, total=   1.2s\n",
      "[CV] C=0.1, gamma=0.001, kernel=rbf ..................................\n",
      "[CV]  C=0.1, gamma=0.001, kernel=rbf, score=-0.6342070137438445, total=   1.2s\n",
      "[CV] C=0.1, gamma=0.001, kernel=rbf ..................................\n",
      "[CV]  C=0.1, gamma=0.001, kernel=rbf, score=-0.5486377789544432, total=   1.2s\n",
      "[CV] C=0.1, gamma=0.0001, kernel=rbf .................................\n",
      "[CV]  C=0.1, gamma=0.0001, kernel=rbf, score=-0.686064454970889, total=   1.4s\n",
      "[CV] C=0.1, gamma=0.0001, kernel=rbf .................................\n",
      "[CV]  C=0.1, gamma=0.0001, kernel=rbf, score=-0.6922835172717638, total=   1.3s\n",
      "[CV] C=0.1, gamma=0.0001, kernel=rbf .................................\n",
      "[CV]  C=0.1, gamma=0.0001, kernel=rbf, score=-0.6844306743050848, total=   1.3s\n",
      "[CV] C=0.1, gamma=0.0001, kernel=rbf .................................\n",
      "[CV]  C=0.1, gamma=0.0001, kernel=rbf, score=-0.6886537200995136, total=   1.3s\n",
      "[CV] C=0.1, gamma=0.0001, kernel=rbf .................................\n"
     ]
    },
    {
     "name": "stdout",
     "output_type": "stream",
     "text": [
      "[CV]  C=0.1, gamma=0.0001, kernel=rbf, score=-0.6881467885141863, total=   1.4s\n",
      "[CV] C=0.5, gamma=1, kernel=rbf ......................................\n",
      "[CV]  C=0.5, gamma=1, kernel=rbf, score=-0.6372147342597445, total=   1.5s\n",
      "[CV] C=0.5, gamma=1, kernel=rbf ......................................\n",
      "[CV]  C=0.5, gamma=1, kernel=rbf, score=-0.6123337592426014, total=   1.5s\n",
      "[CV] C=0.5, gamma=1, kernel=rbf ......................................\n",
      "[CV]  C=0.5, gamma=1, kernel=rbf, score=-0.6556359567165179, total=   1.5s\n",
      "[CV] C=0.5, gamma=1, kernel=rbf ......................................\n",
      "[CV]  C=0.5, gamma=1, kernel=rbf, score=-0.6729727774306303, total=   1.5s\n",
      "[CV] C=0.5, gamma=1, kernel=rbf ......................................\n",
      "[CV]  C=0.5, gamma=1, kernel=rbf, score=-0.6015393434480164, total=   1.6s\n",
      "[CV] C=0.5, gamma=0.1, kernel=rbf ....................................\n",
      "[CV]  C=0.5, gamma=0.1, kernel=rbf, score=-0.6245659149497157, total=   1.2s\n",
      "[CV] C=0.5, gamma=0.1, kernel=rbf ....................................\n",
      "[CV]  C=0.5, gamma=0.1, kernel=rbf, score=-0.587324423202898, total=   1.2s\n",
      "[CV] C=0.5, gamma=0.1, kernel=rbf ....................................\n",
      "[CV]  C=0.5, gamma=0.1, kernel=rbf, score=-0.6404640361866984, total=   1.1s\n",
      "[CV] C=0.5, gamma=0.1, kernel=rbf ....................................\n",
      "[CV]  C=0.5, gamma=0.1, kernel=rbf, score=-0.6434952170699195, total=   1.2s\n",
      "[CV] C=0.5, gamma=0.1, kernel=rbf ....................................\n",
      "[CV]  C=0.5, gamma=0.1, kernel=rbf, score=-0.5735579058099983, total=   1.3s\n",
      "[CV] C=0.5, gamma=0.01, kernel=rbf ...................................\n",
      "[CV]  C=0.5, gamma=0.01, kernel=rbf, score=-0.5965057545985797, total=   1.0s\n",
      "[CV] C=0.5, gamma=0.01, kernel=rbf ...................................\n",
      "[CV]  C=0.5, gamma=0.01, kernel=rbf, score=-0.5700547138606007, total=   1.0s\n",
      "[CV] C=0.5, gamma=0.01, kernel=rbf ...................................\n",
      "[CV]  C=0.5, gamma=0.01, kernel=rbf, score=-0.6329469019950975, total=   1.0s\n",
      "[CV] C=0.5, gamma=0.01, kernel=rbf ...................................\n",
      "[CV]  C=0.5, gamma=0.01, kernel=rbf, score=-0.6290680734374385, total=   1.0s\n",
      "[CV] C=0.5, gamma=0.01, kernel=rbf ...................................\n",
      "[CV]  C=0.5, gamma=0.01, kernel=rbf, score=-0.5561103083119565, total=   1.0s\n",
      "[CV] C=0.5, gamma=0.001, kernel=rbf ..................................\n",
      "[CV]  C=0.5, gamma=0.001, kernel=rbf, score=-0.5817852661788081, total=   1.0s\n",
      "[CV] C=0.5, gamma=0.001, kernel=rbf ..................................\n",
      "[CV]  C=0.5, gamma=0.001, kernel=rbf, score=-0.5523505833872586, total=   1.1s\n",
      "[CV] C=0.5, gamma=0.001, kernel=rbf ..................................\n",
      "[CV]  C=0.5, gamma=0.001, kernel=rbf, score=-0.6188783186323823, total=   1.1s\n",
      "[CV] C=0.5, gamma=0.001, kernel=rbf ..................................\n",
      "[CV]  C=0.5, gamma=0.001, kernel=rbf, score=-0.6305812047535957, total=   1.0s\n",
      "[CV] C=0.5, gamma=0.001, kernel=rbf ..................................\n",
      "[CV]  C=0.5, gamma=0.001, kernel=rbf, score=-0.5490369593823637, total=   1.1s\n",
      "[CV] C=0.5, gamma=0.0001, kernel=rbf .................................\n",
      "[CV]  C=0.5, gamma=0.0001, kernel=rbf, score=-0.5835470352097165, total=   1.3s\n",
      "[CV] C=0.5, gamma=0.0001, kernel=rbf .................................\n",
      "[CV]  C=0.5, gamma=0.0001, kernel=rbf, score=-0.5490848211648077, total=   1.3s\n",
      "[CV] C=0.5, gamma=0.0001, kernel=rbf .................................\n",
      "[CV]  C=0.5, gamma=0.0001, kernel=rbf, score=-0.6184347119055971, total=   1.3s\n",
      "[CV] C=0.5, gamma=0.0001, kernel=rbf .................................\n",
      "[CV]  C=0.5, gamma=0.0001, kernel=rbf, score=-0.6342489659712548, total=   1.3s\n",
      "[CV] C=0.5, gamma=0.0001, kernel=rbf .................................\n",
      "[CV]  C=0.5, gamma=0.0001, kernel=rbf, score=-0.5488006373569306, total=   1.3s\n",
      "[CV] C=1, gamma=1, kernel=rbf ........................................\n",
      "[CV]  C=1, gamma=1, kernel=rbf, score=-0.6392545305918713, total=   1.7s\n",
      "[CV] C=1, gamma=1, kernel=rbf ........................................\n",
      "[CV]  C=1, gamma=1, kernel=rbf, score=-0.6218215429540058, total=   1.7s\n",
      "[CV] C=1, gamma=1, kernel=rbf ........................................\n",
      "[CV]  C=1, gamma=1, kernel=rbf, score=-0.6586476002548879, total=   1.7s\n",
      "[CV] C=1, gamma=1, kernel=rbf ........................................\n",
      "[CV]  C=1, gamma=1, kernel=rbf, score=-0.6726910881060647, total=   1.7s\n",
      "[CV] C=1, gamma=1, kernel=rbf ........................................\n",
      "[CV]  C=1, gamma=1, kernel=rbf, score=-0.6246167209688941, total=   1.7s\n",
      "[CV] C=1, gamma=0.1, kernel=rbf ......................................\n",
      "[CV]  C=1, gamma=0.1, kernel=rbf, score=-0.6252401556432411, total=   1.3s\n",
      "[CV] C=1, gamma=0.1, kernel=rbf ......................................\n",
      "[CV]  C=1, gamma=0.1, kernel=rbf, score=-0.5897378807581225, total=   1.2s\n",
      "[CV] C=1, gamma=0.1, kernel=rbf ......................................\n",
      "[CV]  C=1, gamma=0.1, kernel=rbf, score=-0.6437627103698099, total=   1.2s\n",
      "[CV] C=1, gamma=0.1, kernel=rbf ......................................\n",
      "[CV]  C=1, gamma=0.1, kernel=rbf, score=-0.6457313319172134, total=   1.3s\n",
      "[CV] C=1, gamma=0.1, kernel=rbf ......................................\n",
      "[CV]  C=1, gamma=0.1, kernel=rbf, score=-0.5777552470182892, total=   1.3s\n",
      "[CV] C=1, gamma=0.01, kernel=rbf .....................................\n",
      "[CV]  C=1, gamma=0.01, kernel=rbf, score=-0.5987842187044935, total=   1.0s\n",
      "[CV] C=1, gamma=0.01, kernel=rbf .....................................\n",
      "[CV]  C=1, gamma=0.01, kernel=rbf, score=-0.5755167312251867, total=   1.0s\n",
      "[CV] C=1, gamma=0.01, kernel=rbf .....................................\n",
      "[CV]  C=1, gamma=0.01, kernel=rbf, score=-0.6360111466478857, total=   1.1s\n",
      "[CV] C=1, gamma=0.01, kernel=rbf .....................................\n",
      "[CV]  C=1, gamma=0.01, kernel=rbf, score=-0.6296246897467993, total=   1.0s\n",
      "[CV] C=1, gamma=0.01, kernel=rbf .....................................\n",
      "[CV]  C=1, gamma=0.01, kernel=rbf, score=-0.5606677772585572, total=   1.0s\n",
      "[CV] C=1, gamma=0.001, kernel=rbf ....................................\n",
      "[CV]  C=1, gamma=0.001, kernel=rbf, score=-0.5800706753477112, total=   1.0s\n",
      "[CV] C=1, gamma=0.001, kernel=rbf ....................................\n",
      "[CV]  C=1, gamma=0.001, kernel=rbf, score=-0.5540518791207975, total=   1.0s\n",
      "[CV] C=1, gamma=0.001, kernel=rbf ....................................\n",
      "[CV]  C=1, gamma=0.001, kernel=rbf, score=-0.6195696434276462, total=   1.0s\n",
      "[CV] C=1, gamma=0.001, kernel=rbf ....................................\n",
      "[CV]  C=1, gamma=0.001, kernel=rbf, score=-0.6280037823887719, total=   1.0s\n",
      "[CV] C=1, gamma=0.001, kernel=rbf ....................................\n",
      "[CV]  C=1, gamma=0.001, kernel=rbf, score=-0.5497647279001898, total=   1.0s\n",
      "[CV] C=1, gamma=0.0001, kernel=rbf ...................................\n",
      "[CV]  C=1, gamma=0.0001, kernel=rbf, score=-0.5828672544343272, total=   1.2s\n",
      "[CV] C=1, gamma=0.0001, kernel=rbf ...................................\n",
      "[CV]  C=1, gamma=0.0001, kernel=rbf, score=-0.549737180339743, total=   1.2s\n",
      "[CV] C=1, gamma=0.0001, kernel=rbf ...................................\n",
      "[CV]  C=1, gamma=0.0001, kernel=rbf, score=-0.6182033236089609, total=   1.2s\n",
      "[CV] C=1, gamma=0.0001, kernel=rbf ...................................\n",
      "[CV]  C=1, gamma=0.0001, kernel=rbf, score=-0.6340428073568882, total=   1.2s\n",
      "[CV] C=1, gamma=0.0001, kernel=rbf ...................................\n",
      "[CV]  C=1, gamma=0.0001, kernel=rbf, score=-0.5490275945684175, total=   1.2s\n",
      "[CV] C=5, gamma=1, kernel=rbf ........................................\n",
      "[CV]  C=5, gamma=1, kernel=rbf, score=-0.6521935799496553, total=   2.4s\n",
      "[CV] C=5, gamma=1, kernel=rbf ........................................\n",
      "[CV]  C=5, gamma=1, kernel=rbf, score=-0.64840587551865, total=   2.4s\n",
      "[CV] C=5, gamma=1, kernel=rbf ........................................\n",
      "[CV]  C=5, gamma=1, kernel=rbf, score=-0.6734992089310095, total=   2.4s\n",
      "[CV] C=5, gamma=1, kernel=rbf ........................................\n",
      "[CV]  C=5, gamma=1, kernel=rbf, score=-0.6661106623035311, total=   2.4s\n",
      "[CV] C=5, gamma=1, kernel=rbf ........................................\n",
      "[CV]  C=5, gamma=1, kernel=rbf, score=-0.6617486858739801, total=   2.4s\n",
      "[CV] C=5, gamma=0.1, kernel=rbf ......................................\n"
     ]
    },
    {
     "name": "stdout",
     "output_type": "stream",
     "text": [
      "[CV]  C=5, gamma=0.1, kernel=rbf, score=-0.6264393088329916, total=   1.7s\n",
      "[CV] C=5, gamma=0.1, kernel=rbf ......................................\n",
      "[CV]  C=5, gamma=0.1, kernel=rbf, score=-0.6003090013198878, total=   1.6s\n",
      "[CV] C=5, gamma=0.1, kernel=rbf ......................................\n",
      "[CV]  C=5, gamma=0.1, kernel=rbf, score=-0.6519327092711106, total=   1.5s\n",
      "[CV] C=5, gamma=0.1, kernel=rbf ......................................\n",
      "[CV]  C=5, gamma=0.1, kernel=rbf, score=-0.6558712067408219, total=   1.6s\n",
      "[CV] C=5, gamma=0.1, kernel=rbf ......................................\n",
      "[CV]  C=5, gamma=0.1, kernel=rbf, score=-0.5904756242220311, total=   1.5s\n",
      "[CV] C=5, gamma=0.01, kernel=rbf .....................................\n",
      "[CV]  C=5, gamma=0.01, kernel=rbf, score=-0.6046678975527932, total=   1.1s\n",
      "[CV] C=5, gamma=0.01, kernel=rbf .....................................\n",
      "[CV]  C=5, gamma=0.01, kernel=rbf, score=-0.5811522698940954, total=   1.1s\n",
      "[CV] C=5, gamma=0.01, kernel=rbf .....................................\n",
      "[CV]  C=5, gamma=0.01, kernel=rbf, score=-0.6410550492855991, total=   1.1s\n",
      "[CV] C=5, gamma=0.01, kernel=rbf .....................................\n",
      "[CV]  C=5, gamma=0.01, kernel=rbf, score=-0.6304571917314686, total=   1.1s\n",
      "[CV] C=5, gamma=0.01, kernel=rbf .....................................\n",
      "[CV]  C=5, gamma=0.01, kernel=rbf, score=-0.5698500430742015, total=   1.1s\n",
      "[CV] C=5, gamma=0.001, kernel=rbf ....................................\n",
      "[CV]  C=5, gamma=0.001, kernel=rbf, score=-0.5796664367333068, total=   1.0s\n",
      "[CV] C=5, gamma=0.001, kernel=rbf ....................................\n",
      "[CV]  C=5, gamma=0.001, kernel=rbf, score=-0.561451353020143, total=   1.0s\n",
      "[CV] C=5, gamma=0.001, kernel=rbf ....................................\n",
      "[CV]  C=5, gamma=0.001, kernel=rbf, score=-0.6246997973175319, total=   1.0s\n",
      "[CV] C=5, gamma=0.001, kernel=rbf ....................................\n",
      "[CV]  C=5, gamma=0.001, kernel=rbf, score=-0.626382665285558, total=   1.0s\n",
      "[CV] C=5, gamma=0.001, kernel=rbf ....................................\n",
      "[CV]  C=5, gamma=0.001, kernel=rbf, score=-0.5529941513738078, total=   1.0s\n",
      "[CV] C=5, gamma=0.0001, kernel=rbf ...................................\n",
      "[CV]  C=5, gamma=0.0001, kernel=rbf, score=-0.5807401383115288, total=   1.1s\n",
      "[CV] C=5, gamma=0.0001, kernel=rbf ...................................\n",
      "[CV]  C=5, gamma=0.0001, kernel=rbf, score=-0.5525722432242811, total=   1.1s\n",
      "[CV] C=5, gamma=0.0001, kernel=rbf ...................................\n",
      "[CV]  C=5, gamma=0.0001, kernel=rbf, score=-0.6183979623461323, total=   1.1s\n",
      "[CV] C=5, gamma=0.0001, kernel=rbf ...................................\n",
      "[CV]  C=5, gamma=0.0001, kernel=rbf, score=-0.6306064261796264, total=   1.0s\n",
      "[CV] C=5, gamma=0.0001, kernel=rbf ...................................\n",
      "[CV]  C=5, gamma=0.0001, kernel=rbf, score=-0.5495418664335772, total=   1.1s\n",
      "[CV] C=10, gamma=1, kernel=rbf .......................................\n",
      "[CV]  C=10, gamma=1, kernel=rbf, score=-0.653369288215683, total=   2.7s\n",
      "[CV] C=10, gamma=1, kernel=rbf .......................................\n",
      "[CV]  C=10, gamma=1, kernel=rbf, score=-0.6523893399120598, total=   2.7s\n",
      "[CV] C=10, gamma=1, kernel=rbf .......................................\n",
      "[CV]  C=10, gamma=1, kernel=rbf, score=-0.678320337412209, total=   2.6s\n",
      "[CV] C=10, gamma=1, kernel=rbf .......................................\n",
      "[CV]  C=10, gamma=1, kernel=rbf, score=-0.6643839467201983, total=   2.6s\n",
      "[CV] C=10, gamma=1, kernel=rbf .......................................\n",
      "[CV]  C=10, gamma=1, kernel=rbf, score=-0.6656721485823693, total=   2.7s\n",
      "[CV] C=10, gamma=0.1, kernel=rbf .....................................\n",
      "[CV]  C=10, gamma=0.1, kernel=rbf, score=-0.6259177730435254, total=   2.0s\n",
      "[CV] C=10, gamma=0.1, kernel=rbf .....................................\n",
      "[CV]  C=10, gamma=0.1, kernel=rbf, score=-0.6105440437764699, total=   1.8s\n",
      "[CV] C=10, gamma=0.1, kernel=rbf .....................................\n",
      "[CV]  C=10, gamma=0.1, kernel=rbf, score=-0.6559000481342896, total=   1.8s\n",
      "[CV] C=10, gamma=0.1, kernel=rbf .....................................\n",
      "[CV]  C=10, gamma=0.1, kernel=rbf, score=-0.6622259325193056, total=   1.8s\n",
      "[CV] C=10, gamma=0.1, kernel=rbf .....................................\n",
      "[CV]  C=10, gamma=0.1, kernel=rbf, score=-0.598463399413345, total=   1.8s\n",
      "[CV] C=10, gamma=0.01, kernel=rbf ....................................\n",
      "[CV]  C=10, gamma=0.01, kernel=rbf, score=-0.6062853192281921, total=   1.2s\n",
      "[CV] C=10, gamma=0.01, kernel=rbf ....................................\n",
      "[CV]  C=10, gamma=0.01, kernel=rbf, score=-0.5828483063887937, total=   1.2s\n",
      "[CV] C=10, gamma=0.01, kernel=rbf ....................................\n",
      "[CV]  C=10, gamma=0.01, kernel=rbf, score=-0.6452531898222617, total=   1.1s\n",
      "[CV] C=10, gamma=0.01, kernel=rbf ....................................\n",
      "[CV]  C=10, gamma=0.01, kernel=rbf, score=-0.6326647065546598, total=   1.2s\n",
      "[CV] C=10, gamma=0.01, kernel=rbf ....................................\n",
      "[CV]  C=10, gamma=0.01, kernel=rbf, score=-0.5737498080351234, total=   1.2s\n",
      "[CV] C=10, gamma=0.001, kernel=rbf ...................................\n",
      "[CV]  C=10, gamma=0.001, kernel=rbf, score=-0.5805751000772619, total=   1.0s\n",
      "[CV] C=10, gamma=0.001, kernel=rbf ...................................\n",
      "[CV]  C=10, gamma=0.001, kernel=rbf, score=-0.5664278881128979, total=   1.0s\n",
      "[CV] C=10, gamma=0.001, kernel=rbf ...................................\n",
      "[CV]  C=10, gamma=0.001, kernel=rbf, score=-0.6266492707113108, total=   1.0s\n",
      "[CV] C=10, gamma=0.001, kernel=rbf ...................................\n",
      "[CV]  C=10, gamma=0.001, kernel=rbf, score=-0.6275221049871261, total=   1.0s\n",
      "[CV] C=10, gamma=0.001, kernel=rbf ...................................\n",
      "[CV]  C=10, gamma=0.001, kernel=rbf, score=-0.5563753353218903, total=   1.1s\n",
      "[CV] C=10, gamma=0.0001, kernel=rbf ..................................\n",
      "[CV]  C=10, gamma=0.0001, kernel=rbf, score=-0.5789862853521903, total=   1.0s\n",
      "[CV] C=10, gamma=0.0001, kernel=rbf ..................................\n",
      "[CV]  C=10, gamma=0.0001, kernel=rbf, score=-0.5551834892821726, total=   1.0s\n",
      "[CV] C=10, gamma=0.0001, kernel=rbf ..................................\n",
      "[CV]  C=10, gamma=0.0001, kernel=rbf, score=-0.6192602655892623, total=   1.0s\n",
      "[CV] C=10, gamma=0.0001, kernel=rbf ..................................\n",
      "[CV]  C=10, gamma=0.0001, kernel=rbf, score=-0.6277643475924717, total=   1.0s\n",
      "[CV] C=10, gamma=0.0001, kernel=rbf ..................................\n",
      "[CV]  C=10, gamma=0.0001, kernel=rbf, score=-0.5494583814579788, total=   1.1s\n",
      "[CV] C=100, gamma=1, kernel=rbf ......................................\n",
      "[CV]  C=100, gamma=1, kernel=rbf, score=-0.654737039424838, total=   2.8s\n",
      "[CV] C=100, gamma=1, kernel=rbf ......................................\n",
      "[CV]  C=100, gamma=1, kernel=rbf, score=-0.6519829370650942, total=   2.8s\n",
      "[CV] C=100, gamma=1, kernel=rbf ......................................\n",
      "[CV]  C=100, gamma=1, kernel=rbf, score=-0.6822726761547321, total=   2.8s\n",
      "[CV] C=100, gamma=1, kernel=rbf ......................................\n",
      "[CV]  C=100, gamma=1, kernel=rbf, score=-0.6638951895914398, total=   2.7s\n",
      "[CV] C=100, gamma=1, kernel=rbf ......................................\n",
      "[CV]  C=100, gamma=1, kernel=rbf, score=-0.6675658517555075, total=   2.8s\n",
      "[CV] C=100, gamma=0.1, kernel=rbf ....................................\n",
      "[CV]  C=100, gamma=0.1, kernel=rbf, score=-0.6451217834346114, total=   6.1s\n",
      "[CV] C=100, gamma=0.1, kernel=rbf ....................................\n",
      "[CV]  C=100, gamma=0.1, kernel=rbf, score=-0.6511670108478831, total=   5.5s\n",
      "[CV] C=100, gamma=0.1, kernel=rbf ....................................\n",
      "[CV]  C=100, gamma=0.1, kernel=rbf, score=-0.6726451690871467, total=   5.4s\n",
      "[CV] C=100, gamma=0.1, kernel=rbf ....................................\n",
      "[CV]  C=100, gamma=0.1, kernel=rbf, score=-0.6903658627013806, total=   5.3s\n",
      "[CV] C=100, gamma=0.1, kernel=rbf ....................................\n",
      "[CV]  C=100, gamma=0.1, kernel=rbf, score=-0.6439528301372931, total=   5.6s\n",
      "[CV] C=100, gamma=0.01, kernel=rbf ...................................\n",
      "[CV]  C=100, gamma=0.01, kernel=rbf, score=-0.6129948197510476, total=   2.3s\n",
      "[CV] C=100, gamma=0.01, kernel=rbf ...................................\n"
     ]
    },
    {
     "name": "stdout",
     "output_type": "stream",
     "text": [
      "[CV]  C=100, gamma=0.01, kernel=rbf, score=-0.587517382044931, total=   2.1s\n",
      "[CV] C=100, gamma=0.01, kernel=rbf ...................................\n",
      "[CV]  C=100, gamma=0.01, kernel=rbf, score=-0.6529422184311066, total=   2.0s\n",
      "[CV] C=100, gamma=0.01, kernel=rbf ...................................\n",
      "[CV]  C=100, gamma=0.01, kernel=rbf, score=-0.6396582295260906, total=   2.2s\n",
      "[CV] C=100, gamma=0.01, kernel=rbf ...................................\n",
      "[CV]  C=100, gamma=0.01, kernel=rbf, score=-0.5837432575562163, total=   2.1s\n",
      "[CV] C=100, gamma=0.001, kernel=rbf ..................................\n",
      "[CV]  C=100, gamma=0.001, kernel=rbf, score=-0.588320925244328, total=   1.1s\n",
      "[CV] C=100, gamma=0.001, kernel=rbf ..................................\n",
      "[CV]  C=100, gamma=0.001, kernel=rbf, score=-0.5729690346424721, total=   1.2s\n",
      "[CV] C=100, gamma=0.001, kernel=rbf ..................................\n",
      "[CV]  C=100, gamma=0.001, kernel=rbf, score=-0.6364185429650064, total=   1.1s\n",
      "[CV] C=100, gamma=0.001, kernel=rbf ..................................\n",
      "[CV]  C=100, gamma=0.001, kernel=rbf, score=-0.6311070078245264, total=   1.1s\n",
      "[CV] C=100, gamma=0.001, kernel=rbf ..................................\n",
      "[CV]  C=100, gamma=0.001, kernel=rbf, score=-0.5669084256796418, total=   1.1s\n",
      "[CV] C=100, gamma=0.0001, kernel=rbf .................................\n",
      "[CV]  C=100, gamma=0.0001, kernel=rbf, score=-0.5775176293067323, total=   1.0s\n",
      "[CV] C=100, gamma=0.0001, kernel=rbf .................................\n",
      "[CV]  C=100, gamma=0.0001, kernel=rbf, score=-0.5665153489147772, total=   1.0s\n",
      "[CV] C=100, gamma=0.0001, kernel=rbf .................................\n",
      "[CV]  C=100, gamma=0.0001, kernel=rbf, score=-0.6252368630988094, total=   1.0s\n",
      "[CV] C=100, gamma=0.0001, kernel=rbf .................................\n",
      "[CV]  C=100, gamma=0.0001, kernel=rbf, score=-0.6237467831249983, total=   1.0s\n",
      "[CV] C=100, gamma=0.0001, kernel=rbf .................................\n",
      "[CV]  C=100, gamma=0.0001, kernel=rbf, score=-0.5560493208407169, total=   1.0s\n",
      "[CV] C=1000, gamma=1, kernel=rbf .....................................\n",
      "[CV]  C=1000, gamma=1, kernel=rbf, score=-0.6545965802849094, total=   2.8s\n",
      "[CV] C=1000, gamma=1, kernel=rbf .....................................\n",
      "[CV]  C=1000, gamma=1, kernel=rbf, score=-0.6520005159891793, total=   2.8s\n",
      "[CV] C=1000, gamma=1, kernel=rbf .....................................\n",
      "[CV]  C=1000, gamma=1, kernel=rbf, score=-0.6854256299495752, total=   2.8s\n",
      "[CV] C=1000, gamma=1, kernel=rbf .....................................\n",
      "[CV]  C=1000, gamma=1, kernel=rbf, score=-0.6634167428050325, total=   2.7s\n",
      "[CV] C=1000, gamma=1, kernel=rbf .....................................\n",
      "[CV]  C=1000, gamma=1, kernel=rbf, score=-0.6675684392937397, total=   2.8s\n",
      "[CV] C=1000, gamma=0.1, kernel=rbf ...................................\n",
      "[CV]  C=1000, gamma=0.1, kernel=rbf, score=-0.6641683081468099, total=  35.9s\n",
      "[CV] C=1000, gamma=0.1, kernel=rbf ...................................\n",
      "[CV]  C=1000, gamma=0.1, kernel=rbf, score=-0.6731098188388958, total=  36.3s\n",
      "[CV] C=1000, gamma=0.1, kernel=rbf ...................................\n",
      "[CV]  C=1000, gamma=0.1, kernel=rbf, score=-0.6794835935333158, total=  32.4s\n",
      "[CV] C=1000, gamma=0.1, kernel=rbf ...................................\n",
      "[CV]  C=1000, gamma=0.1, kernel=rbf, score=-0.6920872047099489, total=  33.5s\n",
      "[CV] C=1000, gamma=0.1, kernel=rbf ...................................\n",
      "[CV]  C=1000, gamma=0.1, kernel=rbf, score=-0.6616935695593775, total=  34.9s\n",
      "[CV] C=1000, gamma=0.01, kernel=rbf ..................................\n",
      "[CV]  C=1000, gamma=0.01, kernel=rbf, score=-0.6178599329154801, total=   9.3s\n",
      "[CV] C=1000, gamma=0.01, kernel=rbf ..................................\n",
      "[CV]  C=1000, gamma=0.01, kernel=rbf, score=-0.6002662154326938, total=   7.8s\n",
      "[CV] C=1000, gamma=0.01, kernel=rbf ..................................\n",
      "[CV]  C=1000, gamma=0.01, kernel=rbf, score=-0.655841987195982, total=   7.9s\n",
      "[CV] C=1000, gamma=0.01, kernel=rbf ..................................\n",
      "[CV]  C=1000, gamma=0.01, kernel=rbf, score=-0.6556093868944789, total=   8.3s\n",
      "[CV] C=1000, gamma=0.01, kernel=rbf ..................................\n",
      "[CV]  C=1000, gamma=0.01, kernel=rbf, score=-0.5972890994102666, total=   7.4s\n",
      "[CV] C=1000, gamma=0.001, kernel=rbf .................................\n",
      "[CV]  C=1000, gamma=0.001, kernel=rbf, score=-0.5950239284333573, total=   2.3s\n",
      "[CV] C=1000, gamma=0.001, kernel=rbf .................................\n",
      "[CV]  C=1000, gamma=0.001, kernel=rbf, score=-0.5821568850538972, total=   2.2s\n",
      "[CV] C=1000, gamma=0.001, kernel=rbf .................................\n",
      "[CV]  C=1000, gamma=0.001, kernel=rbf, score=-0.6497024714294224, total=   2.0s\n",
      "[CV] C=1000, gamma=0.001, kernel=rbf .................................\n",
      "[CV]  C=1000, gamma=0.001, kernel=rbf, score=-0.6285473314420469, total=   2.3s\n",
      "[CV] C=1000, gamma=0.001, kernel=rbf .................................\n",
      "[CV]  C=1000, gamma=0.001, kernel=rbf, score=-0.575570479247825, total=   2.2s\n",
      "[CV] C=1000, gamma=0.0001, kernel=rbf ................................\n",
      "[CV]  C=1000, gamma=0.0001, kernel=rbf, score=-0.5805745272824647, total=   1.2s\n",
      "[CV] C=1000, gamma=0.0001, kernel=rbf ................................\n",
      "[CV]  C=1000, gamma=0.0001, kernel=rbf, score=-0.5700424349512327, total=   1.2s\n",
      "[CV] C=1000, gamma=0.0001, kernel=rbf ................................\n",
      "[CV]  C=1000, gamma=0.0001, kernel=rbf, score=-0.634384274793719, total=   1.1s\n",
      "[CV] C=1000, gamma=0.0001, kernel=rbf ................................\n",
      "[CV]  C=1000, gamma=0.0001, kernel=rbf, score=-0.6256286347579008, total=   1.2s\n",
      "[CV] C=1000, gamma=0.0001, kernel=rbf ................................\n",
      "[CV]  C=1000, gamma=0.0001, kernel=rbf, score=-0.565239655316601, total=   1.2s\n"
     ]
    },
    {
     "name": "stderr",
     "output_type": "stream",
     "text": [
      "[Parallel(n_jobs=1)]: Done 210 out of 210 | elapsed: 46.5min finished\n"
     ]
    },
    {
     "data": {
      "text/plain": [
       "GridSearchCV(cv=5, error_score='raise',\n",
       "       estimator=SVC(C=1.0, cache_size=200, class_weight=None, coef0=0.0,\n",
       "  decision_function_shape='ovr', degree=3, gamma='auto', kernel='rbf',\n",
       "  max_iter=-1, probability=True, random_state=None, shrinking=True,\n",
       "  tol=0.001, verbose=False),\n",
       "       fit_params=None, iid=True, n_jobs=1,\n",
       "       param_grid=[{'C': [0.1, 0.5, 1, 5, 10, 100, 1000], 'kernel': ['linear']}, {'C': [0.1, 0.5, 1, 5, 10, 100, 1000], 'gamma': [1, 0.1, 0.01, 0.001, 0.0001], 'kernel': ['rbf']}],\n",
       "       pre_dispatch='2*n_jobs', refit=True, return_train_score='warn',\n",
       "       scoring='neg_log_loss', verbose=3)"
      ]
     },
     "execution_count": 13,
     "metadata": {},
     "output_type": "execute_result"
    }
   ],
   "source": [
    "SVC_clf.fit(X_train_boruta, Y_train)"
   ]
  },
  {
   "cell_type": "code",
   "execution_count": 14,
   "metadata": {},
   "outputs": [
    {
     "data": {
      "text/plain": [
       "0.7142857142857143"
      ]
     },
     "execution_count": 14,
     "metadata": {},
     "output_type": "execute_result"
    }
   ],
   "source": [
    "Y_test_predictions = SVC_clf.predict(X_test_boruta)\n",
    "Y_test_probabilities = SVC_clf.predict_proba(X_test_boruta)\n",
    "Y_test_predictions = pd.DataFrame(Y_test_predictions, index = Y_test.index, columns = ['predict'])\n",
    "Y_test_probabilities = pd.DataFrame(Y_test_probabilities, index = Y_test.index)\n",
    "Y_test_outcomes = Y_test_probabilities.join(Y_test_predictions)\n",
    "Y_test_outcomes = Y_test_outcomes.join(Y_test)\n",
    "s = abs(Y_test_outcomes.iloc[0:,2] - Y_test_outcomes.iloc[0:,3])\n",
    "1 - sum(s)/len(s)"
   ]
  },
  {
   "cell_type": "code",
   "execution_count": 15,
   "metadata": {},
   "outputs": [
    {
     "data": {
      "text/plain": [
       "SVC(C=10, cache_size=200, class_weight=None, coef0=0.0,\n",
       "  decision_function_shape='ovr', degree=3, gamma=0.0001, kernel='rbf',\n",
       "  max_iter=-1, probability=True, random_state=None, shrinking=True,\n",
       "  tol=0.001, verbose=False)"
      ]
     },
     "execution_count": 15,
     "metadata": {},
     "output_type": "execute_result"
    }
   ],
   "source": [
    "SVC_clf.best_estimator_"
   ]
  },
  {
   "cell_type": "code",
   "execution_count": 16,
   "metadata": {},
   "outputs": [],
   "source": [
    "Y_test_outcomes.loc[Y_test_outcomes.predict == Y_test_outcomes.Win,'score'] = Y_test_outcomes[Y_test_outcomes.predict == Y_test_outcomes.Win].iloc[0:,0:2].max(axis = 1).values"
   ]
  },
  {
   "cell_type": "code",
   "execution_count": 17,
   "metadata": {},
   "outputs": [],
   "source": [
    "Y_test_outcomes.loc[~(Y_test_outcomes.predict == Y_test_outcomes.Win),'score'] = Y_test_outcomes[~(Y_test_outcomes.predict == Y_test_outcomes.Win)].iloc[0:,0:2].min(axis = 1).values"
   ]
  },
  {
   "cell_type": "code",
   "execution_count": 28,
   "metadata": {},
   "outputs": [
    {
     "data": {
      "text/plain": [
       "36.065733610043154"
      ]
     },
     "execution_count": 28,
     "metadata": {},
     "output_type": "execute_result"
    }
   ],
   "source": [
    "Y_test_outcomes['points'] = 1 + np.log2(Y_test_outcomes['score'])\n",
    "sum(Y_test_outcomes['points']) / len(Y_test_outcomes['points']) * 207"
   ]
  },
  {
   "cell_type": "code",
   "execution_count": 19,
   "metadata": {},
   "outputs": [
    {
     "name": "stderr",
     "output_type": "stream",
     "text": [
      "C:\\Users\\Brian\\Anaconda3\\lib\\site-packages\\sklearn\\utils\\deprecation.py:122: FutureWarning: You are accessing a training score ('split0_train_score'), which will not be available by default any more in 0.21. If you need training scores, please set return_train_score=True\n",
      "  warnings.warn(*warn_args, **warn_kwargs)\n",
      "C:\\Users\\Brian\\Anaconda3\\lib\\site-packages\\sklearn\\utils\\deprecation.py:122: FutureWarning: You are accessing a training score ('split1_train_score'), which will not be available by default any more in 0.21. If you need training scores, please set return_train_score=True\n",
      "  warnings.warn(*warn_args, **warn_kwargs)\n",
      "C:\\Users\\Brian\\Anaconda3\\lib\\site-packages\\sklearn\\utils\\deprecation.py:122: FutureWarning: You are accessing a training score ('split2_train_score'), which will not be available by default any more in 0.21. If you need training scores, please set return_train_score=True\n",
      "  warnings.warn(*warn_args, **warn_kwargs)\n",
      "C:\\Users\\Brian\\Anaconda3\\lib\\site-packages\\sklearn\\utils\\deprecation.py:122: FutureWarning: You are accessing a training score ('split3_train_score'), which will not be available by default any more in 0.21. If you need training scores, please set return_train_score=True\n",
      "  warnings.warn(*warn_args, **warn_kwargs)\n",
      "C:\\Users\\Brian\\Anaconda3\\lib\\site-packages\\sklearn\\utils\\deprecation.py:122: FutureWarning: You are accessing a training score ('split4_train_score'), which will not be available by default any more in 0.21. If you need training scores, please set return_train_score=True\n",
      "  warnings.warn(*warn_args, **warn_kwargs)\n",
      "C:\\Users\\Brian\\Anaconda3\\lib\\site-packages\\sklearn\\utils\\deprecation.py:122: FutureWarning: You are accessing a training score ('mean_train_score'), which will not be available by default any more in 0.21. If you need training scores, please set return_train_score=True\n",
      "  warnings.warn(*warn_args, **warn_kwargs)\n",
      "C:\\Users\\Brian\\Anaconda3\\lib\\site-packages\\sklearn\\utils\\deprecation.py:122: FutureWarning: You are accessing a training score ('std_train_score'), which will not be available by default any more in 0.21. If you need training scores, please set return_train_score=True\n",
      "  warnings.warn(*warn_args, **warn_kwargs)\n"
     ]
    },
    {
     "data": {
      "text/plain": [
       "{'mean_fit_time': array([  0.81139259,   1.27447653,   1.6616456 ,   4.05175977,\n",
       "          6.55384269,  47.02018805, 390.79142866,   1.45954781,\n",
       "          1.11704264,   1.08820133,   1.24422855,   1.37862916,\n",
       "          1.58312888,   1.23261242,   1.06797185,   1.11664228,\n",
       "          1.31954045,   1.73094754,   1.31693869,   1.08339567,\n",
       "          1.09020391,   1.24603333,   2.45340905,   1.63140054,\n",
       "          1.15189486,   1.06757026,   1.11544137,   2.72140417,\n",
       "          1.90780587,   1.24022384,   1.07397995,   1.0958106 ,\n",
       "          2.82315464,   5.64310365,   2.19803519,   1.1867444 ,\n",
       "          1.07538309,   2.81754632,  34.68183389,   8.20567422,\n",
       "          2.24770913,   1.23581886]),\n",
       " 'std_fit_time': array([3.44150045e-02, 5.59915830e-02, 6.42112344e-02, 1.65627773e-01,\n",
       "        3.03163508e-01, 7.49237979e+00, 1.60537891e+01, 1.04576433e-02,\n",
       "        2.29891273e-02, 1.28970370e-02, 2.15592318e-02, 1.23740300e-02,\n",
       "        3.29566530e-02, 4.05835128e-02, 3.45148006e-02, 3.06169374e-02,\n",
       "        1.20949976e-02, 1.59548216e-02, 2.86304811e-02, 2.16518457e-02,\n",
       "        1.10000000e-02, 1.23210776e-02, 2.89441676e-02, 6.25159262e-02,\n",
       "        2.90189373e-02, 2.14694659e-02, 8.24376470e-03, 3.47270309e-02,\n",
       "        8.21232996e-02, 3.47247940e-02, 2.93988527e-02, 1.53905498e-02,\n",
       "        3.53166523e-02, 2.73867606e-01, 9.37487789e-02, 2.42256636e-02,\n",
       "        1.34428626e-02, 3.10134594e-02, 1.46395103e+00, 6.68342831e-01,\n",
       "        1.16731067e-01, 3.61248001e-02]),\n",
       " 'mean_score_time': array([0.02263365, 0.02283258, 0.02303476, 0.02303543, 0.02203269,\n",
       "        0.02283368, 0.02223434, 0.05908713, 0.04446673, 0.0450655 ,\n",
       "        0.05267773, 0.06149173, 0.05347924, 0.04326458, 0.04306312,\n",
       "        0.04646792, 0.05688415, 0.05347776, 0.04446459, 0.04486594,\n",
       "        0.04466634, 0.05207801, 0.05267897, 0.04406447, 0.04186115,\n",
       "        0.04346452, 0.04747076, 0.05207553, 0.04346533, 0.04226274,\n",
       "        0.04346437, 0.04566932, 0.05167699, 0.04306359, 0.04226217,\n",
       "        0.04286332, 0.04346323, 0.05127473, 0.04125986, 0.04266186,\n",
       "        0.04226084, 0.04326415]),\n",
       " 'std_score_time': array([1.02019790e-03, 1.60329977e-03, 1.41788815e-03, 6.35652166e-04,\n",
       "        1.87367274e-06, 4.00714117e-04, 9.85530363e-04, 1.55135920e-03,\n",
       "        1.02249866e-03, 1.67607757e-03, 8.01134741e-04, 1.74762365e-03,\n",
       "        4.90816559e-04, 1.16794586e-03, 1.26670431e-03, 1.62856423e-03,\n",
       "        1.60260246e-03, 4.92122307e-04, 1.85924832e-03, 2.23018239e-03,\n",
       "        1.35990551e-03, 6.33389925e-04, 8.02054014e-04, 6.33617627e-04,\n",
       "        9.82998311e-04, 8.00920120e-04, 1.74634856e-03, 1.09471328e-03,\n",
       "        4.89337145e-04, 1.16835506e-03, 8.01229683e-04, 8.00973424e-04,\n",
       "        8.01564469e-04, 1.09806602e-03, 1.16816711e-03, 9.81603490e-04,\n",
       "        8.02398513e-04, 7.49870291e-04, 7.49641224e-04, 4.91303293e-04,\n",
       "        7.50838673e-04, 1.60297849e-03]),\n",
       " 'param_C': masked_array(data=[0.1, 0.5, 1, 5, 10, 100, 1000, 0.1, 0.1, 0.1, 0.1, 0.1,\n",
       "                    0.5, 0.5, 0.5, 0.5, 0.5, 1, 1, 1, 1, 1, 5, 5, 5, 5, 5,\n",
       "                    10, 10, 10, 10, 10, 100, 100, 100, 100, 100, 1000,\n",
       "                    1000, 1000, 1000, 1000],\n",
       "              mask=[False, False, False, False, False, False, False, False,\n",
       "                    False, False, False, False, False, False, False, False,\n",
       "                    False, False, False, False, False, False, False, False,\n",
       "                    False, False, False, False, False, False, False, False,\n",
       "                    False, False, False, False, False, False, False, False,\n",
       "                    False, False],\n",
       "        fill_value='?',\n",
       "             dtype=object),\n",
       " 'param_kernel': masked_array(data=['linear', 'linear', 'linear', 'linear', 'linear',\n",
       "                    'linear', 'linear', 'rbf', 'rbf', 'rbf', 'rbf', 'rbf',\n",
       "                    'rbf', 'rbf', 'rbf', 'rbf', 'rbf', 'rbf', 'rbf', 'rbf',\n",
       "                    'rbf', 'rbf', 'rbf', 'rbf', 'rbf', 'rbf', 'rbf', 'rbf',\n",
       "                    'rbf', 'rbf', 'rbf', 'rbf', 'rbf', 'rbf', 'rbf', 'rbf',\n",
       "                    'rbf', 'rbf', 'rbf', 'rbf', 'rbf', 'rbf'],\n",
       "              mask=[False, False, False, False, False, False, False, False,\n",
       "                    False, False, False, False, False, False, False, False,\n",
       "                    False, False, False, False, False, False, False, False,\n",
       "                    False, False, False, False, False, False, False, False,\n",
       "                    False, False, False, False, False, False, False, False,\n",
       "                    False, False],\n",
       "        fill_value='?',\n",
       "             dtype=object),\n",
       " 'param_gamma': masked_array(data=[--, --, --, --, --, --, --, 1, 0.1, 0.01, 0.001,\n",
       "                    0.0001, 1, 0.1, 0.01, 0.001, 0.0001, 1, 0.1, 0.01,\n",
       "                    0.001, 0.0001, 1, 0.1, 0.01, 0.001, 0.0001, 1, 0.1,\n",
       "                    0.01, 0.001, 0.0001, 1, 0.1, 0.01, 0.001, 0.0001, 1,\n",
       "                    0.1, 0.01, 0.001, 0.0001],\n",
       "              mask=[ True,  True,  True,  True,  True,  True,  True, False,\n",
       "                    False, False, False, False, False, False, False, False,\n",
       "                    False, False, False, False, False, False, False, False,\n",
       "                    False, False, False, False, False, False, False, False,\n",
       "                    False, False, False, False, False, False, False, False,\n",
       "                    False, False],\n",
       "        fill_value='?',\n",
       "             dtype=object),\n",
       " 'params': [{'C': 0.1, 'kernel': 'linear'},\n",
       "  {'C': 0.5, 'kernel': 'linear'},\n",
       "  {'C': 1, 'kernel': 'linear'},\n",
       "  {'C': 5, 'kernel': 'linear'},\n",
       "  {'C': 10, 'kernel': 'linear'},\n",
       "  {'C': 100, 'kernel': 'linear'},\n",
       "  {'C': 1000, 'kernel': 'linear'},\n",
       "  {'C': 0.1, 'gamma': 1, 'kernel': 'rbf'},\n",
       "  {'C': 0.1, 'gamma': 0.1, 'kernel': 'rbf'},\n",
       "  {'C': 0.1, 'gamma': 0.01, 'kernel': 'rbf'},\n",
       "  {'C': 0.1, 'gamma': 0.001, 'kernel': 'rbf'},\n",
       "  {'C': 0.1, 'gamma': 0.0001, 'kernel': 'rbf'},\n",
       "  {'C': 0.5, 'gamma': 1, 'kernel': 'rbf'},\n",
       "  {'C': 0.5, 'gamma': 0.1, 'kernel': 'rbf'},\n",
       "  {'C': 0.5, 'gamma': 0.01, 'kernel': 'rbf'},\n",
       "  {'C': 0.5, 'gamma': 0.001, 'kernel': 'rbf'},\n",
       "  {'C': 0.5, 'gamma': 0.0001, 'kernel': 'rbf'},\n",
       "  {'C': 1, 'gamma': 1, 'kernel': 'rbf'},\n",
       "  {'C': 1, 'gamma': 0.1, 'kernel': 'rbf'},\n",
       "  {'C': 1, 'gamma': 0.01, 'kernel': 'rbf'},\n",
       "  {'C': 1, 'gamma': 0.001, 'kernel': 'rbf'},\n",
       "  {'C': 1, 'gamma': 0.0001, 'kernel': 'rbf'},\n",
       "  {'C': 5, 'gamma': 1, 'kernel': 'rbf'},\n",
       "  {'C': 5, 'gamma': 0.1, 'kernel': 'rbf'},\n",
       "  {'C': 5, 'gamma': 0.01, 'kernel': 'rbf'},\n",
       "  {'C': 5, 'gamma': 0.001, 'kernel': 'rbf'},\n",
       "  {'C': 5, 'gamma': 0.0001, 'kernel': 'rbf'},\n",
       "  {'C': 10, 'gamma': 1, 'kernel': 'rbf'},\n",
       "  {'C': 10, 'gamma': 0.1, 'kernel': 'rbf'},\n",
       "  {'C': 10, 'gamma': 0.01, 'kernel': 'rbf'},\n",
       "  {'C': 10, 'gamma': 0.001, 'kernel': 'rbf'},\n",
       "  {'C': 10, 'gamma': 0.0001, 'kernel': 'rbf'},\n",
       "  {'C': 100, 'gamma': 1, 'kernel': 'rbf'},\n",
       "  {'C': 100, 'gamma': 0.1, 'kernel': 'rbf'},\n",
       "  {'C': 100, 'gamma': 0.01, 'kernel': 'rbf'},\n",
       "  {'C': 100, 'gamma': 0.001, 'kernel': 'rbf'},\n",
       "  {'C': 100, 'gamma': 0.0001, 'kernel': 'rbf'},\n",
       "  {'C': 1000, 'gamma': 1, 'kernel': 'rbf'},\n",
       "  {'C': 1000, 'gamma': 0.1, 'kernel': 'rbf'},\n",
       "  {'C': 1000, 'gamma': 0.01, 'kernel': 'rbf'},\n",
       "  {'C': 1000, 'gamma': 0.001, 'kernel': 'rbf'},\n",
       "  {'C': 1000, 'gamma': 0.0001, 'kernel': 'rbf'}],\n",
       " 'split0_test_score': array([-0.57830495, -0.57850049, -0.5783644 , -0.57794917, -0.57722718,\n",
       "        -0.57740489, -0.57735368, -0.6482597 , -0.62134225, -0.59269051,\n",
       "        -0.58369461, -0.68606445, -0.63721473, -0.62456591, -0.59650575,\n",
       "        -0.58178527, -0.58354704, -0.63925453, -0.62524016, -0.59878422,\n",
       "        -0.58007068, -0.58286725, -0.65219358, -0.62643931, -0.6046679 ,\n",
       "        -0.57966644, -0.58074014, -0.65336929, -0.62591777, -0.60628532,\n",
       "        -0.5805751 , -0.57898629, -0.65473704, -0.64512178, -0.61299482,\n",
       "        -0.58832093, -0.57751763, -0.65459658, -0.66416831, -0.61785993,\n",
       "        -0.59502393, -0.58057453]),\n",
       " 'split1_test_score': array([-0.57047879, -0.56840278, -0.56661825, -0.56913842, -0.56933138,\n",
       "        -0.56910616, -0.56896937, -0.61499984, -0.58275137, -0.55836011,\n",
       "        -0.54900783, -0.69228352, -0.61233376, -0.58732442, -0.57005471,\n",
       "        -0.55235058, -0.54908482, -0.62182154, -0.58973788, -0.57551673,\n",
       "        -0.55405188, -0.54973718, -0.64840588, -0.600309  , -0.58115227,\n",
       "        -0.56145135, -0.55257224, -0.65238934, -0.61054404, -0.58284831,\n",
       "        -0.56642789, -0.55518349, -0.65198294, -0.65116701, -0.58751738,\n",
       "        -0.57296903, -0.56651535, -0.65200052, -0.67310982, -0.60026622,\n",
       "        -0.58215689, -0.57004243]),\n",
       " 'split2_test_score': array([-0.63246276, -0.63802758, -0.64114236, -0.64187412, -0.64328115,\n",
       "        -0.64525933, -0.64526793, -0.65432856, -0.63505047, -0.62554113,\n",
       "        -0.61863029, -0.68443067, -0.65563596, -0.64046404, -0.6329469 ,\n",
       "        -0.61887832, -0.61843471, -0.6586476 , -0.64376271, -0.63601115,\n",
       "        -0.61956964, -0.61820332, -0.67349921, -0.65193271, -0.64105505,\n",
       "        -0.6246998 , -0.61839796, -0.67832034, -0.65590005, -0.64525319,\n",
       "        -0.62664927, -0.61926027, -0.68227268, -0.67264517, -0.65294222,\n",
       "        -0.63641854, -0.62523686, -0.68542563, -0.67948359, -0.65584199,\n",
       "        -0.64970247, -0.63438427]),\n",
       " 'split3_test_score': array([-0.62177018, -0.62034202, -0.61934424, -0.61904062, -0.61828464,\n",
       "        -0.61795644, -0.6175155 , -0.66502746, -0.64055886, -0.63015547,\n",
       "        -0.63420701, -0.68865372, -0.67297278, -0.64349522, -0.62906807,\n",
       "        -0.6305812 , -0.63424897, -0.67269109, -0.64573133, -0.62962469,\n",
       "        -0.62800378, -0.63404281, -0.66611066, -0.65587121, -0.63045719,\n",
       "        -0.62638267, -0.63060643, -0.66438395, -0.66222593, -0.63266471,\n",
       "        -0.6275221 , -0.62776435, -0.66389519, -0.69036586, -0.63965823,\n",
       "        -0.63110701, -0.62374678, -0.66341674, -0.6920872 , -0.65560939,\n",
       "        -0.62854733, -0.62562863]),\n",
       " 'split4_test_score': array([-0.56369207, -0.56842845, -0.56850543, -0.57070777, -0.5712812 ,\n",
       "        -0.57054039, -0.56959458, -0.60237142, -0.56690274, -0.55021036,\n",
       "        -0.54863778, -0.68814679, -0.60153934, -0.57355791, -0.55611031,\n",
       "        -0.54903696, -0.54880064, -0.62461672, -0.57775525, -0.56066778,\n",
       "        -0.54976473, -0.54902759, -0.66174869, -0.59047562, -0.56985004,\n",
       "        -0.55299415, -0.54954187, -0.66567215, -0.5984634 , -0.57374981,\n",
       "        -0.55637534, -0.54945838, -0.66756585, -0.64395283, -0.58374326,\n",
       "        -0.56690843, -0.55604932, -0.66756844, -0.66169357, -0.5972891 ,\n",
       "        -0.57557048, -0.56523966]),\n",
       " 'mean_test_score': array([-0.59336949, -0.59476488, -0.59481953, -0.59576544, -0.59590412,\n",
       "        -0.59607731, -0.59576467, -0.63702979, -0.60936082, -0.59143004,\n",
       "        -0.58687124, -0.68791561, -0.63597149, -0.61391922, -0.59697534,\n",
       "        -0.58656154, -0.5868588 , -0.64342387, -0.61648166, -0.60015782,\n",
       "        -0.58632631, -0.58681094, -0.66039033, -0.62503787, -0.60546978,\n",
       "        -0.5890726 , -0.58640618, -0.66282435, -0.63064031, -0.60819246,\n",
       "        -0.59154281, -0.58616486, -0.66408749, -0.66066615, -0.61540077,\n",
       "        -0.59917494, -0.58984477, -0.66459881, -0.67412011, -0.6253996 ,\n",
       "        -0.60622887, -0.59520191]),\n",
       " 'std_test_score': array([0.02816433, 0.02891233, 0.03002252, 0.02940461, 0.0296917 ,\n",
       "        0.03042066, 0.03055048, 0.02405344, 0.02926828, 0.03302924,\n",
       "        0.03508208, 0.00265636, 0.02645516, 0.02837318, 0.03070958,\n",
       "        0.03341269, 0.03500883, 0.0196277 , 0.02788584, 0.02939061,\n",
       "        0.03242937, 0.03473585, 0.00913899, 0.02638078, 0.0273825 ,\n",
       "        0.03102521, 0.03320167, 0.00947985, 0.02488082, 0.02757774,\n",
       "        0.03004401, 0.03219663, 0.01074496, 0.01809415, 0.02750311,\n",
       "        0.02916004, 0.02911674, 0.01186044, 0.01100823, 0.02575854,\n",
       "        0.02839856, 0.02900164]),\n",
       " 'rank_test_score': array([12, 13, 14, 17, 18, 19, 16, 34, 26, 10,  7, 42, 33, 27, 20,  4,  6,\n",
       "        35, 29, 22,  2,  5, 36, 30, 23,  8,  3, 38, 32, 25, 11,  1, 39, 37,\n",
       "        28, 21,  9, 40, 41, 31, 24, 15]),\n",
       " 'split0_train_score': array([-0.58009046, -0.57960247, -0.57977991, -0.57949884, -0.57901478,\n",
       "        -0.57956411, -0.57936794, -0.57474972, -0.59396063, -0.58554158,\n",
       "        -0.58411524, -0.68614825, -0.49108607, -0.59306516, -0.5866004 ,\n",
       "        -0.5831829 , -0.58455708, -0.42596037, -0.59091749, -0.58682802,\n",
       "        -0.58272376, -0.58416227, -0.39550242, -0.57518417, -0.58740039,\n",
       "        -0.58159366, -0.58338576, -0.37834094, -0.56538038, -0.5878161 ,\n",
       "        -0.58115683, -0.58290454, -0.42123289, -0.5613538 , -0.58664307,\n",
       "        -0.58107183, -0.58115105, -0.41765552, -0.59468731, -0.57832867,\n",
       "        -0.58213596, -0.57982235]),\n",
       " 'split1_train_score': array([-0.58373231, -0.58287111, -0.58282868, -0.58249865, -0.58262748,\n",
       "        -0.58276044, -0.58252392, -0.57556286, -0.60061771, -0.59262488,\n",
       "        -0.5916229 , -0.69232109, -0.49409456, -0.59893388, -0.59296854,\n",
       "        -0.58891345, -0.59196579, -0.43962214, -0.59613398, -0.59284986,\n",
       "        -0.58796186, -0.59138457, -0.39776813, -0.5783629 , -0.59260561,\n",
       "        -0.58559471, -0.58881718, -0.44389373, -0.56368777, -0.59233067,\n",
       "        -0.58500662, -0.58785941, -0.44102378, -0.55863803, -0.59158082,\n",
       "        -0.58487213, -0.58474524, -0.44128512, -0.55822667, -0.58037491,\n",
       "        -0.58692394, -0.58322696]),\n",
       " 'split2_train_score': array([-0.56584829, -0.56357814, -0.56328614, -0.56354142, -0.56344428,\n",
       "        -0.56326208, -0.56330649, -0.56759112, -0.58708091, -0.5759596 ,\n",
       "        -0.57588239, -0.68346171, -0.48034105, -0.5857977 , -0.57650426,\n",
       "        -0.57341752, -0.57654165, -0.43139329, -0.5830592 , -0.57627639,\n",
       "        -0.57223131, -0.57594566, -0.39419369, -0.56264259, -0.57524166,\n",
       "        -0.56977183, -0.57346064, -0.40332842, -0.54942519, -0.57482199,\n",
       "        -0.56873411, -0.57229654, -0.39405218, -0.53149328, -0.57196416,\n",
       "        -0.56618289, -0.56885292, -0.36641233, -0.5537466 , -0.56188514,\n",
       "        -0.56624392, -0.56442969]),\n",
       " 'split3_train_score': array([-0.56890759, -0.56842365, -0.56801374, -0.5677868 , -0.56765123,\n",
       "        -0.5673024 , -0.56766823, -0.56912289, -0.5882696 , -0.5760359 ,\n",
       "        -0.57210334, -0.68562036, -0.47394902, -0.58754556, -0.57835225,\n",
       "        -0.5711448 , -0.57216995, -0.42202233, -0.58521499, -0.57917189,\n",
       "        -0.57066047, -0.57202855, -0.39566219, -0.5658152 , -0.58014513,\n",
       "        -0.56978289, -0.57111125, -0.39960369, -0.54954919, -0.5805943 ,\n",
       "        -0.56973886, -0.57065722, -0.41795476, -0.52046567, -0.57882235,\n",
       "        -0.57061102, -0.56951572, -0.41828864, -0.55712324, -0.56380224,\n",
       "        -0.57322056, -0.56869964]),\n",
       " 'split4_train_score': array([-0.58356949, -0.58224317, -0.58142175, -0.58144554, -0.58153936,\n",
       "        -0.58133933, -0.58119747, -0.58249617, -0.60407276, -0.59486065,\n",
       "        -0.59182013, -0.68889765, -0.5014932 , -0.60223564, -0.59544365,\n",
       "        -0.59037803, -0.59202418, -0.45786681, -0.59962559, -0.59485342,\n",
       "        -0.58950739, -0.59165392, -0.41542659, -0.58345118, -0.59341789,\n",
       "        -0.58722744, -0.59026667, -0.44195648, -0.5708813 , -0.59261672,\n",
       "        -0.58627133, -0.58930728, -0.41385629, -0.57565618, -0.58926044,\n",
       "        -0.58399838, -0.58596182, -0.43510222, -0.57745633, -0.58087534,\n",
       "        -0.58552701, -0.5826499 ]),\n",
       " 'mean_train_score': array([-0.57642963, -0.57534371, -0.57506604, -0.57495425, -0.57485543,\n",
       "        -0.57484567, -0.57481281, -0.57390455, -0.59480032, -0.58500452,\n",
       "        -0.5831088 , -0.68728981, -0.48819278, -0.59351559, -0.58597382,\n",
       "        -0.58140734, -0.58345173, -0.43537299, -0.59099025, -0.58599591,\n",
       "        -0.58061696, -0.58303499, -0.3997106 , -0.57309121, -0.58576214,\n",
       "        -0.57879411, -0.5814083 , -0.41342465, -0.55978477, -0.58563596,\n",
       "        -0.57818155, -0.580605  , -0.41762398, -0.54952139, -0.58365417,\n",
       "        -0.57734725, -0.57804535, -0.41574877, -0.56824803, -0.57305326,\n",
       "        -0.57881028, -0.57576571]),\n",
       " 'std_train_score': array([0.00756643, 0.0078577 , 0.00789145, 0.00776316, 0.00780378,\n",
       "        0.00797691, 0.00780275, 0.00529158, 0.0066748 , 0.0079718 ,\n",
       "        0.00803407, 0.00305429, 0.00984518, 0.0063373 , 0.00757307,\n",
       "        0.00786288, 0.00802777, 0.01270199, 0.00628152, 0.00730973,\n",
       "        0.00783424, 0.0079583 , 0.00794104, 0.00776678, 0.00707614,\n",
       "        0.00758697, 0.00782901, 0.02555875, 0.00873802, 0.00693777,\n",
       "        0.00750215, 0.00776702, 0.01503669, 0.02037348, 0.00725532,\n",
       "        0.00754657, 0.00740891, 0.02634704, 0.01560967, 0.00840155,\n",
       "        0.00788878, 0.0077195 ])}"
      ]
     },
     "execution_count": 19,
     "metadata": {},
     "output_type": "execute_result"
    }
   ],
   "source": [
    "SVC_clf.cv_results_"
   ]
  }
 ],
 "metadata": {
  "kernelspec": {
   "display_name": "Python 3",
   "language": "python",
   "name": "python3"
  },
  "language_info": {
   "codemirror_mode": {
    "name": "ipython",
    "version": 3
   },
   "file_extension": ".py",
   "mimetype": "text/x-python",
   "name": "python",
   "nbconvert_exporter": "python",
   "pygments_lexer": "ipython3",
   "version": "3.6.5"
  }
 },
 "nbformat": 4,
 "nbformat_minor": 2
}
