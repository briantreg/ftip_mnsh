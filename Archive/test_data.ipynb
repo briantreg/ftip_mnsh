{
 "cells": [
  {
   "cell_type": "code",
   "execution_count": 1,
   "metadata": {},
   "outputs": [],
   "source": [
    "import pandas as pd\n",
    "import numpy as np\n",
    "\n",
    "from sklearn.model_selection import train_test_split, GridSearchCV"
   ]
  },
  {
   "cell_type": "code",
   "execution_count": 2,
   "metadata": {},
   "outputs": [],
   "source": [
    "afl_ML = pd.read_pickle('afl_ML.pkl')"
   ]
  },
  {
   "cell_type": "code",
   "execution_count": 3,
   "metadata": {},
   "outputs": [],
   "source": [
    "#Only want to test on newer games\n",
    "test_candidates = afl_ML[afl_ML.year > 2013][['fw_game_id','round_index']]\n",
    "fw_game_ids = pd.DataFrame(test_candidates\n",
    "            ).sort_values(by = ['fw_game_id']\n",
    "                         ).drop_duplicates(subset = 'fw_game_id'\n",
    "                                          ).reset_index(drop = True)"
   ]
  },
  {
   "cell_type": "code",
   "execution_count": 4,
   "metadata": {},
   "outputs": [],
   "source": [
    "np.random.seed(80085)\n",
    "train_ids, test_ids, a, b = train_test_split(fw_game_ids, fw_game_ids.round_index, test_size=0.1)\n",
    "del a, b, train_ids\n",
    "test_ids.to_pickle(\"test_fw_ids.pkl\")"
   ]
  }
 ],
 "metadata": {
  "kernelspec": {
   "display_name": "Python 3",
   "language": "python",
   "name": "python3"
  },
  "language_info": {
   "codemirror_mode": {
    "name": "ipython",
    "version": 3
   },
   "file_extension": ".py",
   "mimetype": "text/x-python",
   "name": "python",
   "nbconvert_exporter": "python",
   "pygments_lexer": "ipython3",
   "version": "3.6.5"
  }
 },
 "nbformat": 4,
 "nbformat_minor": 2
}
