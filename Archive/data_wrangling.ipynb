{
 "cells": [
  {
   "cell_type": "code",
   "execution_count": 1,
   "metadata": {},
   "outputs": [],
   "source": [
    "#Setup\n",
    "\n",
    "first_year = 0 #earliest year to include in data wrangling\n",
    "#note: after running averages this will mean the earliest year in the model will be later than this\n",
    "exclude_finals = 1 #1 = exclude, 2 = include\n",
    "games_to_keep = 'mix' #'mix' = mix of home and away, 'home' 'away' = home and away respectively. Else"
   ]
  },
  {
   "cell_type": "code",
   "execution_count": 2,
   "metadata": {},
   "outputs": [],
   "source": [
    "import pandas as pd\n",
    "import numpy as np"
   ]
  },
  {
   "cell_type": "code",
   "execution_count": 3,
   "metadata": {},
   "outputs": [],
   "source": [
    "def running_mean(x, N):\n",
    "    cumsum = np.cumsum(np.insert(x, 0, 0)) \n",
    "    return (cumsum[N:] - cumsum[:-N]) / float(N)\n",
    "def newMeanCol(df, col_nm, N):\n",
    "    new_col = col_nm + '_mean' + str(N)\n",
    "    x = df.loc[0:,col_nm]\n",
    "    mean_vals = list(np.insert(\n",
    "        running_mean(\n",
    "            np.array(x), N), 0, [np.nan] * N))\n",
    "    df[new_col] = mean_vals[0:len(x)]\n",
    "    return df"
   ]
  },
  {
   "cell_type": "code",
   "execution_count": 4,
   "metadata": {},
   "outputs": [],
   "source": [
    "def colLookup(data, string):\n",
    "    return data[[col for col in data.columns if string  in col]]"
   ]
  },
  {
   "cell_type": "code",
   "execution_count": 5,
   "metadata": {},
   "outputs": [],
   "source": [
    "#Where a row is na (i.e. it is in the first x games for that team and therefore has no mean), remove both rows of that game.\n",
    "#This is for the instance when new teams join the league, can't calculate the score for the older team so have to remove both instances.\n",
    "def NANConsolidate(df, col):\n",
    "    na_game_ids = set(df[(df.isna().any(axis = 1))][col])\n",
    "    return df[~df[col].isin(na_game_ids)]"
   ]
  },
  {
   "cell_type": "code",
   "execution_count": 6,
   "metadata": {},
   "outputs": [],
   "source": [
    "def CheckTeam(df, team):\n",
    "    df = df[df['team'] == team]\n",
    "    min_game = min(df.date)\n",
    "    max_game = max(df.date)\n",
    "    n_na = sum(df.isna().any(axis=1))\n",
    "    return print(min_game, max_game, n_na)"
   ]
  },
  {
   "cell_type": "code",
   "execution_count": 7,
   "metadata": {},
   "outputs": [],
   "source": [
    "###Initial load and clean data\n",
    "afl_DF_main = pd.read_pickle('afl_DF.pkl') #Read in the data\n",
    "afl_DF_main = afl_DF_main[afl_DF_main.year >= first_year].reset_index() #Filter the data toonly include data from years greater than or equal to <first_year>\n",
    "afl_DF = afl_DF_main.loc[0:,~(afl_DF_main.isna().any())] #Remove any columns that have NAs in the columns\n",
    "afl_DF.columns.duplicated()\n",
    "if exclude_finals == 1: #Drop all finals games when <exclude_finals> is 1\n",
    "    afl_DF = afl_DF[afl_DF_main['final'] == 0]\n",
    "\n",
    "###Create an index for each of the rounds\n",
    "round_index = afl_DF.loc[0:][['year','season_round']] #New dataset with year and season_round\n",
    "round_index = round_index.drop_duplicates(subset = ['year', 'season_round']) #Remove duplicate round rows\n",
    "round_index = round_index.sort_values(by = ['year', 'season_round'], #Order the rounds by year and round, reset the index\n",
    "                       ascending = [True, True]).reset_index(drop=True) \n",
    "round_index['round_index'] = pd.DataFrame(list(round_index.index)) #Create a new column with the index\n",
    "afl_DF = pd.merge(afl_DF, #Join the index back to the main data\n",
    "        round_index,\n",
    "        left_on = ['year','season_round'],\n",
    "        right_on = ['year','season_round'],\n",
    "        how = 'left')\n",
    "\n",
    "###Create an index for each of the games\n",
    "game_index = afl_DF.loc[0:][['fw_game_id','date']] #New dataset with fw_game_id and date\n",
    "game_index = game_index.drop_duplicates(subset = ['fw_game_id','date']) #Remove duplicate game rows\n",
    "game_index = game_index.sort_values(by = ['date', 'fw_game_id'], #Order the games by date and fw_game_id, reset the index\n",
    "                       ascending = [True, True]\n",
    "                                   ).reset_index(drop=True)\n",
    "game_index['game_index'] = pd.DataFrame(list(game_index.index)) #Create a new column with the index\n",
    "afl_DF = pd.merge(afl_DF, #Join the index back to the main data\n",
    "        game_index,\n",
    "        left_on = ['fw_game_id','date'],\n",
    "        right_on = ['fw_game_id','date'],\n",
    "        how = 'left')"
   ]
  },
  {
   "cell_type": "code",
   "execution_count": 8,
   "metadata": {},
   "outputs": [],
   "source": [
    "###Sort data by team and game_index for running mean\n",
    "afl_DF = afl_DF.sort_values(by = ['team','game_index'],\n",
    "             ascending = [True, True]\n",
    "                 ).reset_index(drop=True)"
   ]
  },
  {
   "cell_type": "code",
   "execution_count": 9,
   "metadata": {},
   "outputs": [],
   "source": [
    "###Create new score, margin, result and win variables\n",
    "afl_DF['ScoreTeam'] = (afl_DF['Goals_KickedTeam'] * 6) + afl_DF['Behinds_KickedTeam'] #Goals for the team * 6 plus behinds for the team is the score \n",
    "afl_DF['ScoreOppnt'] = (afl_DF['Goals_KickedOppnt'] * 6) + afl_DF['Behinds_KickedOppnt'] #Goals for the opponent * 6 plus behinds for the opponent is the score \n",
    "afl_DF['Margin'] = afl_DF['ScoreTeam'] - afl_DF['ScoreOppnt'] #The final margin calculated as the score for the team minus the score for the opponent "
   ]
  },
  {
   "cell_type": "code",
   "execution_count": 10,
   "metadata": {},
   "outputs": [],
   "source": [
    "afl_DF.loc[afl_DF['Margin'] == 0, 'Result'] = 0 #When margin is 0, 0\n",
    "afl_DF.loc[afl_DF['Margin'] > 0, 'Result'] = 1 #When margin > 0, 1\n",
    "afl_DF.loc[afl_DF['Margin'] < 0, 'Result'] = -1 #When margin < 0, -1\n",
    "\n",
    "afl_DF.loc[:, 'Win'] = 0 #Make win a zero\n",
    "afl_DF.loc[afl_DF['Margin'] > 0, 'Win'] = 1 #When margin > 0 it's a win = 1"
   ]
  },
  {
   "cell_type": "code",
   "execution_count": 11,
   "metadata": {},
   "outputs": [],
   "source": [
    "###Statistics to remove from the data\n",
    "drop_stat_cols = ['Kicks', 'Handballs','Marks', 'Tackles', 'Hitouts', 'Frees_For', 'Frees_Against',\n",
    "       'Goals_Kicked', 'Behinds_Kicked', 'Rushed_Behinds', 'Disposals_Per_Goal', 'Clearances',\n",
    "       'Clangers', 'In50s_Per_Scoring_Shot', 'Inside_50s_Per_Goal',  'In50s_Goal',\n",
    "       'Contested_Possessions', 'Uncontested_Possessions', 'Effective_Disposals', 'Contested_Marks',\n",
    "        'One_Percenters', 'Bounces', 'Turnovers', 'Intercepts', 'Tackles_Inside_50', 'Kick_to_Handball_Ratio']\n",
    "drop_stat_cols_fin = [string + 'Team' for string in drop_stat_cols]\n",
    "drop_stat_cols_fin.extend([string + 'Oppnt' for string in drop_stat_cols_fin])\n",
    "drop_stat_cols_fin = [col for col in drop_stat_cols_fin if col in afl_DF.columns]"
   ]
  },
  {
   "cell_type": "code",
   "execution_count": 12,
   "metadata": {},
   "outputs": [],
   "source": [
    "#Need to check if this is doing anything\n",
    "afl_DF = afl_DF.loc[:,~afl_DF.columns.duplicated()]"
   ]
  },
  {
   "cell_type": "code",
   "execution_count": 13,
   "metadata": {},
   "outputs": [],
   "source": [
    "####Create a column representing the % of each 'stat' achieved by \"team\"\n",
    "\n",
    "team_array = colLookup(afl_DF, 'Team').values #get all columns with \"Team\" in the name, then return the cell values\n",
    "oppnt_array = colLookup(afl_DF, 'Oppnt').values #get all columns with \"Opponent\" in the name, then return the cell values\n",
    "diff_array = team_array / (team_array + oppnt_array + 0.00001) #Create an array of values which is the % of the stat belonging to team. Note: adding small positive value to avoid inf\n",
    "afl_DF[list(colLookup(afl_DF, 'Team').columns.str.replace('Team','Pcnt'))] = pd.DataFrame(diff_array) #Create a new set of columns and insert the array of values back into main dataframe"
   ]
  },
  {
   "cell_type": "code",
   "execution_count": 14,
   "metadata": {},
   "outputs": [],
   "source": [
    "afl_DF = afl_DF[[col for col in afl_DF.columns if 'Team' not in col and 'Oppnt' not in col]]\n",
    "#afl_DF = afl_DF[[col for col in afl_DF.columns if 'Oppnt' not in col]]\n",
    "#afl_DF = afl_DF[[col for col in afl_DF.columns if 'Team' not in col]]"
   ]
  },
  {
   "cell_type": "code",
   "execution_count": 15,
   "metadata": {},
   "outputs": [],
   "source": [
    "ELO_col = ['Margin']\n",
    "ELO_mean_N = [8]\n",
    "for n in ELO_mean_N:\n",
    "    for col in ELO_col:\n",
    "        afl_DF = afl_DF.groupby('team').apply(newMeanCol, col_nm = col, N = n)\n",
    "afl_DF = NANConsolidate(afl_DF, 'fw_game_id')"
   ]
  },
  {
   "cell_type": "code",
   "execution_count": 16,
   "metadata": {},
   "outputs": [],
   "source": [
    "afl_DF.columns = afl_DF.columns.str.replace(\"_mean\",\"_T_ELO_mean\")"
   ]
  },
  {
   "cell_type": "code",
   "execution_count": 17,
   "metadata": {},
   "outputs": [],
   "source": [
    "cols = ['fw_game_id', 'team']\n",
    "cols.extend([col for col in afl_DF.columns if 'ELO' in col])\n",
    "elo_DF = afl_DF[cols]\n",
    "elo_DF.columns = elo_DF.columns.str.replace('T_ELO','O_ELO')\n",
    "elo_DF.columns = elo_DF.columns.str.replace('team','opponent')"
   ]
  },
  {
   "cell_type": "code",
   "execution_count": 18,
   "metadata": {},
   "outputs": [],
   "source": [
    "afl_DF = pd.merge(afl_DF,\n",
    "         elo_DF,\n",
    "         left_on = ['fw_game_id','opponent'],\n",
    "         right_on = ['fw_game_id','opponent'],\n",
    "        how = 'left')\n",
    "ELO_mean_N = [8]\n",
    "afl_DF = afl_DF[(afl_DF[\"round_index\"] > (max(ELO_mean_N) + 2))]\n",
    "afl_DF['Margin_ELO_m8'] = pd.DataFrame(afl_DF.Margin - (afl_DF.Margin_T_ELO_mean8 - afl_DF.Margin_O_ELO_mean8))\n",
    "afl_DF = afl_DF.drop(['Margin_T_ELO_mean8','Margin_O_ELO_mean8'], axis = 1)"
   ]
  },
  {
   "cell_type": "code",
   "execution_count": 19,
   "metadata": {},
   "outputs": [],
   "source": [
    "cols_to_apply = [col for col in afl_DF.columns if 'Pcnt' in col]\n",
    "cols_to_apply.extend([col for col in afl_DF.columns if 'ELO' in col])\n",
    "cols_to_apply.extend(['Win','Margin'])"
   ]
  },
  {
   "cell_type": "code",
   "execution_count": 20,
   "metadata": {},
   "outputs": [],
   "source": [
    "mean_N = [8, 20]\n",
    "for N in mean_N:\n",
    "    for col in cols_to_apply:\n",
    "        afl_DF = afl_DF.groupby('team').apply(newMeanCol, col_nm = col, N = N)\n",
    "afl_DF = NANConsolidate(afl_DF, 'fw_game_id')"
   ]
  },
  {
   "cell_type": "code",
   "execution_count": 21,
   "metadata": {},
   "outputs": [],
   "source": [
    "afl_DF = afl_DF[~(afl_DF.isna().any(axis = 1))]"
   ]
  },
  {
   "cell_type": "code",
   "execution_count": 22,
   "metadata": {},
   "outputs": [],
   "source": [
    "afl_DF = afl_DF[[col for col in afl_DF.columns if 'Pcnt' not in col or 'mean' in col]]"
   ]
  },
  {
   "cell_type": "code",
   "execution_count": 23,
   "metadata": {},
   "outputs": [],
   "source": [
    "feature_col = ['fw_game_id','team']\n",
    "feature_col.extend([col for col in afl_DF.columns if 'mean' in col])\n",
    "afl_DF_oppnt = afl_DF[feature_col]\n",
    "afl_DF_oppnt.columns = afl_DF_oppnt.columns.str.replace('team','opponent')\n",
    "afl_DF_oppnt.columns = afl_DF_oppnt.columns.str.replace('mean','O_mean')\n",
    "afl_DF.columns = afl_DF.columns.str.replace('mean','T_mean')"
   ]
  },
  {
   "cell_type": "code",
   "execution_count": 24,
   "metadata": {},
   "outputs": [],
   "source": [
    "team_pcnt_col = [col for col in afl_DF.columns if 'mean' in col]\n",
    "oppnt_pcnt_col = [col for col in afl_DF_oppnt.columns if 'mean' in col]\n",
    "team_pcnt_col = [col for col in team_pcnt_col if 'Win_' not in col and 'Margin_' not in col]\n",
    "oppnt_pcnt_col = [col for col in oppnt_pcnt_col if 'Win_' not in col and 'Margin_' not in col]\n",
    "\n",
    "team_other_col = [col for col in afl_DF.columns if ('Win_' in col or 'Margin_' in col) and '_T_' in col]\n",
    "oppnt_other_col = [col for col in afl_DF_oppnt.columns if ('Win_' in col or 'Margin_' in col) and '_O_' in col]"
   ]
  },
  {
   "cell_type": "code",
   "execution_count": 25,
   "metadata": {},
   "outputs": [],
   "source": [
    "afl_DF = pd.merge(afl_DF,\n",
    "                 afl_DF_oppnt,\n",
    "                 left_on = ['fw_game_id','opponent'],\n",
    "                 right_on = ['fw_game_id','opponent'],\n",
    "                 how='left')"
   ]
  },
  {
   "cell_type": "code",
   "execution_count": 26,
   "metadata": {},
   "outputs": [],
   "source": [
    "team_pcnt_mean = afl_DF[team_pcnt_col].values\n",
    "oppnt_pcnt_mean = afl_DF[oppnt_pcnt_col].values\n",
    "diff_pcnt_mean = team_pcnt_mean / (team_pcnt_mean + oppnt_pcnt_mean + 0.000001)\n",
    "\n",
    "team_other_mean = afl_DF[team_other_col].values\n",
    "oppnt_other_mean = afl_DF[oppnt_other_col].values\n",
    "diff_other_mean = team_other_mean - oppnt_other_mean"
   ]
  },
  {
   "cell_type": "code",
   "execution_count": 27,
   "metadata": {},
   "outputs": [],
   "source": [
    "afl_DF[[col.replace('T','D') for col in team_pcnt_col]] = pd.DataFrame(diff_pcnt_mean)\n",
    "afl_DF[[col.replace('T','D') for col in team_other_col]] = pd.DataFrame(diff_other_mean)"
   ]
  },
  {
   "cell_type": "code",
   "execution_count": 28,
   "metadata": {},
   "outputs": [],
   "source": [
    "afl_DF = afl_DF[[col for col in afl_DF.columns if '_T_' not in col and '_O_' not in col]]"
   ]
  },
  {
   "cell_type": "code",
   "execution_count": 29,
   "metadata": {},
   "outputs": [],
   "source": [
    "afl_DF = afl_DF[~(afl_DF.Result == 0)]"
   ]
  },
  {
   "cell_type": "code",
   "execution_count": 30,
   "metadata": {},
   "outputs": [],
   "source": [
    "drop_cols = ['season_round','round_char','date','team','opponent', 'location','attendance','final',\n",
    "             'team_odds','oppnt_odds','team_line','oppnt_line', 'Margin','Result','Margin_ELO_m8','game_index']\n",
    "drop_cols_fin = [col for col in drop_cols if col in afl_DF.columns]\n",
    "afl_DF = afl_DF.drop(drop_cols, axis = 1)"
   ]
  },
  {
   "cell_type": "code",
   "execution_count": 31,
   "metadata": {},
   "outputs": [],
   "source": [
    "cols = list(afl_DF.columns)\n",
    "cols.remove('Win')\n",
    "cols.append('Win')\n",
    "afl_DF = afl_DF[cols]"
   ]
  },
  {
   "cell_type": "code",
   "execution_count": 33,
   "metadata": {},
   "outputs": [],
   "source": [
    "if games_to_keep not in ['mix','home','away','all']:\n",
    "    print('error, <games_to_keep> variable not set correctly')\n",
    "elif games_to_keep == 'mix':\n",
    "    evens = [x for x in afl_DF.fw_game_id if int(x) % 2 == 0]\n",
    "    odds = [x for x in afl_DF.fw_game_id if int(x) % 2 > 0]\n",
    "    a = afl_DF[afl_DF.fw_game_id.isin(odds) & afl_DF.home_game == 1]\n",
    "    b = afl_DF[afl_DF.fw_game_id.isin(odds) & afl_DF.home_game == 0]\n",
    "    afl_DF = pd.concat([a,b])\n",
    "    del a, b\n",
    "elif games_to_keep == 'home':\n",
    "    afl_DF = afl_DF[afl_DF.home_game == 1]\n",
    "elif games_to_keep == 'away':\n",
    "    afl_DF = afl_DF[afl_DF.home_game == 0]"
   ]
  },
  {
   "cell_type": "code",
   "execution_count": 36,
   "metadata": {},
   "outputs": [],
   "source": [
    "afl_ML.to_pickle('afl_ML.pkl')"
   ]
  }
 ],
 "metadata": {
  "kernelspec": {
   "display_name": "Python 3",
   "language": "python",
   "name": "python3"
  }
 },
 "nbformat": 4,
 "nbformat_minor": 2
}
