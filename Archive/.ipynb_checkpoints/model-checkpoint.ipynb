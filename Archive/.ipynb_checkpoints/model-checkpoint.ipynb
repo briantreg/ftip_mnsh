{
 "cells": [
  {
   "cell_type": "markdown",
   "metadata": {},
   "source": [
    "- Remove all NaN columns\n",
    "- Set seed\n",
    "- Create a list of game ids for 2014 to 2018 for test set\n",
    "- Flag the test set, 10% of game ids 14 to 18\n",
    "- Save as new object\n",
    "- Remove high correlated features\n",
    "- Feature selection"
   ]
  },
  {
   "cell_type": "code",
   "execution_count": null,
   "metadata": {},
   "outputs": [],
   "source": []
  }
 ],
 "metadata": {
  "kernelspec": {
   "display_name": "Python 3",
   "language": "python",
   "name": "python3"
  },
  "language_info": {
   "codemirror_mode": {
    "name": "ipython",
    "version": 3
   },
   "file_extension": ".py",
   "mimetype": "text/x-python",
   "name": "python",
   "nbconvert_exporter": "python",
   "pygments_lexer": "ipython3",
   "version": "3.6.5"
  }
 },
 "nbformat": 4,
 "nbformat_minor": 2
}
