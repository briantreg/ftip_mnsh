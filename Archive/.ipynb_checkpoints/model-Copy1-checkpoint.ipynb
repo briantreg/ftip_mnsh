{
 "cells": [
  {
   "cell_type": "code",
   "execution_count": 277,
   "metadata": {},
   "outputs": [],
   "source": [
    "import pandas as pd\n",
    "import numpy as np\n",
    "\n",
    "from boruta import BorutaPy\n",
    "\n",
    "from sklearn.model_selection import train_test_split, GridSearchCV\n",
    "from sklearn import preprocessing\n",
    "from sklearn import svm\n",
    "from sklearn.ensemble import RandomForestClassifier\n",
    "from sklearn.metrics import classification_report"
   ]
  },
  {
   "cell_type": "code",
   "execution_count": 287,
   "metadata": {},
   "outputs": [],
   "source": [
    "afl_ML = pd.read_pickle('afl_ML.pkl')"
   ]
  },
  {
   "cell_type": "code",
   "execution_count": 19,
   "metadata": {},
   "outputs": [],
   "source": [
    "afl_ML = afl_ML.dropna(axis = 1)"
   ]
  },
  {
   "cell_type": "code",
   "execution_count": 20,
   "metadata": {},
   "outputs": [],
   "source": [
    "fw_game_ids = pd.DataFrame(afl_ML[['fw_game_id','round_index']]\n",
    "            ).sort_values(by = ['fw_game_id']\n",
    "                         ).drop_duplicates(subset = 'fw_game_id'\n",
    "                                          ).reset_index(drop = True)"
   ]
  },
  {
   "cell_type": "code",
   "execution_count": 21,
   "metadata": {},
   "outputs": [],
   "source": [
    "train_ids, test_ids, a, b = train_test_split(fw_game_ids, fw_game_ids.round_index, test_size=0.1)\n",
    "del a, b"
   ]
  },
  {
   "cell_type": "code",
   "execution_count": 22,
   "metadata": {},
   "outputs": [],
   "source": [
    "train = afl_ML[afl_ML.fw_game_id.isin(train_ids.fw_game_id.values)]\n",
    "test = afl_ML[afl_ML.fw_game_id.isin(test_ids.fw_game_id.values)]"
   ]
  },
  {
   "cell_type": "code",
   "execution_count": 79,
   "metadata": {},
   "outputs": [],
   "source": [
    "target = 'Win'\n",
    "M_cols = ['fw_game_id', 'year', 'round_index']\n",
    "\n",
    "M_train = train[M_cols]\n",
    "M_test = test[M_cols]\n",
    "\n",
    "Y_train = train[target]\n",
    "Y_test = test[target]\n",
    "\n",
    "M_cols.append(target)\n",
    "X_cols = [col for col in afl_ML.columns if col not in (M_cols)]\n",
    "\n",
    "X_train = train[X_cols]\n",
    "X_test = test[X_cols]"
   ]
  },
  {
   "cell_type": "code",
   "execution_count": 119,
   "metadata": {},
   "outputs": [],
   "source": [
    "train_scaler = preprocessing.StandardScaler().fit(X_train)\n",
    "X_train_scaled = train_scaler.transform(X_train)\n",
    "X_test_scaled = train_scaler.transform(X_test)"
   ]
  },
  {
   "cell_type": "code",
   "execution_count": 81,
   "metadata": {},
   "outputs": [
    {
     "name": "stdout",
     "output_type": "stream",
     "text": [
      "Iteration: \t1 / 100\n",
      "Confirmed: \t0\n",
      "Tentative: \t31\n",
      "Rejected: \t0\n",
      "Iteration: \t2 / 100\n",
      "Confirmed: \t0\n",
      "Tentative: \t31\n",
      "Rejected: \t0\n",
      "Iteration: \t3 / 100\n",
      "Confirmed: \t0\n",
      "Tentative: \t31\n",
      "Rejected: \t0\n",
      "Iteration: \t4 / 100\n",
      "Confirmed: \t0\n",
      "Tentative: \t31\n",
      "Rejected: \t0\n",
      "Iteration: \t5 / 100\n",
      "Confirmed: \t0\n",
      "Tentative: \t31\n",
      "Rejected: \t0\n",
      "Iteration: \t6 / 100\n",
      "Confirmed: \t0\n",
      "Tentative: \t31\n",
      "Rejected: \t0\n",
      "Iteration: \t7 / 100\n",
      "Confirmed: \t0\n",
      "Tentative: \t31\n",
      "Rejected: \t0\n",
      "Iteration: \t8 / 100\n",
      "Confirmed: \t17\n",
      "Tentative: \t9\n",
      "Rejected: \t5\n"
     ]
    },
    {
     "name": "stderr",
     "output_type": "stream",
     "text": [
      "C:\\Users\\Brian\\Anaconda3\\lib\\site-packages\\boruta\\boruta_py.py:418: RuntimeWarning: invalid value encountered in greater\n",
      "  hits = np.where(cur_imp[0] > imp_sha_max)[0]\n"
     ]
    },
    {
     "name": "stdout",
     "output_type": "stream",
     "text": [
      "Iteration: \t9 / 100\n",
      "Confirmed: \t17\n",
      "Tentative: \t9\n",
      "Rejected: \t5\n"
     ]
    },
    {
     "name": "stderr",
     "output_type": "stream",
     "text": [
      "C:\\Users\\Brian\\Anaconda3\\lib\\site-packages\\boruta\\boruta_py.py:418: RuntimeWarning: invalid value encountered in greater\n",
      "  hits = np.where(cur_imp[0] > imp_sha_max)[0]\n"
     ]
    },
    {
     "name": "stdout",
     "output_type": "stream",
     "text": [
      "Iteration: \t10 / 100\n",
      "Confirmed: \t17\n",
      "Tentative: \t9\n",
      "Rejected: \t5\n"
     ]
    },
    {
     "name": "stderr",
     "output_type": "stream",
     "text": [
      "C:\\Users\\Brian\\Anaconda3\\lib\\site-packages\\boruta\\boruta_py.py:418: RuntimeWarning: invalid value encountered in greater\n",
      "  hits = np.where(cur_imp[0] > imp_sha_max)[0]\n"
     ]
    },
    {
     "name": "stdout",
     "output_type": "stream",
     "text": [
      "Iteration: \t11 / 100\n",
      "Confirmed: \t17\n",
      "Tentative: \t9\n",
      "Rejected: \t5\n"
     ]
    },
    {
     "name": "stderr",
     "output_type": "stream",
     "text": [
      "C:\\Users\\Brian\\Anaconda3\\lib\\site-packages\\boruta\\boruta_py.py:418: RuntimeWarning: invalid value encountered in greater\n",
      "  hits = np.where(cur_imp[0] > imp_sha_max)[0]\n"
     ]
    },
    {
     "name": "stdout",
     "output_type": "stream",
     "text": [
      "Iteration: \t12 / 100\n",
      "Confirmed: \t17\n",
      "Tentative: \t9\n",
      "Rejected: \t5\n"
     ]
    },
    {
     "name": "stderr",
     "output_type": "stream",
     "text": [
      "C:\\Users\\Brian\\Anaconda3\\lib\\site-packages\\boruta\\boruta_py.py:418: RuntimeWarning: invalid value encountered in greater\n",
      "  hits = np.where(cur_imp[0] > imp_sha_max)[0]\n"
     ]
    },
    {
     "name": "stdout",
     "output_type": "stream",
     "text": [
      "Iteration: \t13 / 100\n",
      "Confirmed: \t17\n",
      "Tentative: \t8\n",
      "Rejected: \t6\n"
     ]
    },
    {
     "name": "stderr",
     "output_type": "stream",
     "text": [
      "C:\\Users\\Brian\\Anaconda3\\lib\\site-packages\\boruta\\boruta_py.py:418: RuntimeWarning: invalid value encountered in greater\n",
      "  hits = np.where(cur_imp[0] > imp_sha_max)[0]\n"
     ]
    },
    {
     "name": "stdout",
     "output_type": "stream",
     "text": [
      "Iteration: \t14 / 100\n",
      "Confirmed: \t17\n",
      "Tentative: \t8\n",
      "Rejected: \t6\n"
     ]
    },
    {
     "name": "stderr",
     "output_type": "stream",
     "text": [
      "C:\\Users\\Brian\\Anaconda3\\lib\\site-packages\\boruta\\boruta_py.py:418: RuntimeWarning: invalid value encountered in greater\n",
      "  hits = np.where(cur_imp[0] > imp_sha_max)[0]\n"
     ]
    },
    {
     "name": "stdout",
     "output_type": "stream",
     "text": [
      "Iteration: \t15 / 100\n",
      "Confirmed: \t17\n",
      "Tentative: \t8\n",
      "Rejected: \t6\n"
     ]
    },
    {
     "name": "stderr",
     "output_type": "stream",
     "text": [
      "C:\\Users\\Brian\\Anaconda3\\lib\\site-packages\\boruta\\boruta_py.py:418: RuntimeWarning: invalid value encountered in greater\n",
      "  hits = np.where(cur_imp[0] > imp_sha_max)[0]\n"
     ]
    },
    {
     "name": "stdout",
     "output_type": "stream",
     "text": [
      "Iteration: \t16 / 100\n",
      "Confirmed: \t17\n",
      "Tentative: \t4\n",
      "Rejected: \t10\n"
     ]
    },
    {
     "name": "stderr",
     "output_type": "stream",
     "text": [
      "C:\\Users\\Brian\\Anaconda3\\lib\\site-packages\\boruta\\boruta_py.py:418: RuntimeWarning: invalid value encountered in greater\n",
      "  hits = np.where(cur_imp[0] > imp_sha_max)[0]\n"
     ]
    },
    {
     "name": "stdout",
     "output_type": "stream",
     "text": [
      "Iteration: \t17 / 100\n",
      "Confirmed: \t17\n",
      "Tentative: \t4\n",
      "Rejected: \t10\n"
     ]
    },
    {
     "name": "stderr",
     "output_type": "stream",
     "text": [
      "C:\\Users\\Brian\\Anaconda3\\lib\\site-packages\\boruta\\boruta_py.py:418: RuntimeWarning: invalid value encountered in greater\n",
      "  hits = np.where(cur_imp[0] > imp_sha_max)[0]\n"
     ]
    },
    {
     "name": "stdout",
     "output_type": "stream",
     "text": [
      "Iteration: \t18 / 100\n",
      "Confirmed: \t17\n",
      "Tentative: \t4\n",
      "Rejected: \t10\n"
     ]
    },
    {
     "name": "stderr",
     "output_type": "stream",
     "text": [
      "C:\\Users\\Brian\\Anaconda3\\lib\\site-packages\\boruta\\boruta_py.py:418: RuntimeWarning: invalid value encountered in greater\n",
      "  hits = np.where(cur_imp[0] > imp_sha_max)[0]\n"
     ]
    },
    {
     "name": "stdout",
     "output_type": "stream",
     "text": [
      "Iteration: \t19 / 100\n",
      "Confirmed: \t17\n",
      "Tentative: \t4\n",
      "Rejected: \t10\n"
     ]
    },
    {
     "name": "stderr",
     "output_type": "stream",
     "text": [
      "C:\\Users\\Brian\\Anaconda3\\lib\\site-packages\\boruta\\boruta_py.py:418: RuntimeWarning: invalid value encountered in greater\n",
      "  hits = np.where(cur_imp[0] > imp_sha_max)[0]\n"
     ]
    },
    {
     "name": "stdout",
     "output_type": "stream",
     "text": [
      "Iteration: \t20 / 100\n",
      "Confirmed: \t17\n",
      "Tentative: \t4\n",
      "Rejected: \t10\n"
     ]
    },
    {
     "name": "stderr",
     "output_type": "stream",
     "text": [
      "C:\\Users\\Brian\\Anaconda3\\lib\\site-packages\\boruta\\boruta_py.py:418: RuntimeWarning: invalid value encountered in greater\n",
      "  hits = np.where(cur_imp[0] > imp_sha_max)[0]\n"
     ]
    },
    {
     "name": "stdout",
     "output_type": "stream",
     "text": [
      "Iteration: \t21 / 100\n",
      "Confirmed: \t17\n",
      "Tentative: \t4\n",
      "Rejected: \t10\n"
     ]
    },
    {
     "name": "stderr",
     "output_type": "stream",
     "text": [
      "C:\\Users\\Brian\\Anaconda3\\lib\\site-packages\\boruta\\boruta_py.py:418: RuntimeWarning: invalid value encountered in greater\n",
      "  hits = np.where(cur_imp[0] > imp_sha_max)[0]\n"
     ]
    },
    {
     "name": "stdout",
     "output_type": "stream",
     "text": [
      "Iteration: \t22 / 100\n",
      "Confirmed: \t17\n",
      "Tentative: \t2\n",
      "Rejected: \t12\n"
     ]
    },
    {
     "name": "stderr",
     "output_type": "stream",
     "text": [
      "C:\\Users\\Brian\\Anaconda3\\lib\\site-packages\\boruta\\boruta_py.py:418: RuntimeWarning: invalid value encountered in greater\n",
      "  hits = np.where(cur_imp[0] > imp_sha_max)[0]\n"
     ]
    },
    {
     "name": "stdout",
     "output_type": "stream",
     "text": [
      "Iteration: \t23 / 100\n",
      "Confirmed: \t17\n",
      "Tentative: \t2\n",
      "Rejected: \t12\n"
     ]
    },
    {
     "name": "stderr",
     "output_type": "stream",
     "text": [
      "C:\\Users\\Brian\\Anaconda3\\lib\\site-packages\\boruta\\boruta_py.py:418: RuntimeWarning: invalid value encountered in greater\n",
      "  hits = np.where(cur_imp[0] > imp_sha_max)[0]\n"
     ]
    },
    {
     "name": "stdout",
     "output_type": "stream",
     "text": [
      "Iteration: \t24 / 100\n",
      "Confirmed: \t17\n",
      "Tentative: \t2\n",
      "Rejected: \t12\n"
     ]
    },
    {
     "name": "stderr",
     "output_type": "stream",
     "text": [
      "C:\\Users\\Brian\\Anaconda3\\lib\\site-packages\\boruta\\boruta_py.py:418: RuntimeWarning: invalid value encountered in greater\n",
      "  hits = np.where(cur_imp[0] > imp_sha_max)[0]\n"
     ]
    },
    {
     "name": "stdout",
     "output_type": "stream",
     "text": [
      "Iteration: \t25 / 100\n",
      "Confirmed: \t17\n",
      "Tentative: \t2\n",
      "Rejected: \t12\n"
     ]
    },
    {
     "name": "stderr",
     "output_type": "stream",
     "text": [
      "C:\\Users\\Brian\\Anaconda3\\lib\\site-packages\\boruta\\boruta_py.py:418: RuntimeWarning: invalid value encountered in greater\n",
      "  hits = np.where(cur_imp[0] > imp_sha_max)[0]\n"
     ]
    },
    {
     "name": "stdout",
     "output_type": "stream",
     "text": [
      "Iteration: \t26 / 100\n",
      "Confirmed: \t17\n",
      "Tentative: \t2\n",
      "Rejected: \t12\n"
     ]
    },
    {
     "name": "stderr",
     "output_type": "stream",
     "text": [
      "C:\\Users\\Brian\\Anaconda3\\lib\\site-packages\\boruta\\boruta_py.py:418: RuntimeWarning: invalid value encountered in greater\n",
      "  hits = np.where(cur_imp[0] > imp_sha_max)[0]\n"
     ]
    },
    {
     "name": "stdout",
     "output_type": "stream",
     "text": [
      "Iteration: \t27 / 100\n",
      "Confirmed: \t17\n",
      "Tentative: \t2\n",
      "Rejected: \t12\n"
     ]
    },
    {
     "name": "stderr",
     "output_type": "stream",
     "text": [
      "C:\\Users\\Brian\\Anaconda3\\lib\\site-packages\\boruta\\boruta_py.py:418: RuntimeWarning: invalid value encountered in greater\n",
      "  hits = np.where(cur_imp[0] > imp_sha_max)[0]\n"
     ]
    },
    {
     "name": "stdout",
     "output_type": "stream",
     "text": [
      "Iteration: \t28 / 100\n",
      "Confirmed: \t17\n",
      "Tentative: \t2\n",
      "Rejected: \t12\n"
     ]
    },
    {
     "name": "stderr",
     "output_type": "stream",
     "text": [
      "C:\\Users\\Brian\\Anaconda3\\lib\\site-packages\\boruta\\boruta_py.py:418: RuntimeWarning: invalid value encountered in greater\n",
      "  hits = np.where(cur_imp[0] > imp_sha_max)[0]\n"
     ]
    },
    {
     "name": "stdout",
     "output_type": "stream",
     "text": [
      "Iteration: \t29 / 100\n",
      "Confirmed: \t17\n",
      "Tentative: \t2\n",
      "Rejected: \t12\n"
     ]
    },
    {
     "name": "stderr",
     "output_type": "stream",
     "text": [
      "C:\\Users\\Brian\\Anaconda3\\lib\\site-packages\\boruta\\boruta_py.py:418: RuntimeWarning: invalid value encountered in greater\n",
      "  hits = np.where(cur_imp[0] > imp_sha_max)[0]\n"
     ]
    },
    {
     "name": "stdout",
     "output_type": "stream",
     "text": [
      "Iteration: \t30 / 100\n",
      "Confirmed: \t17\n",
      "Tentative: \t2\n",
      "Rejected: \t12\n"
     ]
    },
    {
     "name": "stderr",
     "output_type": "stream",
     "text": [
      "C:\\Users\\Brian\\Anaconda3\\lib\\site-packages\\boruta\\boruta_py.py:418: RuntimeWarning: invalid value encountered in greater\n",
      "  hits = np.where(cur_imp[0] > imp_sha_max)[0]\n"
     ]
    },
    {
     "name": "stdout",
     "output_type": "stream",
     "text": [
      "Iteration: \t31 / 100\n",
      "Confirmed: \t17\n",
      "Tentative: \t2\n",
      "Rejected: \t12\n"
     ]
    },
    {
     "name": "stderr",
     "output_type": "stream",
     "text": [
      "C:\\Users\\Brian\\Anaconda3\\lib\\site-packages\\boruta\\boruta_py.py:418: RuntimeWarning: invalid value encountered in greater\n",
      "  hits = np.where(cur_imp[0] > imp_sha_max)[0]\n"
     ]
    },
    {
     "name": "stdout",
     "output_type": "stream",
     "text": [
      "Iteration: \t32 / 100\n",
      "Confirmed: \t17\n",
      "Tentative: \t1\n",
      "Rejected: \t13\n"
     ]
    },
    {
     "name": "stderr",
     "output_type": "stream",
     "text": [
      "C:\\Users\\Brian\\Anaconda3\\lib\\site-packages\\boruta\\boruta_py.py:418: RuntimeWarning: invalid value encountered in greater\n",
      "  hits = np.where(cur_imp[0] > imp_sha_max)[0]\n"
     ]
    },
    {
     "name": "stdout",
     "output_type": "stream",
     "text": [
      "Iteration: \t33 / 100\n",
      "Confirmed: \t17\n",
      "Tentative: \t1\n",
      "Rejected: \t13\n"
     ]
    },
    {
     "name": "stderr",
     "output_type": "stream",
     "text": [
      "C:\\Users\\Brian\\Anaconda3\\lib\\site-packages\\boruta\\boruta_py.py:418: RuntimeWarning: invalid value encountered in greater\n",
      "  hits = np.where(cur_imp[0] > imp_sha_max)[0]\n"
     ]
    },
    {
     "name": "stdout",
     "output_type": "stream",
     "text": [
      "Iteration: \t34 / 100\n",
      "Confirmed: \t17\n",
      "Tentative: \t1\n",
      "Rejected: \t13\n"
     ]
    },
    {
     "name": "stderr",
     "output_type": "stream",
     "text": [
      "C:\\Users\\Brian\\Anaconda3\\lib\\site-packages\\boruta\\boruta_py.py:418: RuntimeWarning: invalid value encountered in greater\n",
      "  hits = np.where(cur_imp[0] > imp_sha_max)[0]\n"
     ]
    },
    {
     "name": "stdout",
     "output_type": "stream",
     "text": [
      "Iteration: \t35 / 100\n",
      "Confirmed: \t17\n",
      "Tentative: \t1\n",
      "Rejected: \t13\n"
     ]
    },
    {
     "name": "stderr",
     "output_type": "stream",
     "text": [
      "C:\\Users\\Brian\\Anaconda3\\lib\\site-packages\\boruta\\boruta_py.py:418: RuntimeWarning: invalid value encountered in greater\n",
      "  hits = np.where(cur_imp[0] > imp_sha_max)[0]\n"
     ]
    },
    {
     "name": "stdout",
     "output_type": "stream",
     "text": [
      "Iteration: \t36 / 100\n",
      "Confirmed: \t17\n",
      "Tentative: \t1\n",
      "Rejected: \t13\n"
     ]
    },
    {
     "name": "stderr",
     "output_type": "stream",
     "text": [
      "C:\\Users\\Brian\\Anaconda3\\lib\\site-packages\\boruta\\boruta_py.py:418: RuntimeWarning: invalid value encountered in greater\n",
      "  hits = np.where(cur_imp[0] > imp_sha_max)[0]\n"
     ]
    },
    {
     "name": "stdout",
     "output_type": "stream",
     "text": [
      "Iteration: \t37 / 100\n",
      "Confirmed: \t17\n",
      "Tentative: \t1\n",
      "Rejected: \t13\n"
     ]
    },
    {
     "name": "stderr",
     "output_type": "stream",
     "text": [
      "C:\\Users\\Brian\\Anaconda3\\lib\\site-packages\\boruta\\boruta_py.py:418: RuntimeWarning: invalid value encountered in greater\n",
      "  hits = np.where(cur_imp[0] > imp_sha_max)[0]\n"
     ]
    },
    {
     "name": "stdout",
     "output_type": "stream",
     "text": [
      "Iteration: \t38 / 100\n",
      "Confirmed: \t17\n",
      "Tentative: \t1\n",
      "Rejected: \t13\n"
     ]
    },
    {
     "name": "stderr",
     "output_type": "stream",
     "text": [
      "C:\\Users\\Brian\\Anaconda3\\lib\\site-packages\\boruta\\boruta_py.py:418: RuntimeWarning: invalid value encountered in greater\n",
      "  hits = np.where(cur_imp[0] > imp_sha_max)[0]\n"
     ]
    },
    {
     "name": "stdout",
     "output_type": "stream",
     "text": [
      "Iteration: \t39 / 100\n",
      "Confirmed: \t17\n",
      "Tentative: \t1\n",
      "Rejected: \t13\n"
     ]
    },
    {
     "name": "stderr",
     "output_type": "stream",
     "text": [
      "C:\\Users\\Brian\\Anaconda3\\lib\\site-packages\\boruta\\boruta_py.py:418: RuntimeWarning: invalid value encountered in greater\n",
      "  hits = np.where(cur_imp[0] > imp_sha_max)[0]\n"
     ]
    },
    {
     "name": "stdout",
     "output_type": "stream",
     "text": [
      "Iteration: \t40 / 100\n",
      "Confirmed: \t17\n",
      "Tentative: \t1\n",
      "Rejected: \t13\n"
     ]
    },
    {
     "name": "stderr",
     "output_type": "stream",
     "text": [
      "C:\\Users\\Brian\\Anaconda3\\lib\\site-packages\\boruta\\boruta_py.py:418: RuntimeWarning: invalid value encountered in greater\n",
      "  hits = np.where(cur_imp[0] > imp_sha_max)[0]\n"
     ]
    },
    {
     "name": "stdout",
     "output_type": "stream",
     "text": [
      "Iteration: \t41 / 100\n",
      "Confirmed: \t17\n",
      "Tentative: \t1\n",
      "Rejected: \t13\n"
     ]
    },
    {
     "name": "stderr",
     "output_type": "stream",
     "text": [
      "C:\\Users\\Brian\\Anaconda3\\lib\\site-packages\\boruta\\boruta_py.py:418: RuntimeWarning: invalid value encountered in greater\n",
      "  hits = np.where(cur_imp[0] > imp_sha_max)[0]\n"
     ]
    },
    {
     "name": "stdout",
     "output_type": "stream",
     "text": [
      "Iteration: \t42 / 100\n",
      "Confirmed: \t17\n",
      "Tentative: \t1\n",
      "Rejected: \t13\n"
     ]
    },
    {
     "name": "stderr",
     "output_type": "stream",
     "text": [
      "C:\\Users\\Brian\\Anaconda3\\lib\\site-packages\\boruta\\boruta_py.py:418: RuntimeWarning: invalid value encountered in greater\n",
      "  hits = np.where(cur_imp[0] > imp_sha_max)[0]\n"
     ]
    },
    {
     "name": "stdout",
     "output_type": "stream",
     "text": [
      "Iteration: \t43 / 100\n",
      "Confirmed: \t17\n",
      "Tentative: \t1\n",
      "Rejected: \t13\n"
     ]
    },
    {
     "name": "stderr",
     "output_type": "stream",
     "text": [
      "C:\\Users\\Brian\\Anaconda3\\lib\\site-packages\\boruta\\boruta_py.py:418: RuntimeWarning: invalid value encountered in greater\n",
      "  hits = np.where(cur_imp[0] > imp_sha_max)[0]\n"
     ]
    },
    {
     "name": "stdout",
     "output_type": "stream",
     "text": [
      "Iteration: \t44 / 100\n",
      "Confirmed: \t17\n",
      "Tentative: \t1\n",
      "Rejected: \t13\n"
     ]
    },
    {
     "name": "stderr",
     "output_type": "stream",
     "text": [
      "C:\\Users\\Brian\\Anaconda3\\lib\\site-packages\\boruta\\boruta_py.py:418: RuntimeWarning: invalid value encountered in greater\n",
      "  hits = np.where(cur_imp[0] > imp_sha_max)[0]\n"
     ]
    },
    {
     "name": "stdout",
     "output_type": "stream",
     "text": [
      "Iteration: \t45 / 100\n",
      "Confirmed: \t17\n",
      "Tentative: \t1\n",
      "Rejected: \t13\n"
     ]
    },
    {
     "name": "stderr",
     "output_type": "stream",
     "text": [
      "C:\\Users\\Brian\\Anaconda3\\lib\\site-packages\\boruta\\boruta_py.py:418: RuntimeWarning: invalid value encountered in greater\n",
      "  hits = np.where(cur_imp[0] > imp_sha_max)[0]\n"
     ]
    },
    {
     "name": "stdout",
     "output_type": "stream",
     "text": [
      "Iteration: \t46 / 100\n",
      "Confirmed: \t17\n",
      "Tentative: \t1\n",
      "Rejected: \t13\n"
     ]
    },
    {
     "name": "stderr",
     "output_type": "stream",
     "text": [
      "C:\\Users\\Brian\\Anaconda3\\lib\\site-packages\\boruta\\boruta_py.py:418: RuntimeWarning: invalid value encountered in greater\n",
      "  hits = np.where(cur_imp[0] > imp_sha_max)[0]\n"
     ]
    },
    {
     "name": "stdout",
     "output_type": "stream",
     "text": [
      "Iteration: \t47 / 100\n",
      "Confirmed: \t17\n",
      "Tentative: \t1\n",
      "Rejected: \t13\n"
     ]
    },
    {
     "name": "stderr",
     "output_type": "stream",
     "text": [
      "C:\\Users\\Brian\\Anaconda3\\lib\\site-packages\\boruta\\boruta_py.py:418: RuntimeWarning: invalid value encountered in greater\n",
      "  hits = np.where(cur_imp[0] > imp_sha_max)[0]\n"
     ]
    },
    {
     "name": "stdout",
     "output_type": "stream",
     "text": [
      "Iteration: \t48 / 100\n",
      "Confirmed: \t17\n",
      "Tentative: \t1\n",
      "Rejected: \t13\n"
     ]
    },
    {
     "name": "stderr",
     "output_type": "stream",
     "text": [
      "C:\\Users\\Brian\\Anaconda3\\lib\\site-packages\\boruta\\boruta_py.py:418: RuntimeWarning: invalid value encountered in greater\n",
      "  hits = np.where(cur_imp[0] > imp_sha_max)[0]\n"
     ]
    },
    {
     "name": "stdout",
     "output_type": "stream",
     "text": [
      "Iteration: \t49 / 100\n",
      "Confirmed: \t17\n",
      "Tentative: \t1\n",
      "Rejected: \t13\n"
     ]
    },
    {
     "name": "stderr",
     "output_type": "stream",
     "text": [
      "C:\\Users\\Brian\\Anaconda3\\lib\\site-packages\\boruta\\boruta_py.py:418: RuntimeWarning: invalid value encountered in greater\n",
      "  hits = np.where(cur_imp[0] > imp_sha_max)[0]\n"
     ]
    },
    {
     "name": "stdout",
     "output_type": "stream",
     "text": [
      "Iteration: \t50 / 100\n",
      "Confirmed: \t17\n",
      "Tentative: \t1\n",
      "Rejected: \t13\n"
     ]
    },
    {
     "name": "stderr",
     "output_type": "stream",
     "text": [
      "C:\\Users\\Brian\\Anaconda3\\lib\\site-packages\\boruta\\boruta_py.py:418: RuntimeWarning: invalid value encountered in greater\n",
      "  hits = np.where(cur_imp[0] > imp_sha_max)[0]\n"
     ]
    },
    {
     "name": "stdout",
     "output_type": "stream",
     "text": [
      "Iteration: \t51 / 100\n",
      "Confirmed: \t17\n",
      "Tentative: \t1\n",
      "Rejected: \t13\n"
     ]
    },
    {
     "name": "stderr",
     "output_type": "stream",
     "text": [
      "C:\\Users\\Brian\\Anaconda3\\lib\\site-packages\\boruta\\boruta_py.py:418: RuntimeWarning: invalid value encountered in greater\n",
      "  hits = np.where(cur_imp[0] > imp_sha_max)[0]\n"
     ]
    },
    {
     "name": "stdout",
     "output_type": "stream",
     "text": [
      "Iteration: \t52 / 100\n",
      "Confirmed: \t17\n",
      "Tentative: \t1\n",
      "Rejected: \t13\n"
     ]
    },
    {
     "name": "stderr",
     "output_type": "stream",
     "text": [
      "C:\\Users\\Brian\\Anaconda3\\lib\\site-packages\\boruta\\boruta_py.py:418: RuntimeWarning: invalid value encountered in greater\n",
      "  hits = np.where(cur_imp[0] > imp_sha_max)[0]\n"
     ]
    },
    {
     "name": "stdout",
     "output_type": "stream",
     "text": [
      "Iteration: \t53 / 100\n",
      "Confirmed: \t17\n",
      "Tentative: \t1\n",
      "Rejected: \t13\n"
     ]
    },
    {
     "name": "stderr",
     "output_type": "stream",
     "text": [
      "C:\\Users\\Brian\\Anaconda3\\lib\\site-packages\\boruta\\boruta_py.py:418: RuntimeWarning: invalid value encountered in greater\n",
      "  hits = np.where(cur_imp[0] > imp_sha_max)[0]\n"
     ]
    },
    {
     "name": "stdout",
     "output_type": "stream",
     "text": [
      "Iteration: \t54 / 100\n",
      "Confirmed: \t17\n",
      "Tentative: \t1\n",
      "Rejected: \t13\n"
     ]
    },
    {
     "name": "stderr",
     "output_type": "stream",
     "text": [
      "C:\\Users\\Brian\\Anaconda3\\lib\\site-packages\\boruta\\boruta_py.py:418: RuntimeWarning: invalid value encountered in greater\n",
      "  hits = np.where(cur_imp[0] > imp_sha_max)[0]\n"
     ]
    },
    {
     "name": "stdout",
     "output_type": "stream",
     "text": [
      "Iteration: \t55 / 100\n",
      "Confirmed: \t17\n",
      "Tentative: \t1\n",
      "Rejected: \t13\n"
     ]
    },
    {
     "name": "stderr",
     "output_type": "stream",
     "text": [
      "C:\\Users\\Brian\\Anaconda3\\lib\\site-packages\\boruta\\boruta_py.py:418: RuntimeWarning: invalid value encountered in greater\n",
      "  hits = np.where(cur_imp[0] > imp_sha_max)[0]\n"
     ]
    },
    {
     "name": "stdout",
     "output_type": "stream",
     "text": [
      "Iteration: \t56 / 100\n",
      "Confirmed: \t17\n",
      "Tentative: \t1\n",
      "Rejected: \t13\n"
     ]
    },
    {
     "name": "stderr",
     "output_type": "stream",
     "text": [
      "C:\\Users\\Brian\\Anaconda3\\lib\\site-packages\\boruta\\boruta_py.py:418: RuntimeWarning: invalid value encountered in greater\n",
      "  hits = np.where(cur_imp[0] > imp_sha_max)[0]\n"
     ]
    },
    {
     "name": "stdout",
     "output_type": "stream",
     "text": [
      "Iteration: \t57 / 100\n",
      "Confirmed: \t17\n",
      "Tentative: \t1\n",
      "Rejected: \t13\n"
     ]
    },
    {
     "name": "stderr",
     "output_type": "stream",
     "text": [
      "C:\\Users\\Brian\\Anaconda3\\lib\\site-packages\\boruta\\boruta_py.py:418: RuntimeWarning: invalid value encountered in greater\n",
      "  hits = np.where(cur_imp[0] > imp_sha_max)[0]\n"
     ]
    },
    {
     "name": "stdout",
     "output_type": "stream",
     "text": [
      "Iteration: \t58 / 100\n",
      "Confirmed: \t17\n",
      "Tentative: \t1\n",
      "Rejected: \t13\n"
     ]
    },
    {
     "name": "stderr",
     "output_type": "stream",
     "text": [
      "C:\\Users\\Brian\\Anaconda3\\lib\\site-packages\\boruta\\boruta_py.py:418: RuntimeWarning: invalid value encountered in greater\n",
      "  hits = np.where(cur_imp[0] > imp_sha_max)[0]\n"
     ]
    },
    {
     "name": "stdout",
     "output_type": "stream",
     "text": [
      "Iteration: \t59 / 100\n",
      "Confirmed: \t17\n",
      "Tentative: \t1\n",
      "Rejected: \t13\n"
     ]
    },
    {
     "name": "stderr",
     "output_type": "stream",
     "text": [
      "C:\\Users\\Brian\\Anaconda3\\lib\\site-packages\\boruta\\boruta_py.py:418: RuntimeWarning: invalid value encountered in greater\n",
      "  hits = np.where(cur_imp[0] > imp_sha_max)[0]\n"
     ]
    },
    {
     "name": "stdout",
     "output_type": "stream",
     "text": [
      "Iteration: \t60 / 100\n",
      "Confirmed: \t17\n",
      "Tentative: \t1\n",
      "Rejected: \t13\n"
     ]
    },
    {
     "name": "stderr",
     "output_type": "stream",
     "text": [
      "C:\\Users\\Brian\\Anaconda3\\lib\\site-packages\\boruta\\boruta_py.py:418: RuntimeWarning: invalid value encountered in greater\n",
      "  hits = np.where(cur_imp[0] > imp_sha_max)[0]\n"
     ]
    },
    {
     "name": "stdout",
     "output_type": "stream",
     "text": [
      "Iteration: \t61 / 100\n",
      "Confirmed: \t17\n",
      "Tentative: \t1\n",
      "Rejected: \t13\n"
     ]
    },
    {
     "name": "stderr",
     "output_type": "stream",
     "text": [
      "C:\\Users\\Brian\\Anaconda3\\lib\\site-packages\\boruta\\boruta_py.py:418: RuntimeWarning: invalid value encountered in greater\n",
      "  hits = np.where(cur_imp[0] > imp_sha_max)[0]\n"
     ]
    },
    {
     "name": "stdout",
     "output_type": "stream",
     "text": [
      "Iteration: \t62 / 100\n",
      "Confirmed: \t17\n",
      "Tentative: \t1\n",
      "Rejected: \t13\n"
     ]
    },
    {
     "name": "stderr",
     "output_type": "stream",
     "text": [
      "C:\\Users\\Brian\\Anaconda3\\lib\\site-packages\\boruta\\boruta_py.py:418: RuntimeWarning: invalid value encountered in greater\n",
      "  hits = np.where(cur_imp[0] > imp_sha_max)[0]\n"
     ]
    },
    {
     "name": "stdout",
     "output_type": "stream",
     "text": [
      "Iteration: \t63 / 100\n",
      "Confirmed: \t17\n",
      "Tentative: \t1\n",
      "Rejected: \t13\n"
     ]
    },
    {
     "name": "stderr",
     "output_type": "stream",
     "text": [
      "C:\\Users\\Brian\\Anaconda3\\lib\\site-packages\\boruta\\boruta_py.py:418: RuntimeWarning: invalid value encountered in greater\n",
      "  hits = np.where(cur_imp[0] > imp_sha_max)[0]\n"
     ]
    },
    {
     "name": "stdout",
     "output_type": "stream",
     "text": [
      "Iteration: \t64 / 100\n",
      "Confirmed: \t17\n",
      "Tentative: \t1\n",
      "Rejected: \t13\n"
     ]
    },
    {
     "name": "stderr",
     "output_type": "stream",
     "text": [
      "C:\\Users\\Brian\\Anaconda3\\lib\\site-packages\\boruta\\boruta_py.py:418: RuntimeWarning: invalid value encountered in greater\n",
      "  hits = np.where(cur_imp[0] > imp_sha_max)[0]\n"
     ]
    },
    {
     "name": "stdout",
     "output_type": "stream",
     "text": [
      "Iteration: \t65 / 100\n",
      "Confirmed: \t17\n",
      "Tentative: \t1\n",
      "Rejected: \t13\n"
     ]
    },
    {
     "name": "stderr",
     "output_type": "stream",
     "text": [
      "C:\\Users\\Brian\\Anaconda3\\lib\\site-packages\\boruta\\boruta_py.py:418: RuntimeWarning: invalid value encountered in greater\n",
      "  hits = np.where(cur_imp[0] > imp_sha_max)[0]\n"
     ]
    },
    {
     "name": "stdout",
     "output_type": "stream",
     "text": [
      "Iteration: \t66 / 100\n",
      "Confirmed: \t17\n",
      "Tentative: \t1\n",
      "Rejected: \t13\n"
     ]
    },
    {
     "name": "stderr",
     "output_type": "stream",
     "text": [
      "C:\\Users\\Brian\\Anaconda3\\lib\\site-packages\\boruta\\boruta_py.py:418: RuntimeWarning: invalid value encountered in greater\n",
      "  hits = np.where(cur_imp[0] > imp_sha_max)[0]\n"
     ]
    },
    {
     "name": "stdout",
     "output_type": "stream",
     "text": [
      "Iteration: \t67 / 100\n",
      "Confirmed: \t17\n",
      "Tentative: \t1\n",
      "Rejected: \t13\n"
     ]
    },
    {
     "name": "stderr",
     "output_type": "stream",
     "text": [
      "C:\\Users\\Brian\\Anaconda3\\lib\\site-packages\\boruta\\boruta_py.py:418: RuntimeWarning: invalid value encountered in greater\n",
      "  hits = np.where(cur_imp[0] > imp_sha_max)[0]\n"
     ]
    },
    {
     "name": "stdout",
     "output_type": "stream",
     "text": [
      "Iteration: \t68 / 100\n",
      "Confirmed: \t17\n",
      "Tentative: \t1\n",
      "Rejected: \t13\n"
     ]
    },
    {
     "name": "stderr",
     "output_type": "stream",
     "text": [
      "C:\\Users\\Brian\\Anaconda3\\lib\\site-packages\\boruta\\boruta_py.py:418: RuntimeWarning: invalid value encountered in greater\n",
      "  hits = np.where(cur_imp[0] > imp_sha_max)[0]\n"
     ]
    },
    {
     "name": "stdout",
     "output_type": "stream",
     "text": [
      "Iteration: \t69 / 100\n",
      "Confirmed: \t17\n",
      "Tentative: \t1\n",
      "Rejected: \t13\n"
     ]
    },
    {
     "name": "stderr",
     "output_type": "stream",
     "text": [
      "C:\\Users\\Brian\\Anaconda3\\lib\\site-packages\\boruta\\boruta_py.py:418: RuntimeWarning: invalid value encountered in greater\n",
      "  hits = np.where(cur_imp[0] > imp_sha_max)[0]\n"
     ]
    },
    {
     "name": "stdout",
     "output_type": "stream",
     "text": [
      "Iteration: \t70 / 100\n",
      "Confirmed: \t17\n",
      "Tentative: \t1\n",
      "Rejected: \t13\n"
     ]
    },
    {
     "name": "stderr",
     "output_type": "stream",
     "text": [
      "C:\\Users\\Brian\\Anaconda3\\lib\\site-packages\\boruta\\boruta_py.py:418: RuntimeWarning: invalid value encountered in greater\n",
      "  hits = np.where(cur_imp[0] > imp_sha_max)[0]\n"
     ]
    },
    {
     "name": "stdout",
     "output_type": "stream",
     "text": [
      "Iteration: \t71 / 100\n",
      "Confirmed: \t17\n",
      "Tentative: \t1\n",
      "Rejected: \t13\n"
     ]
    },
    {
     "name": "stderr",
     "output_type": "stream",
     "text": [
      "C:\\Users\\Brian\\Anaconda3\\lib\\site-packages\\boruta\\boruta_py.py:418: RuntimeWarning: invalid value encountered in greater\n",
      "  hits = np.where(cur_imp[0] > imp_sha_max)[0]\n"
     ]
    },
    {
     "name": "stdout",
     "output_type": "stream",
     "text": [
      "Iteration: \t72 / 100\n",
      "Confirmed: \t17\n",
      "Tentative: \t1\n",
      "Rejected: \t13\n"
     ]
    },
    {
     "name": "stderr",
     "output_type": "stream",
     "text": [
      "C:\\Users\\Brian\\Anaconda3\\lib\\site-packages\\boruta\\boruta_py.py:418: RuntimeWarning: invalid value encountered in greater\n",
      "  hits = np.where(cur_imp[0] > imp_sha_max)[0]\n"
     ]
    },
    {
     "name": "stdout",
     "output_type": "stream",
     "text": [
      "Iteration: \t73 / 100\n",
      "Confirmed: \t17\n",
      "Tentative: \t1\n",
      "Rejected: \t13\n"
     ]
    },
    {
     "name": "stderr",
     "output_type": "stream",
     "text": [
      "C:\\Users\\Brian\\Anaconda3\\lib\\site-packages\\boruta\\boruta_py.py:418: RuntimeWarning: invalid value encountered in greater\n",
      "  hits = np.where(cur_imp[0] > imp_sha_max)[0]\n"
     ]
    },
    {
     "name": "stdout",
     "output_type": "stream",
     "text": [
      "Iteration: \t74 / 100\n",
      "Confirmed: \t17\n",
      "Tentative: \t1\n",
      "Rejected: \t13\n"
     ]
    },
    {
     "name": "stderr",
     "output_type": "stream",
     "text": [
      "C:\\Users\\Brian\\Anaconda3\\lib\\site-packages\\boruta\\boruta_py.py:418: RuntimeWarning: invalid value encountered in greater\n",
      "  hits = np.where(cur_imp[0] > imp_sha_max)[0]\n"
     ]
    },
    {
     "name": "stdout",
     "output_type": "stream",
     "text": [
      "Iteration: \t75 / 100\n",
      "Confirmed: \t17\n",
      "Tentative: \t1\n",
      "Rejected: \t13\n"
     ]
    },
    {
     "name": "stderr",
     "output_type": "stream",
     "text": [
      "C:\\Users\\Brian\\Anaconda3\\lib\\site-packages\\boruta\\boruta_py.py:418: RuntimeWarning: invalid value encountered in greater\n",
      "  hits = np.where(cur_imp[0] > imp_sha_max)[0]\n"
     ]
    },
    {
     "name": "stdout",
     "output_type": "stream",
     "text": [
      "Iteration: \t76 / 100\n",
      "Confirmed: \t17\n",
      "Tentative: \t1\n",
      "Rejected: \t13\n"
     ]
    },
    {
     "name": "stderr",
     "output_type": "stream",
     "text": [
      "C:\\Users\\Brian\\Anaconda3\\lib\\site-packages\\boruta\\boruta_py.py:418: RuntimeWarning: invalid value encountered in greater\n",
      "  hits = np.where(cur_imp[0] > imp_sha_max)[0]\n"
     ]
    },
    {
     "name": "stdout",
     "output_type": "stream",
     "text": [
      "Iteration: \t77 / 100\n",
      "Confirmed: \t17\n",
      "Tentative: \t1\n",
      "Rejected: \t13\n"
     ]
    },
    {
     "name": "stderr",
     "output_type": "stream",
     "text": [
      "C:\\Users\\Brian\\Anaconda3\\lib\\site-packages\\boruta\\boruta_py.py:418: RuntimeWarning: invalid value encountered in greater\n",
      "  hits = np.where(cur_imp[0] > imp_sha_max)[0]\n"
     ]
    },
    {
     "name": "stdout",
     "output_type": "stream",
     "text": [
      "Iteration: \t78 / 100\n",
      "Confirmed: \t17\n",
      "Tentative: \t1\n",
      "Rejected: \t13\n"
     ]
    },
    {
     "name": "stderr",
     "output_type": "stream",
     "text": [
      "C:\\Users\\Brian\\Anaconda3\\lib\\site-packages\\boruta\\boruta_py.py:418: RuntimeWarning: invalid value encountered in greater\n",
      "  hits = np.where(cur_imp[0] > imp_sha_max)[0]\n"
     ]
    },
    {
     "name": "stdout",
     "output_type": "stream",
     "text": [
      "Iteration: \t79 / 100\n",
      "Confirmed: \t17\n",
      "Tentative: \t1\n",
      "Rejected: \t13\n"
     ]
    },
    {
     "name": "stderr",
     "output_type": "stream",
     "text": [
      "C:\\Users\\Brian\\Anaconda3\\lib\\site-packages\\boruta\\boruta_py.py:418: RuntimeWarning: invalid value encountered in greater\n",
      "  hits = np.where(cur_imp[0] > imp_sha_max)[0]\n"
     ]
    },
    {
     "name": "stdout",
     "output_type": "stream",
     "text": [
      "Iteration: \t80 / 100\n",
      "Confirmed: \t17\n",
      "Tentative: \t1\n",
      "Rejected: \t13\n"
     ]
    },
    {
     "name": "stderr",
     "output_type": "stream",
     "text": [
      "C:\\Users\\Brian\\Anaconda3\\lib\\site-packages\\boruta\\boruta_py.py:418: RuntimeWarning: invalid value encountered in greater\n",
      "  hits = np.where(cur_imp[0] > imp_sha_max)[0]\n"
     ]
    },
    {
     "name": "stdout",
     "output_type": "stream",
     "text": [
      "Iteration: \t81 / 100\n",
      "Confirmed: \t17\n",
      "Tentative: \t1\n",
      "Rejected: \t13\n"
     ]
    },
    {
     "name": "stderr",
     "output_type": "stream",
     "text": [
      "C:\\Users\\Brian\\Anaconda3\\lib\\site-packages\\boruta\\boruta_py.py:418: RuntimeWarning: invalid value encountered in greater\n",
      "  hits = np.where(cur_imp[0] > imp_sha_max)[0]\n"
     ]
    },
    {
     "name": "stdout",
     "output_type": "stream",
     "text": [
      "Iteration: \t82 / 100\n",
      "Confirmed: \t17\n",
      "Tentative: \t1\n",
      "Rejected: \t13\n"
     ]
    },
    {
     "name": "stderr",
     "output_type": "stream",
     "text": [
      "C:\\Users\\Brian\\Anaconda3\\lib\\site-packages\\boruta\\boruta_py.py:418: RuntimeWarning: invalid value encountered in greater\n",
      "  hits = np.where(cur_imp[0] > imp_sha_max)[0]\n"
     ]
    },
    {
     "name": "stdout",
     "output_type": "stream",
     "text": [
      "Iteration: \t83 / 100\n",
      "Confirmed: \t17\n",
      "Tentative: \t1\n",
      "Rejected: \t13\n"
     ]
    },
    {
     "name": "stderr",
     "output_type": "stream",
     "text": [
      "C:\\Users\\Brian\\Anaconda3\\lib\\site-packages\\boruta\\boruta_py.py:418: RuntimeWarning: invalid value encountered in greater\n",
      "  hits = np.where(cur_imp[0] > imp_sha_max)[0]\n"
     ]
    },
    {
     "name": "stdout",
     "output_type": "stream",
     "text": [
      "Iteration: \t84 / 100\n",
      "Confirmed: \t17\n",
      "Tentative: \t1\n",
      "Rejected: \t13\n"
     ]
    },
    {
     "name": "stderr",
     "output_type": "stream",
     "text": [
      "C:\\Users\\Brian\\Anaconda3\\lib\\site-packages\\boruta\\boruta_py.py:418: RuntimeWarning: invalid value encountered in greater\n",
      "  hits = np.where(cur_imp[0] > imp_sha_max)[0]\n"
     ]
    },
    {
     "name": "stdout",
     "output_type": "stream",
     "text": [
      "Iteration: \t85 / 100\n",
      "Confirmed: \t17\n",
      "Tentative: \t1\n",
      "Rejected: \t13\n"
     ]
    },
    {
     "name": "stderr",
     "output_type": "stream",
     "text": [
      "C:\\Users\\Brian\\Anaconda3\\lib\\site-packages\\boruta\\boruta_py.py:418: RuntimeWarning: invalid value encountered in greater\n",
      "  hits = np.where(cur_imp[0] > imp_sha_max)[0]\n"
     ]
    },
    {
     "name": "stdout",
     "output_type": "stream",
     "text": [
      "Iteration: \t86 / 100\n",
      "Confirmed: \t17\n",
      "Tentative: \t1\n",
      "Rejected: \t13\n"
     ]
    },
    {
     "name": "stderr",
     "output_type": "stream",
     "text": [
      "C:\\Users\\Brian\\Anaconda3\\lib\\site-packages\\boruta\\boruta_py.py:418: RuntimeWarning: invalid value encountered in greater\n",
      "  hits = np.where(cur_imp[0] > imp_sha_max)[0]\n"
     ]
    },
    {
     "name": "stdout",
     "output_type": "stream",
     "text": [
      "Iteration: \t87 / 100\n",
      "Confirmed: \t17\n",
      "Tentative: \t1\n",
      "Rejected: \t13\n"
     ]
    },
    {
     "name": "stderr",
     "output_type": "stream",
     "text": [
      "C:\\Users\\Brian\\Anaconda3\\lib\\site-packages\\boruta\\boruta_py.py:418: RuntimeWarning: invalid value encountered in greater\n",
      "  hits = np.where(cur_imp[0] > imp_sha_max)[0]\n"
     ]
    },
    {
     "name": "stdout",
     "output_type": "stream",
     "text": [
      "Iteration: \t88 / 100\n",
      "Confirmed: \t17\n",
      "Tentative: \t1\n",
      "Rejected: \t13\n"
     ]
    },
    {
     "name": "stderr",
     "output_type": "stream",
     "text": [
      "C:\\Users\\Brian\\Anaconda3\\lib\\site-packages\\boruta\\boruta_py.py:418: RuntimeWarning: invalid value encountered in greater\n",
      "  hits = np.where(cur_imp[0] > imp_sha_max)[0]\n"
     ]
    },
    {
     "name": "stdout",
     "output_type": "stream",
     "text": [
      "Iteration: \t89 / 100\n",
      "Confirmed: \t17\n",
      "Tentative: \t1\n",
      "Rejected: \t13\n"
     ]
    },
    {
     "name": "stderr",
     "output_type": "stream",
     "text": [
      "C:\\Users\\Brian\\Anaconda3\\lib\\site-packages\\boruta\\boruta_py.py:418: RuntimeWarning: invalid value encountered in greater\n",
      "  hits = np.where(cur_imp[0] > imp_sha_max)[0]\n"
     ]
    },
    {
     "name": "stdout",
     "output_type": "stream",
     "text": [
      "Iteration: \t90 / 100\n",
      "Confirmed: \t17\n",
      "Tentative: \t1\n",
      "Rejected: \t13\n"
     ]
    },
    {
     "name": "stderr",
     "output_type": "stream",
     "text": [
      "C:\\Users\\Brian\\Anaconda3\\lib\\site-packages\\boruta\\boruta_py.py:418: RuntimeWarning: invalid value encountered in greater\n",
      "  hits = np.where(cur_imp[0] > imp_sha_max)[0]\n"
     ]
    },
    {
     "name": "stdout",
     "output_type": "stream",
     "text": [
      "Iteration: \t91 / 100\n",
      "Confirmed: \t17\n",
      "Tentative: \t1\n",
      "Rejected: \t13\n"
     ]
    },
    {
     "name": "stderr",
     "output_type": "stream",
     "text": [
      "C:\\Users\\Brian\\Anaconda3\\lib\\site-packages\\boruta\\boruta_py.py:418: RuntimeWarning: invalid value encountered in greater\n",
      "  hits = np.where(cur_imp[0] > imp_sha_max)[0]\n"
     ]
    },
    {
     "name": "stdout",
     "output_type": "stream",
     "text": [
      "Iteration: \t92 / 100\n",
      "Confirmed: \t17\n",
      "Tentative: \t1\n",
      "Rejected: \t13\n"
     ]
    },
    {
     "name": "stderr",
     "output_type": "stream",
     "text": [
      "C:\\Users\\Brian\\Anaconda3\\lib\\site-packages\\boruta\\boruta_py.py:418: RuntimeWarning: invalid value encountered in greater\n",
      "  hits = np.where(cur_imp[0] > imp_sha_max)[0]\n"
     ]
    },
    {
     "name": "stdout",
     "output_type": "stream",
     "text": [
      "Iteration: \t93 / 100\n",
      "Confirmed: \t17\n",
      "Tentative: \t1\n",
      "Rejected: \t13\n"
     ]
    },
    {
     "name": "stderr",
     "output_type": "stream",
     "text": [
      "C:\\Users\\Brian\\Anaconda3\\lib\\site-packages\\boruta\\boruta_py.py:418: RuntimeWarning: invalid value encountered in greater\n",
      "  hits = np.where(cur_imp[0] > imp_sha_max)[0]\n"
     ]
    },
    {
     "name": "stdout",
     "output_type": "stream",
     "text": [
      "Iteration: \t94 / 100\n",
      "Confirmed: \t17\n",
      "Tentative: \t1\n",
      "Rejected: \t13\n"
     ]
    },
    {
     "name": "stderr",
     "output_type": "stream",
     "text": [
      "C:\\Users\\Brian\\Anaconda3\\lib\\site-packages\\boruta\\boruta_py.py:418: RuntimeWarning: invalid value encountered in greater\n",
      "  hits = np.where(cur_imp[0] > imp_sha_max)[0]\n"
     ]
    },
    {
     "name": "stdout",
     "output_type": "stream",
     "text": [
      "Iteration: \t95 / 100\n",
      "Confirmed: \t17\n",
      "Tentative: \t1\n",
      "Rejected: \t13\n"
     ]
    },
    {
     "name": "stderr",
     "output_type": "stream",
     "text": [
      "C:\\Users\\Brian\\Anaconda3\\lib\\site-packages\\boruta\\boruta_py.py:418: RuntimeWarning: invalid value encountered in greater\n",
      "  hits = np.where(cur_imp[0] > imp_sha_max)[0]\n"
     ]
    },
    {
     "name": "stdout",
     "output_type": "stream",
     "text": [
      "Iteration: \t96 / 100\n",
      "Confirmed: \t17\n",
      "Tentative: \t1\n",
      "Rejected: \t13\n"
     ]
    },
    {
     "name": "stderr",
     "output_type": "stream",
     "text": [
      "C:\\Users\\Brian\\Anaconda3\\lib\\site-packages\\boruta\\boruta_py.py:418: RuntimeWarning: invalid value encountered in greater\n",
      "  hits = np.where(cur_imp[0] > imp_sha_max)[0]\n"
     ]
    },
    {
     "name": "stdout",
     "output_type": "stream",
     "text": [
      "Iteration: \t97 / 100\n",
      "Confirmed: \t17\n",
      "Tentative: \t1\n",
      "Rejected: \t13\n"
     ]
    },
    {
     "name": "stderr",
     "output_type": "stream",
     "text": [
      "C:\\Users\\Brian\\Anaconda3\\lib\\site-packages\\boruta\\boruta_py.py:418: RuntimeWarning: invalid value encountered in greater\n",
      "  hits = np.where(cur_imp[0] > imp_sha_max)[0]\n"
     ]
    },
    {
     "name": "stdout",
     "output_type": "stream",
     "text": [
      "Iteration: \t98 / 100\n",
      "Confirmed: \t17\n",
      "Tentative: \t1\n",
      "Rejected: \t13\n",
      "Iteration: \t99 / 100\n",
      "Confirmed: \t17\n",
      "Tentative: \t1\n",
      "Rejected: \t13\n",
      "\n",
      "\n",
      "BorutaPy finished running.\n",
      "\n",
      "Iteration: \t100 / 100\n",
      "Confirmed: \t17\n",
      "Tentative: \t0\n",
      "Rejected: \t13\n"
     ]
    },
    {
     "name": "stderr",
     "output_type": "stream",
     "text": [
      "C:\\Users\\Brian\\Anaconda3\\lib\\site-packages\\boruta\\boruta_py.py:418: RuntimeWarning: invalid value encountered in greater\n",
      "  hits = np.where(cur_imp[0] > imp_sha_max)[0]\n"
     ]
    },
    {
     "data": {
      "text/plain": [
       "BorutaPy(alpha=0.05,\n",
       "     estimator=RandomForestClassifier(bootstrap=True, class_weight='balanced',\n",
       "            criterion='gini', max_depth=5, max_features='auto',\n",
       "            max_leaf_nodes=None, min_impurity_decrease=0.0,\n",
       "            min_impurity_split=None, min_samples_leaf=1,\n",
       "            min_samples_split=2, min_weight_fraction_leaf=0.0,\n",
       "            n_estimators=120, n_jobs=-1, oob_score=False,\n",
       "            random_state=<mtrand.RandomState object at 0x0000004DA9D2DA20>,\n",
       "            verbose=0, warm_start=False),\n",
       "     max_iter=100, n_estimators='auto', perc=100,\n",
       "     random_state=<mtrand.RandomState object at 0x0000004DA9D2DA20>,\n",
       "     two_step=True, verbose=2)"
      ]
     },
     "execution_count": 81,
     "metadata": {},
     "output_type": "execute_result"
    }
   ],
   "source": [
    "\n",
    "# define random forest classifier, with utilising all cores and\n",
    "# sampling in proportion to y labels\n",
    "rf = RandomForestClassifier(n_jobs=-1, class_weight='balanced', max_depth=5)\n",
    "\n",
    "# define Boruta feature selection method\n",
    "feat_selector = BorutaPy(rf, n_estimators='auto', verbose=2, random_state=1)\n",
    "\n",
    "# find all relevant features - 5 features should be selected\n",
    "feat_selector.fit(X_train_scaled, Y_trainval)\n"
   ]
  },
  {
   "cell_type": "code",
   "execution_count": 117,
   "metadata": {},
   "outputs": [],
   "source": [
    "criteria = pd.Series(feat_selector.support_)\n",
    "X_train_boruta = feat_selector.transform(X_train_scaled)\n",
    "X_train_boruta = pd.DataFrame(X_train_boruta, index = X_train.index, columns = X_train.columns[criteria].values)"
   ]
  },
  {
   "cell_type": "code",
   "execution_count": 120,
   "metadata": {},
   "outputs": [],
   "source": [
    "criteria = pd.Series(feat_selector.support_)\n",
    "X_test_boruta = feat_selector.transform(X_test_scaled)\n",
    "X_test_boruta = pd.DataFrame(X_test_boruta, index = X_test.index, columns = X_test.columns[criteria].values)"
   ]
  },
  {
   "cell_type": "code",
   "execution_count": 289,
   "metadata": {},
   "outputs": [
    {
     "data": {
      "text/plain": [
       "Index(['Disps_Per_Scoring_ShotPcnt_D_mean8', 'Goal_AssistsPcnt_D_mean8',\n",
       "       'Inside_50sPcnt_D_mean8', 'Marks_Inside_50Pcnt_D_mean8',\n",
       "       'Rebound_50sPcnt_D_mean8', 'Scoring_ShotsPcnt_D_mean8',\n",
       "       'ScorePcnt_D_mean8', 'Disps_Per_Scoring_ShotPcnt_D_mean20',\n",
       "       'Goal_AssistsPcnt_D_mean20', 'In50s_ScorePcnt_D_mean20',\n",
       "       'Inside_50sPcnt_D_mean20', 'Marks_Inside_50Pcnt_D_mean20',\n",
       "       'Scoring_ShotsPcnt_D_mean20', 'ScorePcnt_D_mean20', 'Margin_D_mean8',\n",
       "       'Win_D_mean20', 'Margin_D_mean20'],\n",
       "      dtype='object')"
      ]
     },
     "execution_count": 289,
     "metadata": {},
     "output_type": "execute_result"
    }
   ],
   "source": [
    "X_test_boruta.columns"
   ]
  },
  {
   "cell_type": "code",
   "execution_count": 113,
   "metadata": {},
   "outputs": [],
   "source": [
    "clf = svm.LinearSVC()\n",
    "cross_val"
   ]
  },
  {
   "cell_type": "code",
   "execution_count": 145,
   "metadata": {},
   "outputs": [
    {
     "ename": "NameError",
     "evalue": "name 'estimator' is not defined",
     "output_type": "error",
     "traceback": [
      "\u001b[1;31m---------------------------------------------------------------------------\u001b[0m",
      "\u001b[1;31mNameError\u001b[0m                                 Traceback (most recent call last)",
      "\u001b[1;32m<ipython-input-145-49019ae7d0ab>\u001b[0m in \u001b[0;36m<module>\u001b[1;34m()\u001b[0m\n\u001b[1;32m----> 1\u001b[1;33m \u001b[0mestimator\u001b[0m\u001b[1;33m.\u001b[0m\u001b[0mget_params\u001b[0m\u001b[1;33m(\u001b[0m\u001b[0mclf\u001b[0m\u001b[1;33m)\u001b[0m\u001b[1;33m\u001b[0m\u001b[0m\n\u001b[0m",
      "\u001b[1;31mNameError\u001b[0m: name 'estimator' is not defined"
     ]
    }
   ],
   "source": [
    "estimator.get_params(clf)"
   ]
  },
  {
   "cell_type": "code",
   "execution_count": 175,
   "metadata": {},
   "outputs": [],
   "source": [
    "clf = svm.SVC(kernel = 'linear', probability = True)\n",
    "clf.fit(X_train_boruta, Y_train)\n",
    "Y_test_predictions = clf.predict(X_test_boruta)\n",
    "Y_test_probabilities = clf.predict_proba(X_test_boruta)"
   ]
  },
  {
   "cell_type": "code",
   "execution_count": 178,
   "metadata": {},
   "outputs": [],
   "source": [
    "Y_test_predictions = pd.DataFrame(Y_test_predictions, index = Y_test.index, columns = ['predict'])\n",
    "Y_test_probabilities = pd.DataFrame(Y_test_probabilities, index = Y_test.index)"
   ]
  },
  {
   "cell_type": "code",
   "execution_count": 182,
   "metadata": {},
   "outputs": [],
   "source": [
    "Y_test_outcomes = Y_test_probabilities.join(Y_test_predictions)\n",
    "Y_test_outcomes = Y_test_outcomes.join(Y_test)"
   ]
  },
  {
   "cell_type": "code",
   "execution_count": 186,
   "metadata": {},
   "outputs": [
    {
     "data": {
      "text/plain": [
       "0.6756756756756757"
      ]
     },
     "execution_count": 186,
     "metadata": {},
     "output_type": "execute_result"
    }
   ],
   "source": [
    "s = abs(Y_test_outcomes.iloc[0:,2] - Y_test_outcomes.iloc[0:,3])\n",
    "1 - sum(s)/len(s)"
   ]
  },
  {
   "cell_type": "code",
   "execution_count": 195,
   "metadata": {},
   "outputs": [],
   "source": [
    "param_set = [{'C':[0.1, 0.5, 1, 5, 10, 100, 1000], 'kernel': ['linear']},\n",
    "             {'C': [0.1, 0.5, 1, 5, 10, 100, 1000], 'gamma': [1, 0.1, 0.01, 0.001, 0.0001], 'kernel': ['rbf']}]\n",
    "score = 'neg_log_loss'"
   ]
  },
  {
   "cell_type": "code",
   "execution_count": 205,
   "metadata": {},
   "outputs": [],
   "source": [
    "SVC_clf = GridSearchCV(svm.SVC(probability = True),\n",
    "            param_grid = param_set,\n",
    "            scoring = score,\n",
    "            cv = 5,\n",
    "            verbose = True)"
   ]
  },
  {
   "cell_type": "code",
   "execution_count": 206,
   "metadata": {},
   "outputs": [
    {
     "name": "stdout",
     "output_type": "stream",
     "text": [
      "Fitting 5 folds for each of 42 candidates, totalling 210 fits\n"
     ]
    },
    {
     "name": "stderr",
     "output_type": "stream",
     "text": [
      "[Parallel(n_jobs=1)]: Done 210 out of 210 | elapsed: 57.0min finished\n"
     ]
    },
    {
     "data": {
      "text/plain": [
       "GridSearchCV(cv=5, error_score='raise',\n",
       "       estimator=SVC(C=1.0, cache_size=200, class_weight=None, coef0=0.0,\n",
       "  decision_function_shape='ovr', degree=3, gamma='auto', kernel='rbf',\n",
       "  max_iter=-1, probability=True, random_state=None, shrinking=True,\n",
       "  tol=0.001, verbose=False),\n",
       "       fit_params=None, iid=True, n_jobs=1,\n",
       "       param_grid=[{'C': [0.1, 0.5, 1, 5, 10, 100, 1000], 'kernel': ['linear']}, {'C': [0.1, 0.5, 1, 5, 10, 100, 1000], 'gamma': [1, 0.1, 0.01, 0.001, 0.0001], 'kernel': ['rbf']}],\n",
       "       pre_dispatch='2*n_jobs', refit=True, return_train_score='warn',\n",
       "       scoring='neg_log_loss', verbose=True)"
      ]
     },
     "execution_count": 206,
     "metadata": {},
     "output_type": "execute_result"
    }
   ],
   "source": [
    "SVC_clf.fit(X_train_boruta, Y_train)"
   ]
  },
  {
   "cell_type": "code",
   "execution_count": 208,
   "metadata": {},
   "outputs": [
    {
     "data": {
      "text/plain": [
       "0.7027027027027026"
      ]
     },
     "execution_count": 208,
     "metadata": {},
     "output_type": "execute_result"
    }
   ],
   "source": [
    "Y_test_predictions = SVC_clf.predict(X_test_boruta)\n",
    "Y_test_probabilities = SVC_clf.predict_proba(X_test_boruta)\n",
    "Y_test_predictions = pd.DataFrame(Y_test_predictions, index = Y_test.index, columns = ['predict'])\n",
    "Y_test_probabilities = pd.DataFrame(Y_test_probabilities, index = Y_test.index)\n",
    "Y_test_outcomes = Y_test_probabilities.join(Y_test_predictions)\n",
    "Y_test_outcomes = Y_test_outcomes.join(Y_test)\n",
    "s = abs(Y_test_outcomes.iloc[0:,2] - Y_test_outcomes.iloc[0:,3])\n",
    "1 - sum(s)/len(s)"
   ]
  },
  {
   "cell_type": "code",
   "execution_count": 209,
   "metadata": {},
   "outputs": [
    {
     "data": {
      "text/plain": [
       "SVC(C=0.5, cache_size=200, class_weight=None, coef0=0.0,\n",
       "  decision_function_shape='ovr', degree=3, gamma=0.001, kernel='rbf',\n",
       "  max_iter=-1, probability=True, random_state=None, shrinking=True,\n",
       "  tol=0.001, verbose=False)"
      ]
     },
     "execution_count": 209,
     "metadata": {},
     "output_type": "execute_result"
    }
   ],
   "source": [
    "SVC_clf.best_estimator_"
   ]
  },
  {
   "cell_type": "code",
   "execution_count": 254,
   "metadata": {},
   "outputs": [],
   "source": [
    "Y_test_outcomes.loc[Y_test_outcomes.predict == Y_test_outcomes.Win,'score'] = Y_test_outcomes[Y_test_outcomes.predict == Y_test_outcomes.Win].iloc[0:,0:2].max(axis = 1).values"
   ]
  },
  {
   "cell_type": "code",
   "execution_count": 258,
   "metadata": {},
   "outputs": [],
   "source": [
    "Y_test_outcomes.loc[~(Y_test_outcomes.predict == Y_test_outcomes.Win),'score'] = Y_test_outcomes[~(Y_test_outcomes.predict == Y_test_outcomes.Win)].iloc[0:,0:2].min(axis = 1).values"
   ]
  },
  {
   "cell_type": "code",
   "execution_count": 286,
   "metadata": {},
   "outputs": [
    {
     "data": {
      "text/plain": [
       "43.48488318290636"
      ]
     },
     "execution_count": 286,
     "metadata": {},
     "output_type": "execute_result"
    }
   ],
   "source": [
    "sum(1 + np.log2(Y_test_outcomes['score'])) / len(Y_test_outcomes['score']) * 207"
   ]
  },
  {
   "cell_type": "code",
   "execution_count": 207,
   "metadata": {},
   "outputs": [
    {
     "name": "stderr",
     "output_type": "stream",
     "text": [
      "C:\\Users\\Brian\\Anaconda3\\lib\\site-packages\\sklearn\\utils\\deprecation.py:122: FutureWarning: You are accessing a training score ('split0_train_score'), which will not be available by default any more in 0.21. If you need training scores, please set return_train_score=True\n",
      "  warnings.warn(*warn_args, **warn_kwargs)\n",
      "C:\\Users\\Brian\\Anaconda3\\lib\\site-packages\\sklearn\\utils\\deprecation.py:122: FutureWarning: You are accessing a training score ('split1_train_score'), which will not be available by default any more in 0.21. If you need training scores, please set return_train_score=True\n",
      "  warnings.warn(*warn_args, **warn_kwargs)\n",
      "C:\\Users\\Brian\\Anaconda3\\lib\\site-packages\\sklearn\\utils\\deprecation.py:122: FutureWarning: You are accessing a training score ('split2_train_score'), which will not be available by default any more in 0.21. If you need training scores, please set return_train_score=True\n",
      "  warnings.warn(*warn_args, **warn_kwargs)\n",
      "C:\\Users\\Brian\\Anaconda3\\lib\\site-packages\\sklearn\\utils\\deprecation.py:122: FutureWarning: You are accessing a training score ('split3_train_score'), which will not be available by default any more in 0.21. If you need training scores, please set return_train_score=True\n",
      "  warnings.warn(*warn_args, **warn_kwargs)\n",
      "C:\\Users\\Brian\\Anaconda3\\lib\\site-packages\\sklearn\\utils\\deprecation.py:122: FutureWarning: You are accessing a training score ('split4_train_score'), which will not be available by default any more in 0.21. If you need training scores, please set return_train_score=True\n",
      "  warnings.warn(*warn_args, **warn_kwargs)\n",
      "C:\\Users\\Brian\\Anaconda3\\lib\\site-packages\\sklearn\\utils\\deprecation.py:122: FutureWarning: You are accessing a training score ('mean_train_score'), which will not be available by default any more in 0.21. If you need training scores, please set return_train_score=True\n",
      "  warnings.warn(*warn_args, **warn_kwargs)\n",
      "C:\\Users\\Brian\\Anaconda3\\lib\\site-packages\\sklearn\\utils\\deprecation.py:122: FutureWarning: You are accessing a training score ('std_train_score'), which will not be available by default any more in 0.21. If you need training scores, please set return_train_score=True\n",
      "  warnings.warn(*warn_args, **warn_kwargs)\n"
     ]
    },
    {
     "data": {
      "text/plain": [
       "{'mean_fit_time': array([  0.75570993,   1.19215431,   1.6267962 ,   4.7549964 ,\n",
       "          7.69251814,  65.10760279, 514.84036198,   1.26345887,\n",
       "          0.97803974,   0.94799538,   1.0940114 ,   1.19315753,\n",
       "          1.37702503,   1.05675397,   0.92155447,   0.97823944,\n",
       "          1.16651554,   1.55448842,   1.11003218,   0.92195754,\n",
       "          0.95159955,   1.09260688,   2.02738543,   1.35439234,\n",
       "          0.99225903,   0.9321703 ,   0.97743874,   2.10009031,\n",
       "          1.6095696 ,   1.04153132,   0.93377285,   0.95440254,\n",
       "          2.10710158,   5.5119102 ,   1.89819369,   1.0405304 ,\n",
       "          0.94518957,   2.10970402,  26.35157371,   7.22503142,\n",
       "          1.90760703,   1.08559766]),\n",
       " 'std_fit_time': array([1.19767668e-02, 3.25920063e-02, 6.91833855e-02, 4.18557789e-01,\n",
       "        5.90595054e-01, 1.88329074e+01, 7.01032974e+01, 1.59683777e-02,\n",
       "        1.41135841e-02, 1.61794104e-02, 9.19439489e-03, 5.24787639e-03,\n",
       "        8.18479785e-03, 1.26105497e-02, 1.62898061e-02, 1.15986758e-02,\n",
       "        5.04437482e-03, 1.24325424e-02, 1.84944653e-02, 1.65365087e-02,\n",
       "        1.49930810e-02, 1.01547357e-02, 1.12351664e-02, 5.72860054e-02,\n",
       "        1.80202401e-02, 1.54028875e-02, 1.28116266e-02, 1.16791477e-02,\n",
       "        6.08771116e-02, 1.59227474e-02, 1.68373598e-02, 1.32258277e-02,\n",
       "        1.05440542e-02, 1.50789614e-01, 7.37294724e-02, 1.23800072e-02,\n",
       "        1.82627434e-02, 1.16883264e-02, 7.74126724e-01, 3.78374978e-01,\n",
       "        5.16376368e-02, 1.59982242e-02]),\n",
       " 'mean_score_time': array([0.02083344, 0.02103209, 0.02062955, 0.02123232, 0.02063217,\n",
       "        0.0212327 , 0.0206316 , 0.05307875, 0.03945899, 0.04066057,\n",
       "        0.0476687 , 0.05367794, 0.05027523, 0.03865876, 0.038659  ,\n",
       "        0.04186234, 0.05107632, 0.05047359, 0.0388588 , 0.03805585,\n",
       "        0.0408617 , 0.04807205, 0.04947152, 0.03905821, 0.03765688,\n",
       "        0.03885951, 0.04166136, 0.04967365, 0.0388566 , 0.03805828,\n",
       "        0.03885822, 0.04086223, 0.04907174, 0.0384573 , 0.03845668,\n",
       "        0.03845773, 0.03885932, 0.04947419, 0.0352531 , 0.03805604,\n",
       "        0.03845701, 0.03845725]),\n",
       " 'std_score_time': array([4.00877127e-04, 1.80946979e-06, 4.91459929e-04, 3.99971776e-04,\n",
       "        4.91459096e-04, 1.47417570e-03, 4.91577678e-04, 1.49729905e-06,\n",
       "        1.20381550e-03, 4.91208595e-04, 4.88818677e-04, 4.91463954e-04,\n",
       "        9.81633107e-04, 1.02152553e-03, 1.02171261e-03, 1.16852744e-03,\n",
       "        6.33315317e-04, 4.92685601e-04, 4.01211210e-04, 8.96977241e-04,\n",
       "        9.81633153e-04, 6.33315673e-04, 4.91037835e-04, 8.95163719e-04,\n",
       "        4.90251808e-04, 7.49386097e-04, 4.89185532e-04, 4.90642534e-04,\n",
       "        7.49758080e-04, 6.33390391e-04, 7.49361441e-04, 7.49832528e-04,\n",
       "        1.93339681e-06, 4.89767024e-04, 7.99657436e-04, 1.20310789e-03,\n",
       "        7.49080313e-04, 4.91089341e-04, 7.49271304e-04, 6.33014206e-04,\n",
       "        8.01575270e-04, 8.01874162e-04]),\n",
       " 'param_C': masked_array(data=[0.1, 0.5, 1, 5, 10, 100, 1000, 0.1, 0.1, 0.1, 0.1, 0.1,\n",
       "                    0.5, 0.5, 0.5, 0.5, 0.5, 1, 1, 1, 1, 1, 5, 5, 5, 5, 5,\n",
       "                    10, 10, 10, 10, 10, 100, 100, 100, 100, 100, 1000,\n",
       "                    1000, 1000, 1000, 1000],\n",
       "              mask=[False, False, False, False, False, False, False, False,\n",
       "                    False, False, False, False, False, False, False, False,\n",
       "                    False, False, False, False, False, False, False, False,\n",
       "                    False, False, False, False, False, False, False, False,\n",
       "                    False, False, False, False, False, False, False, False,\n",
       "                    False, False],\n",
       "        fill_value='?',\n",
       "             dtype=object),\n",
       " 'param_kernel': masked_array(data=['linear', 'linear', 'linear', 'linear', 'linear',\n",
       "                    'linear', 'linear', 'rbf', 'rbf', 'rbf', 'rbf', 'rbf',\n",
       "                    'rbf', 'rbf', 'rbf', 'rbf', 'rbf', 'rbf', 'rbf', 'rbf',\n",
       "                    'rbf', 'rbf', 'rbf', 'rbf', 'rbf', 'rbf', 'rbf', 'rbf',\n",
       "                    'rbf', 'rbf', 'rbf', 'rbf', 'rbf', 'rbf', 'rbf', 'rbf',\n",
       "                    'rbf', 'rbf', 'rbf', 'rbf', 'rbf', 'rbf'],\n",
       "              mask=[False, False, False, False, False, False, False, False,\n",
       "                    False, False, False, False, False, False, False, False,\n",
       "                    False, False, False, False, False, False, False, False,\n",
       "                    False, False, False, False, False, False, False, False,\n",
       "                    False, False, False, False, False, False, False, False,\n",
       "                    False, False],\n",
       "        fill_value='?',\n",
       "             dtype=object),\n",
       " 'param_gamma': masked_array(data=[--, --, --, --, --, --, --, 1, 0.1, 0.01, 0.001,\n",
       "                    0.0001, 1, 0.1, 0.01, 0.001, 0.0001, 1, 0.1, 0.01,\n",
       "                    0.001, 0.0001, 1, 0.1, 0.01, 0.001, 0.0001, 1, 0.1,\n",
       "                    0.01, 0.001, 0.0001, 1, 0.1, 0.01, 0.001, 0.0001, 1,\n",
       "                    0.1, 0.01, 0.001, 0.0001],\n",
       "              mask=[ True,  True,  True,  True,  True,  True,  True, False,\n",
       "                    False, False, False, False, False, False, False, False,\n",
       "                    False, False, False, False, False, False, False, False,\n",
       "                    False, False, False, False, False, False, False, False,\n",
       "                    False, False, False, False, False, False, False, False,\n",
       "                    False, False],\n",
       "        fill_value='?',\n",
       "             dtype=object),\n",
       " 'params': [{'C': 0.1, 'kernel': 'linear'},\n",
       "  {'C': 0.5, 'kernel': 'linear'},\n",
       "  {'C': 1, 'kernel': 'linear'},\n",
       "  {'C': 5, 'kernel': 'linear'},\n",
       "  {'C': 10, 'kernel': 'linear'},\n",
       "  {'C': 100, 'kernel': 'linear'},\n",
       "  {'C': 1000, 'kernel': 'linear'},\n",
       "  {'C': 0.1, 'gamma': 1, 'kernel': 'rbf'},\n",
       "  {'C': 0.1, 'gamma': 0.1, 'kernel': 'rbf'},\n",
       "  {'C': 0.1, 'gamma': 0.01, 'kernel': 'rbf'},\n",
       "  {'C': 0.1, 'gamma': 0.001, 'kernel': 'rbf'},\n",
       "  {'C': 0.1, 'gamma': 0.0001, 'kernel': 'rbf'},\n",
       "  {'C': 0.5, 'gamma': 1, 'kernel': 'rbf'},\n",
       "  {'C': 0.5, 'gamma': 0.1, 'kernel': 'rbf'},\n",
       "  {'C': 0.5, 'gamma': 0.01, 'kernel': 'rbf'},\n",
       "  {'C': 0.5, 'gamma': 0.001, 'kernel': 'rbf'},\n",
       "  {'C': 0.5, 'gamma': 0.0001, 'kernel': 'rbf'},\n",
       "  {'C': 1, 'gamma': 1, 'kernel': 'rbf'},\n",
       "  {'C': 1, 'gamma': 0.1, 'kernel': 'rbf'},\n",
       "  {'C': 1, 'gamma': 0.01, 'kernel': 'rbf'},\n",
       "  {'C': 1, 'gamma': 0.001, 'kernel': 'rbf'},\n",
       "  {'C': 1, 'gamma': 0.0001, 'kernel': 'rbf'},\n",
       "  {'C': 5, 'gamma': 1, 'kernel': 'rbf'},\n",
       "  {'C': 5, 'gamma': 0.1, 'kernel': 'rbf'},\n",
       "  {'C': 5, 'gamma': 0.01, 'kernel': 'rbf'},\n",
       "  {'C': 5, 'gamma': 0.001, 'kernel': 'rbf'},\n",
       "  {'C': 5, 'gamma': 0.0001, 'kernel': 'rbf'},\n",
       "  {'C': 10, 'gamma': 1, 'kernel': 'rbf'},\n",
       "  {'C': 10, 'gamma': 0.1, 'kernel': 'rbf'},\n",
       "  {'C': 10, 'gamma': 0.01, 'kernel': 'rbf'},\n",
       "  {'C': 10, 'gamma': 0.001, 'kernel': 'rbf'},\n",
       "  {'C': 10, 'gamma': 0.0001, 'kernel': 'rbf'},\n",
       "  {'C': 100, 'gamma': 1, 'kernel': 'rbf'},\n",
       "  {'C': 100, 'gamma': 0.1, 'kernel': 'rbf'},\n",
       "  {'C': 100, 'gamma': 0.01, 'kernel': 'rbf'},\n",
       "  {'C': 100, 'gamma': 0.001, 'kernel': 'rbf'},\n",
       "  {'C': 100, 'gamma': 0.0001, 'kernel': 'rbf'},\n",
       "  {'C': 1000, 'gamma': 1, 'kernel': 'rbf'},\n",
       "  {'C': 1000, 'gamma': 0.1, 'kernel': 'rbf'},\n",
       "  {'C': 1000, 'gamma': 0.01, 'kernel': 'rbf'},\n",
       "  {'C': 1000, 'gamma': 0.001, 'kernel': 'rbf'},\n",
       "  {'C': 1000, 'gamma': 0.0001, 'kernel': 'rbf'}],\n",
       " 'split0_test_score': array([-0.57691605, -0.58078052, -0.5804262 , -0.58122753, -0.58191186,\n",
       "        -0.58084675, -0.58124546, -0.64798872, -0.60673769, -0.58174124,\n",
       "        -0.58146804, -0.69047318, -0.63455938, -0.60979596, -0.58766366,\n",
       "        -0.57788664, -0.58596785, -0.63340437, -0.61080897, -0.59272445,\n",
       "        -0.57681247, -0.58464877, -0.65469939, -0.61508726, -0.59664401,\n",
       "        -0.5754502 , -0.57781371, -0.65809031, -0.61453514, -0.59793175,\n",
       "        -0.57511439, -0.57460933, -0.65715335, -0.62125531, -0.60625588,\n",
       "        -0.59163748, -0.57320305, -0.65784519, -0.65652887, -0.61012672,\n",
       "        -0.60201184, -0.58147489]),\n",
       " 'split1_test_score': array([-0.57554034, -0.57579424, -0.57643538, -0.57732012, -0.57710604,\n",
       "        -0.57781052, -0.5772153 , -0.61821324, -0.58242154, -0.56534606,\n",
       "        -0.56458719, -0.69011937, -0.61457662, -0.58584666, -0.57164035,\n",
       "        -0.56525976, -0.56822764, -0.63043947, -0.58824232, -0.57497129,\n",
       "        -0.56741847, -0.56747417, -0.66982499, -0.59657509, -0.58238483,\n",
       "        -0.57003788, -0.56626473, -0.67126719, -0.6086057 , -0.58511017,\n",
       "        -0.57309189, -0.56753704, -0.67319294, -0.64668512, -0.58949131,\n",
       "        -0.57501343, -0.5731597 , -0.67216571, -0.66275358, -0.60802057,\n",
       "        -0.5825457 , -0.57414132]),\n",
       " 'split2_test_score': array([-0.62867587, -0.63576695, -0.63577581, -0.64545391, -0.64420208,\n",
       "        -0.64731973, -0.64541091, -0.65627793, -0.63549411, -0.62686604,\n",
       "        -0.61653475, -0.69314718, -0.65179963, -0.63983648, -0.63203557,\n",
       "        -0.61652423, -0.61701759, -0.65830036, -0.64082379, -0.63292458,\n",
       "        -0.61764351, -0.6157023 , -0.67393158, -0.64529284, -0.63753645,\n",
       "        -0.62116602, -0.61580126, -0.67788756, -0.64811396, -0.63914642,\n",
       "        -0.62311255, -0.61718095, -0.67629556, -0.65946828, -0.65123307,\n",
       "        -0.63079441, -0.62263273, -0.67732752, -0.67124363, -0.66105982,\n",
       "        -0.64273313, -0.63077308]),\n",
       " 'split3_test_score': array([-0.64072845, -0.64485691, -0.64761408, -0.64842666, -0.64838783,\n",
       "        -0.64723766, -0.64903065, -0.66819491, -0.64654664, -0.63732255,\n",
       "        -0.63581975, -0.69030788, -0.66704474, -0.65273429, -0.63925207,\n",
       "        -0.63470755, -0.63528785, -0.67314231, -0.6559708 , -0.64033617,\n",
       "        -0.63547712, -0.63547099, -0.67775054, -0.66801959, -0.64592175,\n",
       "        -0.63634309, -0.63419674, -0.67889972, -0.67469508, -0.64749154,\n",
       "        -0.63770512, -0.63521865, -0.67873118, -0.70789134, -0.6568874 ,\n",
       "        -0.6505486 , -0.63702481, -0.68172452, -0.69356603, -0.67789403,\n",
       "        -0.65568993, -0.64927211]),\n",
       " 'split4_test_score': array([-0.57234117, -0.57393042, -0.57447513, -0.57382147, -0.57394359,\n",
       "        -0.5740018 , -0.57355239, -0.62786979, -0.57497822, -0.56205074,\n",
       "        -0.56418343, -0.68815244, -0.60770218, -0.58216091, -0.56613595,\n",
       "        -0.56422589, -0.56717791, -0.62670808, -0.58833618, -0.56876642,\n",
       "        -0.56489864, -0.56687273, -0.66843826, -0.60874787, -0.57871293,\n",
       "        -0.56945055, -0.56625954, -0.67142041, -0.62319025, -0.58245561,\n",
       "        -0.57050586, -0.56521316, -0.67260448, -0.64812468, -0.60001622,\n",
       "        -0.57535316, -0.57130694, -0.67263419, -0.67228507, -0.62439979,\n",
       "        -0.58502604, -0.57385028]),\n",
       " 'mean_test_score': array([-0.59884037, -0.60222581, -0.60294532, -0.60524994, -0.60511028,\n",
       "        -0.60544329, -0.60529094, -0.64370892, -0.60923564, -0.59466533,\n",
       "        -0.59251863, -0.69044001, -0.63513651, -0.61407486, -0.59934552,\n",
       "        -0.59172081, -0.59473577, -0.64439892, -0.61683641, -0.60194458,\n",
       "        -0.59245004, -0.59403379, -0.66892895, -0.62674453, -0.60823999,\n",
       "        -0.59448955, -0.5920672 , -0.67151304, -0.63382803, -0.6104271 ,\n",
       "        -0.59590596, -0.59195183, -0.6715955 , -0.65668495, -0.62077678,\n",
       "        -0.60466942, -0.59546545, -0.67233943, -0.67127543, -0.63630019,\n",
       "        -0.61360133, -0.60190234]),\n",
       " 'std_test_score': array([0.02956533, 0.03130999, 0.03191733, 0.03413352, 0.03374872,\n",
       "        0.03422728, 0.03434104, 0.01831266, 0.02821497, 0.03145437,\n",
       "        0.02883375, 0.00159268, 0.02223276, 0.02825545, 0.03055516,\n",
       "        0.02867267, 0.02712912, 0.01815568, 0.02747039, 0.0294857 ,\n",
       "        0.02869227, 0.02726823, 0.00782778, 0.02614435, 0.02811761,\n",
       "        0.02846291, 0.02783224, 0.00742208, 0.02447753, 0.02748839,\n",
       "        0.02858428, 0.02870654, 0.00755187, 0.02848991, 0.0277568 ,\n",
       "        0.03064691, 0.0284325 , 0.00803942, 0.01255368, 0.02817621,\n",
       "        0.03011786, 0.0317877 ]),\n",
       " 'rank_test_score': array([12, 16, 17, 20, 19, 22, 21, 34, 24,  8,  5, 42, 32, 27, 13,  1,  9,\n",
       "        35, 28, 15,  4,  6, 37, 30, 23,  7,  3, 39, 31, 25, 11,  2, 40, 36,\n",
       "        29, 18, 10, 41, 38, 33, 26, 14]),\n",
       " 'split0_train_score': array([-0.58500021, -0.5848548 , -0.58473357, -0.5846614 , -0.5850876 ,\n",
       "        -0.58508443, -0.58516077, -0.59864352, -0.59754651, -0.59043679,\n",
       "        -0.5920371 , -0.69012252, -0.46721022, -0.59284472, -0.58957518,\n",
       "        -0.59029855, -0.59391359, -0.40375194, -0.58894922, -0.58861652,\n",
       "        -0.58919516, -0.59354496, -0.38392414, -0.56581609, -0.58737733,\n",
       "        -0.58668262, -0.5912654 , -0.42836796, -0.55275764, -0.58728865,\n",
       "        -0.58509854, -0.58974393, -0.41050703, -0.5383553 , -0.58476407,\n",
       "        -0.5829757 , -0.5860109 , -0.42068161, -0.58141678, -0.57315416,\n",
       "        -0.58243325, -0.5834698 ]),\n",
       " 'split1_train_score': array([-0.58592423, -0.58553532, -0.58546067, -0.58545034, -0.58533226,\n",
       "        -0.5859959 , -0.58566412, -0.57420797, -0.60117311, -0.59351347,\n",
       "        -0.59539847, -0.69028694, -0.46703241, -0.59570956, -0.59280988,\n",
       "        -0.59228277, -0.59721237, -0.40355885, -0.59220016, -0.59261178,\n",
       "        -0.59050593, -0.59658642, -0.34896986, -0.56687161, -0.59147512,\n",
       "        -0.58768686, -0.5925962 , -0.40357831, -0.5496853 , -0.59103972,\n",
       "        -0.587019  , -0.59057056, -0.37372613, -0.52457542, -0.58615664,\n",
       "        -0.58462932, -0.5871143 , -0.39634953, -0.57225776, -0.57322421,\n",
       "        -0.5859417 , -0.58545958]),\n",
       " 'split2_train_score': array([-0.57023576, -0.56850907, -0.56861287, -0.56782051, -0.56814775,\n",
       "        -0.56781832, -0.56813611, -0.59551191, -0.58688014, -0.5784884 ,\n",
       "        -0.58327877, -0.69314718, -0.4516703 , -0.58085029, -0.57759458,\n",
       "        -0.57999404, -0.58608317, -0.38358981, -0.57541783, -0.57687925,\n",
       "        -0.57779287, -0.58496178, -0.36244842, -0.54545528, -0.57466318,\n",
       "        -0.57447065, -0.58057026, -0.33458473, -0.52860197, -0.57369357,\n",
       "        -0.57289852, -0.5783949 , -0.36493446, -0.49980155, -0.56711888,\n",
       "        -0.567819  , -0.57343743, -0.35031793, -0.54000027, -0.55280867,\n",
       "        -0.5664246 , -0.56915651]),\n",
       " 'split3_train_score': array([-0.5668559 , -0.56615327, -0.56553631, -0.56555903, -0.56545973,\n",
       "        -0.56585598, -0.56542779, -0.55969881, -0.58497527, -0.57624818,\n",
       "        -0.5783569 , -0.68972041, -0.45304427, -0.5793345 , -0.57567494,\n",
       "        -0.57546017, -0.58100201, -0.38211335, -0.57440951, -0.57480215,\n",
       "        -0.5738315 , -0.57986212, -0.3738017 , -0.54518429, -0.57247267,\n",
       "        -0.57051328, -0.57614135, -0.3845063 , -0.52783117, -0.57125775,\n",
       "        -0.56868994, -0.57402395, -0.39714324, -0.49183869, -0.56873543,\n",
       "        -0.56642983, -0.56937953, -0.34900601, -0.56578325, -0.54698282,\n",
       "        -0.56432845, -0.56489036]),\n",
       " 'split4_train_score': array([-0.58628585, -0.58482197, -0.58487512, -0.58501055, -0.58528234,\n",
       "        -0.58544254, -0.58519925, -0.59373764, -0.60324375, -0.59550777,\n",
       "        -0.59584398, -0.68850195, -0.46386849, -0.5975958 , -0.59459711,\n",
       "        -0.59334744, -0.59711509, -0.40239661, -0.59354067, -0.59377532,\n",
       "        -0.59198491, -0.59617338, -0.37683043, -0.57172643, -0.59185287,\n",
       "        -0.58861445, -0.59323575, -0.38745365, -0.55667524, -0.5904023 ,\n",
       "        -0.58734994, -0.59181129, -0.37868296, -0.53760322, -0.58612418,\n",
       "        -0.58433   , -0.58793244, -0.37265965, -0.57275772, -0.56970641,\n",
       "        -0.5844659 , -0.58433704]),\n",
       " 'mean_train_score': array([-0.57886039, -0.57797489, -0.57784371, -0.57770037, -0.57786193,\n",
       "        -0.57803943, -0.57791761, -0.58435997, -0.59476376, -0.58683892,\n",
       "        -0.58898304, -0.6903558 , -0.46056514, -0.58926697, -0.58605034,\n",
       "        -0.58627659, -0.59106525, -0.39508211, -0.58490348, -0.585337  ,\n",
       "        -0.58466208, -0.59022573, -0.36919491, -0.55901074, -0.58356823,\n",
       "        -0.58159357, -0.58676179, -0.38769819, -0.54311026, -0.5827364 ,\n",
       "        -0.58021119, -0.58490893, -0.38499876, -0.51843483, -0.57857984,\n",
       "        -0.57723677, -0.58077492, -0.37780295, -0.56644316, -0.56317525,\n",
       "        -0.57671878, -0.57746266]),\n",
       " 'std_train_score': array([0.0084997 , 0.00872615, 0.00884996, 0.00902198, 0.00906927,\n",
       "        0.00917225, 0.00913419, 0.01501707, 0.00746592, 0.00793143,\n",
       "        0.00697153, 0.00152915, 0.00682021, 0.0076573 , 0.00787797,\n",
       "        0.00719323, 0.00645896, 0.01000784, 0.00829833, 0.00796743,\n",
       "        0.00738662, 0.00666279, 0.01225595, 0.01135532, 0.00834356,\n",
       "        0.0075608 , 0.00703369, 0.03078148, 0.01236327, 0.00850842,\n",
       "        0.00784103, 0.00726621, 0.01653903, 0.01926921, 0.00872738,\n",
       "        0.00828714, 0.00777852, 0.02754523, 0.01412483, 0.01107138,\n",
       "        0.00935121, 0.00865273])}"
      ]
     },
     "execution_count": 207,
     "metadata": {},
     "output_type": "execute_result"
    }
   ],
   "source": [
    "SVC_clf.cv_results_"
   ]
  }
 ],
 "metadata": {
  "kernelspec": {
   "display_name": "Python 3",
   "language": "python",
   "name": "python3"
  },
  "language_info": {
   "codemirror_mode": {
    "name": "ipython",
    "version": 3
   },
   "file_extension": ".py",
   "mimetype": "text/x-python",
   "name": "python",
   "nbconvert_exporter": "python",
   "pygments_lexer": "ipython3",
   "version": "3.6.5"
  }
 },
 "nbformat": 4,
 "nbformat_minor": 2
}
