{
 "cells": [
  {
   "cell_type": "code",
   "execution_count": 1,
   "metadata": {},
   "outputs": [],
   "source": [
    "import pandas as pd\n",
    "import numpy as np\n",
    "\n",
    "from boruta import BorutaPy\n",
    "\n",
    "from sklearn.model_selection import train_test_split, GridSearchCV\n",
    "from sklearn import preprocessing\n",
    "from sklearn import svm\n",
    "from sklearn.ensemble import RandomForestClassifier\n",
    "from sklearn.metrics import classification_report"
   ]
  },
  {
   "cell_type": "code",
   "execution_count": 2,
   "metadata": {},
   "outputs": [],
   "source": [
    "year_weights = {2008: 0.5,\n",
    " 2009: 0.5,\n",
    " 2010: 0.5,\n",
    " 2011: 0.7,\n",
    " 2012: 0.7,\n",
    " 2013: 0.7,\n",
    " 2014: 1,\n",
    " 2015: 1,\n",
    " 2016: 1,\n",
    " 2017: 1,\n",
    " 2018: 1}"
   ]
  },
  {
   "cell_type": "code",
   "execution_count": 3,
   "metadata": {},
   "outputs": [],
   "source": [
    "afl_ML = pd.read_pickle('afl_ML.pkl')\n",
    "test_ids = pd.read_pickle('test_fw_ids.pkl')\n",
    "afl_ML = afl_ML.dropna(axis = 1)"
   ]
  },
  {
   "cell_type": "code",
   "execution_count": 4,
   "metadata": {},
   "outputs": [],
   "source": [
    "train = afl_ML[~(afl_ML.fw_game_id.isin(test_ids.fw_game_id.values))]\n",
    "test = afl_ML[afl_ML.fw_game_id.isin(test_ids.fw_game_id.values)]"
   ]
  },
  {
   "cell_type": "code",
   "execution_count": 5,
   "metadata": {},
   "outputs": [],
   "source": [
    "target = 'Win'\n",
    "M_cols = ['fw_game_id', 'year', 'round_index']\n",
    "\n",
    "M_train = train[M_cols]\n",
    "M_test = test[M_cols]\n",
    "sample_weights = M_train.year.map(year_weights)\n",
    "\n",
    "Y_train = train[target]\n",
    "Y_test = test[target]\n",
    "\n",
    "M_cols.append(target)\n",
    "X_cols = [col for col in afl_ML.columns if col not in (M_cols)]\n",
    "\n",
    "X_train = train[X_cols]\n",
    "X_test = test[X_cols]"
   ]
  },
  {
   "cell_type": "code",
   "execution_count": 6,
   "metadata": {},
   "outputs": [],
   "source": [
    "train_scaler = preprocessing.StandardScaler().fit(X_train)\n",
    "X_train_scaled = train_scaler.transform(X_train)\n",
    "X_test_scaled = train_scaler.transform(X_test)"
   ]
  },
  {
   "cell_type": "code",
   "execution_count": 7,
   "metadata": {},
   "outputs": [
    {
     "name": "stdout",
     "output_type": "stream",
     "text": [
      "Iteration: \t1 / 100\n",
      "Confirmed: \t0\n",
      "Tentative: \t23\n",
      "Rejected: \t0\n",
      "Iteration: \t2 / 100\n",
      "Confirmed: \t0\n",
      "Tentative: \t23\n",
      "Rejected: \t0\n",
      "Iteration: \t3 / 100\n",
      "Confirmed: \t0\n",
      "Tentative: \t23\n",
      "Rejected: \t0\n",
      "Iteration: \t4 / 100\n",
      "Confirmed: \t0\n",
      "Tentative: \t23\n",
      "Rejected: \t0\n",
      "Iteration: \t5 / 100\n",
      "Confirmed: \t0\n",
      "Tentative: \t23\n",
      "Rejected: \t0\n",
      "Iteration: \t6 / 100\n",
      "Confirmed: \t0\n",
      "Tentative: \t23\n",
      "Rejected: \t0\n",
      "Iteration: \t7 / 100\n",
      "Confirmed: \t0\n",
      "Tentative: \t23\n",
      "Rejected: \t0\n",
      "Iteration: \t8 / 100\n",
      "Confirmed: \t17\n",
      "Tentative: \t6\n",
      "Rejected: \t0\n",
      "Iteration: \t9 / 100\n",
      "Confirmed: \t17\n",
      "Tentative: \t6\n",
      "Rejected: \t0\n",
      "Iteration: \t10 / 100\n",
      "Confirmed: \t17\n",
      "Tentative: \t6\n",
      "Rejected: \t0\n",
      "Iteration: \t11 / 100\n",
      "Confirmed: \t17\n",
      "Tentative: \t6\n",
      "Rejected: \t0\n",
      "Iteration: \t12 / 100\n",
      "Confirmed: \t18\n",
      "Tentative: \t3\n",
      "Rejected: \t2\n"
     ]
    },
    {
     "name": "stderr",
     "output_type": "stream",
     "text": [
      "C:\\Users\\Brian\\Anaconda3\\lib\\site-packages\\boruta\\boruta_py.py:418: RuntimeWarning: invalid value encountered in greater\n",
      "  hits = np.where(cur_imp[0] > imp_sha_max)[0]\n"
     ]
    },
    {
     "name": "stdout",
     "output_type": "stream",
     "text": [
      "Iteration: \t13 / 100\n",
      "Confirmed: \t18\n",
      "Tentative: \t3\n",
      "Rejected: \t2\n"
     ]
    },
    {
     "name": "stderr",
     "output_type": "stream",
     "text": [
      "C:\\Users\\Brian\\Anaconda3\\lib\\site-packages\\boruta\\boruta_py.py:418: RuntimeWarning: invalid value encountered in greater\n",
      "  hits = np.where(cur_imp[0] > imp_sha_max)[0]\n"
     ]
    },
    {
     "name": "stdout",
     "output_type": "stream",
     "text": [
      "Iteration: \t14 / 100\n",
      "Confirmed: \t18\n",
      "Tentative: \t3\n",
      "Rejected: \t2\n",
      "Iteration: \t15 / 100\n",
      "Confirmed: \t18\n",
      "Tentative: \t3\n",
      "Rejected: \t2\n"
     ]
    },
    {
     "name": "stderr",
     "output_type": "stream",
     "text": [
      "C:\\Users\\Brian\\Anaconda3\\lib\\site-packages\\boruta\\boruta_py.py:418: RuntimeWarning: invalid value encountered in greater\n",
      "  hits = np.where(cur_imp[0] > imp_sha_max)[0]\n",
      "C:\\Users\\Brian\\Anaconda3\\lib\\site-packages\\boruta\\boruta_py.py:418: RuntimeWarning: invalid value encountered in greater\n",
      "  hits = np.where(cur_imp[0] > imp_sha_max)[0]\n"
     ]
    },
    {
     "name": "stdout",
     "output_type": "stream",
     "text": [
      "Iteration: \t16 / 100\n",
      "Confirmed: \t18\n",
      "Tentative: \t3\n",
      "Rejected: \t2\n"
     ]
    },
    {
     "name": "stderr",
     "output_type": "stream",
     "text": [
      "C:\\Users\\Brian\\Anaconda3\\lib\\site-packages\\boruta\\boruta_py.py:418: RuntimeWarning: invalid value encountered in greater\n",
      "  hits = np.where(cur_imp[0] > imp_sha_max)[0]\n"
     ]
    },
    {
     "name": "stdout",
     "output_type": "stream",
     "text": [
      "Iteration: \t17 / 100\n",
      "Confirmed: \t18\n",
      "Tentative: \t3\n",
      "Rejected: \t2\n"
     ]
    },
    {
     "name": "stderr",
     "output_type": "stream",
     "text": [
      "C:\\Users\\Brian\\Anaconda3\\lib\\site-packages\\boruta\\boruta_py.py:418: RuntimeWarning: invalid value encountered in greater\n",
      "  hits = np.where(cur_imp[0] > imp_sha_max)[0]\n"
     ]
    },
    {
     "name": "stdout",
     "output_type": "stream",
     "text": [
      "Iteration: \t18 / 100\n",
      "Confirmed: \t18\n",
      "Tentative: \t3\n",
      "Rejected: \t2\n"
     ]
    },
    {
     "name": "stderr",
     "output_type": "stream",
     "text": [
      "C:\\Users\\Brian\\Anaconda3\\lib\\site-packages\\boruta\\boruta_py.py:418: RuntimeWarning: invalid value encountered in greater\n",
      "  hits = np.where(cur_imp[0] > imp_sha_max)[0]\n"
     ]
    },
    {
     "name": "stdout",
     "output_type": "stream",
     "text": [
      "Iteration: \t19 / 100\n",
      "Confirmed: \t18\n",
      "Tentative: \t3\n",
      "Rejected: \t2\n"
     ]
    },
    {
     "name": "stderr",
     "output_type": "stream",
     "text": [
      "C:\\Users\\Brian\\Anaconda3\\lib\\site-packages\\boruta\\boruta_py.py:418: RuntimeWarning: invalid value encountered in greater\n",
      "  hits = np.where(cur_imp[0] > imp_sha_max)[0]\n"
     ]
    },
    {
     "name": "stdout",
     "output_type": "stream",
     "text": [
      "Iteration: \t20 / 100\n",
      "Confirmed: \t18\n",
      "Tentative: \t3\n",
      "Rejected: \t2\n"
     ]
    },
    {
     "name": "stderr",
     "output_type": "stream",
     "text": [
      "C:\\Users\\Brian\\Anaconda3\\lib\\site-packages\\boruta\\boruta_py.py:418: RuntimeWarning: invalid value encountered in greater\n",
      "  hits = np.where(cur_imp[0] > imp_sha_max)[0]\n"
     ]
    },
    {
     "name": "stdout",
     "output_type": "stream",
     "text": [
      "Iteration: \t21 / 100\n",
      "Confirmed: \t18\n",
      "Tentative: \t3\n",
      "Rejected: \t2\n"
     ]
    },
    {
     "name": "stderr",
     "output_type": "stream",
     "text": [
      "C:\\Users\\Brian\\Anaconda3\\lib\\site-packages\\boruta\\boruta_py.py:418: RuntimeWarning: invalid value encountered in greater\n",
      "  hits = np.where(cur_imp[0] > imp_sha_max)[0]\n"
     ]
    },
    {
     "name": "stdout",
     "output_type": "stream",
     "text": [
      "Iteration: \t22 / 100\n",
      "Confirmed: \t18\n",
      "Tentative: \t3\n",
      "Rejected: \t2\n"
     ]
    },
    {
     "name": "stderr",
     "output_type": "stream",
     "text": [
      "C:\\Users\\Brian\\Anaconda3\\lib\\site-packages\\boruta\\boruta_py.py:418: RuntimeWarning: invalid value encountered in greater\n",
      "  hits = np.where(cur_imp[0] > imp_sha_max)[0]\n"
     ]
    },
    {
     "name": "stdout",
     "output_type": "stream",
     "text": [
      "Iteration: \t23 / 100\n",
      "Confirmed: \t18\n",
      "Tentative: \t3\n",
      "Rejected: \t2\n"
     ]
    },
    {
     "name": "stderr",
     "output_type": "stream",
     "text": [
      "C:\\Users\\Brian\\Anaconda3\\lib\\site-packages\\boruta\\boruta_py.py:418: RuntimeWarning: invalid value encountered in greater\n",
      "  hits = np.where(cur_imp[0] > imp_sha_max)[0]\n"
     ]
    },
    {
     "name": "stdout",
     "output_type": "stream",
     "text": [
      "Iteration: \t24 / 100\n",
      "Confirmed: \t18\n",
      "Tentative: \t3\n",
      "Rejected: \t2\n"
     ]
    },
    {
     "name": "stderr",
     "output_type": "stream",
     "text": [
      "C:\\Users\\Brian\\Anaconda3\\lib\\site-packages\\boruta\\boruta_py.py:418: RuntimeWarning: invalid value encountered in greater\n",
      "  hits = np.where(cur_imp[0] > imp_sha_max)[0]\n"
     ]
    },
    {
     "name": "stdout",
     "output_type": "stream",
     "text": [
      "Iteration: \t25 / 100\n",
      "Confirmed: \t18\n",
      "Tentative: \t3\n",
      "Rejected: \t2\n"
     ]
    },
    {
     "name": "stderr",
     "output_type": "stream",
     "text": [
      "C:\\Users\\Brian\\Anaconda3\\lib\\site-packages\\boruta\\boruta_py.py:418: RuntimeWarning: invalid value encountered in greater\n",
      "  hits = np.where(cur_imp[0] > imp_sha_max)[0]\n"
     ]
    },
    {
     "name": "stdout",
     "output_type": "stream",
     "text": [
      "Iteration: \t26 / 100\n",
      "Confirmed: \t18\n",
      "Tentative: \t3\n",
      "Rejected: \t2\n"
     ]
    },
    {
     "name": "stderr",
     "output_type": "stream",
     "text": [
      "C:\\Users\\Brian\\Anaconda3\\lib\\site-packages\\boruta\\boruta_py.py:418: RuntimeWarning: invalid value encountered in greater\n",
      "  hits = np.where(cur_imp[0] > imp_sha_max)[0]\n"
     ]
    },
    {
     "name": "stdout",
     "output_type": "stream",
     "text": [
      "Iteration: \t27 / 100\n",
      "Confirmed: \t18\n",
      "Tentative: \t3\n",
      "Rejected: \t2\n"
     ]
    },
    {
     "name": "stderr",
     "output_type": "stream",
     "text": [
      "C:\\Users\\Brian\\Anaconda3\\lib\\site-packages\\boruta\\boruta_py.py:418: RuntimeWarning: invalid value encountered in greater\n",
      "  hits = np.where(cur_imp[0] > imp_sha_max)[0]\n"
     ]
    },
    {
     "name": "stdout",
     "output_type": "stream",
     "text": [
      "Iteration: \t28 / 100\n",
      "Confirmed: \t18\n",
      "Tentative: \t3\n",
      "Rejected: \t2\n"
     ]
    },
    {
     "name": "stderr",
     "output_type": "stream",
     "text": [
      "C:\\Users\\Brian\\Anaconda3\\lib\\site-packages\\boruta\\boruta_py.py:418: RuntimeWarning: invalid value encountered in greater\n",
      "  hits = np.where(cur_imp[0] > imp_sha_max)[0]\n"
     ]
    },
    {
     "name": "stdout",
     "output_type": "stream",
     "text": [
      "Iteration: \t29 / 100\n",
      "Confirmed: \t18\n",
      "Tentative: \t3\n",
      "Rejected: \t2\n"
     ]
    },
    {
     "name": "stderr",
     "output_type": "stream",
     "text": [
      "C:\\Users\\Brian\\Anaconda3\\lib\\site-packages\\boruta\\boruta_py.py:418: RuntimeWarning: invalid value encountered in greater\n",
      "  hits = np.where(cur_imp[0] > imp_sha_max)[0]\n"
     ]
    },
    {
     "name": "stdout",
     "output_type": "stream",
     "text": [
      "Iteration: \t30 / 100\n",
      "Confirmed: \t18\n",
      "Tentative: \t3\n",
      "Rejected: \t2\n"
     ]
    },
    {
     "name": "stderr",
     "output_type": "stream",
     "text": [
      "C:\\Users\\Brian\\Anaconda3\\lib\\site-packages\\boruta\\boruta_py.py:418: RuntimeWarning: invalid value encountered in greater\n",
      "  hits = np.where(cur_imp[0] > imp_sha_max)[0]\n"
     ]
    },
    {
     "name": "stdout",
     "output_type": "stream",
     "text": [
      "Iteration: \t31 / 100\n",
      "Confirmed: \t18\n",
      "Tentative: \t3\n",
      "Rejected: \t2\n"
     ]
    },
    {
     "name": "stderr",
     "output_type": "stream",
     "text": [
      "C:\\Users\\Brian\\Anaconda3\\lib\\site-packages\\boruta\\boruta_py.py:418: RuntimeWarning: invalid value encountered in greater\n",
      "  hits = np.where(cur_imp[0] > imp_sha_max)[0]\n"
     ]
    },
    {
     "name": "stdout",
     "output_type": "stream",
     "text": [
      "Iteration: \t32 / 100\n",
      "Confirmed: \t18\n",
      "Tentative: \t3\n",
      "Rejected: \t2\n"
     ]
    },
    {
     "name": "stderr",
     "output_type": "stream",
     "text": [
      "C:\\Users\\Brian\\Anaconda3\\lib\\site-packages\\boruta\\boruta_py.py:418: RuntimeWarning: invalid value encountered in greater\n",
      "  hits = np.where(cur_imp[0] > imp_sha_max)[0]\n"
     ]
    },
    {
     "name": "stdout",
     "output_type": "stream",
     "text": [
      "Iteration: \t33 / 100\n",
      "Confirmed: \t18\n",
      "Tentative: \t3\n",
      "Rejected: \t2\n"
     ]
    },
    {
     "name": "stderr",
     "output_type": "stream",
     "text": [
      "C:\\Users\\Brian\\Anaconda3\\lib\\site-packages\\boruta\\boruta_py.py:418: RuntimeWarning: invalid value encountered in greater\n",
      "  hits = np.where(cur_imp[0] > imp_sha_max)[0]\n"
     ]
    },
    {
     "name": "stdout",
     "output_type": "stream",
     "text": [
      "Iteration: \t34 / 100\n",
      "Confirmed: \t18\n",
      "Tentative: \t2\n",
      "Rejected: \t3\n"
     ]
    },
    {
     "name": "stderr",
     "output_type": "stream",
     "text": [
      "C:\\Users\\Brian\\Anaconda3\\lib\\site-packages\\boruta\\boruta_py.py:418: RuntimeWarning: invalid value encountered in greater\n",
      "  hits = np.where(cur_imp[0] > imp_sha_max)[0]\n"
     ]
    },
    {
     "name": "stdout",
     "output_type": "stream",
     "text": [
      "Iteration: \t35 / 100\n",
      "Confirmed: \t18\n",
      "Tentative: \t2\n",
      "Rejected: \t3\n"
     ]
    },
    {
     "name": "stderr",
     "output_type": "stream",
     "text": [
      "C:\\Users\\Brian\\Anaconda3\\lib\\site-packages\\boruta\\boruta_py.py:418: RuntimeWarning: invalid value encountered in greater\n",
      "  hits = np.where(cur_imp[0] > imp_sha_max)[0]\n"
     ]
    },
    {
     "name": "stdout",
     "output_type": "stream",
     "text": [
      "Iteration: \t36 / 100\n",
      "Confirmed: \t18\n",
      "Tentative: \t2\n",
      "Rejected: \t3\n"
     ]
    },
    {
     "name": "stderr",
     "output_type": "stream",
     "text": [
      "C:\\Users\\Brian\\Anaconda3\\lib\\site-packages\\boruta\\boruta_py.py:418: RuntimeWarning: invalid value encountered in greater\n",
      "  hits = np.where(cur_imp[0] > imp_sha_max)[0]\n"
     ]
    },
    {
     "name": "stdout",
     "output_type": "stream",
     "text": [
      "Iteration: \t37 / 100\n",
      "Confirmed: \t18\n",
      "Tentative: \t2\n",
      "Rejected: \t3\n"
     ]
    },
    {
     "name": "stderr",
     "output_type": "stream",
     "text": [
      "C:\\Users\\Brian\\Anaconda3\\lib\\site-packages\\boruta\\boruta_py.py:418: RuntimeWarning: invalid value encountered in greater\n",
      "  hits = np.where(cur_imp[0] > imp_sha_max)[0]\n"
     ]
    },
    {
     "name": "stdout",
     "output_type": "stream",
     "text": [
      "Iteration: \t38 / 100\n",
      "Confirmed: \t18\n",
      "Tentative: \t2\n",
      "Rejected: \t3\n"
     ]
    },
    {
     "name": "stderr",
     "output_type": "stream",
     "text": [
      "C:\\Users\\Brian\\Anaconda3\\lib\\site-packages\\boruta\\boruta_py.py:418: RuntimeWarning: invalid value encountered in greater\n",
      "  hits = np.where(cur_imp[0] > imp_sha_max)[0]\n"
     ]
    },
    {
     "name": "stdout",
     "output_type": "stream",
     "text": [
      "Iteration: \t39 / 100\n",
      "Confirmed: \t18\n",
      "Tentative: \t2\n",
      "Rejected: \t3\n"
     ]
    },
    {
     "name": "stderr",
     "output_type": "stream",
     "text": [
      "C:\\Users\\Brian\\Anaconda3\\lib\\site-packages\\boruta\\boruta_py.py:418: RuntimeWarning: invalid value encountered in greater\n",
      "  hits = np.where(cur_imp[0] > imp_sha_max)[0]\n"
     ]
    },
    {
     "name": "stdout",
     "output_type": "stream",
     "text": [
      "Iteration: \t40 / 100\n",
      "Confirmed: \t18\n",
      "Tentative: \t2\n",
      "Rejected: \t3\n"
     ]
    },
    {
     "name": "stderr",
     "output_type": "stream",
     "text": [
      "C:\\Users\\Brian\\Anaconda3\\lib\\site-packages\\boruta\\boruta_py.py:418: RuntimeWarning: invalid value encountered in greater\n",
      "  hits = np.where(cur_imp[0] > imp_sha_max)[0]\n"
     ]
    },
    {
     "name": "stdout",
     "output_type": "stream",
     "text": [
      "Iteration: \t41 / 100\n",
      "Confirmed: \t18\n",
      "Tentative: \t2\n",
      "Rejected: \t3\n"
     ]
    },
    {
     "name": "stderr",
     "output_type": "stream",
     "text": [
      "C:\\Users\\Brian\\Anaconda3\\lib\\site-packages\\boruta\\boruta_py.py:418: RuntimeWarning: invalid value encountered in greater\n",
      "  hits = np.where(cur_imp[0] > imp_sha_max)[0]\n"
     ]
    },
    {
     "name": "stdout",
     "output_type": "stream",
     "text": [
      "Iteration: \t42 / 100\n",
      "Confirmed: \t18\n",
      "Tentative: \t2\n",
      "Rejected: \t3\n"
     ]
    },
    {
     "name": "stderr",
     "output_type": "stream",
     "text": [
      "C:\\Users\\Brian\\Anaconda3\\lib\\site-packages\\boruta\\boruta_py.py:418: RuntimeWarning: invalid value encountered in greater\n",
      "  hits = np.where(cur_imp[0] > imp_sha_max)[0]\n"
     ]
    },
    {
     "name": "stdout",
     "output_type": "stream",
     "text": [
      "Iteration: \t43 / 100\n",
      "Confirmed: \t18\n",
      "Tentative: \t2\n",
      "Rejected: \t3\n"
     ]
    },
    {
     "name": "stderr",
     "output_type": "stream",
     "text": [
      "C:\\Users\\Brian\\Anaconda3\\lib\\site-packages\\boruta\\boruta_py.py:418: RuntimeWarning: invalid value encountered in greater\n",
      "  hits = np.where(cur_imp[0] > imp_sha_max)[0]\n"
     ]
    },
    {
     "name": "stdout",
     "output_type": "stream",
     "text": [
      "Iteration: \t44 / 100\n",
      "Confirmed: \t18\n",
      "Tentative: \t2\n",
      "Rejected: \t3\n"
     ]
    },
    {
     "name": "stderr",
     "output_type": "stream",
     "text": [
      "C:\\Users\\Brian\\Anaconda3\\lib\\site-packages\\boruta\\boruta_py.py:418: RuntimeWarning: invalid value encountered in greater\n",
      "  hits = np.where(cur_imp[0] > imp_sha_max)[0]\n"
     ]
    },
    {
     "name": "stdout",
     "output_type": "stream",
     "text": [
      "Iteration: \t45 / 100\n",
      "Confirmed: \t18\n",
      "Tentative: \t2\n",
      "Rejected: \t3\n"
     ]
    },
    {
     "name": "stderr",
     "output_type": "stream",
     "text": [
      "C:\\Users\\Brian\\Anaconda3\\lib\\site-packages\\boruta\\boruta_py.py:418: RuntimeWarning: invalid value encountered in greater\n",
      "  hits = np.where(cur_imp[0] > imp_sha_max)[0]\n"
     ]
    },
    {
     "name": "stdout",
     "output_type": "stream",
     "text": [
      "Iteration: \t46 / 100\n",
      "Confirmed: \t18\n",
      "Tentative: \t2\n",
      "Rejected: \t3\n"
     ]
    },
    {
     "name": "stderr",
     "output_type": "stream",
     "text": [
      "C:\\Users\\Brian\\Anaconda3\\lib\\site-packages\\boruta\\boruta_py.py:418: RuntimeWarning: invalid value encountered in greater\n",
      "  hits = np.where(cur_imp[0] > imp_sha_max)[0]\n"
     ]
    },
    {
     "name": "stdout",
     "output_type": "stream",
     "text": [
      "Iteration: \t47 / 100\n",
      "Confirmed: \t18\n",
      "Tentative: \t2\n",
      "Rejected: \t3\n"
     ]
    },
    {
     "name": "stderr",
     "output_type": "stream",
     "text": [
      "C:\\Users\\Brian\\Anaconda3\\lib\\site-packages\\boruta\\boruta_py.py:418: RuntimeWarning: invalid value encountered in greater\n",
      "  hits = np.where(cur_imp[0] > imp_sha_max)[0]\n"
     ]
    },
    {
     "name": "stdout",
     "output_type": "stream",
     "text": [
      "Iteration: \t48 / 100\n",
      "Confirmed: \t18\n",
      "Tentative: \t2\n",
      "Rejected: \t3\n"
     ]
    },
    {
     "name": "stderr",
     "output_type": "stream",
     "text": [
      "C:\\Users\\Brian\\Anaconda3\\lib\\site-packages\\boruta\\boruta_py.py:418: RuntimeWarning: invalid value encountered in greater\n",
      "  hits = np.where(cur_imp[0] > imp_sha_max)[0]\n"
     ]
    },
    {
     "name": "stdout",
     "output_type": "stream",
     "text": [
      "Iteration: \t49 / 100\n",
      "Confirmed: \t18\n",
      "Tentative: \t2\n",
      "Rejected: \t3\n"
     ]
    },
    {
     "name": "stderr",
     "output_type": "stream",
     "text": [
      "C:\\Users\\Brian\\Anaconda3\\lib\\site-packages\\boruta\\boruta_py.py:418: RuntimeWarning: invalid value encountered in greater\n",
      "  hits = np.where(cur_imp[0] > imp_sha_max)[0]\n"
     ]
    },
    {
     "name": "stdout",
     "output_type": "stream",
     "text": [
      "Iteration: \t50 / 100\n",
      "Confirmed: \t18\n",
      "Tentative: \t2\n",
      "Rejected: \t3\n"
     ]
    },
    {
     "name": "stderr",
     "output_type": "stream",
     "text": [
      "C:\\Users\\Brian\\Anaconda3\\lib\\site-packages\\boruta\\boruta_py.py:418: RuntimeWarning: invalid value encountered in greater\n",
      "  hits = np.where(cur_imp[0] > imp_sha_max)[0]\n"
     ]
    },
    {
     "name": "stdout",
     "output_type": "stream",
     "text": [
      "Iteration: \t51 / 100\n",
      "Confirmed: \t18\n",
      "Tentative: \t2\n",
      "Rejected: \t3\n"
     ]
    },
    {
     "name": "stderr",
     "output_type": "stream",
     "text": [
      "C:\\Users\\Brian\\Anaconda3\\lib\\site-packages\\boruta\\boruta_py.py:418: RuntimeWarning: invalid value encountered in greater\n",
      "  hits = np.where(cur_imp[0] > imp_sha_max)[0]\n"
     ]
    },
    {
     "name": "stdout",
     "output_type": "stream",
     "text": [
      "Iteration: \t52 / 100\n",
      "Confirmed: \t18\n",
      "Tentative: \t2\n",
      "Rejected: \t3\n"
     ]
    },
    {
     "name": "stderr",
     "output_type": "stream",
     "text": [
      "C:\\Users\\Brian\\Anaconda3\\lib\\site-packages\\boruta\\boruta_py.py:418: RuntimeWarning: invalid value encountered in greater\n",
      "  hits = np.where(cur_imp[0] > imp_sha_max)[0]\n"
     ]
    },
    {
     "name": "stdout",
     "output_type": "stream",
     "text": [
      "Iteration: \t53 / 100\n",
      "Confirmed: \t18\n",
      "Tentative: \t2\n",
      "Rejected: \t3\n"
     ]
    },
    {
     "name": "stderr",
     "output_type": "stream",
     "text": [
      "C:\\Users\\Brian\\Anaconda3\\lib\\site-packages\\boruta\\boruta_py.py:418: RuntimeWarning: invalid value encountered in greater\n",
      "  hits = np.where(cur_imp[0] > imp_sha_max)[0]\n"
     ]
    },
    {
     "name": "stdout",
     "output_type": "stream",
     "text": [
      "Iteration: \t54 / 100\n",
      "Confirmed: \t18\n",
      "Tentative: \t2\n",
      "Rejected: \t3\n"
     ]
    },
    {
     "name": "stderr",
     "output_type": "stream",
     "text": [
      "C:\\Users\\Brian\\Anaconda3\\lib\\site-packages\\boruta\\boruta_py.py:418: RuntimeWarning: invalid value encountered in greater\n",
      "  hits = np.where(cur_imp[0] > imp_sha_max)[0]\n"
     ]
    },
    {
     "name": "stdout",
     "output_type": "stream",
     "text": [
      "Iteration: \t55 / 100\n",
      "Confirmed: \t18\n",
      "Tentative: \t2\n",
      "Rejected: \t3\n"
     ]
    },
    {
     "name": "stderr",
     "output_type": "stream",
     "text": [
      "C:\\Users\\Brian\\Anaconda3\\lib\\site-packages\\boruta\\boruta_py.py:418: RuntimeWarning: invalid value encountered in greater\n",
      "  hits = np.where(cur_imp[0] > imp_sha_max)[0]\n"
     ]
    },
    {
     "name": "stdout",
     "output_type": "stream",
     "text": [
      "Iteration: \t56 / 100\n",
      "Confirmed: \t18\n",
      "Tentative: \t2\n",
      "Rejected: \t3\n"
     ]
    },
    {
     "name": "stderr",
     "output_type": "stream",
     "text": [
      "C:\\Users\\Brian\\Anaconda3\\lib\\site-packages\\boruta\\boruta_py.py:418: RuntimeWarning: invalid value encountered in greater\n",
      "  hits = np.where(cur_imp[0] > imp_sha_max)[0]\n"
     ]
    },
    {
     "name": "stdout",
     "output_type": "stream",
     "text": [
      "Iteration: \t57 / 100\n",
      "Confirmed: \t18\n",
      "Tentative: \t2\n",
      "Rejected: \t3\n"
     ]
    },
    {
     "name": "stderr",
     "output_type": "stream",
     "text": [
      "C:\\Users\\Brian\\Anaconda3\\lib\\site-packages\\boruta\\boruta_py.py:418: RuntimeWarning: invalid value encountered in greater\n",
      "  hits = np.where(cur_imp[0] > imp_sha_max)[0]\n"
     ]
    },
    {
     "name": "stdout",
     "output_type": "stream",
     "text": [
      "Iteration: \t58 / 100\n",
      "Confirmed: \t18\n",
      "Tentative: \t2\n",
      "Rejected: \t3\n"
     ]
    },
    {
     "name": "stderr",
     "output_type": "stream",
     "text": [
      "C:\\Users\\Brian\\Anaconda3\\lib\\site-packages\\boruta\\boruta_py.py:418: RuntimeWarning: invalid value encountered in greater\n",
      "  hits = np.where(cur_imp[0] > imp_sha_max)[0]\n"
     ]
    },
    {
     "name": "stdout",
     "output_type": "stream",
     "text": [
      "Iteration: \t59 / 100\n",
      "Confirmed: \t18\n",
      "Tentative: \t2\n",
      "Rejected: \t3\n"
     ]
    },
    {
     "name": "stderr",
     "output_type": "stream",
     "text": [
      "C:\\Users\\Brian\\Anaconda3\\lib\\site-packages\\boruta\\boruta_py.py:418: RuntimeWarning: invalid value encountered in greater\n",
      "  hits = np.where(cur_imp[0] > imp_sha_max)[0]\n"
     ]
    },
    {
     "name": "stdout",
     "output_type": "stream",
     "text": [
      "Iteration: \t60 / 100\n",
      "Confirmed: \t18\n",
      "Tentative: \t2\n",
      "Rejected: \t3\n"
     ]
    },
    {
     "name": "stderr",
     "output_type": "stream",
     "text": [
      "C:\\Users\\Brian\\Anaconda3\\lib\\site-packages\\boruta\\boruta_py.py:418: RuntimeWarning: invalid value encountered in greater\n",
      "  hits = np.where(cur_imp[0] > imp_sha_max)[0]\n"
     ]
    },
    {
     "name": "stdout",
     "output_type": "stream",
     "text": [
      "Iteration: \t61 / 100\n",
      "Confirmed: \t18\n",
      "Tentative: \t2\n",
      "Rejected: \t3\n"
     ]
    },
    {
     "name": "stderr",
     "output_type": "stream",
     "text": [
      "C:\\Users\\Brian\\Anaconda3\\lib\\site-packages\\boruta\\boruta_py.py:418: RuntimeWarning: invalid value encountered in greater\n",
      "  hits = np.where(cur_imp[0] > imp_sha_max)[0]\n"
     ]
    },
    {
     "name": "stdout",
     "output_type": "stream",
     "text": [
      "Iteration: \t62 / 100\n",
      "Confirmed: \t18\n",
      "Tentative: \t2\n",
      "Rejected: \t3\n"
     ]
    },
    {
     "name": "stderr",
     "output_type": "stream",
     "text": [
      "C:\\Users\\Brian\\Anaconda3\\lib\\site-packages\\boruta\\boruta_py.py:418: RuntimeWarning: invalid value encountered in greater\n",
      "  hits = np.where(cur_imp[0] > imp_sha_max)[0]\n"
     ]
    },
    {
     "name": "stdout",
     "output_type": "stream",
     "text": [
      "Iteration: \t63 / 100\n",
      "Confirmed: \t18\n",
      "Tentative: \t2\n",
      "Rejected: \t3\n"
     ]
    },
    {
     "name": "stderr",
     "output_type": "stream",
     "text": [
      "C:\\Users\\Brian\\Anaconda3\\lib\\site-packages\\boruta\\boruta_py.py:418: RuntimeWarning: invalid value encountered in greater\n",
      "  hits = np.where(cur_imp[0] > imp_sha_max)[0]\n"
     ]
    },
    {
     "name": "stdout",
     "output_type": "stream",
     "text": [
      "Iteration: \t64 / 100\n",
      "Confirmed: \t18\n",
      "Tentative: \t2\n",
      "Rejected: \t3\n"
     ]
    },
    {
     "name": "stderr",
     "output_type": "stream",
     "text": [
      "C:\\Users\\Brian\\Anaconda3\\lib\\site-packages\\boruta\\boruta_py.py:418: RuntimeWarning: invalid value encountered in greater\n",
      "  hits = np.where(cur_imp[0] > imp_sha_max)[0]\n"
     ]
    },
    {
     "name": "stdout",
     "output_type": "stream",
     "text": [
      "Iteration: \t65 / 100\n",
      "Confirmed: \t18\n",
      "Tentative: \t2\n",
      "Rejected: \t3\n"
     ]
    },
    {
     "name": "stderr",
     "output_type": "stream",
     "text": [
      "C:\\Users\\Brian\\Anaconda3\\lib\\site-packages\\boruta\\boruta_py.py:418: RuntimeWarning: invalid value encountered in greater\n",
      "  hits = np.where(cur_imp[0] > imp_sha_max)[0]\n"
     ]
    },
    {
     "name": "stdout",
     "output_type": "stream",
     "text": [
      "Iteration: \t66 / 100\n",
      "Confirmed: \t18\n",
      "Tentative: \t2\n",
      "Rejected: \t3\n"
     ]
    },
    {
     "name": "stderr",
     "output_type": "stream",
     "text": [
      "C:\\Users\\Brian\\Anaconda3\\lib\\site-packages\\boruta\\boruta_py.py:418: RuntimeWarning: invalid value encountered in greater\n",
      "  hits = np.where(cur_imp[0] > imp_sha_max)[0]\n"
     ]
    },
    {
     "name": "stdout",
     "output_type": "stream",
     "text": [
      "Iteration: \t67 / 100\n",
      "Confirmed: \t18\n",
      "Tentative: \t2\n",
      "Rejected: \t3\n"
     ]
    },
    {
     "name": "stderr",
     "output_type": "stream",
     "text": [
      "C:\\Users\\Brian\\Anaconda3\\lib\\site-packages\\boruta\\boruta_py.py:418: RuntimeWarning: invalid value encountered in greater\n",
      "  hits = np.where(cur_imp[0] > imp_sha_max)[0]\n"
     ]
    },
    {
     "name": "stdout",
     "output_type": "stream",
     "text": [
      "Iteration: \t68 / 100\n",
      "Confirmed: \t18\n",
      "Tentative: \t2\n",
      "Rejected: \t3\n"
     ]
    },
    {
     "name": "stderr",
     "output_type": "stream",
     "text": [
      "C:\\Users\\Brian\\Anaconda3\\lib\\site-packages\\boruta\\boruta_py.py:418: RuntimeWarning: invalid value encountered in greater\n",
      "  hits = np.where(cur_imp[0] > imp_sha_max)[0]\n"
     ]
    },
    {
     "name": "stdout",
     "output_type": "stream",
     "text": [
      "Iteration: \t69 / 100\n",
      "Confirmed: \t18\n",
      "Tentative: \t2\n",
      "Rejected: \t3\n"
     ]
    },
    {
     "name": "stderr",
     "output_type": "stream",
     "text": [
      "C:\\Users\\Brian\\Anaconda3\\lib\\site-packages\\boruta\\boruta_py.py:418: RuntimeWarning: invalid value encountered in greater\n",
      "  hits = np.where(cur_imp[0] > imp_sha_max)[0]\n"
     ]
    },
    {
     "name": "stdout",
     "output_type": "stream",
     "text": [
      "Iteration: \t70 / 100\n",
      "Confirmed: \t18\n",
      "Tentative: \t2\n",
      "Rejected: \t3\n"
     ]
    },
    {
     "name": "stderr",
     "output_type": "stream",
     "text": [
      "C:\\Users\\Brian\\Anaconda3\\lib\\site-packages\\boruta\\boruta_py.py:418: RuntimeWarning: invalid value encountered in greater\n",
      "  hits = np.where(cur_imp[0] > imp_sha_max)[0]\n"
     ]
    },
    {
     "name": "stdout",
     "output_type": "stream",
     "text": [
      "Iteration: \t71 / 100\n",
      "Confirmed: \t18\n",
      "Tentative: \t2\n",
      "Rejected: \t3\n"
     ]
    },
    {
     "name": "stderr",
     "output_type": "stream",
     "text": [
      "C:\\Users\\Brian\\Anaconda3\\lib\\site-packages\\boruta\\boruta_py.py:418: RuntimeWarning: invalid value encountered in greater\n",
      "  hits = np.where(cur_imp[0] > imp_sha_max)[0]\n"
     ]
    },
    {
     "name": "stdout",
     "output_type": "stream",
     "text": [
      "Iteration: \t72 / 100\n",
      "Confirmed: \t18\n",
      "Tentative: \t2\n",
      "Rejected: \t3\n"
     ]
    },
    {
     "name": "stderr",
     "output_type": "stream",
     "text": [
      "C:\\Users\\Brian\\Anaconda3\\lib\\site-packages\\boruta\\boruta_py.py:418: RuntimeWarning: invalid value encountered in greater\n",
      "  hits = np.where(cur_imp[0] > imp_sha_max)[0]\n"
     ]
    },
    {
     "name": "stdout",
     "output_type": "stream",
     "text": [
      "Iteration: \t73 / 100\n",
      "Confirmed: \t18\n",
      "Tentative: \t2\n",
      "Rejected: \t3\n"
     ]
    },
    {
     "name": "stderr",
     "output_type": "stream",
     "text": [
      "C:\\Users\\Brian\\Anaconda3\\lib\\site-packages\\boruta\\boruta_py.py:418: RuntimeWarning: invalid value encountered in greater\n",
      "  hits = np.where(cur_imp[0] > imp_sha_max)[0]\n"
     ]
    },
    {
     "name": "stdout",
     "output_type": "stream",
     "text": [
      "Iteration: \t74 / 100\n",
      "Confirmed: \t18\n",
      "Tentative: \t2\n",
      "Rejected: \t3\n"
     ]
    },
    {
     "name": "stderr",
     "output_type": "stream",
     "text": [
      "C:\\Users\\Brian\\Anaconda3\\lib\\site-packages\\boruta\\boruta_py.py:418: RuntimeWarning: invalid value encountered in greater\n",
      "  hits = np.where(cur_imp[0] > imp_sha_max)[0]\n"
     ]
    },
    {
     "name": "stdout",
     "output_type": "stream",
     "text": [
      "Iteration: \t75 / 100\n",
      "Confirmed: \t18\n",
      "Tentative: \t2\n",
      "Rejected: \t3\n"
     ]
    },
    {
     "name": "stderr",
     "output_type": "stream",
     "text": [
      "C:\\Users\\Brian\\Anaconda3\\lib\\site-packages\\boruta\\boruta_py.py:418: RuntimeWarning: invalid value encountered in greater\n",
      "  hits = np.where(cur_imp[0] > imp_sha_max)[0]\n"
     ]
    },
    {
     "name": "stdout",
     "output_type": "stream",
     "text": [
      "Iteration: \t76 / 100\n",
      "Confirmed: \t18\n",
      "Tentative: \t2\n",
      "Rejected: \t3\n"
     ]
    },
    {
     "name": "stderr",
     "output_type": "stream",
     "text": [
      "C:\\Users\\Brian\\Anaconda3\\lib\\site-packages\\boruta\\boruta_py.py:418: RuntimeWarning: invalid value encountered in greater\n",
      "  hits = np.where(cur_imp[0] > imp_sha_max)[0]\n"
     ]
    },
    {
     "name": "stdout",
     "output_type": "stream",
     "text": [
      "Iteration: \t77 / 100\n",
      "Confirmed: \t18\n",
      "Tentative: \t2\n",
      "Rejected: \t3\n"
     ]
    },
    {
     "name": "stderr",
     "output_type": "stream",
     "text": [
      "C:\\Users\\Brian\\Anaconda3\\lib\\site-packages\\boruta\\boruta_py.py:418: RuntimeWarning: invalid value encountered in greater\n",
      "  hits = np.where(cur_imp[0] > imp_sha_max)[0]\n"
     ]
    },
    {
     "name": "stdout",
     "output_type": "stream",
     "text": [
      "Iteration: \t78 / 100\n",
      "Confirmed: \t18\n",
      "Tentative: \t2\n",
      "Rejected: \t3\n"
     ]
    },
    {
     "name": "stderr",
     "output_type": "stream",
     "text": [
      "C:\\Users\\Brian\\Anaconda3\\lib\\site-packages\\boruta\\boruta_py.py:418: RuntimeWarning: invalid value encountered in greater\n",
      "  hits = np.where(cur_imp[0] > imp_sha_max)[0]\n"
     ]
    },
    {
     "name": "stdout",
     "output_type": "stream",
     "text": [
      "Iteration: \t79 / 100\n",
      "Confirmed: \t18\n",
      "Tentative: \t2\n",
      "Rejected: \t3\n"
     ]
    },
    {
     "name": "stderr",
     "output_type": "stream",
     "text": [
      "C:\\Users\\Brian\\Anaconda3\\lib\\site-packages\\boruta\\boruta_py.py:418: RuntimeWarning: invalid value encountered in greater\n",
      "  hits = np.where(cur_imp[0] > imp_sha_max)[0]\n"
     ]
    },
    {
     "name": "stdout",
     "output_type": "stream",
     "text": [
      "Iteration: \t80 / 100\n",
      "Confirmed: \t18\n",
      "Tentative: \t2\n",
      "Rejected: \t3\n"
     ]
    },
    {
     "name": "stderr",
     "output_type": "stream",
     "text": [
      "C:\\Users\\Brian\\Anaconda3\\lib\\site-packages\\boruta\\boruta_py.py:418: RuntimeWarning: invalid value encountered in greater\n",
      "  hits = np.where(cur_imp[0] > imp_sha_max)[0]\n"
     ]
    },
    {
     "name": "stdout",
     "output_type": "stream",
     "text": [
      "Iteration: \t81 / 100\n",
      "Confirmed: \t18\n",
      "Tentative: \t2\n",
      "Rejected: \t3\n"
     ]
    },
    {
     "name": "stderr",
     "output_type": "stream",
     "text": [
      "C:\\Users\\Brian\\Anaconda3\\lib\\site-packages\\boruta\\boruta_py.py:418: RuntimeWarning: invalid value encountered in greater\n",
      "  hits = np.where(cur_imp[0] > imp_sha_max)[0]\n"
     ]
    },
    {
     "name": "stdout",
     "output_type": "stream",
     "text": [
      "Iteration: \t82 / 100\n",
      "Confirmed: \t18\n",
      "Tentative: \t2\n",
      "Rejected: \t3\n"
     ]
    },
    {
     "name": "stderr",
     "output_type": "stream",
     "text": [
      "C:\\Users\\Brian\\Anaconda3\\lib\\site-packages\\boruta\\boruta_py.py:418: RuntimeWarning: invalid value encountered in greater\n",
      "  hits = np.where(cur_imp[0] > imp_sha_max)[0]\n"
     ]
    },
    {
     "name": "stdout",
     "output_type": "stream",
     "text": [
      "Iteration: \t83 / 100\n",
      "Confirmed: \t18\n",
      "Tentative: \t2\n",
      "Rejected: \t3\n"
     ]
    },
    {
     "name": "stderr",
     "output_type": "stream",
     "text": [
      "C:\\Users\\Brian\\Anaconda3\\lib\\site-packages\\boruta\\boruta_py.py:418: RuntimeWarning: invalid value encountered in greater\n",
      "  hits = np.where(cur_imp[0] > imp_sha_max)[0]\n"
     ]
    },
    {
     "name": "stdout",
     "output_type": "stream",
     "text": [
      "Iteration: \t84 / 100\n",
      "Confirmed: \t18\n",
      "Tentative: \t2\n",
      "Rejected: \t3\n"
     ]
    },
    {
     "name": "stderr",
     "output_type": "stream",
     "text": [
      "C:\\Users\\Brian\\Anaconda3\\lib\\site-packages\\boruta\\boruta_py.py:418: RuntimeWarning: invalid value encountered in greater\n",
      "  hits = np.where(cur_imp[0] > imp_sha_max)[0]\n"
     ]
    },
    {
     "name": "stdout",
     "output_type": "stream",
     "text": [
      "Iteration: \t85 / 100\n",
      "Confirmed: \t18\n",
      "Tentative: \t2\n",
      "Rejected: \t3\n"
     ]
    },
    {
     "name": "stderr",
     "output_type": "stream",
     "text": [
      "C:\\Users\\Brian\\Anaconda3\\lib\\site-packages\\boruta\\boruta_py.py:418: RuntimeWarning: invalid value encountered in greater\n",
      "  hits = np.where(cur_imp[0] > imp_sha_max)[0]\n"
     ]
    },
    {
     "name": "stdout",
     "output_type": "stream",
     "text": [
      "Iteration: \t86 / 100\n",
      "Confirmed: \t18\n",
      "Tentative: \t2\n",
      "Rejected: \t3\n"
     ]
    },
    {
     "name": "stderr",
     "output_type": "stream",
     "text": [
      "C:\\Users\\Brian\\Anaconda3\\lib\\site-packages\\boruta\\boruta_py.py:418: RuntimeWarning: invalid value encountered in greater\n",
      "  hits = np.where(cur_imp[0] > imp_sha_max)[0]\n"
     ]
    },
    {
     "name": "stdout",
     "output_type": "stream",
     "text": [
      "Iteration: \t87 / 100\n",
      "Confirmed: \t18\n",
      "Tentative: \t2\n",
      "Rejected: \t3\n"
     ]
    },
    {
     "name": "stderr",
     "output_type": "stream",
     "text": [
      "C:\\Users\\Brian\\Anaconda3\\lib\\site-packages\\boruta\\boruta_py.py:418: RuntimeWarning: invalid value encountered in greater\n",
      "  hits = np.where(cur_imp[0] > imp_sha_max)[0]\n"
     ]
    },
    {
     "name": "stdout",
     "output_type": "stream",
     "text": [
      "Iteration: \t88 / 100\n",
      "Confirmed: \t18\n",
      "Tentative: \t2\n",
      "Rejected: \t3\n"
     ]
    },
    {
     "name": "stderr",
     "output_type": "stream",
     "text": [
      "C:\\Users\\Brian\\Anaconda3\\lib\\site-packages\\boruta\\boruta_py.py:418: RuntimeWarning: invalid value encountered in greater\n",
      "  hits = np.where(cur_imp[0] > imp_sha_max)[0]\n"
     ]
    },
    {
     "name": "stdout",
     "output_type": "stream",
     "text": [
      "Iteration: \t89 / 100\n",
      "Confirmed: \t18\n",
      "Tentative: \t2\n",
      "Rejected: \t3\n"
     ]
    },
    {
     "name": "stderr",
     "output_type": "stream",
     "text": [
      "C:\\Users\\Brian\\Anaconda3\\lib\\site-packages\\boruta\\boruta_py.py:418: RuntimeWarning: invalid value encountered in greater\n",
      "  hits = np.where(cur_imp[0] > imp_sha_max)[0]\n"
     ]
    },
    {
     "name": "stdout",
     "output_type": "stream",
     "text": [
      "Iteration: \t90 / 100\n",
      "Confirmed: \t18\n",
      "Tentative: \t2\n",
      "Rejected: \t3\n"
     ]
    },
    {
     "name": "stderr",
     "output_type": "stream",
     "text": [
      "C:\\Users\\Brian\\Anaconda3\\lib\\site-packages\\boruta\\boruta_py.py:418: RuntimeWarning: invalid value encountered in greater\n",
      "  hits = np.where(cur_imp[0] > imp_sha_max)[0]\n"
     ]
    },
    {
     "name": "stdout",
     "output_type": "stream",
     "text": [
      "Iteration: \t91 / 100\n",
      "Confirmed: \t18\n",
      "Tentative: \t2\n",
      "Rejected: \t3\n"
     ]
    },
    {
     "name": "stderr",
     "output_type": "stream",
     "text": [
      "C:\\Users\\Brian\\Anaconda3\\lib\\site-packages\\boruta\\boruta_py.py:418: RuntimeWarning: invalid value encountered in greater\n",
      "  hits = np.where(cur_imp[0] > imp_sha_max)[0]\n"
     ]
    },
    {
     "name": "stdout",
     "output_type": "stream",
     "text": [
      "Iteration: \t92 / 100\n",
      "Confirmed: \t18\n",
      "Tentative: \t2\n",
      "Rejected: \t3\n"
     ]
    },
    {
     "name": "stderr",
     "output_type": "stream",
     "text": [
      "C:\\Users\\Brian\\Anaconda3\\lib\\site-packages\\boruta\\boruta_py.py:418: RuntimeWarning: invalid value encountered in greater\n",
      "  hits = np.where(cur_imp[0] > imp_sha_max)[0]\n"
     ]
    },
    {
     "name": "stdout",
     "output_type": "stream",
     "text": [
      "Iteration: \t93 / 100\n",
      "Confirmed: \t18\n",
      "Tentative: \t2\n",
      "Rejected: \t3\n"
     ]
    },
    {
     "name": "stderr",
     "output_type": "stream",
     "text": [
      "C:\\Users\\Brian\\Anaconda3\\lib\\site-packages\\boruta\\boruta_py.py:418: RuntimeWarning: invalid value encountered in greater\n",
      "  hits = np.where(cur_imp[0] > imp_sha_max)[0]\n"
     ]
    },
    {
     "name": "stdout",
     "output_type": "stream",
     "text": [
      "Iteration: \t94 / 100\n",
      "Confirmed: \t18\n",
      "Tentative: \t2\n",
      "Rejected: \t3\n"
     ]
    },
    {
     "name": "stderr",
     "output_type": "stream",
     "text": [
      "C:\\Users\\Brian\\Anaconda3\\lib\\site-packages\\boruta\\boruta_py.py:418: RuntimeWarning: invalid value encountered in greater\n",
      "  hits = np.where(cur_imp[0] > imp_sha_max)[0]\n"
     ]
    },
    {
     "name": "stdout",
     "output_type": "stream",
     "text": [
      "Iteration: \t95 / 100\n",
      "Confirmed: \t18\n",
      "Tentative: \t2\n",
      "Rejected: \t3\n"
     ]
    },
    {
     "name": "stderr",
     "output_type": "stream",
     "text": [
      "C:\\Users\\Brian\\Anaconda3\\lib\\site-packages\\boruta\\boruta_py.py:418: RuntimeWarning: invalid value encountered in greater\n",
      "  hits = np.where(cur_imp[0] > imp_sha_max)[0]\n"
     ]
    },
    {
     "name": "stdout",
     "output_type": "stream",
     "text": [
      "Iteration: \t96 / 100\n",
      "Confirmed: \t18\n",
      "Tentative: \t2\n",
      "Rejected: \t3\n"
     ]
    },
    {
     "name": "stderr",
     "output_type": "stream",
     "text": [
      "C:\\Users\\Brian\\Anaconda3\\lib\\site-packages\\boruta\\boruta_py.py:418: RuntimeWarning: invalid value encountered in greater\n",
      "  hits = np.where(cur_imp[0] > imp_sha_max)[0]\n"
     ]
    },
    {
     "name": "stdout",
     "output_type": "stream",
     "text": [
      "Iteration: \t97 / 100\n",
      "Confirmed: \t18\n",
      "Tentative: \t2\n",
      "Rejected: \t3\n"
     ]
    },
    {
     "name": "stderr",
     "output_type": "stream",
     "text": [
      "C:\\Users\\Brian\\Anaconda3\\lib\\site-packages\\boruta\\boruta_py.py:418: RuntimeWarning: invalid value encountered in greater\n",
      "  hits = np.where(cur_imp[0] > imp_sha_max)[0]\n"
     ]
    },
    {
     "name": "stdout",
     "output_type": "stream",
     "text": [
      "Iteration: \t98 / 100\n",
      "Confirmed: \t18\n",
      "Tentative: \t2\n",
      "Rejected: \t3\n",
      "Iteration: \t99 / 100\n",
      "Confirmed: \t18\n",
      "Tentative: \t2\n",
      "Rejected: \t3\n",
      "\n",
      "\n",
      "BorutaPy finished running.\n",
      "\n",
      "Iteration: \t100 / 100\n",
      "Confirmed: \t18\n",
      "Tentative: \t1\n",
      "Rejected: \t3\n"
     ]
    },
    {
     "name": "stderr",
     "output_type": "stream",
     "text": [
      "C:\\Users\\Brian\\Anaconda3\\lib\\site-packages\\boruta\\boruta_py.py:418: RuntimeWarning: invalid value encountered in greater\n",
      "  hits = np.where(cur_imp[0] > imp_sha_max)[0]\n"
     ]
    },
    {
     "data": {
      "text/plain": [
       "BorutaPy(alpha=0.05,\n",
       "     estimator=RandomForestClassifier(bootstrap=True, class_weight='balanced',\n",
       "            criterion='gini', max_depth=5, max_features='auto',\n",
       "            max_leaf_nodes=None, min_impurity_decrease=0.0,\n",
       "            min_impurity_split=None, min_samples_leaf=1,\n",
       "            min_samples_split=2, min_weight_fraction_leaf=0.0,\n",
       "            n_estimators=126, n_jobs=-1, oob_score=False,\n",
       "            random_state=<mtrand.RandomState object at 0x000000A492E5F510>,\n",
       "            verbose=0, warm_start=False),\n",
       "     max_iter=100, n_estimators='auto', perc=100,\n",
       "     random_state=<mtrand.RandomState object at 0x000000A492E5F510>,\n",
       "     two_step=True, verbose=2)"
      ]
     },
     "execution_count": 7,
     "metadata": {},
     "output_type": "execute_result"
    }
   ],
   "source": [
    "# define random forest classifier, with utilising all cores and\n",
    "# sampling in proportion to y labels\n",
    "rf = RandomForestClassifier(n_jobs=-1, class_weight='balanced', max_depth=5)\n",
    "\n",
    "# define Boruta feature selection method\n",
    "feat_selector = BorutaPy(rf, n_estimators='auto', verbose=2, random_state=1)\n",
    "Y_trainval = Y_train.values\n",
    "np.random.seed(80085)\n",
    "feat_selector.fit(X_train_scaled, Y_trainval)"
   ]
  },
  {
   "cell_type": "code",
   "execution_count": 8,
   "metadata": {},
   "outputs": [],
   "source": [
    "criteria = pd.Series(feat_selector.support_)\n",
    "X_train_boruta = feat_selector.transform(X_train_scaled)\n",
    "X_train_boruta = pd.DataFrame(X_train_boruta, index = X_train.index, columns = X_train.columns[criteria].values)"
   ]
  },
  {
   "cell_type": "code",
   "execution_count": 9,
   "metadata": {},
   "outputs": [],
   "source": [
    "criteria = pd.Series(feat_selector.support_)\n",
    "X_test_boruta = feat_selector.transform(X_test_scaled)\n",
    "X_test_boruta = pd.DataFrame(X_test_boruta, index = X_test.index, columns = X_test.columns[criteria].values)"
   ]
  },
  {
   "cell_type": "code",
   "execution_count": 10,
   "metadata": {},
   "outputs": [
    {
     "data": {
      "text/plain": [
       "Index(['home_game', 'DisposalsPcnt_D_mean8',\n",
       "       'Disps_Per_Scoring_ShotPcnt_D_mean8', 'Goal_AssistsPcnt_D_mean8',\n",
       "       'In50s_ScorePcnt_D_mean8', 'Inside_50sPcnt_D_mean8',\n",
       "       'Scoring_ShotsPcnt_D_mean8', 'ScorePcnt_D_mean8',\n",
       "       'DisposalsPcnt_D_mean20', 'Disps_Per_Scoring_ShotPcnt_D_mean20',\n",
       "       'Goal_AssistsPcnt_D_mean20', 'In50s_ScorePcnt_D_mean20',\n",
       "       'Inside_50sPcnt_D_mean20', 'Scoring_ShotsPcnt_D_mean20',\n",
       "       'ScorePcnt_D_mean20', 'Margin_D_mean8', 'Win_D_mean20',\n",
       "       'Margin_D_mean20'],\n",
       "      dtype='object')"
      ]
     },
     "execution_count": 10,
     "metadata": {},
     "output_type": "execute_result"
    }
   ],
   "source": [
    "X_test_boruta.columns"
   ]
  },
  {
   "cell_type": "code",
   "execution_count": 11,
   "metadata": {},
   "outputs": [],
   "source": [
    "param_set = [{'C':[0.1, 0.5, 1, 5, 10, 100, 1000], 'kernel': ['linear']},\n",
    "             {'C': [0.1, 0.5, 1, 5, 10, 100, 1000], 'gamma': [1, 0.1, 0.01, 0.001, 0.0001], 'kernel': ['rbf']}]\n",
    "score = 'neg_log_loss'"
   ]
  },
  {
   "cell_type": "code",
   "execution_count": 12,
   "metadata": {},
   "outputs": [],
   "source": [
    "SVC_clf = GridSearchCV(svm.SVC(probability = True),\n",
    "            param_grid = param_set,\n",
    "            scoring = score,\n",
    "            cv = 5,\n",
    "            verbose = 3)"
   ]
  },
  {
   "cell_type": "code",
   "execution_count": 15,
   "metadata": {},
   "outputs": [
    {
     "name": "stdout",
     "output_type": "stream",
     "text": [
      "Fitting 5 folds for each of 42 candidates, totalling 210 fits\n",
      "[CV] C=0.1, kernel=linear ............................................\n",
      "[CV] .. C=0.1, kernel=linear, score=-0.5671469048087304, total=   3.3s\n",
      "[CV] C=0.1, kernel=linear ............................................\n"
     ]
    },
    {
     "name": "stderr",
     "output_type": "stream",
     "text": [
      "[Parallel(n_jobs=1)]: Done   1 out of   1 | elapsed:    3.6s remaining:    0.0s\n"
     ]
    },
    {
     "name": "stdout",
     "output_type": "stream",
     "text": [
      "[CV] .. C=0.1, kernel=linear, score=-0.5805120043528206, total=   3.3s\n",
      "[CV] C=0.1, kernel=linear ............................................\n"
     ]
    },
    {
     "name": "stderr",
     "output_type": "stream",
     "text": [
      "[Parallel(n_jobs=1)]: Done   2 out of   2 | elapsed:    7.3s remaining:    0.0s\n"
     ]
    },
    {
     "name": "stdout",
     "output_type": "stream",
     "text": [
      "[CV] .. C=0.1, kernel=linear, score=-0.5845561338918306, total=   3.2s\n",
      "[CV] C=0.1, kernel=linear ............................................\n",
      "[CV] .. C=0.1, kernel=linear, score=-0.6031281038447518, total=   3.3s\n",
      "[CV] C=0.1, kernel=linear ............................................\n",
      "[CV] .. C=0.1, kernel=linear, score=-0.5599940098203887, total=   3.9s\n",
      "[CV] C=0.5, kernel=linear ............................................\n",
      "[CV] ... C=0.5, kernel=linear, score=-0.567474465037781, total=   4.8s\n",
      "[CV] C=0.5, kernel=linear ............................................\n",
      "[CV] .. C=0.5, kernel=linear, score=-0.5810411778657789, total=   4.9s\n",
      "[CV] C=0.5, kernel=linear ............................................\n",
      "[CV] .. C=0.5, kernel=linear, score=-0.5849159992597724, total=   4.8s\n",
      "[CV] C=0.5, kernel=linear ............................................\n",
      "[CV] .. C=0.5, kernel=linear, score=-0.6024518726060039, total=   6.8s\n",
      "[CV] C=0.5, kernel=linear ............................................\n",
      "[CV] .. C=0.5, kernel=linear, score=-0.5616078901998507, total=   5.4s\n",
      "[CV] C=1, kernel=linear ..............................................\n",
      "[CV] .... C=1, kernel=linear, score=-0.5673043665917288, total=   6.2s\n",
      "[CV] C=1, kernel=linear ..............................................\n",
      "[CV] .... C=1, kernel=linear, score=-0.5812751709398907, total=   6.1s\n",
      "[CV] C=1, kernel=linear ..............................................\n",
      "[CV] .... C=1, kernel=linear, score=-0.5845597105627878, total=   5.6s\n",
      "[CV] C=1, kernel=linear ..............................................\n",
      "[CV] .... C=1, kernel=linear, score=-0.6024063424703602, total=   5.9s\n",
      "[CV] C=1, kernel=linear ..............................................\n",
      "[CV] .... C=1, kernel=linear, score=-0.5624933088213367, total=   5.9s\n",
      "[CV] C=5, kernel=linear ..............................................\n",
      "[CV] .... C=5, kernel=linear, score=-0.5669512570255337, total=  14.7s\n",
      "[CV] C=5, kernel=linear ..............................................\n",
      "[CV] .... C=5, kernel=linear, score=-0.5809901682347566, total=  16.0s\n",
      "[CV] C=5, kernel=linear ..............................................\n",
      "[CV] .... C=5, kernel=linear, score=-0.5845679932501885, total=  13.6s\n",
      "[CV] C=5, kernel=linear ..............................................\n",
      "[CV] ..... C=5, kernel=linear, score=-0.602052033021166, total=  14.7s\n",
      "[CV] C=5, kernel=linear ..............................................\n",
      "[CV] .... C=5, kernel=linear, score=-0.5634853719885345, total=  14.6s\n",
      "[CV] C=10, kernel=linear .............................................\n",
      "[CV] ... C=10, kernel=linear, score=-0.5672274208633576, total=  23.3s\n",
      "[CV] C=10, kernel=linear .............................................\n",
      "[CV] ..... C=10, kernel=linear, score=-0.58115352560144, total=  22.5s\n",
      "[CV] C=10, kernel=linear .............................................\n",
      "[CV] ... C=10, kernel=linear, score=-0.5848048872819879, total=  21.2s\n",
      "[CV] C=10, kernel=linear .............................................\n",
      "[CV] ... C=10, kernel=linear, score=-0.6024149835260155, total=  23.2s\n",
      "[CV] C=10, kernel=linear .............................................\n",
      "[CV] ... C=10, kernel=linear, score=-0.5638846465689052, total=  23.8s\n",
      "[CV] C=100, kernel=linear ............................................\n",
      "[CV] .. C=100, kernel=linear, score=-0.5670727186516745, total= 2.5min\n",
      "[CV] C=100, kernel=linear ............................................\n",
      "[CV] .. C=100, kernel=linear, score=-0.5809826234981144, total= 2.6min\n",
      "[CV] C=100, kernel=linear ............................................\n",
      "[CV] .. C=100, kernel=linear, score=-0.5847024706880887, total= 2.4min\n",
      "[CV] C=100, kernel=linear ............................................\n",
      "[CV] .. C=100, kernel=linear, score=-0.6021550423215886, total= 2.6min\n",
      "[CV] C=100, kernel=linear ............................................\n",
      "[CV] .. C=100, kernel=linear, score=-0.5638234028045741, total= 2.5min\n",
      "[CV] C=1000, kernel=linear ...........................................\n",
      "[CV] . C=1000, kernel=linear, score=-0.5671139997434845, total=22.3min\n",
      "[CV] C=1000, kernel=linear ...........................................\n",
      "[CV] . C=1000, kernel=linear, score=-0.5807013513419274, total=22.2min\n",
      "[CV] C=1000, kernel=linear ...........................................\n",
      "[CV] . C=1000, kernel=linear, score=-0.5850360528810271, total=19.8min\n",
      "[CV] C=1000, kernel=linear ...........................................\n",
      "[CV] . C=1000, kernel=linear, score=-0.6020618326761209, total=21.8min\n",
      "[CV] C=1000, kernel=linear ...........................................\n",
      "[CV] . C=1000, kernel=linear, score=-0.5640389865029782, total=21.4min\n",
      "[CV] C=0.1, gamma=1, kernel=rbf ......................................\n",
      "[CV]  C=0.1, gamma=1, kernel=rbf, score=-0.6466741629550302, total=   5.7s\n",
      "[CV] C=0.1, gamma=1, kernel=rbf ......................................\n",
      "[CV]  C=0.1, gamma=1, kernel=rbf, score=-0.6878742060923166, total=   5.7s\n",
      "[CV] C=0.1, gamma=1, kernel=rbf ......................................\n",
      "[CV]  C=0.1, gamma=1, kernel=rbf, score=-0.6833819926432415, total=   5.7s\n",
      "[CV] C=0.1, gamma=1, kernel=rbf ......................................\n",
      "[CV]  C=0.1, gamma=1, kernel=rbf, score=-0.6871094968200867, total=   5.8s\n",
      "[CV] C=0.1, gamma=1, kernel=rbf ......................................\n",
      "[CV]  C=0.1, gamma=1, kernel=rbf, score=-0.6883814867718688, total=   5.8s\n",
      "[CV] C=0.1, gamma=0.1, kernel=rbf ....................................\n",
      "[CV]  C=0.1, gamma=0.1, kernel=rbf, score=-0.5988847650504999, total=   4.5s\n",
      "[CV] C=0.1, gamma=0.1, kernel=rbf ....................................\n",
      "[CV]  C=0.1, gamma=0.1, kernel=rbf, score=-0.6151059801664358, total=   4.5s\n",
      "[CV] C=0.1, gamma=0.1, kernel=rbf ....................................\n",
      "[CV]  C=0.1, gamma=0.1, kernel=rbf, score=-0.6144740401878879, total=   4.6s\n",
      "[CV] C=0.1, gamma=0.1, kernel=rbf ....................................\n",
      "[CV]  C=0.1, gamma=0.1, kernel=rbf, score=-0.6170715599747224, total=   4.5s\n",
      "[CV] C=0.1, gamma=0.1, kernel=rbf ....................................\n",
      "[CV]  C=0.1, gamma=0.1, kernel=rbf, score=-0.575242296478695, total=   4.5s\n",
      "[CV] C=0.1, gamma=0.01, kernel=rbf ...................................\n",
      "[CV]  C=0.1, gamma=0.01, kernel=rbf, score=-0.5779047827215753, total=   4.2s\n",
      "[CV] C=0.1, gamma=0.01, kernel=rbf ...................................\n",
      "[CV]  C=0.1, gamma=0.01, kernel=rbf, score=-0.5925339039442753, total=   4.2s\n",
      "[CV] C=0.1, gamma=0.01, kernel=rbf ...................................\n",
      "[CV]  C=0.1, gamma=0.01, kernel=rbf, score=-0.6010224287515633, total=   4.2s\n",
      "[CV] C=0.1, gamma=0.01, kernel=rbf ...................................\n",
      "[CV]  C=0.1, gamma=0.01, kernel=rbf, score=-0.6060884513027154, total=   4.1s\n",
      "[CV] C=0.1, gamma=0.01, kernel=rbf ...................................\n",
      "[CV]  C=0.1, gamma=0.01, kernel=rbf, score=-0.5610930848591131, total=   4.3s\n",
      "[CV] C=0.1, gamma=0.001, kernel=rbf ..................................\n",
      "[CV]  C=0.1, gamma=0.001, kernel=rbf, score=-0.5713343682484299, total=   4.7s\n",
      "[CV] C=0.1, gamma=0.001, kernel=rbf ..................................\n",
      "[CV]  C=0.1, gamma=0.001, kernel=rbf, score=-0.5862892605209467, total=   4.8s\n",
      "[CV] C=0.1, gamma=0.001, kernel=rbf ..................................\n",
      "[CV]  C=0.1, gamma=0.001, kernel=rbf, score=-0.6005829755409408, total=   4.7s\n",
      "[CV] C=0.1, gamma=0.001, kernel=rbf ..................................\n",
      "[CV]  C=0.1, gamma=0.001, kernel=rbf, score=-0.6102340510396127, total=   4.7s\n",
      "[CV] C=0.1, gamma=0.001, kernel=rbf ..................................\n",
      "[CV]  C=0.1, gamma=0.001, kernel=rbf, score=-0.5625666113686986, total=   4.7s\n",
      "[CV] C=0.1, gamma=0.0001, kernel=rbf .................................\n",
      "[CV]  C=0.1, gamma=0.0001, kernel=rbf, score=-0.6652791570805975, total=   5.3s\n",
      "[CV] C=0.1, gamma=0.0001, kernel=rbf .................................\n",
      "[CV]  C=0.1, gamma=0.0001, kernel=rbf, score=-0.6517188686981084, total=   5.4s\n",
      "[CV] C=0.1, gamma=0.0001, kernel=rbf .................................\n",
      "[CV]  C=0.1, gamma=0.0001, kernel=rbf, score=-0.6651871739755268, total=   5.5s\n",
      "[CV] C=0.1, gamma=0.0001, kernel=rbf .................................\n",
      "[CV]  C=0.1, gamma=0.0001, kernel=rbf, score=-0.6529052309524074, total=   5.4s\n",
      "[CV] C=0.1, gamma=0.0001, kernel=rbf .................................\n"
     ]
    },
    {
     "name": "stdout",
     "output_type": "stream",
     "text": [
      "[CV]  C=0.1, gamma=0.0001, kernel=rbf, score=-0.6501686289212846, total=   5.3s\n",
      "[CV] C=0.5, gamma=1, kernel=rbf ......................................\n",
      "[CV]  C=0.5, gamma=1, kernel=rbf, score=-0.6334740622909676, total=   6.0s\n",
      "[CV] C=0.5, gamma=1, kernel=rbf ......................................\n",
      "[CV]  C=0.5, gamma=1, kernel=rbf, score=-0.6433151945935597, total=   6.1s\n",
      "[CV] C=0.5, gamma=1, kernel=rbf ......................................\n",
      "[CV]  C=0.5, gamma=1, kernel=rbf, score=-0.6397553071299106, total=   6.0s\n",
      "[CV] C=0.5, gamma=1, kernel=rbf ......................................\n",
      "[CV]  C=0.5, gamma=1, kernel=rbf, score=-0.6500931765589034, total=   5.9s\n",
      "[CV] C=0.5, gamma=1, kernel=rbf ......................................\n",
      "[CV]  C=0.5, gamma=1, kernel=rbf, score=-0.6102643723316248, total=   5.9s\n",
      "[CV] C=0.5, gamma=0.1, kernel=rbf ....................................\n",
      "[CV]  C=0.5, gamma=0.1, kernel=rbf, score=-0.6016227274263316, total=   4.6s\n",
      "[CV] C=0.5, gamma=0.1, kernel=rbf ....................................\n",
      "[CV]  C=0.5, gamma=0.1, kernel=rbf, score=-0.6177719194584749, total=   4.7s\n",
      "[CV] C=0.5, gamma=0.1, kernel=rbf ....................................\n",
      "[CV]  C=0.5, gamma=0.1, kernel=rbf, score=-0.6141555448500104, total=   4.6s\n",
      "[CV] C=0.5, gamma=0.1, kernel=rbf ....................................\n",
      "[CV]  C=0.5, gamma=0.1, kernel=rbf, score=-0.6223391292417255, total=   4.6s\n",
      "[CV] C=0.5, gamma=0.1, kernel=rbf ....................................\n",
      "[CV]  C=0.5, gamma=0.1, kernel=rbf, score=-0.5822167533791158, total=   4.7s\n",
      "[CV] C=0.5, gamma=0.01, kernel=rbf ...................................\n",
      "[CV]  C=0.5, gamma=0.01, kernel=rbf, score=-0.5816447324530027, total=   4.1s\n",
      "[CV] C=0.5, gamma=0.01, kernel=rbf ...................................\n",
      "[CV]  C=0.5, gamma=0.01, kernel=rbf, score=-0.5964716884327801, total=   4.1s\n",
      "[CV] C=0.5, gamma=0.01, kernel=rbf ...................................\n",
      "[CV]  C=0.5, gamma=0.01, kernel=rbf, score=-0.600830106349281, total=   4.2s\n",
      "[CV] C=0.5, gamma=0.01, kernel=rbf ...................................\n",
      "[CV]  C=0.5, gamma=0.01, kernel=rbf, score=-0.6068041930925109, total=   4.0s\n",
      "[CV] C=0.5, gamma=0.01, kernel=rbf ...................................\n",
      "[CV]  C=0.5, gamma=0.01, kernel=rbf, score=-0.5631903126219948, total=   4.1s\n",
      "[CV] C=0.5, gamma=0.001, kernel=rbf ..................................\n",
      "[CV]  C=0.5, gamma=0.001, kernel=rbf, score=-0.5673027362183888, total=   4.2s\n",
      "[CV] C=0.5, gamma=0.001, kernel=rbf ..................................\n",
      "[CV]  C=0.5, gamma=0.001, kernel=rbf, score=-0.5824485677744518, total=   4.2s\n",
      "[CV] C=0.5, gamma=0.001, kernel=rbf ..................................\n",
      "[CV]  C=0.5, gamma=0.001, kernel=rbf, score=-0.5934388072517389, total=   4.2s\n",
      "[CV] C=0.5, gamma=0.001, kernel=rbf ..................................\n",
      "[CV]  C=0.5, gamma=0.001, kernel=rbf, score=-0.6069353597754619, total=   4.1s\n",
      "[CV] C=0.5, gamma=0.001, kernel=rbf ..................................\n",
      "[CV]  C=0.5, gamma=0.001, kernel=rbf, score=-0.5581510696288223, total=   4.2s\n",
      "[CV] C=0.5, gamma=0.0001, kernel=rbf .................................\n",
      "[CV]  C=0.5, gamma=0.0001, kernel=rbf, score=-0.571464237527248, total=   4.9s\n",
      "[CV] C=0.5, gamma=0.0001, kernel=rbf .................................\n",
      "[CV]  C=0.5, gamma=0.0001, kernel=rbf, score=-0.5875837076825382, total=   4.9s\n",
      "[CV] C=0.5, gamma=0.0001, kernel=rbf .................................\n",
      "[CV]  C=0.5, gamma=0.0001, kernel=rbf, score=-0.6021149386893054, total=   5.2s\n",
      "[CV] C=0.5, gamma=0.0001, kernel=rbf .................................\n",
      "[CV]  C=0.5, gamma=0.0001, kernel=rbf, score=-0.6122074781394202, total=   5.0s\n",
      "[CV] C=0.5, gamma=0.0001, kernel=rbf .................................\n",
      "[CV]  C=0.5, gamma=0.0001, kernel=rbf, score=-0.5632949832600499, total=   5.0s\n",
      "[CV] C=1, gamma=1, kernel=rbf ........................................\n",
      "[CV]  C=1, gamma=1, kernel=rbf, score=-0.6341684518237213, total=   6.6s\n",
      "[CV] C=1, gamma=1, kernel=rbf ........................................\n",
      "[CV]  C=1, gamma=1, kernel=rbf, score=-0.6451357896799944, total=   6.5s\n",
      "[CV] C=1, gamma=1, kernel=rbf ........................................\n",
      "[CV]  C=1, gamma=1, kernel=rbf, score=-0.6395321013366475, total=   6.5s\n",
      "[CV] C=1, gamma=1, kernel=rbf ........................................\n",
      "[CV]  C=1, gamma=1, kernel=rbf, score=-0.650818721598736, total=   6.6s\n",
      "[CV] C=1, gamma=1, kernel=rbf ........................................\n",
      "[CV]  C=1, gamma=1, kernel=rbf, score=-0.6089979320351975, total=   6.5s\n",
      "[CV] C=1, gamma=0.1, kernel=rbf ......................................\n",
      "[CV]  C=1, gamma=0.1, kernel=rbf, score=-0.6045754108648156, total=   4.9s\n",
      "[CV] C=1, gamma=0.1, kernel=rbf ......................................\n",
      "[CV]  C=1, gamma=0.1, kernel=rbf, score=-0.6202263155622343, total=   5.0s\n",
      "[CV] C=1, gamma=0.1, kernel=rbf ......................................\n",
      "[CV]  C=1, gamma=0.1, kernel=rbf, score=-0.615553741756954, total=   5.0s\n",
      "[CV] C=1, gamma=0.1, kernel=rbf ......................................\n",
      "[CV]  C=1, gamma=0.1, kernel=rbf, score=-0.6250041269449267, total=   4.9s\n",
      "[CV] C=1, gamma=0.1, kernel=rbf ......................................\n",
      "[CV]  C=1, gamma=0.1, kernel=rbf, score=-0.5861316271805777, total=   4.9s\n",
      "[CV] C=1, gamma=0.01, kernel=rbf .....................................\n",
      "[CV]  C=1, gamma=0.01, kernel=rbf, score=-0.5837258846258926, total=   4.0s\n",
      "[CV] C=1, gamma=0.01, kernel=rbf .....................................\n",
      "[CV]  C=1, gamma=0.01, kernel=rbf, score=-0.5987698957943168, total=   4.1s\n",
      "[CV] C=1, gamma=0.01, kernel=rbf .....................................\n",
      "[CV]  C=1, gamma=0.01, kernel=rbf, score=-0.6012959776845876, total=   4.0s\n",
      "[CV] C=1, gamma=0.01, kernel=rbf .....................................\n",
      "[CV]  C=1, gamma=0.01, kernel=rbf, score=-0.6082488423026509, total=   3.9s\n",
      "[CV] C=1, gamma=0.01, kernel=rbf .....................................\n",
      "[CV]  C=1, gamma=0.01, kernel=rbf, score=-0.565021769209768, total=   4.0s\n",
      "[CV] C=1, gamma=0.001, kernel=rbf ....................................\n",
      "[CV]  C=1, gamma=0.001, kernel=rbf, score=-0.56653352274888, total=   4.1s\n",
      "[CV] C=1, gamma=0.001, kernel=rbf ....................................\n",
      "[CV]  C=1, gamma=0.001, kernel=rbf, score=-0.5814061547537301, total=   4.0s\n",
      "[CV] C=1, gamma=0.001, kernel=rbf ....................................\n",
      "[CV]  C=1, gamma=0.001, kernel=rbf, score=-0.59061078789024, total=   4.1s\n",
      "[CV] C=1, gamma=0.001, kernel=rbf ....................................\n",
      "[CV]  C=1, gamma=0.001, kernel=rbf, score=-0.6059305718203611, total=   4.0s\n",
      "[CV] C=1, gamma=0.001, kernel=rbf ....................................\n",
      "[CV]  C=1, gamma=0.001, kernel=rbf, score=-0.5569992411940317, total=   4.1s\n",
      "[CV] C=1, gamma=0.0001, kernel=rbf ...................................\n",
      "[CV]  C=1, gamma=0.0001, kernel=rbf, score=-0.5707814086067637, total=   4.6s\n",
      "[CV] C=1, gamma=0.0001, kernel=rbf ...................................\n",
      "[CV]  C=1, gamma=0.0001, kernel=rbf, score=-0.586169240567368, total=   4.6s\n",
      "[CV] C=1, gamma=0.0001, kernel=rbf ...................................\n",
      "[CV]  C=1, gamma=0.0001, kernel=rbf, score=-0.6006885617525989, total=   4.6s\n",
      "[CV] C=1, gamma=0.0001, kernel=rbf ...................................\n",
      "[CV]  C=1, gamma=0.0001, kernel=rbf, score=-0.6106484079392849, total=   4.6s\n",
      "[CV] C=1, gamma=0.0001, kernel=rbf ...................................\n",
      "[CV]  C=1, gamma=0.0001, kernel=rbf, score=-0.5623274691072658, total=   4.6s\n",
      "[CV] C=5, gamma=1, kernel=rbf ........................................\n",
      "[CV]  C=5, gamma=1, kernel=rbf, score=-0.6534525168887916, total=   7.3s\n",
      "[CV] C=5, gamma=1, kernel=rbf ........................................\n",
      "[CV]  C=5, gamma=1, kernel=rbf, score=-0.653658800195211, total=   7.3s\n",
      "[CV] C=5, gamma=1, kernel=rbf ........................................\n",
      "[CV]  C=5, gamma=1, kernel=rbf, score=-0.656172380237582, total=   7.3s\n",
      "[CV] C=5, gamma=1, kernel=rbf ........................................\n",
      "[CV]  C=5, gamma=1, kernel=rbf, score=-0.6615942591945061, total=   7.4s\n",
      "[CV] C=5, gamma=1, kernel=rbf ........................................\n",
      "[CV]  C=5, gamma=1, kernel=rbf, score=-0.6336826829220917, total=   7.5s\n",
      "[CV] C=5, gamma=0.1, kernel=rbf ......................................\n"
     ]
    },
    {
     "name": "stdout",
     "output_type": "stream",
     "text": [
      "[CV]  C=5, gamma=0.1, kernel=rbf, score=-0.6133097501985788, total=   5.8s\n",
      "[CV] C=5, gamma=0.1, kernel=rbf ......................................\n",
      "[CV]  C=5, gamma=0.1, kernel=rbf, score=-0.6224804521980812, total=   5.8s\n",
      "[CV] C=5, gamma=0.1, kernel=rbf ......................................\n",
      "[CV]  C=5, gamma=0.1, kernel=rbf, score=-0.6213373997713973, total=   5.7s\n",
      "[CV] C=5, gamma=0.1, kernel=rbf ......................................\n",
      "[CV]  C=5, gamma=0.1, kernel=rbf, score=-0.6333081638634332, total=   5.6s\n",
      "[CV] C=5, gamma=0.1, kernel=rbf ......................................\n",
      "[CV]  C=5, gamma=0.1, kernel=rbf, score=-0.6044459831303535, total=   5.7s\n",
      "[CV] C=5, gamma=0.01, kernel=rbf .....................................\n",
      "[CV]  C=5, gamma=0.01, kernel=rbf, score=-0.5885978201648704, total=   4.5s\n",
      "[CV] C=5, gamma=0.01, kernel=rbf .....................................\n",
      "[CV]  C=5, gamma=0.01, kernel=rbf, score=-0.6052684322245223, total=   4.5s\n",
      "[CV] C=5, gamma=0.01, kernel=rbf .....................................\n",
      "[CV]  C=5, gamma=0.01, kernel=rbf, score=-0.6046878170897855, total=   4.4s\n",
      "[CV] C=5, gamma=0.01, kernel=rbf .....................................\n",
      "[CV]  C=5, gamma=0.01, kernel=rbf, score=-0.6121099967852899, total=   4.3s\n",
      "[CV] C=5, gamma=0.01, kernel=rbf .....................................\n",
      "[CV]  C=5, gamma=0.01, kernel=rbf, score=-0.5716578978514246, total=   4.4s\n",
      "[CV] C=5, gamma=0.001, kernel=rbf ....................................\n",
      "[CV]  C=5, gamma=0.001, kernel=rbf, score=-0.5679397269898016, total=   4.1s\n",
      "[CV] C=5, gamma=0.001, kernel=rbf ....................................\n",
      "[CV]  C=5, gamma=0.001, kernel=rbf, score=-0.580902860228204, total=   4.0s\n",
      "[CV] C=5, gamma=0.001, kernel=rbf ....................................\n",
      "[CV]  C=5, gamma=0.001, kernel=rbf, score=-0.5868625729219932, total=   3.9s\n",
      "[CV] C=5, gamma=0.001, kernel=rbf ....................................\n",
      "[CV]  C=5, gamma=0.001, kernel=rbf, score=-0.6039987523445137, total=   4.0s\n",
      "[CV] C=5, gamma=0.001, kernel=rbf ....................................\n",
      "[CV]  C=5, gamma=0.001, kernel=rbf, score=-0.5574997342160265, total=   4.0s\n",
      "[CV] C=5, gamma=0.0001, kernel=rbf ...................................\n",
      "[CV]  C=5, gamma=0.0001, kernel=rbf, score=-0.5665629190960586, total=   4.2s\n",
      "[CV] C=5, gamma=0.0001, kernel=rbf ...................................\n",
      "[CV]  C=5, gamma=0.0001, kernel=rbf, score=-0.5822221481658587, total=   4.2s\n",
      "[CV] C=5, gamma=0.0001, kernel=rbf ...................................\n",
      "[CV]  C=5, gamma=0.0001, kernel=rbf, score=-0.5931132375714904, total=   4.2s\n",
      "[CV] C=5, gamma=0.0001, kernel=rbf ...................................\n",
      "[CV]  C=5, gamma=0.0001, kernel=rbf, score=-0.6072988122807013, total=   4.2s\n",
      "[CV] C=5, gamma=0.0001, kernel=rbf ...................................\n",
      "[CV]  C=5, gamma=0.0001, kernel=rbf, score=-0.5581657121096266, total=   4.5s\n",
      "[CV] C=10, gamma=1, kernel=rbf .......................................\n",
      "[CV]  C=10, gamma=1, kernel=rbf, score=-0.6539452796166412, total=   7.3s\n",
      "[CV] C=10, gamma=1, kernel=rbf .......................................\n",
      "[CV]  C=10, gamma=1, kernel=rbf, score=-0.6558858823135585, total=   7.4s\n",
      "[CV] C=10, gamma=1, kernel=rbf .......................................\n",
      "[CV]  C=10, gamma=1, kernel=rbf, score=-0.6586230873347331, total=   7.3s\n",
      "[CV] C=10, gamma=1, kernel=rbf .......................................\n",
      "[CV]  C=10, gamma=1, kernel=rbf, score=-0.6609720241372652, total=   7.4s\n",
      "[CV] C=10, gamma=1, kernel=rbf .......................................\n",
      "[CV]  C=10, gamma=1, kernel=rbf, score=-0.6381926886056851, total=   7.3s\n",
      "[CV] C=10, gamma=0.1, kernel=rbf .....................................\n",
      "[CV]  C=10, gamma=0.1, kernel=rbf, score=-0.6221792371604017, total=   6.7s\n",
      "[CV] C=10, gamma=0.1, kernel=rbf .....................................\n",
      "[CV]  C=10, gamma=0.1, kernel=rbf, score=-0.6262107221744995, total=   6.7s\n",
      "[CV] C=10, gamma=0.1, kernel=rbf .....................................\n",
      "[CV]  C=10, gamma=0.1, kernel=rbf, score=-0.6295785312654183, total=   6.4s\n",
      "[CV] C=10, gamma=0.1, kernel=rbf .....................................\n",
      "[CV]  C=10, gamma=0.1, kernel=rbf, score=-0.6366214745233982, total=   6.6s\n",
      "[CV] C=10, gamma=0.1, kernel=rbf .....................................\n",
      "[CV]  C=10, gamma=0.1, kernel=rbf, score=-0.6168008914005356, total=   6.5s\n",
      "[CV] C=10, gamma=0.01, kernel=rbf ....................................\n",
      "[CV]  C=10, gamma=0.01, kernel=rbf, score=-0.5916309335589766, total=   4.7s\n",
      "[CV] C=10, gamma=0.01, kernel=rbf ....................................\n",
      "[CV]  C=10, gamma=0.01, kernel=rbf, score=-0.6068981309491366, total=   4.7s\n",
      "[CV] C=10, gamma=0.01, kernel=rbf ....................................\n",
      "[CV]  C=10, gamma=0.01, kernel=rbf, score=-0.6066273245394955, total=   4.7s\n",
      "[CV] C=10, gamma=0.01, kernel=rbf ....................................\n",
      "[CV]  C=10, gamma=0.01, kernel=rbf, score=-0.6134749758553251, total=   4.6s\n",
      "[CV] C=10, gamma=0.01, kernel=rbf ....................................\n",
      "[CV]  C=10, gamma=0.01, kernel=rbf, score=-0.5746579612169754, total=   4.8s\n",
      "[CV] C=10, gamma=0.001, kernel=rbf ...................................\n",
      "[CV]  C=10, gamma=0.001, kernel=rbf, score=-0.5687233110396183, total=   4.2s\n",
      "[CV] C=10, gamma=0.001, kernel=rbf ...................................\n",
      "[CV]  C=10, gamma=0.001, kernel=rbf, score=-0.5816925781751753, total=   4.2s\n",
      "[CV] C=10, gamma=0.001, kernel=rbf ...................................\n",
      "[CV]  C=10, gamma=0.001, kernel=rbf, score=-0.5862834697083931, total=   4.2s\n",
      "[CV] C=10, gamma=0.001, kernel=rbf ...................................\n",
      "[CV]  C=10, gamma=0.001, kernel=rbf, score=-0.6037276954393888, total=   4.1s\n",
      "[CV] C=10, gamma=0.001, kernel=rbf ...................................\n",
      "[CV]  C=10, gamma=0.001, kernel=rbf, score=-0.5586599275403715, total=   4.1s\n",
      "[CV] C=10, gamma=0.0001, kernel=rbf ..................................\n",
      "[CV]  C=10, gamma=0.0001, kernel=rbf, score=-0.5657200021139388, total=   4.2s\n",
      "[CV] C=10, gamma=0.0001, kernel=rbf ..................................\n",
      "[CV]  C=10, gamma=0.0001, kernel=rbf, score=-0.5809869144050555, total=   4.1s\n",
      "[CV] C=10, gamma=0.0001, kernel=rbf ..................................\n",
      "[CV]  C=10, gamma=0.0001, kernel=rbf, score=-0.5899171109267394, total=   4.0s\n",
      "[CV] C=10, gamma=0.0001, kernel=rbf ..................................\n",
      "[CV]  C=10, gamma=0.0001, kernel=rbf, score=-0.606078915547724, total=   4.1s\n",
      "[CV] C=10, gamma=0.0001, kernel=rbf ..................................\n",
      "[CV]  C=10, gamma=0.0001, kernel=rbf, score=-0.5571188377371888, total=   4.1s\n",
      "[CV] C=100, gamma=1, kernel=rbf ......................................\n",
      "[CV]  C=100, gamma=1, kernel=rbf, score=-0.653832091065966, total=   7.2s\n",
      "[CV] C=100, gamma=1, kernel=rbf ......................................\n",
      "[CV]  C=100, gamma=1, kernel=rbf, score=-0.6566630494298356, total=   7.2s\n",
      "[CV] C=100, gamma=1, kernel=rbf ......................................\n",
      "[CV]  C=100, gamma=1, kernel=rbf, score=-0.6593720791616101, total=   7.2s\n",
      "[CV] C=100, gamma=1, kernel=rbf ......................................\n",
      "[CV]  C=100, gamma=1, kernel=rbf, score=-0.6636379715280722, total=   7.2s\n",
      "[CV] C=100, gamma=1, kernel=rbf ......................................\n",
      "[CV]  C=100, gamma=1, kernel=rbf, score=-0.6387579291009793, total=   7.3s\n",
      "[CV] C=100, gamma=0.1, kernel=rbf ....................................\n",
      "[CV]  C=100, gamma=0.1, kernel=rbf, score=-0.650685087389719, total=  21.0s\n",
      "[CV] C=100, gamma=0.1, kernel=rbf ....................................\n",
      "[CV]  C=100, gamma=0.1, kernel=rbf, score=-0.6505780348176171, total=  20.5s\n",
      "[CV] C=100, gamma=0.1, kernel=rbf ....................................\n",
      "[CV]  C=100, gamma=0.1, kernel=rbf, score=-0.6597321973282158, total=  19.4s\n",
      "[CV] C=100, gamma=0.1, kernel=rbf ....................................\n",
      "[CV]  C=100, gamma=0.1, kernel=rbf, score=-0.6643854272900807, total=  19.2s\n",
      "[CV] C=100, gamma=0.1, kernel=rbf ....................................\n",
      "[CV]  C=100, gamma=0.1, kernel=rbf, score=-0.6501806424699746, total=  20.3s\n",
      "[CV] C=100, gamma=0.01, kernel=rbf ...................................\n",
      "[CV]  C=100, gamma=0.01, kernel=rbf, score=-0.5980014726596236, total=   9.1s\n",
      "[CV] C=100, gamma=0.01, kernel=rbf ...................................\n"
     ]
    },
    {
     "name": "stdout",
     "output_type": "stream",
     "text": [
      "[CV]  C=100, gamma=0.01, kernel=rbf, score=-0.6075267394066441, total=   8.2s\n",
      "[CV] C=100, gamma=0.01, kernel=rbf ...................................\n",
      "[CV]  C=100, gamma=0.01, kernel=rbf, score=-0.6102017138135084, total=   8.5s\n",
      "[CV] C=100, gamma=0.01, kernel=rbf ...................................\n",
      "[CV]  C=100, gamma=0.01, kernel=rbf, score=-0.616881604484877, total=   8.1s\n",
      "[CV] C=100, gamma=0.01, kernel=rbf ...................................\n",
      "[CV]  C=100, gamma=0.01, kernel=rbf, score=-0.5839968270275894, total=   8.2s\n",
      "[CV] C=100, gamma=0.001, kernel=rbf ..................................\n",
      "[CV]  C=100, gamma=0.001, kernel=rbf, score=-0.5743100641155181, total=   4.6s\n",
      "[CV] C=100, gamma=0.001, kernel=rbf ..................................\n",
      "[CV]  C=100, gamma=0.001, kernel=rbf, score=-0.5891834505819266, total=   4.6s\n",
      "[CV] C=100, gamma=0.001, kernel=rbf ..................................\n",
      "[CV]  C=100, gamma=0.001, kernel=rbf, score=-0.5912666441701852, total=   4.6s\n",
      "[CV] C=100, gamma=0.001, kernel=rbf ..................................\n",
      "[CV]  C=100, gamma=0.001, kernel=rbf, score=-0.6043137122371401, total=   4.6s\n",
      "[CV] C=100, gamma=0.001, kernel=rbf ..................................\n",
      "[CV]  C=100, gamma=0.001, kernel=rbf, score=-0.5634080330762645, total=   4.6s\n",
      "[CV] C=100, gamma=0.0001, kernel=rbf .................................\n",
      "[CV]  C=100, gamma=0.0001, kernel=rbf, score=-0.5673545492380864, total=   4.5s\n",
      "[CV] C=100, gamma=0.0001, kernel=rbf .................................\n",
      "[CV]  C=100, gamma=0.0001, kernel=rbf, score=-0.5793473991790115, total=   4.1s\n",
      "[CV] C=100, gamma=0.0001, kernel=rbf .................................\n",
      "[CV]  C=100, gamma=0.0001, kernel=rbf, score=-0.5853880991146113, total=   4.2s\n",
      "[CV] C=100, gamma=0.0001, kernel=rbf .................................\n",
      "[CV]  C=100, gamma=0.0001, kernel=rbf, score=-0.6038790071703911, total=   4.2s\n",
      "[CV] C=100, gamma=0.0001, kernel=rbf .................................\n",
      "[CV]  C=100, gamma=0.0001, kernel=rbf, score=-0.5586236943896759, total=   4.3s\n",
      "[CV] C=1000, gamma=1, kernel=rbf .....................................\n",
      "[CV]  C=1000, gamma=1, kernel=rbf, score=-0.6539116003466349, total=   7.4s\n",
      "[CV] C=1000, gamma=1, kernel=rbf .....................................\n",
      "[CV]  C=1000, gamma=1, kernel=rbf, score=-0.6564329375062982, total=   7.3s\n",
      "[CV] C=1000, gamma=1, kernel=rbf .....................................\n",
      "[CV]  C=1000, gamma=1, kernel=rbf, score=-0.6597956601471787, total=   7.2s\n",
      "[CV] C=1000, gamma=1, kernel=rbf .....................................\n",
      "[CV]  C=1000, gamma=1, kernel=rbf, score=-0.662098893470334, total=   7.2s\n",
      "[CV] C=1000, gamma=1, kernel=rbf .....................................\n",
      "[CV]  C=1000, gamma=1, kernel=rbf, score=-0.638670006726321, total=   7.3s\n",
      "[CV] C=1000, gamma=0.1, kernel=rbf ...................................\n",
      "[CV]  C=1000, gamma=0.1, kernel=rbf, score=-0.6593053511576976, total= 1.2min\n",
      "[CV] C=1000, gamma=0.1, kernel=rbf ...................................\n",
      "[CV]  C=1000, gamma=0.1, kernel=rbf, score=-0.6532854736314831, total= 1.1min\n",
      "[CV] C=1000, gamma=0.1, kernel=rbf ...................................\n",
      "[CV]  C=1000, gamma=0.1, kernel=rbf, score=-0.6605157538314467, total= 1.2min\n",
      "[CV] C=1000, gamma=0.1, kernel=rbf ...................................\n",
      "[CV]  C=1000, gamma=0.1, kernel=rbf, score=-0.6735997056793853, total= 1.1min\n",
      "[CV] C=1000, gamma=0.1, kernel=rbf ...................................\n",
      "[CV]  C=1000, gamma=0.1, kernel=rbf, score=-0.6567046922223744, total= 1.2min\n",
      "[CV] C=1000, gamma=0.01, kernel=rbf ..................................\n",
      "[CV]  C=1000, gamma=0.01, kernel=rbf, score=-0.6097270153106911, total=  31.0s\n",
      "[CV] C=1000, gamma=0.01, kernel=rbf ..................................\n",
      "[CV]  C=1000, gamma=0.01, kernel=rbf, score=-0.6102660749417896, total=  29.6s\n",
      "[CV] C=1000, gamma=0.01, kernel=rbf ..................................\n",
      "[CV]  C=1000, gamma=0.01, kernel=rbf, score=-0.6181809405888288, total=  28.3s\n",
      "[CV] C=1000, gamma=0.01, kernel=rbf ..................................\n",
      "[CV]  C=1000, gamma=0.01, kernel=rbf, score=-0.6260612342264058, total=  28.8s\n",
      "[CV] C=1000, gamma=0.01, kernel=rbf ..................................\n",
      "[CV]  C=1000, gamma=0.01, kernel=rbf, score=-0.6093047179991871, total=  30.0s\n",
      "[CV] C=1000, gamma=0.001, kernel=rbf .................................\n",
      "[CV]  C=1000, gamma=0.001, kernel=rbf, score=-0.5811868961298465, total=   8.2s\n",
      "[CV] C=1000, gamma=0.001, kernel=rbf .................................\n",
      "[CV]  C=1000, gamma=0.001, kernel=rbf, score=-0.6009926850944913, total=   8.3s\n",
      "[CV] C=1000, gamma=0.001, kernel=rbf .................................\n",
      "[CV]  C=1000, gamma=0.001, kernel=rbf, score=-0.5985759407431049, total=   8.4s\n",
      "[CV] C=1000, gamma=0.001, kernel=rbf .................................\n",
      "[CV]  C=1000, gamma=0.001, kernel=rbf, score=-0.6096435350869955, total=   8.5s\n",
      "[CV] C=1000, gamma=0.001, kernel=rbf .................................\n",
      "[CV]  C=1000, gamma=0.001, kernel=rbf, score=-0.5737629162042392, total=   8.6s\n",
      "[CV] C=1000, gamma=0.0001, kernel=rbf ................................\n",
      "[CV]  C=1000, gamma=0.0001, kernel=rbf, score=-0.568025489782692, total=   4.7s\n",
      "[CV] C=1000, gamma=0.0001, kernel=rbf ................................\n",
      "[CV]  C=1000, gamma=0.0001, kernel=rbf, score=-0.5823585791339744, total=   4.7s\n",
      "[CV] C=1000, gamma=0.0001, kernel=rbf ................................\n",
      "[CV]  C=1000, gamma=0.0001, kernel=rbf, score=-0.5853309083724274, total=   4.5s\n",
      "[CV] C=1000, gamma=0.0001, kernel=rbf ................................\n",
      "[CV]  C=1000, gamma=0.0001, kernel=rbf, score=-0.6033118523727826, total=   4.5s\n",
      "[CV] C=1000, gamma=0.0001, kernel=rbf ................................\n",
      "[CV]  C=1000, gamma=0.0001, kernel=rbf, score=-0.5613252720019647, total=   4.7s\n"
     ]
    },
    {
     "name": "stderr",
     "output_type": "stream",
     "text": [
      "[Parallel(n_jobs=1)]: Done 210 out of 210 | elapsed: 150.9min finished\n"
     ]
    },
    {
     "data": {
      "text/plain": [
       "GridSearchCV(cv=5, error_score='raise',\n",
       "       estimator=SVC(C=1.0, cache_size=200, class_weight=None, coef0=0.0,\n",
       "  decision_function_shape='ovr', degree=3, gamma='auto', kernel='rbf',\n",
       "  max_iter=-1, probability=True, random_state=None, shrinking=True,\n",
       "  tol=0.001, verbose=False),\n",
       "       fit_params=None, iid=True, n_jobs=1,\n",
       "       param_grid=[{'C': [0.1, 0.5, 1, 5, 10, 100, 1000], 'kernel': ['linear']}, {'C': [0.1, 0.5, 1, 5, 10, 100, 1000], 'gamma': [1, 0.1, 0.01, 0.001, 0.0001], 'kernel': ['rbf']}],\n",
       "       pre_dispatch='2*n_jobs', refit=True, return_train_score='warn',\n",
       "       scoring='neg_log_loss', verbose=3)"
      ]
     },
     "execution_count": 15,
     "metadata": {},
     "output_type": "execute_result"
    }
   ],
   "source": [
    "SVC_clf.fit(X_train_boruta, Y_train, sample_weight = sample_weights.values)"
   ]
  },
  {
   "cell_type": "code",
   "execution_count": 16,
   "metadata": {},
   "outputs": [
    {
     "data": {
      "text/plain": [
       "0.7448979591836735"
      ]
     },
     "execution_count": 16,
     "metadata": {},
     "output_type": "execute_result"
    }
   ],
   "source": [
    "Y_test_predictions = SVC_clf.predict(X_test_boruta)\n",
    "Y_test_probabilities = SVC_clf.predict_proba(X_test_boruta)\n",
    "Y_test_predictions = pd.DataFrame(Y_test_predictions, index = Y_test.index, columns = ['predict'])\n",
    "Y_test_probabilities = pd.DataFrame(Y_test_probabilities, index = Y_test.index)\n",
    "Y_test_outcomes = Y_test_probabilities.join(Y_test_predictions)\n",
    "Y_test_outcomes = Y_test_outcomes.join(Y_test)\n",
    "s = abs(Y_test_outcomes.iloc[0:,2] - Y_test_outcomes.iloc[0:,3])\n",
    "1 - sum(s)/len(s)"
   ]
  },
  {
   "cell_type": "code",
   "execution_count": 17,
   "metadata": {},
   "outputs": [
    {
     "data": {
      "text/plain": [
       "SVC(C=100, cache_size=200, class_weight=None, coef0=0.0,\n",
       "  decision_function_shape='ovr', degree=3, gamma=0.0001, kernel='rbf',\n",
       "  max_iter=-1, probability=True, random_state=None, shrinking=True,\n",
       "  tol=0.001, verbose=False)"
      ]
     },
     "execution_count": 17,
     "metadata": {},
     "output_type": "execute_result"
    }
   ],
   "source": [
    "SVC_clf.best_estimator_"
   ]
  },
  {
   "cell_type": "code",
   "execution_count": 18,
   "metadata": {},
   "outputs": [],
   "source": [
    "Y_test_outcomes.loc[Y_test_outcomes.predict == Y_test_outcomes.Win,'score'] = Y_test_outcomes[Y_test_outcomes.predict == Y_test_outcomes.Win].iloc[0:,0:2].max(axis = 1).values"
   ]
  },
  {
   "cell_type": "code",
   "execution_count": 19,
   "metadata": {},
   "outputs": [],
   "source": [
    "Y_test_outcomes.loc[~(Y_test_outcomes.predict == Y_test_outcomes.Win),'score'] = Y_test_outcomes[~(Y_test_outcomes.predict == Y_test_outcomes.Win)].iloc[0:,0:2].min(axis = 1).values"
   ]
  },
  {
   "cell_type": "code",
   "execution_count": 20,
   "metadata": {},
   "outputs": [
    {
     "data": {
      "text/plain": [
       "41.451496240768556"
      ]
     },
     "execution_count": 20,
     "metadata": {},
     "output_type": "execute_result"
    }
   ],
   "source": [
    "sum(1 + np.log2(Y_test_outcomes['score'])) / len(Y_test_outcomes['score']) * 207"
   ]
  },
  {
   "cell_type": "code",
   "execution_count": 21,
   "metadata": {},
   "outputs": [
    {
     "name": "stderr",
     "output_type": "stream",
     "text": [
      "C:\\Users\\Brian\\Anaconda3\\lib\\site-packages\\sklearn\\utils\\deprecation.py:122: FutureWarning: You are accessing a training score ('split0_train_score'), which will not be available by default any more in 0.21. If you need training scores, please set return_train_score=True\n",
      "  warnings.warn(*warn_args, **warn_kwargs)\n",
      "C:\\Users\\Brian\\Anaconda3\\lib\\site-packages\\sklearn\\utils\\deprecation.py:122: FutureWarning: You are accessing a training score ('split1_train_score'), which will not be available by default any more in 0.21. If you need training scores, please set return_train_score=True\n",
      "  warnings.warn(*warn_args, **warn_kwargs)\n",
      "C:\\Users\\Brian\\Anaconda3\\lib\\site-packages\\sklearn\\utils\\deprecation.py:122: FutureWarning: You are accessing a training score ('split2_train_score'), which will not be available by default any more in 0.21. If you need training scores, please set return_train_score=True\n",
      "  warnings.warn(*warn_args, **warn_kwargs)\n",
      "C:\\Users\\Brian\\Anaconda3\\lib\\site-packages\\sklearn\\utils\\deprecation.py:122: FutureWarning: You are accessing a training score ('split3_train_score'), which will not be available by default any more in 0.21. If you need training scores, please set return_train_score=True\n",
      "  warnings.warn(*warn_args, **warn_kwargs)\n",
      "C:\\Users\\Brian\\Anaconda3\\lib\\site-packages\\sklearn\\utils\\deprecation.py:122: FutureWarning: You are accessing a training score ('split4_train_score'), which will not be available by default any more in 0.21. If you need training scores, please set return_train_score=True\n",
      "  warnings.warn(*warn_args, **warn_kwargs)\n",
      "C:\\Users\\Brian\\Anaconda3\\lib\\site-packages\\sklearn\\utils\\deprecation.py:122: FutureWarning: You are accessing a training score ('mean_train_score'), which will not be available by default any more in 0.21. If you need training scores, please set return_train_score=True\n",
      "  warnings.warn(*warn_args, **warn_kwargs)\n",
      "C:\\Users\\Brian\\Anaconda3\\lib\\site-packages\\sklearn\\utils\\deprecation.py:122: FutureWarning: You are accessing a training score ('std_train_score'), which will not be available by default any more in 0.21. If you need training scores, please set return_train_score=True\n",
      "  warnings.warn(*warn_args, **warn_kwargs)\n"
     ]
    },
    {
     "data": {
      "text/plain": [
       "{'mean_fit_time': array([   3.42483983,    5.34827113,    5.98600702,   14.75511832,\n",
       "          22.81977963,  151.84783883, 1289.64745593,    5.63028479,\n",
       "           4.45775995,    4.15511451,    4.63241515,    5.27696791,\n",
       "           5.87544513,    4.60417342,    4.05156069,    4.11765985,\n",
       "           4.92544975,    6.44087558,    4.89780765,    3.976651  ,\n",
       "           4.0102994 ,    4.5398809 ,    7.25948162,    5.66133051,\n",
       "           4.3455946 ,    3.9602273 ,    4.19897885,    7.24606123,\n",
       "           6.50256691,    4.68409448,    4.09302244,    4.07018948,\n",
       "           7.12788711,   20.04749894,    8.38133044,    4.55069742,\n",
       "           4.2031846 ,    7.1919816 ,   69.92709446,   29.51202683,\n",
       "           8.35188947,    4.5613121 ]),\n",
       " 'std_fit_time': array([2.42558706e-01, 7.56549251e-01, 2.04476611e-01, 7.56957834e-01,\n",
       "        9.25040830e-01, 4.86195181e+00, 5.48008755e+01, 2.99966634e-02,\n",
       "        4.90280147e-02, 6.38167170e-02, 3.88722629e-02, 4.69787650e-02,\n",
       "        7.41845161e-02, 1.78319107e-02, 6.23460824e-02, 4.82806885e-02,\n",
       "        8.74421316e-02, 4.50274638e-02, 4.78633295e-02, 5.64440714e-02,\n",
       "        3.04004426e-02, 3.72754170e-02, 7.64488803e-02, 8.21083428e-02,\n",
       "        7.93214995e-02, 4.38544987e-02, 1.39846965e-01, 5.89072384e-02,\n",
       "        1.16325615e-01, 4.49325075e-02, 4.73854543e-02, 7.75280826e-02,\n",
       "        2.88482563e-02, 6.68303002e-01, 3.53120941e-01, 2.34353970e-02,\n",
       "        1.32593255e-01, 7.14600642e-02, 2.71235691e+00, 9.62700465e-01,\n",
       "        1.48499298e-01, 7.84827409e-02]),\n",
       " 'mean_score_time': array([0.0699028 , 0.0827188 , 0.06829987, 0.068294  , 0.0678987 ,\n",
       "        0.06789761, 0.07170677, 0.19789181, 0.14401174, 0.14100637,\n",
       "        0.16544337, 0.202495  , 0.19168286, 0.14020758, 0.13479915,\n",
       "        0.14621353, 0.17765884, 0.19268451, 0.14140782, 0.13459845,\n",
       "        0.14140882, 0.16043663, 0.18927903, 0.14100809, 0.13459697,\n",
       "        0.13840275, 0.14421244, 0.18847709, 0.143613  , 0.133393  ,\n",
       "        0.1370007 , 0.14200759, 0.19348426, 0.1343976 , 0.13560033,\n",
       "        0.13720098, 0.13780317, 0.19288554, 0.1193758 , 0.13659978,\n",
       "        0.13459892, 0.13579817]),\n",
       " 'std_score_time': array([0.00331638, 0.01619054, 0.00204258, 0.00194011, 0.00147058,\n",
       "        0.00231848, 0.00520838, 0.00307641, 0.00366175, 0.0019401 ,\n",
       "        0.00445144, 0.007816  , 0.00383331, 0.0046557 , 0.00196175,\n",
       "        0.00374924, 0.01144571, 0.0045939 , 0.00426581, 0.00242057,\n",
       "        0.00331496, 0.00194227, 0.00296982, 0.00331628, 0.00280383,\n",
       "        0.00387383, 0.00228395, 0.00240421, 0.0049349 , 0.00203955,\n",
       "        0.00204454, 0.00355007, 0.00172295, 0.00376794, 0.00102096,\n",
       "        0.00341363, 0.00185796, 0.00432353, 0.00440534, 0.00344638,\n",
       "        0.0038329 , 0.00314057]),\n",
       " 'param_C': masked_array(data=[0.1, 0.5, 1, 5, 10, 100, 1000, 0.1, 0.1, 0.1, 0.1, 0.1,\n",
       "                    0.5, 0.5, 0.5, 0.5, 0.5, 1, 1, 1, 1, 1, 5, 5, 5, 5, 5,\n",
       "                    10, 10, 10, 10, 10, 100, 100, 100, 100, 100, 1000,\n",
       "                    1000, 1000, 1000, 1000],\n",
       "              mask=[False, False, False, False, False, False, False, False,\n",
       "                    False, False, False, False, False, False, False, False,\n",
       "                    False, False, False, False, False, False, False, False,\n",
       "                    False, False, False, False, False, False, False, False,\n",
       "                    False, False, False, False, False, False, False, False,\n",
       "                    False, False],\n",
       "        fill_value='?',\n",
       "             dtype=object),\n",
       " 'param_kernel': masked_array(data=['linear', 'linear', 'linear', 'linear', 'linear',\n",
       "                    'linear', 'linear', 'rbf', 'rbf', 'rbf', 'rbf', 'rbf',\n",
       "                    'rbf', 'rbf', 'rbf', 'rbf', 'rbf', 'rbf', 'rbf', 'rbf',\n",
       "                    'rbf', 'rbf', 'rbf', 'rbf', 'rbf', 'rbf', 'rbf', 'rbf',\n",
       "                    'rbf', 'rbf', 'rbf', 'rbf', 'rbf', 'rbf', 'rbf', 'rbf',\n",
       "                    'rbf', 'rbf', 'rbf', 'rbf', 'rbf', 'rbf'],\n",
       "              mask=[False, False, False, False, False, False, False, False,\n",
       "                    False, False, False, False, False, False, False, False,\n",
       "                    False, False, False, False, False, False, False, False,\n",
       "                    False, False, False, False, False, False, False, False,\n",
       "                    False, False, False, False, False, False, False, False,\n",
       "                    False, False],\n",
       "        fill_value='?',\n",
       "             dtype=object),\n",
       " 'param_gamma': masked_array(data=[--, --, --, --, --, --, --, 1, 0.1, 0.01, 0.001,\n",
       "                    0.0001, 1, 0.1, 0.01, 0.001, 0.0001, 1, 0.1, 0.01,\n",
       "                    0.001, 0.0001, 1, 0.1, 0.01, 0.001, 0.0001, 1, 0.1,\n",
       "                    0.01, 0.001, 0.0001, 1, 0.1, 0.01, 0.001, 0.0001, 1,\n",
       "                    0.1, 0.01, 0.001, 0.0001],\n",
       "              mask=[ True,  True,  True,  True,  True,  True,  True, False,\n",
       "                    False, False, False, False, False, False, False, False,\n",
       "                    False, False, False, False, False, False, False, False,\n",
       "                    False, False, False, False, False, False, False, False,\n",
       "                    False, False, False, False, False, False, False, False,\n",
       "                    False, False],\n",
       "        fill_value='?',\n",
       "             dtype=object),\n",
       " 'params': [{'C': 0.1, 'kernel': 'linear'},\n",
       "  {'C': 0.5, 'kernel': 'linear'},\n",
       "  {'C': 1, 'kernel': 'linear'},\n",
       "  {'C': 5, 'kernel': 'linear'},\n",
       "  {'C': 10, 'kernel': 'linear'},\n",
       "  {'C': 100, 'kernel': 'linear'},\n",
       "  {'C': 1000, 'kernel': 'linear'},\n",
       "  {'C': 0.1, 'gamma': 1, 'kernel': 'rbf'},\n",
       "  {'C': 0.1, 'gamma': 0.1, 'kernel': 'rbf'},\n",
       "  {'C': 0.1, 'gamma': 0.01, 'kernel': 'rbf'},\n",
       "  {'C': 0.1, 'gamma': 0.001, 'kernel': 'rbf'},\n",
       "  {'C': 0.1, 'gamma': 0.0001, 'kernel': 'rbf'},\n",
       "  {'C': 0.5, 'gamma': 1, 'kernel': 'rbf'},\n",
       "  {'C': 0.5, 'gamma': 0.1, 'kernel': 'rbf'},\n",
       "  {'C': 0.5, 'gamma': 0.01, 'kernel': 'rbf'},\n",
       "  {'C': 0.5, 'gamma': 0.001, 'kernel': 'rbf'},\n",
       "  {'C': 0.5, 'gamma': 0.0001, 'kernel': 'rbf'},\n",
       "  {'C': 1, 'gamma': 1, 'kernel': 'rbf'},\n",
       "  {'C': 1, 'gamma': 0.1, 'kernel': 'rbf'},\n",
       "  {'C': 1, 'gamma': 0.01, 'kernel': 'rbf'},\n",
       "  {'C': 1, 'gamma': 0.001, 'kernel': 'rbf'},\n",
       "  {'C': 1, 'gamma': 0.0001, 'kernel': 'rbf'},\n",
       "  {'C': 5, 'gamma': 1, 'kernel': 'rbf'},\n",
       "  {'C': 5, 'gamma': 0.1, 'kernel': 'rbf'},\n",
       "  {'C': 5, 'gamma': 0.01, 'kernel': 'rbf'},\n",
       "  {'C': 5, 'gamma': 0.001, 'kernel': 'rbf'},\n",
       "  {'C': 5, 'gamma': 0.0001, 'kernel': 'rbf'},\n",
       "  {'C': 10, 'gamma': 1, 'kernel': 'rbf'},\n",
       "  {'C': 10, 'gamma': 0.1, 'kernel': 'rbf'},\n",
       "  {'C': 10, 'gamma': 0.01, 'kernel': 'rbf'},\n",
       "  {'C': 10, 'gamma': 0.001, 'kernel': 'rbf'},\n",
       "  {'C': 10, 'gamma': 0.0001, 'kernel': 'rbf'},\n",
       "  {'C': 100, 'gamma': 1, 'kernel': 'rbf'},\n",
       "  {'C': 100, 'gamma': 0.1, 'kernel': 'rbf'},\n",
       "  {'C': 100, 'gamma': 0.01, 'kernel': 'rbf'},\n",
       "  {'C': 100, 'gamma': 0.001, 'kernel': 'rbf'},\n",
       "  {'C': 100, 'gamma': 0.0001, 'kernel': 'rbf'},\n",
       "  {'C': 1000, 'gamma': 1, 'kernel': 'rbf'},\n",
       "  {'C': 1000, 'gamma': 0.1, 'kernel': 'rbf'},\n",
       "  {'C': 1000, 'gamma': 0.01, 'kernel': 'rbf'},\n",
       "  {'C': 1000, 'gamma': 0.001, 'kernel': 'rbf'},\n",
       "  {'C': 1000, 'gamma': 0.0001, 'kernel': 'rbf'}],\n",
       " 'split0_test_score': array([-0.5671469 , -0.56747447, -0.56730437, -0.56695126, -0.56722742,\n",
       "        -0.56707272, -0.567114  , -0.64667416, -0.59888477, -0.57790478,\n",
       "        -0.57133437, -0.66527916, -0.63347406, -0.60162273, -0.58164473,\n",
       "        -0.56730274, -0.57146424, -0.63416845, -0.60457541, -0.58372588,\n",
       "        -0.56653352, -0.57078141, -0.65345252, -0.61330975, -0.58859782,\n",
       "        -0.56793973, -0.56656292, -0.65394528, -0.62217924, -0.59163093,\n",
       "        -0.56872331, -0.56572   , -0.65383209, -0.65068509, -0.59800147,\n",
       "        -0.57431006, -0.56735455, -0.6539116 , -0.65930535, -0.60972702,\n",
       "        -0.5811869 , -0.56802549]),\n",
       " 'split1_test_score': array([-0.580512  , -0.58104118, -0.58127517, -0.58099017, -0.58115353,\n",
       "        -0.58098262, -0.58070135, -0.68787421, -0.61510598, -0.5925339 ,\n",
       "        -0.58628926, -0.65171887, -0.64331519, -0.61777192, -0.59647169,\n",
       "        -0.58244857, -0.58758371, -0.64513579, -0.62022632, -0.5987699 ,\n",
       "        -0.58140615, -0.58616924, -0.6536588 , -0.62248045, -0.60526843,\n",
       "        -0.58090286, -0.58222215, -0.65588588, -0.62621072, -0.60689813,\n",
       "        -0.58169258, -0.58098691, -0.65666305, -0.65057803, -0.60752674,\n",
       "        -0.58918345, -0.5793474 , -0.65643294, -0.65328547, -0.61026607,\n",
       "        -0.60099269, -0.58235858]),\n",
       " 'split2_test_score': array([-0.58455613, -0.584916  , -0.58455971, -0.58456799, -0.58480489,\n",
       "        -0.58470247, -0.58503605, -0.68338199, -0.61447404, -0.60102243,\n",
       "        -0.60058298, -0.66518717, -0.63975531, -0.61415554, -0.60083011,\n",
       "        -0.59343881, -0.60211494, -0.6395321 , -0.61555374, -0.60129598,\n",
       "        -0.59061079, -0.60068856, -0.65617238, -0.6213374 , -0.60468782,\n",
       "        -0.58686257, -0.59311324, -0.65862309, -0.62957853, -0.60662732,\n",
       "        -0.58628347, -0.58991711, -0.65937208, -0.6597322 , -0.61020171,\n",
       "        -0.59126664, -0.5853881 , -0.65979566, -0.66051575, -0.61818094,\n",
       "        -0.59857594, -0.58533091]),\n",
       " 'split3_test_score': array([-0.6031281 , -0.60245187, -0.60240634, -0.60205203, -0.60241498,\n",
       "        -0.60215504, -0.60206183, -0.6871095 , -0.61707156, -0.60608845,\n",
       "        -0.61023405, -0.65290523, -0.65009318, -0.62233913, -0.60680419,\n",
       "        -0.60693536, -0.61220748, -0.65081872, -0.62500413, -0.60824884,\n",
       "        -0.60593057, -0.61064841, -0.66159426, -0.63330816, -0.61211   ,\n",
       "        -0.60399875, -0.60729881, -0.66097202, -0.63662147, -0.61347498,\n",
       "        -0.6037277 , -0.60607892, -0.66363797, -0.66438543, -0.6168816 ,\n",
       "        -0.60431371, -0.60387901, -0.66209889, -0.67359971, -0.62606123,\n",
       "        -0.60964354, -0.60331185]),\n",
       " 'split4_test_score': array([-0.55999401, -0.56160789, -0.56249331, -0.56348537, -0.56388465,\n",
       "        -0.5638234 , -0.56403899, -0.68838149, -0.5752423 , -0.56109308,\n",
       "        -0.56256661, -0.65016863, -0.61026437, -0.58221675, -0.56319031,\n",
       "        -0.55815107, -0.56329498, -0.60899793, -0.58613163, -0.56502177,\n",
       "        -0.55699924, -0.56232747, -0.63368268, -0.60444598, -0.5716579 ,\n",
       "        -0.55749973, -0.55816571, -0.63819269, -0.61680089, -0.57465796,\n",
       "        -0.55865993, -0.55711884, -0.63875793, -0.65018064, -0.58399683,\n",
       "        -0.56340803, -0.55862369, -0.63867001, -0.65670469, -0.60930472,\n",
       "        -0.57376292, -0.56132527]),\n",
       " 'mean_test_score': array([-0.57906474, -0.57949555, -0.57960471, -0.57960595, -0.57989358,\n",
       "        -0.57974375, -0.57978693, -0.67867449, -0.60416436, -0.587733  ,\n",
       "        -0.58620124, -0.65705776, -0.63538604, -0.60762698, -0.58979338,\n",
       "        -0.58165435, -0.58733262, -0.63573688, -0.61030335, -0.59141763,\n",
       "        -0.58029479, -0.58612262, -0.65171652, -0.61897646, -0.59646934,\n",
       "        -0.57943932, -0.58147121, -0.65352805, -0.6262777 , -0.59866282,\n",
       "        -0.57981591, -0.57996259, -0.65445614, -0.65510993, -0.60332478,\n",
       "        -0.58449707, -0.57891603, -0.65418592, -0.66067737, -0.61470479,\n",
       "        -0.59283361, -0.58006799]),\n",
       " 'std_test_score': array([0.01493777, 0.01429725, 0.0140729 , 0.01377929, 0.01377392,\n",
       "        0.01372137, 0.01365402, 0.01610679, 0.01584686, 0.01637977,\n",
       "        0.01767857, 0.00673731, 0.01365091, 0.01443967, 0.01567506,\n",
       "        0.01752399, 0.01825115, 0.0144653 , 0.0138427 , 0.01542383,\n",
       "        0.01729324, 0.01796573, 0.0094739 , 0.00965273, 0.01460135,\n",
       "        0.01595272, 0.01770309, 0.008023  , 0.00669645, 0.01396597,\n",
       "        0.0154031 , 0.01735091, 0.0084813 , 0.00586009, 0.01140037,\n",
       "        0.01419747, 0.01555111, 0.00824015, 0.00691495, 0.00654979,\n",
       "        0.0132715 , 0.01461699]),\n",
       " 'rank_test_score': array([ 2,  4,  5,  6, 10,  7,  8, 42, 27, 20, 18, 40, 33, 28, 21, 15, 19,\n",
       "        34, 29, 22, 13, 17, 35, 31, 24,  3, 14, 36, 32, 25,  9, 11, 38, 39,\n",
       "        26, 16,  1, 37, 41, 30, 23, 12]),\n",
       " 'split0_train_score': array([-0.57706444, -0.57712652, -0.57700293, -0.57710194, -0.57716434,\n",
       "        -0.57710197, -0.57709924, -0.53929063, -0.59473918, -0.58693072,\n",
       "        -0.58802627, -0.66716876, -0.41546366, -0.58732173, -0.58637542,\n",
       "        -0.58275186, -0.58946606, -0.32416505, -0.5799536 , -0.58622108,\n",
       "        -0.58084794, -0.58803563, -0.21698749, -0.54401596, -0.58725192,\n",
       "        -0.5779107 , -0.58277876, -0.22474725, -0.53350891, -0.58749141,\n",
       "        -0.57742071, -0.58080448, -0.23373982, -0.51413523, -0.5820278 ,\n",
       "        -0.57912568, -0.5774402 , -0.23541729, -0.54942173, -0.56359778,\n",
       "        -0.5816384 , -0.57709543]),\n",
       " 'split1_train_score': array([-0.57538282, -0.57540091, -0.57545719, -0.57531521, -0.57534998,\n",
       "        -0.5753925 , -0.57518983, -0.67870525, -0.59182066, -0.58431664,\n",
       "        -0.58488686, -0.65304595, -0.41328772, -0.58439555, -0.5841281 ,\n",
       "        -0.57967264, -0.58624832, -0.31623252, -0.57794274, -0.58430502,\n",
       "        -0.57804343, -0.58476571, -0.24626235, -0.5445353 , -0.58550985,\n",
       "        -0.5762251 , -0.57961089, -0.23687779, -0.52405963, -0.58618977,\n",
       "        -0.57572299, -0.57799777, -0.23360902, -0.53288669, -0.58098298,\n",
       "        -0.57726332, -0.5757441 , -0.23841971, -0.53908172, -0.56282661,\n",
       "        -0.58004021, -0.57530638]),\n",
       " 'split2_train_score': array([-0.57345251, -0.57343079, -0.57353288, -0.57377267, -0.57368327,\n",
       "        -0.57364014, -0.57347664, -0.66646039, -0.59231384, -0.58267243,\n",
       "        -0.58217536, -0.66522492, -0.41953926, -0.58479344, -0.58318764,\n",
       "        -0.5779537 , -0.58322419, -0.32253436, -0.57806435, -0.58364487,\n",
       "        -0.57646634, -0.58223214, -0.23711564, -0.54274417, -0.58512853,\n",
       "        -0.57465988, -0.57790839, -0.24266697, -0.52125892, -0.58519788,\n",
       "        -0.57428662, -0.57635601, -0.24277083, -0.50726694, -0.57936151,\n",
       "        -0.57506026, -0.57418814, -0.23288728, -0.51213237, -0.5588794 ,\n",
       "        -0.57846837, -0.57329951]),\n",
       " 'split3_train_score': array([-0.56862371, -0.5682212 , -0.56811446, -0.56818676, -0.56799742,\n",
       "        -0.56815441, -0.56813157, -0.67512581, -0.58796443, -0.57989642,\n",
       "        -0.57882163, -0.61141074, -0.40710634, -0.57956952, -0.57972178,\n",
       "        -0.57350022, -0.58023071, -0.30343298, -0.5724699 , -0.57988045,\n",
       "        -0.57191307, -0.578608  , -0.22486845, -0.53553232, -0.58100235,\n",
       "        -0.5695445 , -0.57318659, -0.24892376, -0.51979264, -0.58089531,\n",
       "        -0.56930374, -0.57165117, -0.21597936, -0.50450965, -0.57443135,\n",
       "        -0.57101881, -0.56901524, -0.23273911, -0.51840782, -0.55807987,\n",
       "        -0.5738848 , -0.56831578]),\n",
       " 'split4_train_score': array([-0.57946718, -0.57920814, -0.57913159, -0.57888328, -0.57886039,\n",
       "        -0.57878032, -0.5788221 , -0.68392012, -0.59953752, -0.59127417,\n",
       "        -0.59021445, -0.65400709, -0.44180436, -0.5916488 , -0.59050541,\n",
       "        -0.58544382, -0.59138911, -0.33562702, -0.58448541, -0.59048069,\n",
       "        -0.58370572, -0.5900302 , -0.26434683, -0.55045746, -0.59129652,\n",
       "        -0.58079861, -0.58525686, -0.280727  , -0.53199739, -0.5910994 ,\n",
       "        -0.58030307, -0.58348285, -0.28038049, -0.52699065, -0.58324176,\n",
       "        -0.58168544, -0.58007349, -0.27826268, -0.53407826, -0.56405213,\n",
       "        -0.58368256, -0.57926495]),\n",
       " 'mean_train_score': array([-0.57479813, -0.57467751, -0.57464781, -0.57465197, -0.57461108,\n",
       "        -0.57461387, -0.57454388, -0.64870044, -0.59327512, -0.58501808,\n",
       "        -0.58482492, -0.65017149, -0.41944027, -0.58554581, -0.58478367,\n",
       "        -0.57986445, -0.58611168, -0.32039838, -0.5785832 , -0.58490642,\n",
       "        -0.5781953 , -0.58473433, -0.23791615, -0.54345704, -0.58603784,\n",
       "        -0.57582776, -0.5797483 , -0.24678855, -0.5261235 , -0.58617476,\n",
       "        -0.57540742, -0.57805846, -0.2412959 , -0.51715783, -0.58000908,\n",
       "        -0.5768307 , -0.57529223, -0.24354521, -0.53062438, -0.56148716,\n",
       "        -0.57954287, -0.57465641]),\n",
       " 'std_train_score': array([0.00366639, 0.00374929, 0.0037479 , 0.00365837, 0.00373425,\n",
       "        0.00365593, 0.00367442, 0.05499988, 0.00381062, 0.00387356,\n",
       "        0.00405855, 0.02020338, 0.01188238, 0.00394982, 0.00357413,\n",
       "        0.00409042, 0.00405081, 0.01054363, 0.00386694, 0.00346452,\n",
       "        0.003997  , 0.00406789, 0.01659598, 0.00477054, 0.00333435,\n",
       "        0.00374297, 0.004147  , 0.01874784, 0.00560447, 0.00331097,\n",
       "        0.00365052, 0.00402293, 0.0213864 , 0.01105463, 0.00306608,\n",
       "        0.00363139, 0.00369589, 0.01748142, 0.01362347, 0.00249952,\n",
       "        0.00331493, 0.00373242])}"
      ]
     },
     "execution_count": 21,
     "metadata": {},
     "output_type": "execute_result"
    }
   ],
   "source": [
    "SVC_clf.cv_results_"
   ]
  }
 ],
 "metadata": {
  "kernelspec": {
   "display_name": "Python 3",
   "language": "python",
   "name": "python3"
  },
  "language_info": {
   "codemirror_mode": {
    "name": "ipython",
    "version": 3
   },
   "file_extension": ".py",
   "mimetype": "text/x-python",
   "name": "python",
   "nbconvert_exporter": "python",
   "pygments_lexer": "ipython3",
   "version": "3.6.5"
  }
 },
 "nbformat": 4,
 "nbformat_minor": 2
}
